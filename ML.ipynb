{
 "cells": [
  {
   "cell_type": "markdown",
   "id": "0adff5bd",
   "metadata": {},
   "source": [
    "# Ciência de Dados em Larga Escala\n",
    "# Trabalho Prático - Performance Analysis\n",
    "## Lara Sousa e Mariana Serrão"
   ]
  },
  {
   "cell_type": "markdown",
   "id": "db497025",
   "metadata": {},
   "source": [
    "## Notebook 5 - Índice:\n",
    "- Realização da Tarefa de Machine Learning: Previsão da Variável \"fare_amount\" para o Dataset de Táxi, utilizando os métodos XGBRegressor e LogisticRegression."
   ]
  },
  {
   "cell_type": "markdown",
   "id": "401f24d4",
   "metadata": {},
   "source": [
    "### Introdução\n",
    "\n",
    "Neste notebook, para o dataset de táxi, a tarefa de machine learning consiste em construir um modelo para prever a variável alvo \"fare_amount\".\n",
    "\n",
    "Irão ser usados 2 modelos de ML para a tarefa de previsão.\n",
    "\n",
    "**Modelos de Machine Learning :**\n",
    "- XGBRegressor:\n",
    "    - Descrição: O XGBRegressor é um modelo de regressão baseado em árvores de decisão, parte do framework de Extreme Gradient Boosting (XGBoost). É conhecido pela sua alta performance e capacidade de lidar com datasets grandes e complexos.\n",
    "    - Vantagens:\n",
    "        - Lida bem com dados com características complexas.\n",
    "        - Implementa regularização que melhora o desempenho e reduz o overfitting.\n",
    "        - Suporta paralelismo, acelerando o treino.\n",
    "    - Tarefa: Este modelo realizará previsões contínuas, fornecendo um valor numérico para \"fare_amount\".\n",
    "\n",
    "- LogisticRegression:\n",
    "    - Descrição: A regressão logística é um modelo de classificação que estima a probabilidade de uma amostra pertencer a uma classe particular. Para esta tarefa, é necessário converter a variável \"fare_amount\" em categorias discretas.\n",
    "    - Vantagens:\n",
    "        - Simples e fácil de implementar.\n",
    "        - Interpretação direta dos coeficientes como probabilidades.\n",
    "        - Requer menos recursos computacionais.\n",
    "    - Tarefa: Este modelo realizará previsões discretas, classificando a \"fare_amount\" em 4 categorias (classe 0,1,2 e 3), após a discretização dos valores contínuos.\n",
    "\n",
    "Para isso, implementou-se uma pipeline de ML, onde se procedeu de forma ordenada à leitura dos dados, ao pré-processamento, ao treino e validação, ao teste e à definição de métricas de avaliação.\n",
    "\n",
    "O procedimento foi feito, para os dois modelos de ML, primeiramente usando como amostra 1 file (primeiro mês de 2009) e, posteriormentemte, usando como amostra 2 files (os dois primeiros meses de 2009), com o intuito de avaliar a robustez do modelo."
   ]
  },
  {
   "cell_type": "markdown",
   "id": "9ed7f0a8",
   "metadata": {},
   "source": [
    "**Amostra de 1 file: primeiro mês do ano de 2009.**"
   ]
  },
  {
   "cell_type": "markdown",
   "id": "075c175a",
   "metadata": {},
   "source": [
    "**Verificação con conteúdo do ficheiro**"
   ]
  },
  {
   "cell_type": "code",
   "execution_count": 1,
   "id": "719d0ec5",
   "metadata": {},
   "outputs": [],
   "source": [
    "import pandas as pd\n",
    "\n",
    "# Read the data from parquet file\n",
    "df = pd.read_parquet('Ficheiros/taxi_csv/yellow_tripdata_2009-01.parquet')\n"
   ]
  },
  {
   "cell_type": "code",
   "execution_count": 2,
   "id": "6c4f1e7c",
   "metadata": {},
   "outputs": [
    {
     "data": {
      "text/html": [
       "<div>\n",
       "<style scoped>\n",
       "    .dataframe tbody tr th:only-of-type {\n",
       "        vertical-align: middle;\n",
       "    }\n",
       "\n",
       "    .dataframe tbody tr th {\n",
       "        vertical-align: top;\n",
       "    }\n",
       "\n",
       "    .dataframe thead th {\n",
       "        text-align: right;\n",
       "    }\n",
       "</style>\n",
       "<table border=\"1\" class=\"dataframe\">\n",
       "  <thead>\n",
       "    <tr style=\"text-align: right;\">\n",
       "      <th></th>\n",
       "      <th>vendor_name</th>\n",
       "      <th>Trip_Pickup_DateTime</th>\n",
       "      <th>Trip_Dropoff_DateTime</th>\n",
       "      <th>Passenger_Count</th>\n",
       "      <th>Trip_Distance</th>\n",
       "      <th>Start_Lon</th>\n",
       "      <th>Start_Lat</th>\n",
       "      <th>Rate_Code</th>\n",
       "      <th>store_and_forward</th>\n",
       "      <th>End_Lon</th>\n",
       "      <th>End_Lat</th>\n",
       "      <th>Payment_Type</th>\n",
       "      <th>Fare_Amt</th>\n",
       "      <th>surcharge</th>\n",
       "      <th>mta_tax</th>\n",
       "      <th>Tip_Amt</th>\n",
       "      <th>Tolls_Amt</th>\n",
       "      <th>Total_Amt</th>\n",
       "    </tr>\n",
       "  </thead>\n",
       "  <tbody>\n",
       "    <tr>\n",
       "      <th>0</th>\n",
       "      <td>VTS</td>\n",
       "      <td>2009-01-04 02:52:00</td>\n",
       "      <td>2009-01-04 03:02:00</td>\n",
       "      <td>1</td>\n",
       "      <td>2.63</td>\n",
       "      <td>-73.991957</td>\n",
       "      <td>40.721567</td>\n",
       "      <td>NaN</td>\n",
       "      <td>NaN</td>\n",
       "      <td>-73.993803</td>\n",
       "      <td>40.695922</td>\n",
       "      <td>CASH</td>\n",
       "      <td>8.9</td>\n",
       "      <td>0.5</td>\n",
       "      <td>NaN</td>\n",
       "      <td>0.00</td>\n",
       "      <td>0.0</td>\n",
       "      <td>9.40</td>\n",
       "    </tr>\n",
       "    <tr>\n",
       "      <th>1</th>\n",
       "      <td>VTS</td>\n",
       "      <td>2009-01-04 03:31:00</td>\n",
       "      <td>2009-01-04 03:38:00</td>\n",
       "      <td>3</td>\n",
       "      <td>4.55</td>\n",
       "      <td>-73.982102</td>\n",
       "      <td>40.736290</td>\n",
       "      <td>NaN</td>\n",
       "      <td>NaN</td>\n",
       "      <td>-73.955850</td>\n",
       "      <td>40.768030</td>\n",
       "      <td>Credit</td>\n",
       "      <td>12.1</td>\n",
       "      <td>0.5</td>\n",
       "      <td>NaN</td>\n",
       "      <td>2.00</td>\n",
       "      <td>0.0</td>\n",
       "      <td>14.60</td>\n",
       "    </tr>\n",
       "    <tr>\n",
       "      <th>2</th>\n",
       "      <td>VTS</td>\n",
       "      <td>2009-01-03 15:43:00</td>\n",
       "      <td>2009-01-03 15:57:00</td>\n",
       "      <td>5</td>\n",
       "      <td>10.35</td>\n",
       "      <td>-74.002587</td>\n",
       "      <td>40.739748</td>\n",
       "      <td>NaN</td>\n",
       "      <td>NaN</td>\n",
       "      <td>-73.869983</td>\n",
       "      <td>40.770225</td>\n",
       "      <td>Credit</td>\n",
       "      <td>23.7</td>\n",
       "      <td>0.0</td>\n",
       "      <td>NaN</td>\n",
       "      <td>4.74</td>\n",
       "      <td>0.0</td>\n",
       "      <td>28.44</td>\n",
       "    </tr>\n",
       "    <tr>\n",
       "      <th>3</th>\n",
       "      <td>DDS</td>\n",
       "      <td>2009-01-01 20:52:58</td>\n",
       "      <td>2009-01-01 21:14:00</td>\n",
       "      <td>1</td>\n",
       "      <td>5.00</td>\n",
       "      <td>-73.974267</td>\n",
       "      <td>40.790955</td>\n",
       "      <td>NaN</td>\n",
       "      <td>NaN</td>\n",
       "      <td>-73.996558</td>\n",
       "      <td>40.731849</td>\n",
       "      <td>CREDIT</td>\n",
       "      <td>14.9</td>\n",
       "      <td>0.5</td>\n",
       "      <td>NaN</td>\n",
       "      <td>3.05</td>\n",
       "      <td>0.0</td>\n",
       "      <td>18.45</td>\n",
       "    </tr>\n",
       "    <tr>\n",
       "      <th>4</th>\n",
       "      <td>DDS</td>\n",
       "      <td>2009-01-24 16:18:23</td>\n",
       "      <td>2009-01-24 16:24:56</td>\n",
       "      <td>1</td>\n",
       "      <td>0.40</td>\n",
       "      <td>-74.001580</td>\n",
       "      <td>40.719382</td>\n",
       "      <td>NaN</td>\n",
       "      <td>NaN</td>\n",
       "      <td>-74.008378</td>\n",
       "      <td>40.720350</td>\n",
       "      <td>CASH</td>\n",
       "      <td>3.7</td>\n",
       "      <td>0.0</td>\n",
       "      <td>NaN</td>\n",
       "      <td>0.00</td>\n",
       "      <td>0.0</td>\n",
       "      <td>3.70</td>\n",
       "    </tr>\n",
       "    <tr>\n",
       "      <th>...</th>\n",
       "      <td>...</td>\n",
       "      <td>...</td>\n",
       "      <td>...</td>\n",
       "      <td>...</td>\n",
       "      <td>...</td>\n",
       "      <td>...</td>\n",
       "      <td>...</td>\n",
       "      <td>...</td>\n",
       "      <td>...</td>\n",
       "      <td>...</td>\n",
       "      <td>...</td>\n",
       "      <td>...</td>\n",
       "      <td>...</td>\n",
       "      <td>...</td>\n",
       "      <td>...</td>\n",
       "      <td>...</td>\n",
       "      <td>...</td>\n",
       "      <td>...</td>\n",
       "    </tr>\n",
       "    <tr>\n",
       "      <th>14092408</th>\n",
       "      <td>VTS</td>\n",
       "      <td>2009-01-27 14:36:00</td>\n",
       "      <td>2009-01-27 14:46:00</td>\n",
       "      <td>5</td>\n",
       "      <td>0.89</td>\n",
       "      <td>-73.982013</td>\n",
       "      <td>40.743330</td>\n",
       "      <td>NaN</td>\n",
       "      <td>NaN</td>\n",
       "      <td>-73.994328</td>\n",
       "      <td>40.750130</td>\n",
       "      <td>CASH</td>\n",
       "      <td>6.5</td>\n",
       "      <td>0.0</td>\n",
       "      <td>NaN</td>\n",
       "      <td>0.00</td>\n",
       "      <td>0.0</td>\n",
       "      <td>6.50</td>\n",
       "    </tr>\n",
       "    <tr>\n",
       "      <th>14092409</th>\n",
       "      <td>VTS</td>\n",
       "      <td>2009-01-27 13:56:00</td>\n",
       "      <td>2009-01-27 14:02:00</td>\n",
       "      <td>1</td>\n",
       "      <td>1.94</td>\n",
       "      <td>-73.972788</td>\n",
       "      <td>40.761988</td>\n",
       "      <td>NaN</td>\n",
       "      <td>NaN</td>\n",
       "      <td>-73.951477</td>\n",
       "      <td>40.778217</td>\n",
       "      <td>Credit</td>\n",
       "      <td>8.1</td>\n",
       "      <td>0.0</td>\n",
       "      <td>NaN</td>\n",
       "      <td>1.90</td>\n",
       "      <td>0.0</td>\n",
       "      <td>10.00</td>\n",
       "    </tr>\n",
       "    <tr>\n",
       "      <th>14092410</th>\n",
       "      <td>CMT</td>\n",
       "      <td>2009-01-23 08:39:44</td>\n",
       "      <td>2009-01-23 09:02:15</td>\n",
       "      <td>1</td>\n",
       "      <td>3.80</td>\n",
       "      <td>-73.977467</td>\n",
       "      <td>40.751861</td>\n",
       "      <td>NaN</td>\n",
       "      <td>NaN</td>\n",
       "      <td>-74.009913</td>\n",
       "      <td>40.713470</td>\n",
       "      <td>Cash</td>\n",
       "      <td>14.5</td>\n",
       "      <td>0.0</td>\n",
       "      <td>NaN</td>\n",
       "      <td>0.00</td>\n",
       "      <td>0.0</td>\n",
       "      <td>14.50</td>\n",
       "    </tr>\n",
       "    <tr>\n",
       "      <th>14092411</th>\n",
       "      <td>VTS</td>\n",
       "      <td>2009-01-24 23:05:00</td>\n",
       "      <td>2009-01-24 23:15:00</td>\n",
       "      <td>3</td>\n",
       "      <td>3.85</td>\n",
       "      <td>-73.981295</td>\n",
       "      <td>40.753000</td>\n",
       "      <td>NaN</td>\n",
       "      <td>NaN</td>\n",
       "      <td>-73.949453</td>\n",
       "      <td>40.779520</td>\n",
       "      <td>CASH</td>\n",
       "      <td>10.9</td>\n",
       "      <td>0.5</td>\n",
       "      <td>NaN</td>\n",
       "      <td>0.00</td>\n",
       "      <td>0.0</td>\n",
       "      <td>11.40</td>\n",
       "    </tr>\n",
       "    <tr>\n",
       "      <th>14092412</th>\n",
       "      <td>CMT</td>\n",
       "      <td>2009-01-23 14:39:02</td>\n",
       "      <td>2009-01-23 15:35:15</td>\n",
       "      <td>1</td>\n",
       "      <td>17.30</td>\n",
       "      <td>0.000000</td>\n",
       "      <td>0.000000</td>\n",
       "      <td>NaN</td>\n",
       "      <td>NaN</td>\n",
       "      <td>0.000000</td>\n",
       "      <td>0.000000</td>\n",
       "      <td>Credit</td>\n",
       "      <td>45.0</td>\n",
       "      <td>0.0</td>\n",
       "      <td>NaN</td>\n",
       "      <td>5.00</td>\n",
       "      <td>0.0</td>\n",
       "      <td>50.00</td>\n",
       "    </tr>\n",
       "  </tbody>\n",
       "</table>\n",
       "<p>14092413 rows × 18 columns</p>\n",
       "</div>"
      ],
      "text/plain": [
       "         vendor_name Trip_Pickup_DateTime Trip_Dropoff_DateTime  \\\n",
       "0                VTS  2009-01-04 02:52:00   2009-01-04 03:02:00   \n",
       "1                VTS  2009-01-04 03:31:00   2009-01-04 03:38:00   \n",
       "2                VTS  2009-01-03 15:43:00   2009-01-03 15:57:00   \n",
       "3                DDS  2009-01-01 20:52:58   2009-01-01 21:14:00   \n",
       "4                DDS  2009-01-24 16:18:23   2009-01-24 16:24:56   \n",
       "...              ...                  ...                   ...   \n",
       "14092408         VTS  2009-01-27 14:36:00   2009-01-27 14:46:00   \n",
       "14092409         VTS  2009-01-27 13:56:00   2009-01-27 14:02:00   \n",
       "14092410         CMT  2009-01-23 08:39:44   2009-01-23 09:02:15   \n",
       "14092411         VTS  2009-01-24 23:05:00   2009-01-24 23:15:00   \n",
       "14092412         CMT  2009-01-23 14:39:02   2009-01-23 15:35:15   \n",
       "\n",
       "          Passenger_Count  Trip_Distance  Start_Lon  Start_Lat  Rate_Code  \\\n",
       "0                       1           2.63 -73.991957  40.721567        NaN   \n",
       "1                       3           4.55 -73.982102  40.736290        NaN   \n",
       "2                       5          10.35 -74.002587  40.739748        NaN   \n",
       "3                       1           5.00 -73.974267  40.790955        NaN   \n",
       "4                       1           0.40 -74.001580  40.719382        NaN   \n",
       "...                   ...            ...        ...        ...        ...   \n",
       "14092408                5           0.89 -73.982013  40.743330        NaN   \n",
       "14092409                1           1.94 -73.972788  40.761988        NaN   \n",
       "14092410                1           3.80 -73.977467  40.751861        NaN   \n",
       "14092411                3           3.85 -73.981295  40.753000        NaN   \n",
       "14092412                1          17.30   0.000000   0.000000        NaN   \n",
       "\n",
       "          store_and_forward    End_Lon    End_Lat Payment_Type  Fare_Amt  \\\n",
       "0                       NaN -73.993803  40.695922         CASH       8.9   \n",
       "1                       NaN -73.955850  40.768030       Credit      12.1   \n",
       "2                       NaN -73.869983  40.770225       Credit      23.7   \n",
       "3                       NaN -73.996558  40.731849       CREDIT      14.9   \n",
       "4                       NaN -74.008378  40.720350         CASH       3.7   \n",
       "...                     ...        ...        ...          ...       ...   \n",
       "14092408                NaN -73.994328  40.750130         CASH       6.5   \n",
       "14092409                NaN -73.951477  40.778217       Credit       8.1   \n",
       "14092410                NaN -74.009913  40.713470         Cash      14.5   \n",
       "14092411                NaN -73.949453  40.779520         CASH      10.9   \n",
       "14092412                NaN   0.000000   0.000000       Credit      45.0   \n",
       "\n",
       "          surcharge  mta_tax  Tip_Amt  Tolls_Amt  Total_Amt  \n",
       "0               0.5      NaN     0.00        0.0       9.40  \n",
       "1               0.5      NaN     2.00        0.0      14.60  \n",
       "2               0.0      NaN     4.74        0.0      28.44  \n",
       "3               0.5      NaN     3.05        0.0      18.45  \n",
       "4               0.0      NaN     0.00        0.0       3.70  \n",
       "...             ...      ...      ...        ...        ...  \n",
       "14092408        0.0      NaN     0.00        0.0       6.50  \n",
       "14092409        0.0      NaN     1.90        0.0      10.00  \n",
       "14092410        0.0      NaN     0.00        0.0      14.50  \n",
       "14092411        0.5      NaN     0.00        0.0      11.40  \n",
       "14092412        0.0      NaN     5.00        0.0      50.00  \n",
       "\n",
       "[14092413 rows x 18 columns]"
      ]
     },
     "execution_count": 2,
     "metadata": {},
     "output_type": "execute_result"
    }
   ],
   "source": [
    "df"
   ]
  },
  {
   "cell_type": "markdown",
   "id": "b9316cd6",
   "metadata": {},
   "source": [
    "### ML pipeline para a amostra de 1 ficheiro\n",
    "#### Utilizando o modelo de ML `XGBRegressor`\n"
   ]
  },
  {
   "cell_type": "code",
   "execution_count": 1,
   "id": "271b1261",
   "metadata": {},
   "outputs": [],
   "source": [
    "import pandas as pd\n",
    "from sklearn.model_selection import train_test_split\n",
    "from sklearn.preprocessing import StandardScaler, OneHotEncoder\n",
    "from sklearn.pipeline import Pipeline\n",
    "from sklearn.compose import ColumnTransformer\n",
    "from sklearn.metrics import mean_squared_error, mean_absolute_error, r2_score\n",
    "from xgboost import XGBRegressor"
   ]
  },
  {
   "cell_type": "markdown",
   "id": "585bd0e8",
   "metadata": {},
   "source": [
    "Implementou-se uma função para extrair recursos de data e hora, com o intuito de converter os atributos que continham data e hora."
   ]
  },
  {
   "cell_type": "code",
   "execution_count": 2,
   "id": "daf05e14",
   "metadata": {},
   "outputs": [],
   "source": [
    "# Função para extrair recursos de data e hora\n",
    "def extract_datetime_features(df, col):\n",
    "    if col in df.columns:\n",
    "        df[col] = pd.to_datetime(df[col])\n",
    "        df[f'{col}_year'] = df[col].dt.year\n",
    "        df[f'{col}_month'] = df[col].dt.month\n",
    "        df[f'{col}_day'] = df[col].dt.day\n",
    "        df[f'{col}_hour'] = df[col].dt.hour\n",
    "        df.drop(columns=[col], inplace=True)\n",
    "    return df"
   ]
  },
  {
   "cell_type": "markdown",
   "id": "a68d52f1",
   "metadata": {},
   "source": [
    "**Passo 1: Leitura dos dados** \n",
    "A primeira etapa do pipeline de machine learning é a leitura dos dados, isto é, a leitura do primeiro ficheiro do mês de 2009 (`file_path`)"
   ]
  },
  {
   "cell_type": "code",
   "execution_count": 3,
   "id": "504ae773",
   "metadata": {},
   "outputs": [
    {
     "name": "stdout",
     "output_type": "stream",
     "text": [
      "Colunas do DataFrame: Index(['vendor_name', 'trip_pickup_datetime', 'trip_dropoff_datetime',\n",
      "       'passenger_count', 'trip_distance', 'start_lon', 'start_lat',\n",
      "       'rate_code', 'store_and_forward', 'end_lon', 'end_lat', 'payment_type',\n",
      "       'fare_amt', 'surcharge', 'mta_tax', 'tip_amt', 'tolls_amt',\n",
      "       'total_amt'],\n",
      "      dtype='object')\n",
      "Primeiras linhas do DataFrame:   vendor_name trip_pickup_datetime trip_dropoff_datetime  passenger_count  \\\n",
      "0         VTS  2009-01-04 02:52:00   2009-01-04 03:02:00                1   \n",
      "1         VTS  2009-01-04 03:31:00   2009-01-04 03:38:00                3   \n",
      "2         VTS  2009-01-03 15:43:00   2009-01-03 15:57:00                5   \n",
      "3         DDS  2009-01-01 20:52:58   2009-01-01 21:14:00                1   \n",
      "4         DDS  2009-01-24 16:18:23   2009-01-24 16:24:56                1   \n",
      "\n",
      "   trip_distance  start_lon  start_lat  rate_code  store_and_forward  \\\n",
      "0           2.63 -73.991957  40.721567        NaN                NaN   \n",
      "1           4.55 -73.982102  40.736290        NaN                NaN   \n",
      "2          10.35 -74.002587  40.739748        NaN                NaN   \n",
      "3           5.00 -73.974267  40.790955        NaN                NaN   \n",
      "4           0.40 -74.001580  40.719382        NaN                NaN   \n",
      "\n",
      "     end_lon    end_lat payment_type  fare_amt  surcharge  mta_tax  tip_amt  \\\n",
      "0 -73.993803  40.695922         CASH       8.9        0.5      NaN     0.00   \n",
      "1 -73.955850  40.768030       Credit      12.1        0.5      NaN     2.00   \n",
      "2 -73.869983  40.770225       Credit      23.7        0.0      NaN     4.74   \n",
      "3 -73.996558  40.731849       CREDIT      14.9        0.5      NaN     3.05   \n",
      "4 -74.008378  40.720350         CASH       3.7        0.0      NaN     0.00   \n",
      "\n",
      "   tolls_amt  total_amt  \n",
      "0        0.0       9.40  \n",
      "1        0.0      14.60  \n",
      "2        0.0      28.44  \n",
      "3        0.0      18.45  \n",
      "4        0.0       3.70  \n"
     ]
    }
   ],
   "source": [
    "#Leitura dos dados\n",
    "file_path = 'Ficheiros/taxi_csv/yellow_tripdata_2009-01.parquet'\n",
    "data = pd.read_parquet(file_path)\n",
    "data = data.rename(columns=str.lower)\n",
    "\n",
    "# Verificar os nomes das colunas e as primeiras linhas do DataFrame\n",
    "print(\"Colunas do DataFrame:\", data.columns)\n",
    "print(\"Primeiras linhas do DataFrame:\", data.head())"
   ]
  },
  {
   "cell_type": "markdown",
   "id": "55a72223",
   "metadata": {},
   "source": [
    "**Passo 2: Pré-processamento**\n",
    "\n",
    "\n",
    "O código realiza o pré-processamento do primeiro ficheiro para preparar os dados para a modelagem de machine learning. A seguir estão as etapas realizadas:\n",
    "\n",
    "1. **Verificação de Valores Nulos:**\n",
    "   - Identifica as colunas que contêm valores nulos e imprime os seus nomes.\n",
    "\n",
    "2. **Remoção de Colunas com Muitos Valores Nulos:**\n",
    "   - Remove colunas que têm mais de 50% dos valores ausentes.\n",
    "\n",
    "3. **Extração de Recursos de Data e Hora:**\n",
    "   - Extrai características das colunas de data e hora (`trip_pickup_datetime` e `trip_dropoff_datetime`).\n",
    "\n",
    "4. **Preenchimento de Valores Nulos Restantes:**\n",
    "   - Preenche os valores nulos restantes nas colunas numéricas com a média da respectiva coluna.\n",
    "\n",
    "5. **Remoção de Colunas Categóricas:**\n",
    "   - Remove as colunas categóricas `fare_amt`, `vendor_name`, `payment_type` e, se presente, `store_and_forward`.\n",
    "\n",
    "6. **Definição das Variáveis Independentes e Dependentes:**\n",
    "   - Define `X` como o conjunto de dados sem as colunas removidas.\n",
    "   - Define `y` como a coluna alvo 'fare_amt'.\n",
    "\n",
    "Se a coluna 'fare_amt' não estiver presente no dataset, o código gera um erro KeyError."
   ]
  },
  {
   "cell_type": "code",
   "execution_count": 9,
   "id": "62e204c2",
   "metadata": {},
   "outputs": [
    {
     "name": "stdout",
     "output_type": "stream",
     "text": [
      "Colunas com valores nulos: Index(['rate_code', 'store_and_forward', 'mta_tax'], dtype='object')\n",
      "Número de linhas após tratamento de nulos: 14092413\n"
     ]
    }
   ],
   "source": [
    "# Pré-processamento\n",
    "\n",
    "if 'fare_amt' in data.columns:\n",
    "    # Analisar colunas com valores nulos\n",
    "    null_columns = data.columns[data.isnull().any()]\n",
    "    print(\"Colunas com valores nulos:\", null_columns)\n",
    "\n",
    "    # Remover colunas com mais de 50% de valores nulos\n",
    "    half_count = len(data) / 2\n",
    "    data = data.dropna(thresh=half_count, axis=1)\n",
    "\n",
    "    # Extrair recursos de data e hora antes de preencher valores nulos\n",
    "    data = extract_datetime_features(data, 'trip_pickup_datetime')\n",
    "    data = extract_datetime_features(data, 'trip_dropoff_datetime')\n",
    "\n",
    "    # Preencher valores nulos restantes com a média das colunas numéricas\n",
    "    for col in data.columns:\n",
    "        if data[col].isnull().any():\n",
    "            if data[col].dtype in ['float64', 'int64']:\n",
    "                data[col].fillna(data[col].mean(), inplace=True)\n",
    "\n",
    "    print(\"Número de linhas após tratamento de nulos:\", len(data))\n",
    "    \n",
    "\n",
    "    # Remover colunas categóricas que existem\n",
    "    columns_to_drop = ['fare_amt', 'vendor_name', 'payment_type']\n",
    "    if 'store_and_forward' in data.columns:\n",
    "        columns_to_drop.append('store_and_forward')\n",
    "    X = data.drop(columns=columns_to_drop)\n",
    "    y = data['fare_amt']\n",
    "else:\n",
    "    raise KeyError(\"'fare_amt' not found in columns\")\n"
   ]
  },
  {
   "cell_type": "markdown",
   "id": "1b2a01ec",
   "metadata": {},
   "source": [
    "Verificar se o Dataframe ficou vazio após pré-processamento."
   ]
  },
  {
   "cell_type": "code",
   "execution_count": 10,
   "id": "b3c842d0",
   "metadata": {},
   "outputs": [],
   "source": [
    "# Verificar a quantidade de dados antes de prosseguir\n",
    "if len(X) == 0 or len(y) == 0:\n",
    "    raise ValueError(\"O DataFrame está vazio após o pré-processamento.\")"
   ]
  },
  {
   "cell_type": "markdown",
   "id": "fee90bad",
   "metadata": {},
   "source": [
    "\n",
    "1. **Identificação de Colunas Numéricas:**\n",
    "   - Seleciona colunas do dataset `X` que são do tipo `int64` ou `float64`.\n",
    "   - Armazena os nomes dessas colunas em uma lista chamada `numeric_features`.\n",
    "   - Imprime os nomes das colunas numéricas identificadas.\n",
    "\n",
    "2. **Construção do Pré-processador:**\n",
    "   - Define um transformador de colunas (`ColumnTransformer`) que aplica a padronização (usando `StandardScaler`) apenas às colunas numéricas identificadas.\n",
    "\n",
    "As colunas categóricas, embora mencionadas, não são incluídas no transformador."
   ]
  },
  {
   "cell_type": "code",
   "execution_count": 13,
   "id": "941a9808",
   "metadata": {},
   "outputs": [
    {
     "name": "stdout",
     "output_type": "stream",
     "text": [
      "Colunas numéricas: ['passenger_count', 'trip_distance', 'start_lon', 'start_lat', 'end_lon', 'end_lat', 'surcharge', 'tip_amt', 'tolls_amt', 'total_amt', 'trip_pickup_datetime_year', 'trip_pickup_datetime_month', 'trip_pickup_datetime_day', 'trip_pickup_datetime_hour', 'trip_dropoff_datetime_year', 'trip_dropoff_datetime_month', 'trip_dropoff_datetime_day', 'trip_dropoff_datetime_hour']\n"
     ]
    }
   ],
   "source": [
    "# Identificar colunas numéricas e categóricas\n",
    "numeric_features = X.select_dtypes(include=['int64', 'float64']).columns.tolist()\n",
    "#categorical_features = ['vendor_name', 'payment_type']  # Especificar colunas categóricas diretamente\n",
    "\n",
    "print(\"Colunas numéricas:\", numeric_features)\n",
    "#print(\"Colunas categóricas:\", categorical_features)\n",
    "\n",
    "# Construir pré-processador\n",
    "preprocessor = ColumnTransformer(\n",
    "    transformers=[\n",
    "        ('num', StandardScaler(), numeric_features),\n",
    "    ])"
   ]
  },
  {
   "cell_type": "markdown",
   "id": "7afa5944",
   "metadata": {},
   "source": [
    "**Passo 3: Construção da pipeline de pré-processamento e modelo de ML**\n",
    "\n",
    "1. **Construção da Pipeline:**\n",
    "   - **Padronização:** Inclui um passo de padronização (`StandardScaler`) para normalizar as features numéricas.\n",
    "   - **Modelo de Regressão:** Adiciona um modelo `XGBRegressor` com os seguintes hiperparâmetros:\n",
    "     - `n_estimators`: 100\n",
    "     - `learning_rate`: 0.1\n",
    "     - `max_depth`: 5\n",
    "     - `subsample`: 0.8\n",
    "     - `colsample_bytree`: 0.8\n",
    "     - `random_state`: 42\n"
   ]
  },
  {
   "cell_type": "code",
   "execution_count": 14,
   "id": "c8175f8e",
   "metadata": {},
   "outputs": [],
   "source": [
    "# Construindo a pipeline de pré-processamento e modelo\n",
    "pipeline = Pipeline([\n",
    "    ('scaler', StandardScaler()),  # Passo de padronização\n",
    "    ('xgb', XGBRegressor(\n",
    "        n_estimators=100,\n",
    "        learning_rate=0.1,\n",
    "        max_depth=5,\n",
    "        subsample=0.8,\n",
    "        colsample_bytree=0.8,\n",
    "        random_state=42\n",
    "    ))  # Passo de modelo\n",
    "])\n"
   ]
  },
  {
   "cell_type": "markdown",
   "id": "84ef7c40",
   "metadata": {},
   "source": [
    "**Passo 4: Divisão dos dados em conjunto de treino e teste**\n",
    "\n",
    "1. **Divisão dos Dados:**\n",
    "   - Divide o dataset em conjuntos de treinamento e teste utilizando `train_test_split`, com 20% dos dados reservados para teste e uma semente aleatória (`random_state`) definida como 42 para garantir a reprodutibilidade.\n",
    "   - Imprime as primeiras linhas dos conjuntos de treinamento (`X_train`) e teste (`X_test`) para verificação."
   ]
  },
  {
   "cell_type": "code",
   "execution_count": 15,
   "id": "d7114f69",
   "metadata": {},
   "outputs": [
    {
     "name": "stdout",
     "output_type": "stream",
     "text": [
      "Primeiras linhas do conjunto de treinamento (X_train):\n",
      "          passenger_count  trip_distance  start_lon  start_lat    end_lon  \\\n",
      "11316729                1           5.30 -74.006172  40.740330 -73.964785   \n",
      "12450117                1           1.30 -73.977981  40.758082 -73.985183   \n",
      "6080641                 1           1.60 -73.997719  40.720650 -74.006171   \n",
      "6090691                 1           2.77 -73.989990  40.702547 -73.999105   \n",
      "7072673                 1           0.60 -73.977760  40.778830 -73.984291   \n",
      "\n",
      "            end_lat  surcharge  tip_amt  tolls_amt  total_amt  \\\n",
      "11316729  40.801878        0.0     2.31        0.0      17.71   \n",
      "12450117  40.761950        0.0     0.00        0.0       7.90   \n",
      "6080641   40.733201        0.0     0.00        0.0       8.10   \n",
      "6090691   40.675692        1.0     0.00        0.0       9.90   \n",
      "7072673   40.770097        0.0     0.00        0.0       4.10   \n",
      "\n",
      "          trip_pickup_datetime_year  trip_pickup_datetime_month  \\\n",
      "11316729                       2009                           1   \n",
      "12450117                       2009                           1   \n",
      "6080641                        2009                           1   \n",
      "6090691                        2009                           1   \n",
      "7072673                        2009                           1   \n",
      "\n",
      "          trip_pickup_datetime_day  trip_pickup_datetime_hour  \\\n",
      "11316729                        31                          2   \n",
      "12450117                        22                         17   \n",
      "6080641                          7                          8   \n",
      "6090691                         28                         18   \n",
      "7072673                          2                         10   \n",
      "\n",
      "          trip_dropoff_datetime_year  trip_dropoff_datetime_month  \\\n",
      "11316729                        2009                            1   \n",
      "12450117                        2009                            1   \n",
      "6080641                         2009                            1   \n",
      "6090691                         2009                            1   \n",
      "7072673                         2009                            1   \n",
      "\n",
      "          trip_dropoff_datetime_day  trip_dropoff_datetime_hour  \n",
      "11316729                         31                           3  \n",
      "12450117                         22                          17  \n",
      "6080641                           7                           8  \n",
      "6090691                          28                          19  \n",
      "7072673                           2                          10  \n",
      "Primeiras linhas do conjunto de teste (X_test):\n",
      "          passenger_count  trip_distance  start_lon  start_lat    end_lon  \\\n",
      "11202719                1           0.40 -73.978223  40.757859 -73.987272   \n",
      "10844577                1           1.90 -74.004985  40.735463 -74.004903   \n",
      "1582146                 1           9.80 -73.874825  40.774153 -73.844473   \n",
      "11702097                1           1.40 -73.996262  40.725651 -73.978866   \n",
      "9108471                 1           1.18 -73.947780  40.783562 -73.950688   \n",
      "\n",
      "            end_lat  surcharge  tip_amt  tolls_amt  total_amt  \\\n",
      "11202719  40.754504        0.0      0.0       0.00       3.30   \n",
      "10844577  40.718538        0.5      0.0       0.00       7.80   \n",
      "1582146   40.851318        0.0      0.0       4.15      27.55   \n",
      "11702097  40.725891        0.0      0.0       0.00       6.20   \n",
      "9108471   40.774207        0.0      0.0       0.00       6.10   \n",
      "\n",
      "          trip_pickup_datetime_year  trip_pickup_datetime_month  \\\n",
      "11202719                       2009                           1   \n",
      "10844577                       2009                           1   \n",
      "1582146                        2009                           1   \n",
      "11702097                       2009                           1   \n",
      "9108471                        2009                           1   \n",
      "\n",
      "          trip_pickup_datetime_day  trip_pickup_datetime_hour  \\\n",
      "11202719                        28                          8   \n",
      "10844577                         9                         20   \n",
      "1582146                          6                          0   \n",
      "11702097                        11                         23   \n",
      "9108471                          9                          7   \n",
      "\n",
      "          trip_dropoff_datetime_year  trip_dropoff_datetime_month  \\\n",
      "11202719                        2009                            1   \n",
      "10844577                        2009                            1   \n",
      "1582146                         2009                            1   \n",
      "11702097                        2009                            1   \n",
      "9108471                         2009                            1   \n",
      "\n",
      "          trip_dropoff_datetime_day  trip_dropoff_datetime_hour  \n",
      "11202719                         28                           8  \n",
      "10844577                          9                          20  \n",
      "1582146                           6                           0  \n",
      "11702097                         11                          23  \n",
      "9108471                           9                           7  \n"
     ]
    }
   ],
   "source": [
    "# Dividindo os dados em conjuntos de treino e teste\n",
    "X_train, X_test, y_train, y_test = train_test_split(X, y, test_size=0.2, random_state=42)\n",
    "# Verificar as primeiras linhas dos conjuntos de treino\n",
    "print(\"Primeiras linhas do conjunto de treinamento (X_train):\")\n",
    "print(X_train.head())\n",
    "print(\"Primeiras linhas do conjunto de teste (X_test):\")\n",
    "print(X_test.head())\n"
   ]
  },
  {
   "cell_type": "markdown",
   "id": "77964146",
   "metadata": {},
   "source": [
    "Mais uma verificação, mas desta vez, inerente ao tamanho do conjunto de treino, após pré-processamento. O intuito desta verificação passa por avaliar se as colunas numéricas foram transformadas corretamente."
   ]
  },
  {
   "cell_type": "code",
   "execution_count": 16,
   "id": "8ef66ff4",
   "metadata": {},
   "outputs": [
    {
     "name": "stdout",
     "output_type": "stream",
     "text": [
      "Shape após pré-processamento do conjunto de treinamento: (11273930, 18)\n"
     ]
    }
   ],
   "source": [
    "\n",
    "# Verificar se as colunas numéricas estão a ser transformadas corretamente\n",
    "preprocessed_X_train = preprocessor.fit_transform(X_train)\n",
    "print(\"Shape após pré-processamento do conjunto de treinamento:\", preprocessed_X_train.shape)\n"
   ]
  },
  {
   "cell_type": "markdown",
   "id": "82f9d40f",
   "metadata": {},
   "source": [
    "**Passo 5: treino do modelo**\n"
   ]
  },
  {
   "cell_type": "code",
   "execution_count": 17,
   "id": "7cafbdb9",
   "metadata": {},
   "outputs": [
    {
     "data": {
      "text/plain": [
       "Pipeline(steps=[('scaler', StandardScaler()),\n",
       "                ('xgb',\n",
       "                 XGBRegressor(base_score=0.5, booster='gbtree',\n",
       "                              colsample_bylevel=1, colsample_bynode=1,\n",
       "                              colsample_bytree=0.8, enable_categorical=False,\n",
       "                              gamma=0, gpu_id=-1, importance_type=None,\n",
       "                              interaction_constraints='', learning_rate=0.1,\n",
       "                              max_delta_step=0, max_depth=5, min_child_weight=1,\n",
       "                              missing=nan, monotone_constraints='()',\n",
       "                              n_estimators=100, n_jobs=8, num_parallel_tree=1,\n",
       "                              predictor='auto', random_state=42, reg_alpha=0,\n",
       "                              reg_lambda=1, scale_pos_weight=1, subsample=0.8,\n",
       "                              tree_method='approx', validate_parameters=1,\n",
       "                              verbosity=None))])"
      ]
     },
     "execution_count": 17,
     "metadata": {},
     "output_type": "execute_result"
    }
   ],
   "source": [
    "# Treino do modelo\n",
    "pipeline.fit(X_train, y_train)\n"
   ]
  },
  {
   "cell_type": "markdown",
   "id": "eadccb05",
   "metadata": {},
   "source": [
    "**Passo 5: teste**"
   ]
  },
  {
   "cell_type": "code",
   "execution_count": 19,
   "id": "10e0a006",
   "metadata": {},
   "outputs": [],
   "source": [
    "# Teste\n",
    "y_pred = pipeline.predict(X_test)"
   ]
  },
  {
   "cell_type": "markdown",
   "id": "e0fbb7bd",
   "metadata": {},
   "source": [
    "**Passo 6: implementação de métricas de avaliação**"
   ]
  },
  {
   "cell_type": "markdown",
   "id": "99fadd72",
   "metadata": {},
   "source": [
    "- Mean Squared Error\n",
    "- Mean Absolute Error\n",
    "- R-squared\n",
    "- Cross-Validation MSE"
   ]
  },
  {
   "cell_type": "code",
   "execution_count": 22,
   "id": "6eab31b2",
   "metadata": {},
   "outputs": [
    {
     "name": "stdout",
     "output_type": "stream",
     "text": [
      "Mean Squared Error: 1.6128582247444965\n",
      "Mean Absolute Error: 0.2385465348729838\n",
      "R-squared: 0.9690613234111389\n",
      "Cross-Validation MSE: 1.5829838919840784\n"
     ]
    }
   ],
   "source": [
    "from sklearn.model_selection import cross_val_score\n",
    "# Métricas de avaliação\n",
    "mse = mean_squared_error(y_test, y_pred)\n",
    "mae = mean_absolute_error(y_test, y_pred)\n",
    "r2 = r2_score(y_test, y_pred)\n",
    "\n",
    "print(f\"Mean Squared Error: {mse}\")\n",
    "print(f\"Mean Absolute Error: {mae}\")\n",
    "print(f\"R-squared: {r2}\")\n",
    "\n",
    "# Pontuações de validação cruzada\n",
    "cv_scores = cross_val_score(pipeline, X, y, cv=5, scoring='neg_mean_squared_error')\n",
    "print(f\"Cross-Validation MSE: {-cv_scores.mean()}\")\n"
   ]
  },
  {
   "cell_type": "markdown",
   "id": "fa3a4bd1",
   "metadata": {},
   "source": [
    "- Root Mean Squared Error\n",
    "- Mean Absolute Percentage Error"
   ]
  },
  {
   "cell_type": "code",
   "execution_count": 23,
   "id": "7967ab62",
   "metadata": {},
   "outputs": [
    {
     "name": "stdout",
     "output_type": "stream",
     "text": [
      "Root Mean Squared Error: 1.269983552942516\n",
      "Mean Absolute Percentage Error: 1.9569029851375062%\n"
     ]
    }
   ],
   "source": [
    "import numpy as np\n",
    "\n",
    "# Calculando RMSE\n",
    "rmse = np.sqrt(mse)\n",
    "print(f\"Root Mean Squared Error: {rmse}\")\n",
    "\n",
    "# Calculando MAPE\n",
    "mape = np.mean(np.abs((y_test - y_pred) / y_test)) * 100\n",
    "print(f\"Mean Absolute Percentage Error: {mape}%\")\n"
   ]
  },
  {
   "cell_type": "markdown",
   "id": "9e7cdc37",
   "metadata": {},
   "source": [
    "- Percentual de Previsões dentro de 10% de erro"
   ]
  },
  {
   "cell_type": "code",
   "execution_count": 24,
   "id": "b4856caa",
   "metadata": {},
   "outputs": [
    {
     "name": "stdout",
     "output_type": "stream",
     "text": [
      "Percentual de Previsões dentro de 10% de erro: 98.68%\n"
     ]
    }
   ],
   "source": [
    "# Função para calcular a \"precisão\" customizada em regressão\n",
    "def accuracy_within_margin(y_true, y_pred, margin=0.1):\n",
    "    within_margin = np.abs((y_true - y_pred) / y_true) < margin\n",
    "    return np.mean(within_margin)\n",
    "\n",
    "# Calculando a precisão dentro de uma margem de 10%\n",
    "accuracy_10_percent = accuracy_within_margin(y_test, y_pred, margin=0.1)\n",
    "print(f\"Percentual de Previsões dentro de 10% de erro: {accuracy_10_percent * 100:.2f}%\")\n"
   ]
  },
  {
   "cell_type": "markdown",
   "id": "a103b102",
   "metadata": {},
   "source": [
    "Avaliou-se o desempenho de um modelo de regressão utilizando várias métricas de avaliação, incluindo o cálculo de erros, validação cruzada e precisão customizada. A seguir estão as métricas e os seus resultados, bem como uma análise desses resultados:\n",
    "\n",
    "#### Métricas de Erro:\n",
    "1. **Mean Squared Error (MSE):** 1.6128582247444965\n",
    "   - **Descrição:** Mede a média dos quadrados dos erros, penalizando erros maiores de forma mais significativa.\n",
    "   - **Interpretação:** Um MSE menor indica melhor desempenho do modelo.\n",
    "\n",
    "2. **Mean Absolute Error (MAE):** 0.2385465348729838\n",
    "   - **Descrição:** Mede a média dos erros absolutos, fornecendo uma medida clara do erro médio.\n",
    "   - **Interpretação:** Um MAE menor indica que as previsões do modelo estão, em média, mais próximas dos valores reais.\n",
    "\n",
    "3. **R-squared (R²):** 0.9690613234111389\n",
    "   - **Descrição:** Mede a proporção da variabilidade dos dados explicada pelo modelo.\n",
    "   - **Interpretação:** Um R² próximo de 1 indica que o modelo explica bem a variabilidade dos dados.\n",
    "\n",
    "4. **Root Mean Squared Error (RMSE):** 1.269983552942516\n",
    "   - **Descrição:** Representa a raiz quadrada do MSE, trazendo a unidade de medida de volta ao mesmo nível dos valores de destino.\n",
    "   - **Interpretação:** Um RMSE menor indica melhor desempenho do modelo.\n",
    "\n",
    "5. **Mean Absolute Percentage Error (MAPE):** 1.9569029851375062%\n",
    "   - **Descrição:** Mede a média das percentagens dos erros absolutos em relação aos valores reais.\n",
    "   - **Interpretação:** Um MAPE menor indica que o modelo tem uma precisão maior em termos percentuais.\n",
    "\n",
    "#### Validação Cruzada:\n",
    "1. **Cross-Validation MSE:** 1.5829838919840784\n",
    "   - **Descrição:** Mede o MSE médio usando validação cruzada com 5 folds, garantindo uma avaliação mais robusta do desempenho do modelo.\n",
    "   - **Interpretação:** Um valor próximo do MSE no conjunto de teste indica consistência no desempenho do modelo.\n",
    "\n",
    "#### Métrica Customizada:\n",
    "1. **Percentual de Previsões dentro de 10% de erro:** 98.68%\n",
    "   - **Descrição:** Mede a proporção de previsões que estão dentro de uma margem de erro de 10% em relação aos valores reais.\n",
    "   - **Interpretação:** Um percentual alto indica que a maioria das previsões do modelo estão muito próximas dos valores reais.\n",
    "\n",
    "### Análise dos Resultados\n",
    "\n",
    "Os resultados das métricas mostram que o modelo de regressão apresenta uma boa performance:\n",
    "\n",
    "- **Métricas de Erro:** Os valores baixos de MSE, MAE e RMSE indicam que os erros das previsões são pequenos. A baixa MAPE confirma que os erros são pequenos também em termos percentuais.\n",
    "- **R-squared:** O valor alto de R² (0.969) indica que o modelo explica quase toda a variabilidade dos dados, o que é um ótimo sinal de desempenho.\n",
    "- **Validação Cruzada:** O MSE médio da validação cruzada é muito próximo do MSE do conjunto de teste, indicando que o modelo é consistente e não sofre de overfitting.\n",
    "- **Métrica Customizada:** Com 98.68% das previsões dentro de uma margem de erro de 10%, o modelo mostra uma precisão extremamente alta.\n",
    "\n",
    "Esses resultados sugerem que o modelo está muito bem ajustado à amostra do dataset de táxi, fazendo previsões precisas e consistentes."
   ]
  },
  {
   "cell_type": "markdown",
   "id": "41fd2844",
   "metadata": {},
   "source": [
    "### Quais as features mais importantes para o modelo de previsão?"
   ]
  },
  {
   "cell_type": "markdown",
   "id": "6468677f",
   "metadata": {},
   "source": [
    "Com este gráfico de barras veriticais, pertendeu-se diagnosticar a importância de cada uma das features. Verificou-se, deste modo, que as features mais importantes são: `total_amt`, que se destaca num nível de importância, próximo de 0.6 e `trip_distance` com um alcance de importância a arrondar os 0.3."
   ]
  },
  {
   "cell_type": "code",
   "execution_count": 35,
   "id": "d11154e7",
   "metadata": {},
   "outputs": [
    {
     "data": {
      "image/png": "[encoded data removed]",
      "text/plain": [
       "<Figure size 1000x600 with 1 Axes>"
      ]
     },
     "metadata": {},
     "output_type": "display_data"
    }
   ],
   "source": [
    "# Importância das Variáveis\n",
    "importance = pipeline.named_steps['xgb'].feature_importances_\n",
    "plt.figure(figsize=(10, 6))\n",
    "plt.bar(X.columns, importance)\n",
    "plt.title('Importância das Variáveis')\n",
    "plt.xlabel('Variáveis')\n",
    "plt.ylabel('Importância')\n",
    "plt.xticks(rotation=90)\n",
    "plt.show()"
   ]
  },
  {
   "cell_type": "markdown",
   "id": "ec689e2d",
   "metadata": {},
   "source": [
    "#### Utilizando o modelo de ML: ` LogisticRegression` "
   ]
  },
  {
   "cell_type": "code",
   "execution_count": 8,
   "id": "ffddb7f6",
   "metadata": {},
   "outputs": [],
   "source": [
    "import pandas as pd\n",
    "from sklearn.model_selection import train_test_split\n",
    "from sklearn.preprocessing import StandardScaler, OneHotEncoder\n",
    "from sklearn.pipeline import Pipeline\n",
    "from sklearn.compose import ColumnTransformer\n",
    "from sklearn.metrics import accuracy_score, precision_score, recall_score, f1_score\n",
    "from sklearn.linear_model import LogisticRegression"
   ]
  },
  {
   "cell_type": "markdown",
   "id": "af5650af",
   "metadata": {},
   "source": [
    "**Pré-processamento**\n",
    "\n",
    "1. **Análise e Tratamento de Valores Nulos:**\n",
    "   - Identificação de colunas com valores nulos.\n",
    "   - Remoção de colunas que contêm mais de 50% de valores nulos.\n",
    "   - Preenchimento dos valores nulos restantes com a média das colunas numéricas.\n",
    "\n",
    "2. **Extração de Recursos de Data e Hora:**\n",
    "   - Extração de características a partir das colunas de data e hora ('trip_pickup_datetime' e 'trip_dropoff_datetime').\n",
    "\n",
    "3. **Discretização da Variável Alvo:**\n",
    "   - Discretização da variável `fare_amt` em categorias utilizando o método `qcut` para dividi-la em quatro categorias.\n",
    "\n",
    "4. **Remoção de Colunas Categóricas:**\n",
    "   - Remoção das colunas categóricas `vendor_name`, `payment_type` e `fare_amt`.\n",
    "   - Adição condicional da coluna `store_and_forward` à lista de remoção, caso esteja presente no dataset.\n",
    "\n",
    "5. **Definição das Variáveis Independentes e Dependentes:**\n",
    "   - Definição de `X` como o conjunto de dados sem as colunas removidas.\n",
    "   - Definição de `y` como a coluna alvo discretizada 'fare_amt'.\n",
    "\n",
    "Caso a coluna 'fare_amt' não esteja presente no dataset, o código gera um erro KeyError."
   ]
  },
  {
   "cell_type": "code",
   "execution_count": 17,
   "id": "84fccb24",
   "metadata": {},
   "outputs": [
    {
     "name": "stdout",
     "output_type": "stream",
     "text": [
      "Colunas com valores nulos: Index([], dtype='object')\n",
      "Número de linhas após tratamento de nulos: 14092413\n"
     ]
    }
   ],
   "source": [
    "# Pré-processamento\n",
    "\n",
    "if 'fare_amt' in data.columns:\n",
    "    # Analisar colunas com valores nulos\n",
    "    null_columns = data.columns[data.isnull().any()]\n",
    "    print(\"Colunas com valores nulos:\", null_columns)\n",
    "\n",
    "    # Remover colunas com mais de 50% de valores nulos\n",
    "    half_count = len(data) / 2\n",
    "    data = data.dropna(thresh=half_count, axis=1)\n",
    "\n",
    "    # Extrair recursos de data e hora antes de preencher valores nulos\n",
    "    data = extract_datetime_features(data, 'trip_pickup_datetime')\n",
    "    data = extract_datetime_features(data, 'trip_dropoff_datetime')\n",
    "\n",
    "    # Preencher valores nulos restantes com a média das colunas numéricas\n",
    "    for col in data.columns:\n",
    "        if data[col].isnull().any():\n",
    "            if data[col].dtype in ['float64', 'int64']:\n",
    "                data[col].fillna(data[col].mean(), inplace=True)\n",
    "\n",
    "    print(\"Número de linhas após tratamento de nulos:\", len(data))\n",
    "    \n",
    "    # Discretizar a variável fare_amt em categorias\n",
    "    data['fare_amt_bins'] = pd.qcut(data['fare_amt'], q=4, labels=False, duplicates='drop')\n",
    "\n",
    "    # Remover colunas categóricas que existem\n",
    "    columns_to_drop = ['vendor_name', 'payment_type', 'fare_amt', 'fare_amt_bins']\n",
    "    if 'store_and_forward' in data.columns:\n",
    "        columns_to_drop.append('store_and_forward')\n",
    "    \n",
    "    # Separar a variável alvo\n",
    "    y = data['fare_amt_bins']\n",
    "    # Remover a variável alvo do conjunto de features\n",
    "    X = data.drop(columns=['vendor_name', 'payment_type', 'fare_amt', 'store_and_forward', 'fare_amt_bins'], errors='ignore')\n",
    "else:\n",
    "    raise KeyError(\"'fare_amt' not found in columns\")\n"
   ]
  },
  {
   "cell_type": "markdown",
   "id": "f6ad6012",
   "metadata": {},
   "source": [
    "\n",
    "1. **Verificação de Dados:**\n",
    "   - Verifica se o DataFrame `X` e a série `y` não estão vazios após o pré-processamento. Caso contrário, gera um erro `ValueError`.\n",
    "\n",
    "2. **Identificação de Colunas Numéricas:**\n",
    "   - Identifica e lista as colunas numéricas em `X`.\n",
    "\n",
    "3. **Construção do Pré-processador:**\n",
    "   - Utiliza `ColumnTransformer` para aplicar padronização (`StandardScaler`) nas colunas numéricas identificadas.\n"
   ]
  },
  {
   "cell_type": "code",
   "execution_count": 18,
   "id": "82a01f0a",
   "metadata": {},
   "outputs": [
    {
     "name": "stdout",
     "output_type": "stream",
     "text": [
      "Colunas numéricas: ['passenger_count', 'trip_distance', 'start_lon', 'start_lat', 'end_lon', 'end_lat', 'surcharge', 'tip_amt', 'tolls_amt', 'total_amt', 'trip_pickup_datetime_year', 'trip_pickup_datetime_month', 'trip_pickup_datetime_day', 'trip_pickup_datetime_hour', 'trip_dropoff_datetime_year', 'trip_dropoff_datetime_month', 'trip_dropoff_datetime_day', 'trip_dropoff_datetime_hour']\n"
     ]
    }
   ],
   "source": [
    "# Verificar a quantidade de dados antes de prosseguir\n",
    "if len(X) == 0 or len(y) == 0:\n",
    "    raise ValueError(\"O DataFrame está vazio após o pré-processamento.\")\n",
    "\n",
    "# Identificar colunas numéricas e categóricas\n",
    "numeric_features = X.select_dtypes(include=['int64', 'float64']).columns.tolist()\n",
    "\n",
    "print(\"Colunas numéricas:\", numeric_features)\n",
    "\n",
    "# Construir pré-processador\n",
    "preprocessor = ColumnTransformer(\n",
    "    transformers=[\n",
    "        ('num', StandardScaler(), numeric_features),\n",
    "    ])\n"
   ]
  },
  {
   "cell_type": "markdown",
   "id": "3de04eef",
   "metadata": {},
   "source": [
    "**Construção da Pipeline:**\n",
    "   - Cria uma pipeline que inclui o pré-processador e o modelo de classificação (`LogisticRegression`) com um máximo de 1000 iterações e um estado aleatório definido para garantir reprodutibilidade.\n"
   ]
  },
  {
   "cell_type": "code",
   "execution_count": 19,
   "id": "e2cd5aa9",
   "metadata": {},
   "outputs": [],
   "source": [
    "# Construindo a pipeline de pré-processamento e modelo\n",
    "pipeline = Pipeline([\n",
    "    ('preprocessor', preprocessor),\n",
    "    ('classifier', LogisticRegression(max_iter=1000, random_state=42))\n",
    "])\n"
   ]
  },
  {
   "cell_type": "markdown",
   "id": "5d13c3ee",
   "metadata": {},
   "source": [
    "**Divisão dos Dados:**\n",
    "   - Divide os dados em conjuntos de treino e teste, com 20% dos dados reservados para teste e um estado aleatório definido para reprodutibilidade.\n",
    "   - Imprime as primeiras linhas dos conjuntos de treino (`X_train`) e teste (`X_test`) para verificação.\n"
   ]
  },
  {
   "cell_type": "code",
   "execution_count": 20,
   "id": "dd2ce5e0",
   "metadata": {},
   "outputs": [
    {
     "name": "stdout",
     "output_type": "stream",
     "text": [
      "Primeiras linhas do conjunto de treinamento (X_train):\n",
      "          passenger_count  trip_distance  start_lon  start_lat    end_lon  \\\n",
      "11316729                1           5.30 -74.006172  40.740330 -73.964785   \n",
      "12450117                1           1.30 -73.977981  40.758082 -73.985183   \n",
      "6080641                 1           1.60 -73.997719  40.720650 -74.006171   \n",
      "6090691                 1           2.77 -73.989990  40.702547 -73.999105   \n",
      "7072673                 1           0.60 -73.977760  40.778830 -73.984291   \n",
      "\n",
      "            end_lat  surcharge  tip_amt  tolls_amt  total_amt  \\\n",
      "11316729  40.801878        0.0     2.31        0.0      17.71   \n",
      "12450117  40.761950        0.0     0.00        0.0       7.90   \n",
      "6080641   40.733201        0.0     0.00        0.0       8.10   \n",
      "6090691   40.675692        1.0     0.00        0.0       9.90   \n",
      "7072673   40.770097        0.0     0.00        0.0       4.10   \n",
      "\n",
      "          trip_pickup_datetime_year  trip_pickup_datetime_month  \\\n",
      "11316729                       2009                           1   \n",
      "12450117                       2009                           1   \n",
      "6080641                        2009                           1   \n",
      "6090691                        2009                           1   \n",
      "7072673                        2009                           1   \n",
      "\n",
      "          trip_pickup_datetime_day  trip_pickup_datetime_hour  \\\n",
      "11316729                        31                          2   \n",
      "12450117                        22                         17   \n",
      "6080641                          7                          8   \n",
      "6090691                         28                         18   \n",
      "7072673                          2                         10   \n",
      "\n",
      "          trip_dropoff_datetime_year  trip_dropoff_datetime_month  \\\n",
      "11316729                        2009                            1   \n",
      "12450117                        2009                            1   \n",
      "6080641                         2009                            1   \n",
      "6090691                         2009                            1   \n",
      "7072673                         2009                            1   \n",
      "\n",
      "          trip_dropoff_datetime_day  trip_dropoff_datetime_hour  \n",
      "11316729                         31                           3  \n",
      "12450117                         22                          17  \n",
      "6080641                           7                           8  \n",
      "6090691                          28                          19  \n",
      "7072673                           2                          10  \n",
      "Primeiras linhas do conjunto de teste (X_test):\n",
      "          passenger_count  trip_distance  start_lon  start_lat    end_lon  \\\n",
      "11202719                1           0.40 -73.978223  40.757859 -73.987272   \n",
      "10844577                1           1.90 -74.004985  40.735463 -74.004903   \n",
      "1582146                 1           9.80 -73.874825  40.774153 -73.844473   \n",
      "11702097                1           1.40 -73.996262  40.725651 -73.978866   \n",
      "9108471                 1           1.18 -73.947780  40.783562 -73.950688   \n",
      "\n",
      "            end_lat  surcharge  tip_amt  tolls_amt  total_amt  \\\n",
      "11202719  40.754504        0.0      0.0       0.00       3.30   \n",
      "10844577  40.718538        0.5      0.0       0.00       7.80   \n",
      "1582146   40.851318        0.0      0.0       4.15      27.55   \n",
      "11702097  40.725891        0.0      0.0       0.00       6.20   \n",
      "9108471   40.774207        0.0      0.0       0.00       6.10   \n",
      "\n",
      "          trip_pickup_datetime_year  trip_pickup_datetime_month  \\\n",
      "11202719                       2009                           1   \n",
      "10844577                       2009                           1   \n",
      "1582146                        2009                           1   \n",
      "11702097                       2009                           1   \n",
      "9108471                        2009                           1   \n",
      "\n",
      "          trip_pickup_datetime_day  trip_pickup_datetime_hour  \\\n",
      "11202719                        28                          8   \n",
      "10844577                         9                         20   \n",
      "1582146                          6                          0   \n",
      "11702097                        11                         23   \n",
      "9108471                          9                          7   \n",
      "\n",
      "          trip_dropoff_datetime_year  trip_dropoff_datetime_month  \\\n",
      "11202719                        2009                            1   \n",
      "10844577                        2009                            1   \n",
      "1582146                         2009                            1   \n",
      "11702097                        2009                            1   \n",
      "9108471                         2009                            1   \n",
      "\n",
      "          trip_dropoff_datetime_day  trip_dropoff_datetime_hour  \n",
      "11202719                         28                           8  \n",
      "10844577                          9                          20  \n",
      "1582146                           6                           0  \n",
      "11702097                         11                          23  \n",
      "9108471                           9                           7  \n"
     ]
    }
   ],
   "source": [
    "# Dividindo os dados em conjuntos de treino e teste\n",
    "X_train, X_test, y_train, y_test = train_test_split(X, y, test_size=0.2, random_state=42)\n",
    "# Verificar as primeiras linhas dos conjuntos de treino\n",
    "print(\"Primeiras linhas do conjunto de treino (X_train):\")\n",
    "print(X_train.head())\n",
    "print(\"Primeiras linhas do conjunto de teste (X_test):\")\n",
    "print(X_test.head())"
   ]
  },
  {
   "cell_type": "markdown",
   "id": "c61f588e",
   "metadata": {},
   "source": [
    "\n",
    "**Treino do Modelo:**\n",
    "   - Utiliza a pipeline previamente construída, que inclui a padronização dos dados e o modelo de regressão logística.\n",
    "   - Ajusta o modelo (`fit`) aos dados de treino (`X_train` e `y_train`)."
   ]
  },
  {
   "cell_type": "code",
   "execution_count": 21,
   "id": "a184e0cd",
   "metadata": {},
   "outputs": [
    {
     "data": {
      "text/plain": [
       "Pipeline(steps=[('preprocessor',\n",
       "                 ColumnTransformer(transformers=[('num', StandardScaler(),\n",
       "                                                  ['passenger_count',\n",
       "                                                   'trip_distance', 'start_lon',\n",
       "                                                   'start_lat', 'end_lon',\n",
       "                                                   'end_lat', 'surcharge',\n",
       "                                                   'tip_amt', 'tolls_amt',\n",
       "                                                   'total_amt',\n",
       "                                                   'trip_pickup_datetime_year',\n",
       "                                                   'trip_pickup_datetime_month',\n",
       "                                                   'trip_pickup_datetime_day',\n",
       "                                                   'trip_pickup_datetime_hour',\n",
       "                                                   'trip_dropoff_datetime_year',\n",
       "                                                   'trip_dropoff_datetime_month',\n",
       "                                                   'trip_dropoff_datetime_day',\n",
       "                                                   'trip_dropoff_datetime_hour'])])),\n",
       "                ('classifier',\n",
       "                 LogisticRegression(max_iter=1000, random_state=42))])"
      ]
     },
     "execution_count": 21,
     "metadata": {},
     "output_type": "execute_result"
    }
   ],
   "source": [
    "# Treino do modelo\n",
    "pipeline.fit(X_train, y_train)\n"
   ]
  },
  {
   "cell_type": "markdown",
   "id": "bbf09396",
   "metadata": {},
   "source": [
    "**Previsões:**\n",
    "   - Utiliza o modelo treinado para fazer previsões (`predict`) no conjunto de teste (`X_test`).\n"
   ]
  },
  {
   "cell_type": "code",
   "execution_count": 22,
   "id": "3fcae498",
   "metadata": {},
   "outputs": [],
   "source": [
    "y_pred = pipeline.predict(X_test)\n",
    "\n"
   ]
  },
  {
   "cell_type": "markdown",
   "id": "f462fb66",
   "metadata": {},
   "source": [
    "### Implementação das métricas de avaliação\n",
    "\n",
    "Foram calculadas as seguintes métricas de avaliação para o modelo de machine learning aplicado ao conjunto de dados de taxi rides de 2009 para 1 file:\n",
    "\n",
    "- **Accuracy:** 0.9963295858091037\n",
    "- **Precision:** 0.9963361839757914\n",
    "- **Recall:** 0.9963295858091037\n",
    "- **F1 Score:** 0.9963261666643327\n"
   ]
  },
  {
   "cell_type": "code",
   "execution_count": 23,
   "id": "f3522741",
   "metadata": {},
   "outputs": [
    {
     "name": "stdout",
     "output_type": "stream",
     "text": [
      "Accuracy: 0.9963295858091037\n",
      "Precision: 0.9963361839757914\n",
      "Recall: 0.9963295858091037\n",
      "F1 Score: 0.9963261666643327\n"
     ]
    }
   ],
   "source": [
    "# Passo 5: Métricas de avaliação\n",
    "accuracy = accuracy_score(y_test, y_pred)\n",
    "precision = precision_score(y_test, y_pred, average='weighted')\n",
    "recall = recall_score(y_test, y_pred, average='weighted')\n",
    "f1 = f1_score(y_test, y_pred, average='weighted')\n",
    "\n",
    "print(f\"Accuracy: {accuracy}\")\n",
    "print(f\"Precision: {precision}\")\n",
    "print(f\"Recall: {recall}\")\n",
    "print(f\"F1 Score: {f1}\")\n"
   ]
  },
  {
   "cell_type": "markdown",
   "id": "0d1ab7a6",
   "metadata": {},
   "source": [
    "#### Análise dos Resultados\n",
    "\n",
    "1. **Accuracy (Acurácia):**\n",
    "   - **Definição:** A acurácia é a proporção de previsões corretas (tanto positivas quanto negativas) em relação ao total de previsões.\n",
    "   - **Interpretação:** Com uma acurácia de aproximadamente 99.63%, o modelo faz previsões corretas para quase todas as amostras do conjunto de teste. Isso indica um excelente desempenho geral do modelo.\n",
    "\n",
    "2. **Precision (Precisão):**\n",
    "   - **Definição:** A precisão é a proporção de verdadeiros positivos entre todas as previsões positivas feitas pelo modelo.\n",
    "   - **Interpretação:** A precisão de aproximadamente 99.63% sugere que, das amostras que o modelo classificou como positivas, quase todas estavam corretas. Isso é crucial em contextos onde a precisão é mais importante que o recall, ou seja, onde os falsos positivos têm um custo mais alto.\n",
    "\n",
    "3. **Recall (Revocação):**\n",
    "   - **Definição:** O recall é a proporção de verdadeiros positivos entre todas as amostras que realmente são positivas.\n",
    "   - **Interpretação:** Com um recall de aproximadamente 99.63%, o modelo identifica quase todas as amostras positivas do conjunto de teste. Isso é importante em contextos onde a revocação é mais crucial que a precisão, ou seja, onde os falsos negativos têm um custo mais alto.\n",
    "\n",
    "4. **F1 Score:**\n",
    "   - **Definição:** O F1 Score é a média harmônica entre precisão e recall. É uma métrica balanceada que considera tanto falsos positivos quanto falsos negativos.\n",
    "   - **Interpretação:** Um F1 Score de aproximadamente 99.63% indica um ótimo equilíbrio entre precisão e recall, sugerindo que o modelo é muito eficaz tanto em identificar verdadeiros positivos quanto em evitar falsos positivos.\n",
    "\n",
    "#### Conclusão\n",
    "\n",
    "Os resultados obtidos indicam que o modelo de machine learning aplicado ao dataset de taxi rides de 2009 possui uma performance excecionalmente boa, com todas as métricas principais (acurácia, precisão, recall e F1 Score) próximas de 99.63%. Esse alto desempenho pode ser atribuído a uma combinação de dados bem preparados, um modelo robusto (neste caso, XGBoost), e uma boa escolha de hiperparâmetros."
   ]
  },
  {
   "cell_type": "markdown",
   "id": "ed12a827",
   "metadata": {},
   "source": [
    "### Análise da Matriz de Confusão\n",
    "\n",
    "A matriz de confusão apresentada mostra a performance do modelo de classificação em prever as classes no conjunto de teste. A matriz é organizada da seguinte forma:\n",
    "\n",
    "- **Linhas** representam as classes reais (verdadeiras) dos dados.\n",
    "- **Colunas** representam as classes previstas pelo modelo.\n",
    "\n",
    "#### Matriz de Confusão\n",
    "```\n",
    "                 Previsto\n",
    "           0             1             2\n",
    "Real  \n",
    "0     1,413,045      2            44\n",
    "1         7,301    695,550      6\n",
    "2             0        2,992  699,543\n",
    "```\n",
    "\n",
    "#### Interpretação dos Valores\n",
    "\n",
    "1. **Classe Real 0:**\n",
    "   - **Previsto como 0:** 1,413,045 (Verdadeiros Negativos)\n",
    "   - **Previsto como 1:** 2 (Falsos Positivos)\n",
    "   - **Previsto como 2:** 44 (Falsos Positivos)\n",
    "\n",
    "2. **Classe Real 1:**\n",
    "   - **Previsto como 0:** 7,301 (Falsos Negativos)\n",
    "   - **Previsto como 1:** 695,550 (Verdadeiros Positivos)\n",
    "   - **Previsto como 2:** 6 (Falsos Positivos)\n",
    "\n",
    "3. **Classe Real 2:**\n",
    "   - **Previsto como 0:** 0 (Falsos Negativos)\n",
    "   - **Previsto como 1:** 2,992 (Falsos Negativos)\n",
    "   - **Previsto como 2:** 699,543 (Verdadeiros Positivos)"
   ]
  },
  {
   "cell_type": "code",
   "execution_count": 24,
   "id": "eea33cd3",
   "metadata": {},
   "outputs": [],
   "source": [
    "import matplotlib.pyplot as plt\n",
    "import seaborn as sns\n",
    "from sklearn.metrics import confusion_matrix, roc_curve, auc, precision_recall_curve\n"
   ]
  },
  {
   "cell_type": "code",
   "execution_count": 25,
   "id": "848ddb73",
   "metadata": {},
   "outputs": [
    {
     "data": {
      "image/png": "[encoded data removed]",
      "text/plain": [
       "<Figure size 1000x700 with 2 Axes>"
      ]
     },
     "metadata": {},
     "output_type": "display_data"
    }
   ],
   "source": [
    "# Matriz de Confusão\n",
    "conf_matrix = confusion_matrix(y_test, y_pred)\n",
    "plt.figure(figsize=(10, 7))\n",
    "sns.heatmap(conf_matrix, annot=True, fmt='d', cmap='Blues')\n",
    "plt.title('Matriz de Confusão')\n",
    "plt.xlabel('Previsto')\n",
    "plt.ylabel('Real')\n",
    "plt.show()"
   ]
  },
  {
   "cell_type": "markdown",
   "id": "94a6b5e8",
   "metadata": {},
   "source": [
    "#### Análise\n",
    "\n",
    "1. **Classe 0 (Negativa):**\n",
    "   - O modelo conseguiu prever corretamente 1,413,045 instâncias da classe 0.\n",
    "   - Houve apenas 46 previsões incorretas para essa classe (2 previstas como 1 e 44 como 2), o que mostra um excelente desempenho para a classe 0.\n",
    "\n",
    "2. **Classe 1 (Positiva):**\n",
    "   - O modelo previu corretamente 695,550 instâncias da classe 1.\n",
    "   - No entanto, houve 7,301 instâncias da classe 1 que foram incorretamente previstas como classe 0, e 6 previstas como classe 2. Isso indica que há uma leve confusão entre as classes 0 e 1.\n",
    "\n",
    "3. **Classe 2 (Positiva):**\n",
    "   - O modelo previu corretamente 699,543 instâncias da classe 2.\n",
    "   - Houve 2,992 instâncias da classe 2 que foram incorretamente previstas como classe 1, mas nenhuma foi prevista incorretamente como classe 0. Isso indica que a classe 2 é bem distinta da classe 0, mas tem alguma confusão com a classe 1.\n",
    "\n",
    "#### Conclusão\n",
    "\n",
    "- **Desempenho Geral:** O modelo apresenta um desempenho muito bom, com a maioria das instâncias sendo classificadas corretamente.\n",
    "- **Confusões Menores:** A principal confusão ocorre entre as classes 1 e 0, bem como entre as classes 2 e 1.\n"
   ]
  },
  {
   "cell_type": "markdown",
   "id": "1b0dc5c7",
   "metadata": {},
   "source": [
    "### Quais as features mais importantes?\n",
    "\n",
    "\n",
    "O gráfico de barras apresentado mostra a importância das variáveis (características) no modelo de classificação, baseado nos coeficientes do classificador (presumivelmente um modelo linear). Cada barra representa a magnitude e o sinal da influência de cada variável na previsão do modelo.\n",
    "\n",
    "#### Interpretação dos Coeficientes\n",
    "\n",
    "1. **Coeficientes Positivos:**\n",
    "   - Um coeficiente positivo indica que, à medida que o valor dessa variável aumenta, a probabilidade da classe prevista pelo modelo também aumenta.\n",
    "\n",
    "2. **Coeficientes Negativos:**\n",
    "   - Um coeficiente negativo indica que, à medida que o valor dessa variável aumenta, a probabilidade da classe prevista pelo modelo diminui.\n"
   ]
  },
  {
   "cell_type": "code",
   "execution_count": 26,
   "id": "baec8599",
   "metadata": {},
   "outputs": [
    {
     "data": {
      "image/png": "[encoded data removed]",
      "text/plain": [
       "<Figure size 1000x700 with 1 Axes>"
      ]
     },
     "metadata": {},
     "output_type": "display_data"
    }
   ],
   "source": [
    "# Importância das Variáveis\n",
    "if hasattr(pipeline.named_steps['classifier'], 'coef_'):\n",
    "    importances = pipeline.named_steps['classifier'].coef_[0]\n",
    "    feature_names = numeric_features\n",
    "    plt.figure(figsize=(10, 7))\n",
    "    plt.barh(feature_names, importances)\n",
    "    plt.title('Importância das Variáveis')\n",
    "    plt.xlabel('Coeficiente')\n",
    "    plt.ylabel('Variáveis')\n",
    "    plt.show()"
   ]
  },
  {
   "cell_type": "markdown",
   "id": "cb21b795",
   "metadata": {},
   "source": [
    "#### Análise das Variáveis Mais Importantes\n",
    "\n",
    "1. **Total Amount (`total_amt`):**\n",
    "   - Esta variável tem o maior coeficiente positivo, indicando que é a característica mais importante para o modelo. Isso significa que o valor total da tarifa é um forte indicador para a previsão da classe.\n",
    "\n",
    "2. **Tip Amount (`tip_amt`):**\n",
    "   - Esta variável também tem um coeficiente positivo significativo, indicando que a gorjeta influencia positivamente as previsões do modelo.\n",
    "\n",
    "3. **Trip Pickup Datetime Month (`trip_pickup_datetime_month`):**\n",
    "   - A variável tem um coeficiente negativo considerável, indicando que o mês da data de coleta tem uma influência negativa nas previsões do modelo.\n",
    "\n",
    "4. **Tolls Amount (`tolls_amt`):**\n",
    "   - A variável também apresenta um coeficiente positivo, indicando que a quantidade de pedágios influencia positivamente as previsões do modelo.\n",
    "\n",
    "5. **Latitude e Longitude de Início e Fim (`start_lat`, `start_lon`, `end_lat`, `end_lon`):**\n",
    "   - As coordenadas de início e fim da viagem têm coeficientes muito pequenos, indicando que têm pouca influência nas previsões do modelo.\n",
    "\n",
    "6. **Outras Variáveis de Data e Hora (`trip_pickup_datetime_hour`, `trip_dropoff_datetime_hour`, etc.):**\n",
    "   - As variáveis relacionadas a data e hora também têm coeficientes muito pequenos, sugerindo baixa influência nas previsões do modelo.\n",
    "\n",
    "#### Conclusão\n",
    "\n",
    "- **Variável Mais Influente:** O `total_amt` é de longe a variável mais influente no modelo, com uma grande magnitude de coeficiente positivo. Isso faz sentido, pois o valor total da tarifa é diretamente relacionado ao valor que o modelo está tentando prever.\n",
    "  \n",
    "- **Outras Variáveis Importantes:** As variáveis `tip_amt` e `tolls_amt` também são importantes, mas em menor grau, com coeficientes positivos. \n",
    "\n",
    "- **Variáveis com Pouca Influência:** Variáveis relacionadas a coordenadas geográficas e detalhes de data e hora parecem ter pouca influência no modelo, conforme indicado pelos coeficientes próximos de zero.\n"
   ]
  },
  {
   "cell_type": "markdown",
   "id": "035d61d6",
   "metadata": {},
   "source": [
    "### Amostra: os dois primeiros ficheiros(meses) do ano de 2009"
   ]
  },
  {
   "cell_type": "markdown",
   "id": "9f9ec16e",
   "metadata": {},
   "source": [
    "Iremos repetir todo o procedimento, mas com os dados dos dois primeiros meses de 2009"
   ]
  },
  {
   "cell_type": "markdown",
   "id": "ba07e3ee",
   "metadata": {},
   "source": [
    "### `XGBRegressor`"
   ]
  },
  {
   "cell_type": "code",
   "execution_count": 3,
   "id": "4149bcff",
   "metadata": {},
   "outputs": [
    {
     "name": "stdout",
     "output_type": "stream",
     "text": [
      "Colunas do DataFrame: Index(['vendor_name', 'trip_pickup_datetime', 'trip_dropoff_datetime',\n",
      "       'passenger_count', 'trip_distance', 'start_lon', 'start_lat',\n",
      "       'rate_code', 'store_and_forward', 'end_lon', 'end_lat', 'payment_type',\n",
      "       'fare_amt', 'surcharge', 'mta_tax', 'tip_amt', 'tolls_amt',\n",
      "       'total_amt'],\n",
      "      dtype='object')\n",
      "Primeiras linhas do DataFrame:   vendor_name trip_pickup_datetime trip_dropoff_datetime  passenger_count  \\\n",
      "0         VTS  2009-01-04 02:52:00   2009-01-04 03:02:00                1   \n",
      "1         VTS  2009-01-04 03:31:00   2009-01-04 03:38:00                3   \n",
      "2         VTS  2009-01-03 15:43:00   2009-01-03 15:57:00                5   \n",
      "3         DDS  2009-01-01 20:52:58   2009-01-01 21:14:00                1   \n",
      "4         DDS  2009-01-24 16:18:23   2009-01-24 16:24:56                1   \n",
      "\n",
      "   trip_distance  start_lon  start_lat  rate_code  store_and_forward  \\\n",
      "0           2.63 -73.991957  40.721567        NaN                NaN   \n",
      "1           4.55 -73.982102  40.736290        NaN                NaN   \n",
      "2          10.35 -74.002587  40.739748        NaN                NaN   \n",
      "3           5.00 -73.974267  40.790955        NaN                NaN   \n",
      "4           0.40 -74.001580  40.719382        NaN                NaN   \n",
      "\n",
      "     end_lon    end_lat payment_type  fare_amt  surcharge  mta_tax  tip_amt  \\\n",
      "0 -73.993803  40.695922         CASH       8.9        0.5      NaN     0.00   \n",
      "1 -73.955850  40.768030       Credit      12.1        0.5      NaN     2.00   \n",
      "2 -73.869983  40.770225       Credit      23.7        0.0      NaN     4.74   \n",
      "3 -73.996558  40.731849       CREDIT      14.9        0.5      NaN     3.05   \n",
      "4 -74.008378  40.720350         CASH       3.7        0.0      NaN     0.00   \n",
      "\n",
      "   tolls_amt  total_amt  \n",
      "0        0.0       9.40  \n",
      "1        0.0      14.60  \n",
      "2        0.0      28.44  \n",
      "3        0.0      18.45  \n",
      "4        0.0       3.70  \n"
     ]
    }
   ],
   "source": [
    "# Leitura dos dados\n",
    "file_paths = ['Ficheiros/taxi_csv/yellow_tripdata_2009-01.parquet', 'Ficheiros/taxi_csv/yellow_tripdata_2009-02.parquet']\n",
    "data_list = [pd.read_parquet(file_path).rename(columns=str.lower) for file_path in file_paths]\n",
    "\n",
    "# Concatenar os dados\n",
    "data = pd.concat(data_list, ignore_index=True)\n",
    "\n",
    "# Verificar os nomes das colunas e as primeiras linhas do DataFrame\n",
    "print(\"Colunas do DataFrame:\", data.columns)\n",
    "print(\"Primeiras linhas do DataFrame:\", data.head())"
   ]
  },
  {
   "cell_type": "code",
   "execution_count": 4,
   "id": "681aa7cb",
   "metadata": {},
   "outputs": [
    {
     "name": "stdout",
     "output_type": "stream",
     "text": [
      "Colunas com valores nulos: Index(['rate_code', 'store_and_forward', 'mta_tax'], dtype='object')\n",
      "Número de linhas após tratamento de nulos: 27472535\n",
      "Colunas numéricas: ['passenger_count', 'trip_distance', 'start_lon', 'start_lat', 'end_lon', 'end_lat', 'surcharge', 'tip_amt', 'tolls_amt', 'total_amt', 'trip_pickup_datetime_year', 'trip_pickup_datetime_month', 'trip_pickup_datetime_day', 'trip_pickup_datetime_hour', 'trip_dropoff_datetime_year', 'trip_dropoff_datetime_month', 'trip_dropoff_datetime_day', 'trip_dropoff_datetime_hour']\n"
     ]
    }
   ],
   "source": [
    "# Pré-processamento\n",
    "if 'fare_amt' in data.columns:\n",
    "    # Analisar colunas com valores nulos\n",
    "    null_columns = data.columns[data.isnull().any()]\n",
    "    print(\"Colunas com valores nulos:\", null_columns)\n",
    "\n",
    "    # Remover colunas com mais de 50% de valores nulos\n",
    "    half_count = len(data) / 2\n",
    "    data = data.dropna(thresh=half_count, axis=1)\n",
    "\n",
    "    # Extrair recursos de data e hora antes de preencher valores nulos\n",
    "    data = extract_datetime_features(data, 'trip_pickup_datetime')\n",
    "    data = extract_datetime_features(data, 'trip_dropoff_datetime')\n",
    "\n",
    "    # Preencher valores nulos restantes com a média das colunas numéricas\n",
    "    for col in data.columns:\n",
    "        if data[col].isnull().any():\n",
    "            if data[col].dtype in ['float64', 'int64']:\n",
    "                data[col].fillna(data[col].mean(), inplace=True)\n",
    "\n",
    "    print(\"Número de linhas após tratamento de nulos:\", len(data))\n",
    "\n",
    "    # Remover colunas categóricas que existem\n",
    "    columns_to_drop = ['fare_amt', 'vendor_name', 'payment_type']\n",
    "    if 'store_and_forward' in data.columns:\n",
    "        columns_to_drop.append('store_and_forward')\n",
    "    X = data.drop(columns=columns_to_drop)\n",
    "    y = data['fare_amt']\n",
    "else:\n",
    "    raise KeyError(\"'fare_amt' not found in columns\")\n",
    "\n",
    "# Verificar a quantidade de dados antes de prosseguir\n",
    "if len(X) == 0 or len(y) == 0:\n",
    "    raise ValueError(\"O DataFrame está vazio após o pré-processamento.\")\n",
    "\n",
    "# Identificar colunas numéricas e categóricas\n",
    "numeric_features = X.select_dtypes(include=['int64', 'float64']).columns.tolist()\n",
    "# categorical_features = ['vendor_name', 'payment_type']  # Especificar colunas categóricas diretamente\n",
    "\n",
    "print(\"Colunas numéricas:\", numeric_features)\n",
    "# print(\"Colunas categóricas:\", categorical_features)\n"
   ]
  },
  {
   "cell_type": "code",
   "execution_count": 5,
   "id": "6ed2f592",
   "metadata": {},
   "outputs": [
    {
     "name": "stdout",
     "output_type": "stream",
     "text": [
      "Primeiras linhas do conjunto de treinamento (X_train):\n",
      "          passenger_count  trip_distance  start_lon  start_lat    end_lon  \\\n",
      "1800148                 1           0.57 -73.993418  40.727492 -73.990140   \n",
      "15314700                1           0.60 -73.957534  40.758470 -73.957534   \n",
      "13745328                1           0.70 -73.991838  40.748672 -73.981706   \n",
      "3500895                 3           0.50 -73.967924  40.792336 -73.962710   \n",
      "3302589                 1           2.10 -73.966047  40.794829 -73.982037   \n",
      "\n",
      "            end_lat  surcharge  tip_amt  tolls_amt  total_amt  \\\n",
      "1800148   40.734892        0.0     0.00        0.0       3.70   \n",
      "15314700  40.758470        0.0     0.63        0.0       4.83   \n",
      "13745328  40.749976        0.0     0.00        0.0       5.70   \n",
      "3500895   40.794330        0.0     0.00        0.0       4.10   \n",
      "3302589   40.767868        0.0     0.00        0.0       7.30   \n",
      "\n",
      "          trip_pickup_datetime_year  trip_pickup_datetime_month  \\\n",
      "1800148                        2009                           1   \n",
      "15314700                       2009                           2   \n",
      "13745328                       2009                           1   \n",
      "3500895                        2009                           1   \n",
      "3302589                        2009                           1   \n",
      "\n",
      "          trip_pickup_datetime_day  trip_pickup_datetime_hour  \\\n",
      "1800148                         14                         10   \n",
      "15314700                         8                          3   \n",
      "13745328                         5                         13   \n",
      "3500895                         10                         18   \n",
      "3302589                          7                         10   \n",
      "\n",
      "          trip_dropoff_datetime_year  trip_dropoff_datetime_month  \\\n",
      "1800148                         2009                            1   \n",
      "15314700                        2009                            2   \n",
      "13745328                        2009                            1   \n",
      "3500895                         2009                            1   \n",
      "3302589                         2009                            1   \n",
      "\n",
      "          trip_dropoff_datetime_day  trip_dropoff_datetime_hour  \n",
      "1800148                          14                          10  \n",
      "15314700                          8                           3  \n",
      "13745328                          5                          13  \n",
      "3500895                          10                          18  \n",
      "3302589                           7                          10  \n",
      "Primeiras linhas do conjunto de teste (X_test):\n",
      "          passenger_count  trip_distance  start_lon  start_lat    end_lon  \\\n",
      "1898908                 3           1.60 -73.987153  40.770989 -73.961806   \n",
      "16529799                2           1.66 -73.993313  40.722092 -73.979685   \n",
      "14243958                1          13.00 -73.786500  40.641214 -73.984674   \n",
      "7584981                 1           4.18 -73.953293  40.775787 -73.988492   \n",
      "9132342                 1           9.90 -74.000922  40.718129 -73.918595   \n",
      "\n",
      "            end_lat  surcharge  tip_amt  tolls_amt  total_amt  \\\n",
      "1898908   40.768586        0.0      0.0        0.0        6.9   \n",
      "16529799  40.743637        0.5      1.0        0.0        8.4   \n",
      "14243958  40.684448        0.0      0.0        0.0       31.7   \n",
      "7584981   40.724145        0.0      0.0        0.0       12.9   \n",
      "9132342   40.818611        0.0      0.0        0.0       23.7   \n",
      "\n",
      "          trip_pickup_datetime_year  trip_pickup_datetime_month  \\\n",
      "1898908                        2009                           1   \n",
      "16529799                       2009                           2   \n",
      "14243958                       2009                           2   \n",
      "7584981                        2009                           1   \n",
      "9132342                        2009                           1   \n",
      "\n",
      "          trip_pickup_datetime_day  trip_pickup_datetime_hour  \\\n",
      "1898908                          3                          9   \n",
      "16529799                        21                          0   \n",
      "14243958                        19                          6   \n",
      "7584981                         17                         17   \n",
      "9132342                          1                         10   \n",
      "\n",
      "          trip_dropoff_datetime_year  trip_dropoff_datetime_month  \\\n",
      "1898908                         2009                            1   \n",
      "16529799                        2009                            2   \n",
      "14243958                        2009                            2   \n",
      "7584981                         2009                            1   \n",
      "9132342                         2009                            1   \n",
      "\n",
      "          trip_dropoff_datetime_day  trip_dropoff_datetime_hour  \n",
      "1898908                           3                           9  \n",
      "16529799                         21                           0  \n",
      "14243958                         19                           7  \n",
      "7584981                          17                          18  \n",
      "9132342                           1                          10  \n",
      "Shape após pré-processamento do conjunto de treinamento: (21978028, 18)\n"
     ]
    }
   ],
   "source": [
    "# Construir pré-processador\n",
    "preprocessor = ColumnTransformer(\n",
    "    transformers=[\n",
    "        ('num', StandardScaler(), numeric_features),\n",
    "    ])\n",
    "\n",
    "# Construindo a pipeline de pré-processamento e modelo\n",
    "pipeline = Pipeline([\n",
    "    ('scaler', StandardScaler()),  # Passo de padronização\n",
    "    ('xgb', XGBRegressor(\n",
    "        n_estimators=100,\n",
    "        learning_rate=0.1,\n",
    "        max_depth=5,\n",
    "        subsample=0.8,\n",
    "        colsample_bytree=0.8,\n",
    "        random_state=42\n",
    "    ))  # Passo de modelo\n",
    "])\n",
    "\n",
    "# Dividindo os dados em conjuntos de treino e teste\n",
    "X_train, X_test, y_train, y_test = train_test_split(X, y, test_size=0.2, random_state=42)\n",
    "# Verificar as primeiras linhas dos conjuntos de treino\n",
    "print(\"Primeiras linhas do conjunto de treinamento (X_train):\")\n",
    "print(X_train.head())\n",
    "print(\"Primeiras linhas do conjunto de teste (X_test):\")\n",
    "print(X_test.head())\n",
    "\n",
    "# Verificar se as colunas numéricas estão a ser transformadas corretamente\n",
    "preprocessed_X_train = preprocessor.fit_transform(X_train)\n",
    "print(\"Shape após pré-processamento do conjunto de treinamento:\", preprocessed_X_train.shape)"
   ]
  },
  {
   "cell_type": "code",
   "execution_count": 6,
   "id": "53faf6ce",
   "metadata": {},
   "outputs": [],
   "source": [
    "\n",
    "# Treino do modelo\n",
    "pipeline.fit(X_train, y_train)\n",
    "\n",
    "# Teste\n",
    "y_pred = pipeline.predict(X_test)\n"
   ]
  },
  {
   "cell_type": "markdown",
   "id": "f28d8d2b",
   "metadata": {},
   "source": [
    "#### Análise e Discussão de Resultados"
   ]
  },
  {
   "cell_type": "markdown",
   "id": "c59b01a7",
   "metadata": {},
   "source": [
    "\n",
    "\n",
    "#### Métricas de Avaliação\n",
    "\n",
    "1. **Mean Squared Error (MSE): 1.5253058701618463**\n",
    "   - **Definição:** O MSE é a média dos quadrados das diferenças entre os valores previstos e os valores reais. Este penaliza erros grandes mais severamente do que erros pequenos.\n",
    "   - **Interpretação:** Um MSE de 1.525 indica que, em média, os quadrados dos erros de previsão são relativamente pequenos. No entanto, o MSE não é diretamente interpretável no contexto do problema sem considerar a escala dos valores de `fare_amt`.\n",
    "\n",
    "2. **Mean Absolute Error (MAE): 0.21497482665722617**\n",
    "   - **Definição:** O MAE é a média das diferenças absolutas entre os valores previstos e os valores reais. Este mede a magnitude média dos erros de previsão.\n",
    "   - **Interpretação:** Um MAE de aproximadamente 0.215 sugere que, em média, as previsões do modelo diferem dos valores reais por cerca de 0.215 unidades de `fare_amt`. Isso indica que o modelo tem um desempenho muito bom em termos de precisão das previsões.\n",
    "\n",
    "3. **R-squared (R²): 0.9707926761843535**\n",
    "   - **Definição:** O R² é a proporção da variância nos dados dependentes que é explicada pelo modelo. Ele varia de 0 a 1, onde 1 indica que o modelo explica perfeitamente a variância nos dados.\n",
    "   - **Interpretação:** Um R² de aproximadamente 0.971 indica que 97.1% da variação nos valores de `fare_amt` é explicada pelo modelo. Isso sugere que o modelo é altamente eficaz em capturar a relação entre as variáveis independentes e `fare_amt`.\n",
    "\n",
    "#### Validação Cruzada\n",
    "\n",
    "4. **Cross-Validation MSE: 1.524**\n",
    "   - **Definição:** A validação cruzada MSE é a média dos MSEs obtidos em diferentes dobras de validação cruzada. Isso fornece uma medida mais robusta da performance do modelo, pois avalia o modelo em diferentes subconjuntos dos dados."
   ]
  },
  {
   "cell_type": "code",
   "execution_count": null,
   "id": "14e200a0",
   "metadata": {},
   "outputs": [
    {
     "name": "stdout",
     "output_type": "stream",
     "text": [
      "Mean Squared Error: 1.5253058701618463\n",
      "Mean Absolute Error: 0.21497482665722617\n",
      "R-squared: 0.9707926761843535\n"
     ]
    }
   ],
   "source": [
    "from sklearn.model_selection import cross_val_score\n",
    "# Métricas de avaliação\n",
    "mse = mean_squared_error(y_test, y_pred)\n",
    "mae = mean_absolute_error(y_test, y_pred)\n",
    "r2 = r2_score(y_test, y_pred)\n",
    "\n",
    "print(f\"Mean Squared Error: {mse}\")\n",
    "print(f\"Mean Absolute Error: {mae}\")\n",
    "print(f\"R-squared: {r2}\")\n",
    "\n",
    "# Pontuações de validação cruzada\n",
    "cv_scores = cross_val_score(pipeline, X, y, cv=5, scoring='neg_mean_squared_error')\n",
    "print(f\"Cross-Validation MSE: {-cv_scores.mean()}\")\n"
   ]
  },
  {
   "cell_type": "markdown",
   "id": "e64f57a4",
   "metadata": {},
   "source": [
    "#### Conclusão\n",
    "\n",
    "- **Desempenho do Modelo:** As métricas indicam que o modelo de regressão linear utilizado no pipeline tem um desempenho muito bom. O baixo MAE sugere que as previsões estão muito próximas dos valores reais, enquanto o alto R² indica que o modelo explica a maior parte da variância nos dados.\n",
    "\n",
    "Contudo, devido ao tempo da operação de cross validation ser demasiado longo, não se conseguiu correr as próximas células, visto que dava sempre um erro de `Conection Refuse`. Decidiu-se deixar o código que usaríamos, caso não desse o erro mencionado, pois acredita-se que estaria correto e que com uma VM com uma melhor configuração, daria para executar as células e analisar os resultados."
   ]
  },
  {
   "cell_type": "code",
   "execution_count": null,
   "id": "2599e672",
   "metadata": {},
   "outputs": [],
   "source": [
    "# Importância das Variáveis\n",
    "importance = pipeline.named_steps['xgb'].feature_importances_\n",
    "plt.figure(figsize=(10, 6))\n",
    "plt.bar(X.columns, importance)\n",
    "plt.title('Importância das Variáveis')\n",
    "plt.xlabel('Variáveis')\n",
    "plt.ylabel('Importância')\n",
    "plt.xticks(rotation=90)\n",
    "plt.show()"
   ]
  },
  {
   "cell_type": "markdown",
   "id": "c5e70f39",
   "metadata": {},
   "source": [
    "### `LogisticRegression`"
   ]
  },
  {
   "cell_type": "code",
   "execution_count": null,
   "id": "b7dc010a",
   "metadata": {},
   "outputs": [],
   "source": [
    "# Pré-processamento\n",
    "if 'fare_amt' in data.columns:\n",
    "    # Analisar colunas com valores nulos\n",
    "    null_columns = data.columns[data.isnull().any()]\n",
    "    print(\"Colunas com valores nulos:\", null_columns)\n",
    "\n",
    "    # Remover colunas com mais de 50% de valores nulos\n",
    "    half_count = len(data) / 2\n",
    "    data = data.dropna(thresh=half_count, axis=1)\n",
    "\n",
    "    # Extrair recursos de data e hora antes de preencher valores nulos\n",
    "    data = extract_datetime_features(data, 'trip_pickup_datetime')\n",
    "    data = extract_datetime_features(data, 'trip_dropoff_datetime')\n",
    "\n",
    "    # Preencher valores nulos restantes com a média das colunas numéricas\n",
    "    for col in data.columns:\n",
    "        if data[col].isnull().any():\n",
    "            if data[col].dtype in ['float64', 'int64']:\n",
    "                data[col].fillna(data[col].mean(), inplace=True)\n",
    "\n",
    "    print(\"Número de linhas após tratamento de nulos:\", len(data))\n",
    "    \n",
    "    # Discretizar a variável fare_amt em categorias\n",
    "    data['fare_amt_bins'] = pd.qcut(data['fare_amt'], q=4, labels=False, duplicates='drop')\n",
    "\n",
    "    # Remover colunas categóricas que existem\n",
    "    columns_to_drop = ['vendor_name', 'payment_type', 'fare_amt', 'fare_amt_bins']\n",
    "    if 'store_and_forward' in data.columns:\n",
    "        columns_to_drop.append('store_and_forward')\n",
    "    \n",
    "    # Separar a variável alvo\n",
    "    y = data['fare_amt_bins']\n",
    "    # Remover a variável alvo do conjunto de features\n",
    "    X = data.drop(columns=['vendor_name', 'payment_type', 'fare_amt', 'store_and_forward', 'fare_amt_bins'], errors='ignore')\n",
    "else:\n",
    "    raise KeyError(\"'fare_amt' not found in columns\")\n",
    "\n",
    "# Verificar a quantidade de dados antes de prosseguir\n",
    "if len(X) == 0 or len(y) == 0:\n",
    "    raise ValueError(\"O DataFrame está vazio após o pré-processamento.\")\n",
    "\n",
    "# Identificar colunas numéricas e categóricas\n",
    "numeric_features = X.select_dtypes(include=['int64', 'float64']).columns.tolist()\n",
    "\n",
    "print(\"Colunas numéricas:\", numeric_features)\n"
   ]
  },
  {
   "cell_type": "code",
   "execution_count": null,
   "id": "39c4b0bd",
   "metadata": {},
   "outputs": [],
   "source": [
    "# Construir pré-processador\n",
    "preprocessor = ColumnTransformer(\n",
    "    transformers=[\n",
    "        ('num', StandardScaler(), numeric_features),\n",
    "    ])\n",
    "\n",
    "# Construindo a pipeline de pré-processamento e modelo\n",
    "pipeline = Pipeline([\n",
    "    ('preprocessor', preprocessor),\n",
    "    ('classifier', LogisticRegression(max_iter=1000, random_state=42))\n",
    "])\n"
   ]
  },
  {
   "cell_type": "code",
   "execution_count": null,
   "id": "3d71bbdd",
   "metadata": {},
   "outputs": [],
   "source": [
    "\n",
    "# Dividindo os dados em conjuntos de treino e teste\n",
    "X_train, X_test, y_train, y_test = train_test_split(X, y, test_size=0.2, random_state=42)\n",
    "# Verificar as primeiras linhas dos conjuntos de treino\n",
    "print(\"Primeiras linhas do conjunto de treino (X_train):\")\n",
    "print(X_train.head())\n",
    "print(\"Primeiras linhas do conjunto de teste (X_test):\")\n",
    "print(X_test.head())\n"
   ]
  },
  {
   "cell_type": "code",
   "execution_count": null,
   "id": "f87e8fe6",
   "metadata": {},
   "outputs": [],
   "source": [
    "# Treino do modelo\n",
    "pipeline.fit(X_train, y_train)\n",
    "\n",
    "y_pred = pipeline.predict(X_test)\n"
   ]
  },
  {
   "cell_type": "code",
   "execution_count": null,
   "id": "570bbdf8",
   "metadata": {},
   "outputs": [],
   "source": [
    "# Passo 5: Métricas de avaliação\n",
    "accuracy = accuracy_score(y_test, y_pred)\n",
    "precision = precision_score(y_test, y_pred, average='weighted')\n",
    "recall = recall_score(y_test, y_pred, average='weighted')\n",
    "f1 = f1_score(y_test, y_pred, average='weighted')\n",
    "\n",
    "print(f\"Accuracy: {accuracy}\")\n",
    "print(f\"Precision: {precision}\")\n",
    "print(f\"Recall: {recall}\")\n",
    "print(f\"F1 Score: {f1}\")\n"
   ]
  },
  {
   "cell_type": "code",
   "execution_count": null,
   "id": "115142f2",
   "metadata": {},
   "outputs": [],
   "source": [
    "# Matriz de Confusão\n",
    "conf_matrix = confusion_matrix(y_test, y_pred)\n",
    "plt.figure(figsize=(10, 7))\n",
    "sns.heatmap(conf_matrix, annot=True, fmt='d', cmap='Blues')\n",
    "plt.title('Matriz de Confusão')\n",
    "plt.xlabel('Previsto')\n",
    "plt.ylabel('Real')\n",
    "plt.show()\n"
   ]
  },
  {
   "cell_type": "code",
   "execution_count": null,
   "id": "1d7a7b90",
   "metadata": {},
   "outputs": [],
   "source": [
    "# Importância das Variáveis\n",
    "if hasattr(pipeline.named_steps['classifier'], 'coef_'):\n",
    "    importances = pipeline.named_steps['classifier'].coef_[0]\n",
    "    feature_names = numeric_features\n",
    "    plt.figure(figsize=(10, 7))\n",
    "    plt.barh(feature_names, importances)\n",
    "    plt.title('Importância das Variáveis')\n",
    "    plt.xlabel('Coeficiente')\n",
    "    plt.ylabel('Variáveis')\n",
    "    plt.show()"
   ]
  }
 ],
 "metadata": {
  "kernelspec": {
   "display_name": "Python 3 (ipykernel)",
   "language": "python",
   "name": "python3"
  },
  "language_info": {
   "codemirror_mode": {
    "name": "ipython",
    "version": 3
   },
   "file_extension": ".py",
   "mimetype": "text/x-python",
   "name": "python",
   "nbconvert_exporter": "python",
   "pygments_lexer": "ipython3",
   "version": "3.11.5"
  }
 },
 "nbformat": 4,
 "nbformat_minor": 5
}
