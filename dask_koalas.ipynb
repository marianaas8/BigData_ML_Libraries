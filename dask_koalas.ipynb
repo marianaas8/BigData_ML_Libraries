{
 "cells": [
  {
   "cell_type": "markdown",
   "id": "48a1f152",
   "metadata": {},
   "source": [
    "# Trabalho Prático - Performance Analysis\n",
    "### Ciência de Dados em Larga Escala\n",
    "### Lara Sousa e Mariana Serrão"
   ]
  },
  {
   "cell_type": "markdown",
   "id": "3a91e2c5",
   "metadata": {},
   "source": [
    "## Notebook 1 - Índice:\n",
    "- Breve introdução ao trabalho e às bibliotecas exploradas (PySpark, Dask, Modin, JobLib, Rapids e Koalas).\n",
    "- Explicação dos materiais e métodos utilizados para conduzir os experimentos.\n",
    "- Detalhamento das máquinas e configurações utilizadas nos experimentos.\n",
    "- Descrição detalhada do dataset NYC Taxi Driver.\n",
    "- Repetição do estudo elaborado em 'https://www.databricks.com/blog/2021/04/07/benchmark-koalas-pyspark-and-dask.html' \n",
    "- Análise comparativa entre dask e koalas[pyspark].\n",
    "- Adaptação do estudo para um dataset com 2 ficheiros parquet e um dataset com 3 ficheiros parquet."
   ]
  },
  {
   "cell_type": "markdown",
   "id": "e3fe7565-6a50-4d9f-b184-01710f731927",
   "metadata": {},
   "source": [
    "## Introdução\n",
    "No contexto de big data e machine learning, a escolha da biblioteca adequada pode influenciar significativamente a performance e a eficiência de uma pipeline de processamento. O objetivo deste projeto é explorar e comparar as diversas bibliotecas Python, amplamente utilizadas para manipulação de grandes volumes de dados e execução de tarefas de machine learning .\n",
    "\n",
    "<u>PySpark</u> trata-se de uma interface Python para o Apache Spark, um framework de computação em cluster, que permite o processamento paralelo e distribuído de grandes volumes de dados, facilitando operações de leitura, agregação e transformação de dados em larga escala. As suas principais vantagens incluem alta escalabilidade e eficiência em ambientes distribuídos, sendo habitualmente utilizado para processamento de dados em larga escala, ETL (extração, transformação e carregamento), e análises em tempo real.\n",
    "\n",
    "<u>Dask</u>, por sua vez, é uma biblioteca Python que permite o paralelismo e o processamento distribuído. Permite expandir a funcionalidade do pandas para conjuntos de dados que não cabem na memória, permitindo operações distribuídas e paralelas. Entre as suas vantagens, destacam-se a interface familiar para utilizadores de pandas, escalabilidade e integração com outras bibliotecas de big data. Para além disso, é frequentemente utilizado para processamento de grandes conjuntos de dados, análise de dados e machine learning.\n",
    "\n",
    "<u>Modin</u> é outra biblioteca relevante, que paraleliza operações de pandas utilizando Dask ou Ray, oferecendo uma interface similar à de pandas, mas com melhorias de performance significativas para grandes volumes de dados. A sua principal vantagem é a facilidade de uso e a melhoria de performance sem necessidade de grandes mudanças no código. É bastante utilizado para manipulação de dados em larga escala com uma interface familiar a pandas.\n",
    "\n",
    "<u>JobLib</u> é uma biblioteca para computação paralela e cache de resultados, amplamente utilizada para acelerar tarefas de machine learning que envolvem processamento pesado. Suas vantagens incluem simplicidade na implementação de paralelismo e melhoria de performance em tarefas de machine learning. JobLib é comumente utilizado para paralelização de loops, cache de resultados intermediários e aceleração de pipelines de machine learning.\n",
    "\n",
    "<u>RapidsAI</u> trata-se de um conjunto de bibliotecas que utiliza GPUs (Graphics Processing Unit ou Unidade de Processamento Gráfico) para acelarar o processamento de dados e tarefas de machine learning. Oferece APIs Python compatíveis com pandas e scikit-learn, mas executa operações em GPUs para ganhos de performance significativos. As suas principais vantagens incluem a aceleração significativa ao utilizar GPUs e a integração com o ecossistema Python. RapidsAI é regularmente utilizado para processamento de dados em GPU e aceleração de tarefas de machine learning.\n",
    "\n",
    "<u>Koalas</u>, por fim, é uma biblioteca que oferece uma API similar à de pandas, mas para Apache Spark. Facilita a migração de código de pandas para um ambiente distribuído sem grandes mudanças de código. As vantagens abrangem a facilitação da transição de pandas para Spark e a possibilidade de utilizar operações pandas num ambiente distribuído. É bastante utilizado no que toca à manipulação de dados em larga escala utilizando a API familiar de pandas, mas num ambiente Spark.\n",
    "\n",
    "O propósito central deste trabalho prático é identificar obstáculos de performance ao utilizar bibliotecas específicas, além de analisar as diferenças sintáticas entre as mesmas. Também se pretende determinar quais operações são mais adequadas para cada biblioteca e a familiarização com as mesmas, entendendo o que é suportado em pandas, scikit-learn e numpy. Para alcançar estes objetivos, os estudos descritos num estudo comparativo entre Koalas (PySpark) e Dask serão repetidos, utilizando o dataset NYC Taxi Driver para essa análise e reportando comparações de tempos de execução para cada operação definida. Em seguida, os estudos irão ser modificados para integrar código que utiliza as bibliotecas Modin, JobLib e RapidsAI, utilizando o mesmo dataset NYC Taxi Driver, expandindo para dois e três arquivos parquet do dataset.\n",
    "\n",
    "Numa fase posterior, vai-se construir uma pipeline de machine learning, para o mesmo dataset, que incluirá etapas de leitura dos dados, pré-processamento, treino e validação dos modelos. O objetivo é desenvolver um modelo capaz de prever a variável alvo \"fare_amount\", através da aplicação dos modelos XGBRegressor e LogisticRegression, avaliando-o a partir de métricas como acurácia, precisão, recall e f-measure."
   ]
  },
  {
   "cell_type": "markdown",
   "id": "044ca034-f90b-4e33-9ef3-b3cc475b8845",
   "metadata": {},
   "source": [
    "## Materiais e Métodos\n",
    "Para realização do projeto, foi utilizada a Google Cloud Platform (GCP) para criar os recursos de computação necessários. Especificamente, configurou-se uma máquina virtual (VM) e um cluster de máquinas virtuais para realização das análises. A configuração do cluster foi semelhante a uma instância i3.4xlarge da AWS, enquanto a VM foi configurada para ser semelhante a uma instância i3.16xlarge. Esses recursos foram provisionados de acordo com os créditos disponíveis.\n",
    "\n",
    "A Máquina Virtual (VM) utilizada trata-se de uma instância n2d-highmem-8 com 8 vCPUs baseadas na plataforma AMD Milan, 64 GB de memória RAM e um disco persistente balanceado de 500 GB rodando Ubuntu 20.04 LTS. A instância possui endereços IP internos e externos, com firewall que permite tráfego HTTP e HTTPS. A configuração de segurança inclui vTPM e monitoramento de integridade, enquanto o gerenciamento de API e identidade está configurado para acesso padrão.\n",
    "\n",
    "O cluster solicitado para o projeto assemelha-se a uma i3.4xlarge AWS, no entanto devido à limitação de créditos no GCP, não foi possível criá-lo e, portanto, repetir o estudo em ambiente distribuído.\n",
    "\n",
    "Utilizou-se o conjunto de dados \"TLC Trip Record Data\" fornecido pela Comissão de Táxi e Limusine de Nova York (TLC), que contém registos de viagens de táxi amarelos e verdes, bem como registos de viagens de veículos para contratação (\"For-Hire Vehicle\" - FHV).Estes registros incluem informações como nome do fornecedor, data e hora de coleta e entrega das viagens, número de passageiros, distância percorrida, coordenadas de latitude e longitude de início e fim da viagem, código de tarifa, indicação de pagamento antecipado, tipos de pagamento, valores de tarifa, taxa de sobretaxa, taxa MTA, valor de gorjeta, valor de pedágio e total da tarifa.\n",
    "\n",
    "Na fase de download dos dados, utilizou-se os arquivos de dados mensais entre os anos de 2009 a 2013, em formato Parquet. O processo foi automatizado para percorrer todos os meses e anos relevantes dos dados, sendo que para a repetição do estudo de benchmark apenas foi utilizado o primeiro arquivo \"yellow_tripdata_2009-01.parquet\"."
   ]
  },
  {
   "cell_type": "markdown",
   "id": "d44afee6",
   "metadata": {},
   "source": [
    "## Download Dataset"
   ]
  },
  {
   "cell_type": "markdown",
   "id": "afcad892",
   "metadata": {},
   "source": [
    "Realizou-se o download de arquivos de dados de viagens de táxi no formato Parquet, abrangendo o período de janeiro de 2009 a dezembro de 2013. Realizou-se as seguintes etapas principais:\n",
    "\n",
    "- Construção de URLs e Localizações de Arquivos: Criou-se um mapeamento entre URLs dos arquivos de dados e os seus locais de download.\n",
    "- Criação de Diretório: Garantiu-se que o diretório de destino para os arquivos descarregados exista.\n",
    "- Download de Arquivos: Percorreu-se todas as URLs, fazendo o download dos arquivos e salvando-os no diretório especificado.\n"
   ]
  },
  {
   "cell_type": "code",
   "execution_count": null,
   "id": "279631ca",
   "metadata": {},
   "outputs": [
    {
     "name": "stdout",
     "output_type": "stream",
     "text": [
      "Downloaded Ficheiros/taxi_csv/yellow_tripdata_2009-01.parquet\n",
      "Downloaded Ficheiros/taxi_csv/yellow_tripdata_2009-02.parquet\n",
      "Downloaded Ficheiros/taxi_csv/yellow_tripdata_2009-03.parquet\n",
      "Downloaded Ficheiros/taxi_csv/yellow_tripdata_2009-04.parquet\n",
      "Downloaded Ficheiros/taxi_csv/yellow_tripdata_2009-05.parquet\n",
      "Downloaded Ficheiros/taxi_csv/yellow_tripdata_2009-06.parquet\n",
      "Downloaded Ficheiros/taxi_csv/yellow_tripdata_2009-07.parquet\n",
      "Downloaded Ficheiros/taxi_csv/yellow_tripdata_2009-08.parquet\n",
      "Downloaded Ficheiros/taxi_csv/yellow_tripdata_2009-09.parquet\n",
      "Downloaded Ficheiros/taxi_csv/yellow_tripdata_2009-10.parquet\n",
      "Downloaded Ficheiros/taxi_csv/yellow_tripdata_2009-11.parquet\n",
      "Downloaded Ficheiros/taxi_csv/yellow_tripdata_2009-12.parquet\n",
      "Downloaded Ficheiros/taxi_csv/yellow_tripdata_2010-01.parquet\n",
      "Downloaded Ficheiros/taxi_csv/yellow_tripdata_2010-02.parquet\n",
      "Downloaded Ficheiros/taxi_csv/yellow_tripdata_2010-03.parquet\n",
      "Downloaded Ficheiros/taxi_csv/yellow_tripdata_2010-04.parquet\n",
      "Downloaded Ficheiros/taxi_csv/yellow_tripdata_2010-05.parquet\n",
      "Downloaded Ficheiros/taxi_csv/yellow_tripdata_2010-06.parquet\n",
      "Downloaded Ficheiros/taxi_csv/yellow_tripdata_2010-07.parquet\n",
      "Downloaded Ficheiros/taxi_csv/yellow_tripdata_2010-08.parquet\n",
      "Downloaded Ficheiros/taxi_csv/yellow_tripdata_2010-09.parquet\n",
      "Downloaded Ficheiros/taxi_csv/yellow_tripdata_2010-10.parquet\n",
      "Downloaded Ficheiros/taxi_csv/yellow_tripdata_2010-11.parquet\n"
     ]
    }
   ],
   "source": [
    "import os\n",
    "import requests\n",
    "\n",
    "# Map download url to the file location\n",
    "url_loc = {} \n",
    "\n",
    "for year in range(2009, 2014):\n",
    "    for m in range(1, 13):\n",
    "        month = \"{:02d}\".format(m)\n",
    "        fname = 'yellow_tripdata_%s-%s.parquet' % (year, month)\n",
    "        url = 'https://d37ci6vzurychx.cloudfront.net/trip-data/%s' % fname\n",
    "        loc = 'Ficheiros/taxi_csv/%s' % fname\n",
    "        url_loc[url] = loc\n",
    "\n",
    "# Create the directory if it doesn't exist\n",
    "download_dir = 'Ficheiros/taxi_csv'\n",
    "os.makedirs(download_dir, exist_ok=True)\n",
    "\n",
    "# Download files\n",
    "for url, loc in url_loc.items():\n",
    "    file_path = os.path.join(download_dir, os.path.basename(loc))\n",
    "    response = requests.get(url)\n",
    "    if response.status_code == 200:\n",
    "        with open(file_path, 'wb') as f:\n",
    "            f.write(response.content)\n",
    "        print(f\"Downloaded {file_path}\")\n",
    "    else:\n",
    "        print(f\"Failed to download {url}: Status code {response.status_code}\")"
   ]
  },
  {
   "cell_type": "markdown",
   "id": "bf930f1d",
   "metadata": {},
   "source": [
    "## Bibliotecas"
   ]
  },
  {
   "cell_type": "markdown",
   "id": "0a68cf29",
   "metadata": {},
   "source": [
    "Instalou-se as bibliotecas necessárias."
   ]
  },
  {
   "cell_type": "code",
   "execution_count": 2,
   "id": "acaee60d-aadd-4fb4-befd-f0b88cf26147",
   "metadata": {},
   "outputs": [
    {
     "name": "stdout",
     "output_type": "stream",
     "text": [
      "Defaulting to user installation because normal site-packages is not writeable\n",
      "Requirement already satisfied: koalas in ./.local/lib/python3.7/site-packages (1.8.2)\n",
      "Requirement already satisfied: numpy in ./.local/lib/python3.7/site-packages (1.21.6)\n",
      "Requirement already satisfied: pandas in ./.local/lib/python3.7/site-packages (1.3.5)\n",
      "Requirement already satisfied: pyarrow in ./.local/lib/python3.7/site-packages (12.0.1)\n",
      "Requirement already satisfied: dask[complete] in ./.local/lib/python3.7/site-packages (2022.2.0)\n",
      "Requirement already satisfied: cloudpickle>=1.1.1 in ./.local/lib/python3.7/site-packages (from dask[complete]) (2.2.1)\n",
      "Requirement already satisfied: fsspec>=0.6.0 in ./.local/lib/python3.7/site-packages (from dask[complete]) (2023.1.0)\n",
      "Requirement already satisfied: packaging>=20.0 in ./.local/lib/python3.7/site-packages (from dask[complete]) (24.0)\n",
      "Requirement already satisfied: partd>=0.3.10 in ./.local/lib/python3.7/site-packages (from dask[complete]) (1.4.1)\n",
      "Requirement already satisfied: pyyaml>=5.3.1 in /usr/lib/python3/dist-packages (from dask[complete]) (5.3.1)\n",
      "Requirement already satisfied: toolz>=0.8.2 in ./.local/lib/python3.7/site-packages (from dask[complete]) (0.12.1)\n",
      "Requirement already satisfied: bokeh>=2.1.1 in ./.local/lib/python3.7/site-packages (from dask[complete]) (2.4.3)\n",
      "Requirement already satisfied: distributed==2022.02.0 in ./.local/lib/python3.7/site-packages (from dask[complete]) (2022.2.0)\n",
      "Requirement already satisfied: jinja2 in ./.local/lib/python3.7/site-packages (from dask[complete]) (3.1.3)\n",
      "Requirement already satisfied: click>=6.6 in /usr/lib/python3/dist-packages (from distributed==2022.02.0->dask[complete]) (7.0)\n",
      "Requirement already satisfied: msgpack>=0.6.0 in ./.local/lib/python3.7/site-packages (from distributed==2022.02.0->dask[complete]) (1.0.5)\n",
      "Requirement already satisfied: psutil>=5.0 in ./.local/lib/python3.7/site-packages (from distributed==2022.02.0->dask[complete]) (5.9.8)\n",
      "Requirement already satisfied: sortedcontainers!=2.0.0,!=2.0.1 in ./.local/lib/python3.7/site-packages (from distributed==2022.02.0->dask[complete]) (2.4.0)\n",
      "Requirement already satisfied: tblib>=1.6.0 in ./.local/lib/python3.7/site-packages (from distributed==2022.02.0->dask[complete]) (2.0.0)\n",
      "Requirement already satisfied: zict>=0.1.3 in ./.local/lib/python3.7/site-packages (from distributed==2022.02.0->dask[complete]) (2.2.0)\n",
      "Requirement already satisfied: setuptools in /usr/lib/python3/dist-packages (from distributed==2022.02.0->dask[complete]) (45.2.0)\n",
      "Requirement already satisfied: tornado>=5 in ./.local/lib/python3.7/site-packages (from distributed==2022.02.0->dask[complete]) (6.2)\n",
      "Requirement already satisfied: python-dateutil>=2.7.3 in /usr/local/lib/python3.7/dist-packages (from pandas) (2.9.0.post0)\n",
      "Requirement already satisfied: pytz>=2017.3 in /usr/local/lib/python3.7/dist-packages (from pandas) (2024.1)\n",
      "Requirement already satisfied: pillow>=7.1.0 in ./.local/lib/python3.7/site-packages (from bokeh>=2.1.1->dask[complete]) (9.5.0)\n",
      "Requirement already satisfied: typing-extensions>=3.10.0 in ./.local/lib/python3.7/site-packages (from bokeh>=2.1.1->dask[complete]) (4.7.1)\n",
      "Requirement already satisfied: MarkupSafe>=2.0 in ./.local/lib/python3.7/site-packages (from jinja2->dask[complete]) (2.1.5)\n",
      "Requirement already satisfied: locket in ./.local/lib/python3.7/site-packages (from partd>=0.3.10->dask[complete]) (1.0.0)\n",
      "Requirement already satisfied: six>=1.5 in /usr/lib/python3/dist-packages (from python-dateutil>=2.7.3->pandas) (1.14.0)\n",
      "Requirement already satisfied: heapdict in ./.local/lib/python3.7/site-packages (from zict>=0.1.3->distributed==2022.02.0->dask[complete]) (1.0.1)\n",
      "Note: you may need to restart the kernel to use updated packages.\n"
     ]
    }
   ],
   "source": [
    "%pip install -U koalas dask[complete] numpy pandas pyarrow"
   ]
  },
  {
   "cell_type": "markdown",
   "id": "1bf50bb4-87f7-454c-b546-4b6e39af4309",
   "metadata": {},
   "source": [
    "Criou-se uma sessão Spark para processamento distribuído de dados, desabilitando o cache de IO do Databricks."
   ]
  },
  {
   "cell_type": "code",
   "execution_count": 1,
   "id": "eb4bc72d-7720-4f0b-af6e-2d577144da13",
   "metadata": {},
   "outputs": [
    {
     "name": "stderr",
     "output_type": "stream",
     "text": [
      "Setting default log level to \"WARN\".\n",
      "To adjust logging level use sc.setLogLevel(newLevel). For SparkR, use setLogLevel(newLevel).\n",
      "24/06/05 22:19:28 WARN NativeCodeLoader: Unable to load native-hadoop library for your platform... using builtin-java classes where applicable\n"
     ]
    },
    {
     "name": "stdout",
     "output_type": "stream",
     "text": [
      "spark.databricks.io.cache.enabled is false\n"
     ]
    }
   ],
   "source": [
    "from pyspark.sql import SparkSession\n",
    "\n",
    "# Create a Spark session\n",
    "spark = SparkSession.builder \\\n",
    "    .appName(\"project\") \\\n",
    "    .getOrCreate()\n",
    "\n",
    "# Set the Spark configuration\n",
    "spark.conf.set(\"spark.databricks.io.cache.enabled\", \"false\")\n",
    "\n",
    "# Print the configured value\n",
    "print(\"spark.databricks.io.cache.enabled is %s\" % spark.conf.get(\"spark.databricks.io.cache.enabled\"))\n",
    "\n",
    "\n"
   ]
  },
  {
   "cell_type": "code",
   "execution_count": 2,
   "id": "b8defab9",
   "metadata": {},
   "outputs": [
    {
     "name": "stdout",
     "output_type": "stream",
     "text": [
      "pandas version: 1.3.5\n",
      "pyspark version: 3.4.3\n",
      "pyarrow version: 11.0.0\n",
      "numpy version: 1.21.6\n"
     ]
    }
   ],
   "source": [
    "# Importing required packages\n",
    "import pandas as pd\n",
    "import pyspark\n",
    "import pyarrow\n",
    "import numpy as np\n",
    "\n",
    "# Check versions\n",
    "print(\"pandas version:\", pd.__version__)\n",
    "print(\"pyspark version:\", pyspark.__version__)\n",
    "print(\"pyarrow version:\", pyarrow.__version__)\n",
    "print(\"numpy version:\", np.__version__)"
   ]
  },
  {
   "cell_type": "code",
   "execution_count": 3,
   "id": "923d81a6",
   "metadata": {},
   "outputs": [],
   "source": [
    "import time\n",
    "from dask.distributed import Client, LocalCluster\n",
    "import dask.dataframe as dd"
   ]
  },
  {
   "cell_type": "code",
   "execution_count": 4,
   "id": "7ac67efe",
   "metadata": {},
   "outputs": [
    {
     "name": "stderr",
     "output_type": "stream",
     "text": [
      "WARNING:root:'PYARROW_IGNORE_TIMEZONE' environment variable was not set. It is required to set this environment variable to '1' in both driver and executor sides if you use pyarrow>=2.0.0. Koalas will set it for you but it does not work if there is a Spark context already launched.\n"
     ]
    }
   ],
   "source": [
    "import databricks.koalas as ks"
   ]
  },
  {
   "cell_type": "markdown",
   "id": "9c9aba12",
   "metadata": {},
   "source": [
    "## Definição das Funções de Benchmark\n",
    "##### Definiu-se duas funções:\n",
    "\n",
    " - benchmark: mede a duração da execução de uma função específica aplicada a um DataFrame e armazena os resultados de tempo e nome da tarefa num dicionário de benchmarks.\n",
    " - get_results: converte o dicionário de benchmarks num DataFrame do pandas para facilitar a visualização e análise dos resultados."
   ]
  },
  {
   "cell_type": "code",
   "execution_count": 5,
   "id": "bb1fd844",
   "metadata": {},
   "outputs": [],
   "source": [
    "def benchmark(f, df, benchmarks, name, **kwargs):\n",
    "    \"\"\"Benchmark the given function against the given DataFrame.\n",
    "    \n",
    "    Parameters\n",
    "    ----------\n",
    "    f: function to benchmark\n",
    "    df: data frame\n",
    "    benchmarks: container for benchmark results\n",
    "    name: task name\n",
    "    \n",
    "    Returns\n",
    "    -------\n",
    "    Duration (in seconds) of the given operation\n",
    "    \"\"\"\n",
    "    start_time = time.time()\n",
    "    ret = f(df, **kwargs)\n",
    "    benchmarks['duration'].append(time.time() - start_time)\n",
    "    benchmarks['task'].append(name)\n",
    "    print(f\"{name} took: {benchmarks['duration'][-1]} seconds\")\n",
    "    return benchmarks['duration'][-1]\n",
    " \n",
    "def get_results(benchmarks):\n",
    "    \"\"\"Return a pandas DataFrame containing benchmark results.\"\"\"\n",
    "    return pd.DataFrame.from_dict(benchmarks)\n"
   ]
  },
  {
   "cell_type": "markdown",
   "id": "901970a3",
   "metadata": {},
   "source": [
    "## Dask"
   ]
  },
  {
   "cell_type": "markdown",
   "id": "a0f71324",
   "metadata": {},
   "source": [
    "### Inicialização e Carregamento de Dados\n",
    "Inicializou-se o cliente Dask para gerenciar a computação distribuída. Em seguida, definiu-se o diretório que contém os arquivos Parquet descarregados e verificou-se se o diretório existe. Carregou-se o primeiro arquivo Parquet do conjunto de dados de viagens de táxi de Nova York em um DataFrame Dask. Esta abordagem foi adotada por considerações de memória e para economizar créditos ao utilizar o Google Cloud Platform. Além disso, inicializaram-se três dicionários para armazenar os resultados dos benchmarks, que registram o tempo de execução das operações aplicadas aos dados. O primeiro dicionário (dask_benchmarks) armazenará os resultados de todas as operações, o segundo (dask_benchmarks_filtered) registrará as operações aplicadas aos dados filtrados e o terceiro (dask_benchmarks_cache) as operações com caching."
   ]
  },
  {
   "cell_type": "code",
   "execution_count": 39,
   "id": "a56eb728",
   "metadata": {},
   "outputs": [
    {
     "name": "stderr",
     "output_type": "stream",
     "text": [
      "/home/marianaaraujoserrao/.local/lib/python3.8/site-packages/distributed/node.py:182: UserWarning: Port 8787 is already in use.\n",
      "Perhaps you already have a cluster running?\n",
      "Hosting the HTTP server on port 33001 instead\n",
      "  warnings.warn(\n",
      "2024-06-05 22:38:13,332 - distributed.nanny - WARNING - Restarting worker\n",
      "2024-06-05 22:38:13,345 - distributed.nanny - WARNING - Restarting worker\n",
      "2024-06-05 22:38:13,352 - distributed.nanny - WARNING - Restarting worker\n",
      "2024-06-05 22:38:13,469 - distributed.nanny - WARNING - Restarting worker\n",
      "2024-06-05 22:42:13,579 - distributed.nanny - WARNING - Restarting worker\n",
      "2024-06-05 22:42:13,597 - distributed.nanny - WARNING - Restarting worker\n",
      "2024-06-05 22:42:13,598 - distributed.nanny - WARNING - Restarting worker\n",
      "2024-06-05 22:42:13,609 - distributed.nanny - WARNING - Restarting worker\n"
     ]
    }
   ],
   "source": [
    "import os\n",
    "import dask.dataframe as dd\n",
    "from dask.distributed import Client\n",
    "import time\n",
    "\n",
    "# Initialize Dask client\n",
    "client = Client()\n",
    "\n",
    "# Read the downloaded Parquet files\n",
    "parquet_file = 'Ficheiros/taxi_csv/yellow_tripdata_2009-01.parquet'\n",
    "dask_data = dd.read_parquet(parquet_file)\n",
    "\n",
    "# Initialize benchmark dictionary\n",
    "dask_benchmarks = {\n",
    "    'duration': [],  # in seconds\n",
    "    'task': [],\n",
    "}\n",
    "dask_benchmarks_filtered = {\n",
    "    'duration': [],  # in seconds\n",
    "    'task': [],\n",
    "}\n",
    "dask_benchmarks_cache = {\n",
    "    'duration': [],  # in seconds\n",
    "    'task': [],\n",
    "}\n"
   ]
  },
  {
   "cell_type": "markdown",
   "id": "921f29ec",
   "metadata": {},
   "source": [
    "### Listagem de Colunas\n",
    "Renomeou-se as colunas do DataFrame Dask para minúsculas, alinhando-as com as funções que foram criadas posteriormente para manipulação desses dados e imprimiu-se a lista de colunas do DataFrame Dask para verificar o carregamento correto."
   ]
  },
  {
   "cell_type": "code",
   "execution_count": 40,
   "id": "67dc6bd7",
   "metadata": {},
   "outputs": [
    {
     "name": "stdout",
     "output_type": "stream",
     "text": [
      "Index(['vendor_name', 'trip_pickup_datetime', 'trip_dropoff_datetime',\n",
      "       'passenger_count', 'trip_distance', 'start_lon', 'start_lat',\n",
      "       'rate_code', 'store_and_forward', 'end_lon', 'end_lat', 'payment_type',\n",
      "       'fare_amt', 'surcharge', 'mta_tax', 'tip_amt', 'tolls_amt',\n",
      "       'total_amt'],\n",
      "      dtype='object')\n"
     ]
    }
   ],
   "source": [
    "dask_data = dask_data.rename(columns=str.lower)\n",
    "columns_list = dask_data.columns\n",
    "print(columns_list)\n"
   ]
  },
  {
   "cell_type": "markdown",
   "id": "48dce44d",
   "metadata": {},
   "source": [
    "### Definição das Funções de Operações\n",
    "Definiu-se várias funções que executam operações de análise de dados no DataFrame Dask, como contagem de linhas, cálculo de média, desvio padrão, soma e produto de colunas, contagem de valores, operações aritméticas complexas e estatísticas de agrupamento. Também criou-se funções para junção de dados."
   ]
  },
  {
   "cell_type": "code",
   "execution_count": 41,
   "id": "0e7b3809",
   "metadata": {},
   "outputs": [],
   "source": [
    "def read_file_parquet(df=None):\n",
    "    return dd.read_parquet('Ficheiros/taxi_csv/yellow_tripdata_2009-01.parquet')\n",
    "  \n",
    "def count(df=None):\n",
    "    return len(df)\n",
    " \n",
    "def count_index_length(df=None):\n",
    "    return len(df.index)\n",
    " \n",
    "def mean(df):\n",
    "    return df.fare_amt.mean().compute()\n",
    " \n",
    "def standard_deviation(df):\n",
    "    return df.fare_amt.std().compute()\n",
    " \n",
    "def mean_of_sum(df):\n",
    "    return (df.fare_amt + df.tip_amt).mean().compute()\n",
    " \n",
    "def sum_columns(df):\n",
    "    return (df.fare_amt + df.tip_amt).compute()\n",
    " \n",
    "def mean_of_product(df):\n",
    "    return (df.fare_amt * df.tip_amt).mean().compute()\n",
    " \n",
    "def product_columns(df):\n",
    "    return (df.fare_amt * df.tip_amt).compute()\n",
    "  \n",
    "def value_counts(df):\n",
    "    return df.fare_amt.value_counts().compute()\n",
    "  \n",
    "def mean_of_complicated_arithmetic_operation(df):\n",
    "    theta_1 = df.start_lon\n",
    "    phi_1 = df.start_lat\n",
    "    theta_2 = df.end_lon\n",
    "    phi_2 = df.end_lat\n",
    "    temp = (np.sin((theta_2-theta_1)/2*np.pi/180)**2\n",
    "           + np.cos(theta_1*np.pi/180)*np.cos(theta_2*np.pi/180) * np.sin((phi_2-phi_1)/2*np.pi/180)**2)\n",
    "    ret = 2 * np.arctan2(np.sqrt(temp), np.sqrt(1-temp))\n",
    "    return ret.mean().compute()\n",
    "  \n",
    "def complicated_arithmetic_operation(df):\n",
    "    theta_1 = df.start_lon\n",
    "    phi_1 = df.start_lat\n",
    "    theta_2 = df.end_lon\n",
    "    phi_2 = df.end_lat\n",
    "    temp = (np.sin((theta_2-theta_1)/2*np.pi/180)**2\n",
    "           + np.cos(theta_1*np.pi/180)*np.cos(theta_2*np.pi/180) * np.sin((phi_2-phi_1)/2*np.pi/180)**2)\n",
    "    ret = 2 * np.arctan2(np.sqrt(temp), np.sqrt(1-temp))\n",
    "    return ret.compute()\n",
    "  \n",
    "def groupby_statistics(df):\n",
    "    return df.groupby(by='passenger_count').agg(\n",
    "      {\n",
    "        'fare_amt': ['mean', 'std'], \n",
    "        'tip_amt': ['mean', 'std']\n",
    "      }\n",
    "    ).compute()\n",
    "  \n",
    "other = groupby_statistics(dask_data)\n",
    "other.columns = pd.Index([e[0]+'_' + e[1] for e in other.columns.tolist()])\n",
    " \n",
    "def join_count(df, other):\n",
    "    return len(dd.merge(df, other, left_index=True, right_index=True))\n",
    " \n",
    "def join_data(df, other):\n",
    "    return dd.merge(df, other, left_index=True, right_index=True).compute()"
   ]
  },
  {
   "cell_type": "markdown",
   "id": "3065546b",
   "metadata": {},
   "source": [
    "### Execução dos Benchmarks\n",
    "Executou-se as funções de benchmark definidas anteriormente no DataFrame Dask. Cada função de operação é aplicada ao DataFrame, e o tempo de execução é registrado no dicionário de benchmarks (dask_benchmarks)."
   ]
  },
  {
   "cell_type": "code",
   "execution_count": 42,
   "id": "6ea3a10d",
   "metadata": {
    "scrolled": true
   },
   "outputs": [
    {
     "name": "stdout",
     "output_type": "stream",
     "text": [
      "read file took: 0.0073125362396240234 seconds\n",
      "count took: 14.161975622177124 seconds\n",
      "count index length took: 14.0751371383667 seconds\n",
      "mean took: 14.178173065185547 seconds\n",
      "standard deviation took: 14.063892364501953 seconds\n",
      "mean of columns addition took: 13.929075002670288 seconds\n",
      "addition of columns took: 14.147884368896484 seconds\n",
      "mean of columns multiplication took: 14.220425844192505 seconds\n",
      "multiplication of columns took: 14.446113586425781 seconds\n",
      "value counts took: 14.519860029220581 seconds\n",
      "mean of complex arithmetic ops took: 15.269702672958374 seconds\n",
      "complex arithmetic ops took: 15.398111820220947 seconds\n",
      "groupby statistics took: 14.61258578300476 seconds\n",
      "join count took: 14.458382368087769 seconds\n",
      "join took: 14.363636016845703 seconds\n"
     ]
    },
    {
     "data": {
      "text/plain": [
       "14.363636016845703"
      ]
     },
     "execution_count": 42,
     "metadata": {},
     "output_type": "execute_result"
    }
   ],
   "source": [
    "benchmark(read_file_parquet, df=None, benchmarks=dask_benchmarks, name='read file')\n",
    "benchmark(count, df=dask_data, benchmarks=dask_benchmarks, name='count')\n",
    "benchmark(count_index_length, df=dask_data, benchmarks=dask_benchmarks, name='count index length')\n",
    "benchmark(mean, df=dask_data, benchmarks=dask_benchmarks, name='mean')\n",
    "benchmark(standard_deviation, df=dask_data, benchmarks=dask_benchmarks, name='standard deviation')\n",
    "benchmark(mean_of_sum, df=dask_data, benchmarks=dask_benchmarks, name='mean of columns addition')\n",
    "benchmark(sum_columns, df=dask_data, benchmarks=dask_benchmarks, name='addition of columns')\n",
    "benchmark(mean_of_product, df=dask_data, benchmarks=dask_benchmarks, name='mean of columns multiplication')\n",
    "benchmark(product_columns, df=dask_data, benchmarks=dask_benchmarks, name='multiplication of columns')\n",
    "benchmark(value_counts, df=dask_data, benchmarks=dask_benchmarks, name='value counts')\n",
    "benchmark(mean_of_complicated_arithmetic_operation, df=dask_data, benchmarks=dask_benchmarks, name='mean of complex arithmetic ops')\n",
    "benchmark(complicated_arithmetic_operation, df=dask_data, benchmarks=dask_benchmarks, name='complex arithmetic ops')\n",
    "benchmark(groupby_statistics, df=dask_data, benchmarks=dask_benchmarks, name='groupby statistics')\n",
    "benchmark(join_count, dask_data, benchmarks=dask_benchmarks, name='join count', other=other)\n",
    "benchmark(join_data, dask_data, benchmarks=dask_benchmarks, name='join', other=other)"
   ]
  },
  {
   "cell_type": "markdown",
   "id": "1487ce47-4057-4e80-b3b0-9658c7df3307",
   "metadata": {},
   "source": [
    "### Salvar Resultados"
   ]
  },
  {
   "cell_type": "code",
   "execution_count": 44,
   "id": "7f48d433-a6ba-4d5e-b91e-e90c922f3ff5",
   "metadata": {},
   "outputs": [
    {
     "name": "stdout",
     "output_type": "stream",
     "text": [
      "                                 duration\n",
      "task                                     \n",
      "read file                        0.007313\n",
      "count                           14.161976\n",
      "count index length              14.075137\n",
      "mean                            14.178173\n",
      "standard deviation              14.063892\n",
      "mean of columns addition        13.929075\n",
      "addition of columns             14.147884\n",
      "mean of columns multiplication  14.220426\n",
      "multiplication of columns       14.446114\n",
      "value counts                    14.519860\n",
      "mean of complex arithmetic ops  15.269703\n",
      "complex arithmetic ops          15.398112\n",
      "groupby statistics              14.612586\n",
      "join count                      14.458382\n",
      "join                            14.363636\n",
      "O arquivo Parquet foi salvo em Resultados/dask_standard1.\n"
     ]
    }
   ],
   "source": [
    "# Obter os resultados e remover duplicatas\n",
    "dask_res_temp = get_results(dask_benchmarks).drop_duplicates(subset='task').set_index('task')\n",
    "\n",
    "#Print dos dataframes\n",
    "print(dask_res_temp)\n",
    "\n",
    "# Definir o nome do arquivo ou diretório\n",
    "filename = 'Resultados/dask_standard1'\n",
    "\n",
    "# Salvar o DataFrame em formato Parquet\n",
    "dask_res_temp.to_parquet(filename)\n",
    "\n",
    "print(f'O arquivo Parquet foi salvo em {filename}.')"
   ]
  },
  {
   "cell_type": "markdown",
   "id": "3b6c2f2f",
   "metadata": {},
   "source": [
    "### Operações com filtro"
   ]
  },
  {
   "cell_type": "markdown",
   "id": "e174b176-f734-4294-b082-e7a3194bd55a",
   "metadata": {},
   "source": [
    "Realizaram-se operações de filtragem nos dados, aplicando uma expressão para selecionar registros com valores de tip_amt entre 1 e 5, através da função filter_data, que aplica essa filtragem ao DataFrame Dask (dask_data)."
   ]
  },
  {
   "cell_type": "code",
   "execution_count": 49,
   "id": "9e9dfe60",
   "metadata": {},
   "outputs": [],
   "source": [
    "expr_filter = (dask_data.tip_amt >= 1) & (dask_data.tip_amt <= 5)\n",
    " \n",
    "def filter_data(df):\n",
    "    return df[expr_filter]\n",
    "  \n",
    "dask_filtered = filter_data(dask_data)"
   ]
  },
  {
   "cell_type": "markdown",
   "id": "51e418d6-2f31-40b8-9c8e-b668a107cfcd",
   "metadata": {},
   "source": [
    "Novamente, foram executadas as funções de benchmark definidas anteriormente, mas desta vez aplicadas ao DataFrame Dask filtrado, sendo que os resultados são guardados no dicionário dask_benchmarks_filtered."
   ]
  },
  {
   "cell_type": "code",
   "execution_count": 50,
   "id": "c282910f",
   "metadata": {},
   "outputs": [
    {
     "name": "stdout",
     "output_type": "stream",
     "text": [
      "read file took: 0.006736278533935547 seconds\n",
      "count took: 14.47432255744934 seconds\n",
      "count index length took: 14.53014588356018 seconds\n",
      "mean took: 14.427309274673462 seconds\n",
      "standard deviation took: 14.577304363250732 seconds\n",
      "mean of columns addition took: 14.658457279205322 seconds\n",
      "addition of columns took: 14.541412115097046 seconds\n",
      "mean of columns multiplication took: 14.247473955154419 seconds\n",
      "multiplication of columns took: 14.40138292312622 seconds\n",
      "mean of complex arithmetic ops took: 14.546414375305176 seconds\n",
      "complex arithmetic ops took: 14.878332376480103 seconds\n",
      "value counts took: 14.423734426498413 seconds\n",
      "groupby statistics took: 14.642592430114746 seconds\n",
      "join count took: 14.665974855422974 seconds\n",
      "join took: 14.647319078445435 seconds\n"
     ]
    },
    {
     "data": {
      "text/plain": [
       "14.647319078445435"
      ]
     },
     "execution_count": 50,
     "metadata": {},
     "output_type": "execute_result"
    }
   ],
   "source": [
    "benchmark(read_file_parquet, df=None, benchmarks=dask_benchmarks_filtered, name='read file')\n",
    "benchmark(count, dask_filtered, benchmarks=dask_benchmarks_filtered, name='count')\n",
    "benchmark(count_index_length, dask_filtered, benchmarks=dask_benchmarks_filtered, name='count index length')\n",
    "benchmark(mean, dask_filtered, benchmarks=dask_benchmarks_filtered, name='mean')\n",
    "benchmark(standard_deviation, dask_filtered, benchmarks=dask_benchmarks_filtered, name='standard deviation')\n",
    "benchmark(mean_of_sum, dask_filtered, benchmarks=dask_benchmarks_filtered, name ='mean of columns addition')\n",
    "benchmark(sum_columns, df=dask_filtered, benchmarks=dask_benchmarks_filtered, name='addition of columns')\n",
    "benchmark(mean_of_product, dask_filtered, benchmarks=dask_benchmarks_filtered, name ='mean of columns multiplication')\n",
    "benchmark(product_columns, df=dask_filtered, benchmarks=dask_benchmarks_filtered, name='multiplication of columns')\n",
    "benchmark(mean_of_complicated_arithmetic_operation, dask_filtered, benchmarks=dask_benchmarks_filtered, name='mean of complex arithmetic ops')\n",
    "benchmark(complicated_arithmetic_operation, dask_filtered, benchmarks=dask_benchmarks_filtered, name='complex arithmetic ops')\n",
    "benchmark(value_counts, dask_filtered, benchmarks=dask_benchmarks_filtered, name ='value counts')\n",
    "benchmark(groupby_statistics, dask_filtered, benchmarks=dask_benchmarks_filtered, name='groupby statistics')\n",
    " \n",
    "other = groupby_statistics(dask_filtered)\n",
    "other.columns = pd.Index([e[0]+'_' + e[1] for e in other.columns.tolist()])\n",
    " \n",
    "benchmark(join_count, dask_filtered, benchmarks=dask_benchmarks_filtered, name='join count', other=other)\n",
    "benchmark(join_data, dask_filtered, benchmarks=dask_benchmarks_filtered, name='join', other=other)"
   ]
  },
  {
   "cell_type": "markdown",
   "id": "974132ac-d52a-4080-8735-8c055a430547",
   "metadata": {},
   "source": [
    "### Salvar Resultados"
   ]
  },
  {
   "cell_type": "code",
   "execution_count": 51,
   "id": "3ab25835-871b-4c16-a4c3-bb2ec1ad427b",
   "metadata": {},
   "outputs": [
    {
     "name": "stdout",
     "output_type": "stream",
     "text": [
      "                                 duration\n",
      "task                                     \n",
      "read file                        0.006736\n",
      "count                           14.474323\n",
      "count index length              14.530146\n",
      "mean                            14.427309\n",
      "standard deviation              14.577304\n",
      "mean of columns addition        14.658457\n",
      "addition of columns             14.541412\n",
      "mean of columns multiplication  14.247474\n",
      "multiplication of columns       14.401383\n",
      "mean of complex arithmetic ops  14.546414\n",
      "complex arithmetic ops          14.878332\n",
      "value counts                    14.423734\n",
      "groupby statistics              14.642592\n",
      "join count                      14.665975\n",
      "join                            14.647319\n",
      "O arquivo Parquet foi salvo em Resultados/dask_filtered1.\n"
     ]
    }
   ],
   "source": [
    "# Obter os resultados e remover duplicatas\n",
    "dask_res_filtered = get_results(dask_benchmarks_filtered).drop_duplicates(subset='task').set_index('task')\n",
    "\n",
    "#Print dos dataframes\n",
    "print(dask_res_filtered)\n",
    "\n",
    "# Definir o nome do arquivo ou diretório\n",
    "filename_filter = 'Resultados/dask_filtered1'\n",
    "\n",
    "# Salvar o DataFrame em formato Parquet\n",
    "dask_res_filtered.to_parquet(filename_filter)\n",
    "\n",
    "print(f'O arquivo Parquet foi salvo em {filename_filter}.')"
   ]
  },
  {
   "cell_type": "markdown",
   "id": "0368d569",
   "metadata": {},
   "source": [
    "### Operações com filtro e caching"
   ]
  },
  {
   "cell_type": "markdown",
   "id": "35a3f498-42c1-4860-965e-13ef7a729cc7",
   "metadata": {},
   "source": [
    "Para otimizar o desempenho e acelarar futuras operações que envolvem o DataFrame Dask filtrado, foi aplicado caching. Através da função client.persist, armazenou-se os resultados do DataFrame filtrado em memória, permitindo um acesso mais rápido e eficiente aos dados. Em seguida, aguarda-se até que todas as futuras operações associadas ao DataFrame sejam concluídas usando a função wait."
   ]
  },
  {
   "cell_type": "code",
   "execution_count": 52,
   "id": "48448743",
   "metadata": {},
   "outputs": [
    {
     "name": "stdout",
     "output_type": "stream",
     "text": [
      "Waiting until all futures are finished\n",
      "All futures are finished\n"
     ]
    }
   ],
   "source": [
    "# Add caching\n",
    "dask_filtered = client.persist(dask_filtered)\n",
    " \n",
    "from distributed import wait\n",
    "print('Waiting until all futures are finished')\n",
    "wait(dask_filtered)\n",
    "print('All futures are finished')"
   ]
  },
  {
   "cell_type": "markdown",
   "id": "79792967-35be-4267-9bba-21a46f12c457",
   "metadata": {},
   "source": [
    "Mais uma vez, as funções de benchmark foram executadas, desta vez aplicadas ao DataFrame Dask filtrado e com caching ativado. Cada função de operação é aplicada ao DataFrame filtrado, e o tempo de execução é registrado no dicionário de benchmarks específico para operações com caching (dask_benchmarks_cache). "
   ]
  },
  {
   "cell_type": "code",
   "execution_count": 53,
   "id": "b67094aa",
   "metadata": {},
   "outputs": [
    {
     "name": "stdout",
     "output_type": "stream",
     "text": [
      "read file took: 0.0063190460205078125 seconds\n",
      "count took: 0.013732433319091797 seconds\n",
      "count index length took: 0.019761323928833008 seconds\n",
      "mean took: 0.04050874710083008 seconds\n",
      "standard deviation took: 0.048017024993896484 seconds\n",
      "mean of columns addition took: 0.036644697189331055 seconds\n",
      "addition of columns took: 0.11289024353027344 seconds\n",
      "mean of columns multiplication took: 0.04268026351928711 seconds\n",
      "multiplication of columns took: 0.12211084365844727 seconds\n",
      "mean of complex arithmetic ops took: 0.2876756191253662 seconds\n",
      "complex arithmetic ops took: 0.3816397190093994 seconds\n",
      "value counts took: 0.041202545166015625 seconds\n",
      "groupby statistics took: 0.15189480781555176 seconds\n",
      "join count took: 0.22525453567504883 seconds\n",
      "join took: 0.05157732963562012 seconds\n"
     ]
    },
    {
     "data": {
      "text/plain": [
       "0.05157732963562012"
      ]
     },
     "execution_count": 53,
     "metadata": {},
     "output_type": "execute_result"
    }
   ],
   "source": [
    "benchmark(read_file_parquet, df=None, benchmarks=dask_benchmarks_cache, name='read file')\n",
    "benchmark(count, dask_filtered, benchmarks=dask_benchmarks_cache, name='count')\n",
    "benchmark(count_index_length, dask_filtered, benchmarks=dask_benchmarks_cache, name='count index length')\n",
    "benchmark(mean, dask_filtered, benchmarks=dask_benchmarks_cache, name='mean')\n",
    "benchmark(standard_deviation, dask_filtered, benchmarks=dask_benchmarks_cache, name='standard deviation')\n",
    "benchmark(mean_of_sum, dask_filtered, benchmarks=dask_benchmarks_cache, name ='mean of columns addition')\n",
    "benchmark(sum_columns, df=dask_filtered, benchmarks=dask_benchmarks_cache, name='addition of columns')\n",
    "benchmark(mean_of_product, dask_filtered, benchmarks=dask_benchmarks_cache, name ='mean of columns multiplication')\n",
    "benchmark(product_columns, df=dask_filtered, benchmarks=dask_benchmarks_cache, name='multiplication of columns')\n",
    "benchmark(mean_of_complicated_arithmetic_operation, dask_filtered, benchmarks=dask_benchmarks_cache, name='mean of complex arithmetic ops')\n",
    "benchmark(complicated_arithmetic_operation, dask_filtered, benchmarks=dask_benchmarks_cache, name='complex arithmetic ops')\n",
    "benchmark(value_counts, dask_filtered, benchmarks=dask_benchmarks_cache, name ='value counts')\n",
    "benchmark(groupby_statistics, dask_filtered, benchmarks=dask_benchmarks_cache, name='groupby statistics')\n",
    " \n",
    "other = groupby_statistics(dask_filtered)\n",
    "other.columns = pd.Index([e[0]+'_' + e[1] for e in other.columns.tolist()])\n",
    " \n",
    "benchmark(join_count, dask_filtered, benchmarks=dask_benchmarks_cache, name='join count', other=other)\n",
    "benchmark(join_data, dask_filtered, benchmarks=dask_benchmarks_cache, name='join', other=other)\n"
   ]
  },
  {
   "cell_type": "markdown",
   "id": "24b72d28-0113-43b2-b9c1-64f675c367ad",
   "metadata": {},
   "source": [
    "### Salvar Resultados"
   ]
  },
  {
   "cell_type": "code",
   "execution_count": 54,
   "id": "21aacbfd-91ca-4c74-a9fd-ba6d8f9bec2a",
   "metadata": {},
   "outputs": [
    {
     "name": "stdout",
     "output_type": "stream",
     "text": [
      "                                duration\n",
      "task                                    \n",
      "read file                       0.006319\n",
      "count                           0.013732\n",
      "count index length              0.019761\n",
      "mean                            0.040509\n",
      "standard deviation              0.048017\n",
      "mean of columns addition        0.036645\n",
      "addition of columns             0.112890\n",
      "mean of columns multiplication  0.042680\n",
      "multiplication of columns       0.122111\n",
      "mean of complex arithmetic ops  0.287676\n",
      "complex arithmetic ops          0.381640\n",
      "value counts                    0.041203\n",
      "groupby statistics              0.151895\n",
      "join count                      0.225255\n",
      "join                            0.051577\n",
      "O arquivo Parquet foi salvo em Resultados/dask_cache1.\n"
     ]
    }
   ],
   "source": [
    "# Obter os resultados e remover duplicatas\n",
    "dask_res_cache = get_results(dask_benchmarks_cache).drop_duplicates(subset='task').set_index('task')\n",
    "\n",
    "#Print dos dataframes\n",
    "print(dask_res_cache)\n",
    "\n",
    "# Definir o nome do arquivo ou diretório\n",
    "filename_cache = 'Resultados/dask_cache1'\n",
    "\n",
    "# Salvar o DataFrame em formato Parquet\n",
    "dask_res_cache.to_parquet(filename_cache)\n",
    "\n",
    "print(f'O arquivo Parquet foi salvo em {filename_cache}.')"
   ]
  },
  {
   "cell_type": "markdown",
   "id": "7887d641-c6d9-4b4c-aec7-0e3af229e7f2",
   "metadata": {},
   "source": [
    "### Reinicialização de Client\n",
    "Antes de passar para a próxima etapa, reiniciou-se o cliente Dask para garantir que qualquer recurso alocado anteriormente fosse liberado e para começar com um estado limpo ao iniciar a utilização do Koalas."
   ]
  },
  {
   "cell_type": "code",
   "execution_count": 55,
   "id": "81a52c0a",
   "metadata": {},
   "outputs": [
    {
     "data": {
      "text/html": [
       "<div>\n",
       "    <div style=\"width: 24px; height: 24px; background-color: #e1e1e1; border: 3px solid #9D9D9D; border-radius: 5px; position: absolute;\"> </div>\n",
       "    <div style=\"margin-left: 48px;\">\n",
       "        <h3 style=\"margin-bottom: 0px;\">Client</h3>\n",
       "        <p style=\"color: #9D9D9D; margin-bottom: 0px;\">Client-fd671627-238a-11ef-ab1e-05beeca76210</p>\n",
       "        <table style=\"width: 100%; text-align: left;\">\n",
       "\n",
       "        <tr>\n",
       "        \n",
       "            <td style=\"text-align: left;\"><strong>Connection method:</strong> Cluster object</td>\n",
       "            <td style=\"text-align: left;\"><strong>Cluster type:</strong> distributed.LocalCluster</td>\n",
       "        \n",
       "        </tr>\n",
       "\n",
       "        \n",
       "            <tr>\n",
       "                <td style=\"text-align: left;\">\n",
       "                    <strong>Dashboard: </strong> <a href=\"http://127.0.0.1:33001/status\" target=\"_blank\">http://127.0.0.1:33001/status</a>\n",
       "                </td>\n",
       "                <td style=\"text-align: left;\"></td>\n",
       "            </tr>\n",
       "        \n",
       "\n",
       "        </table>\n",
       "\n",
       "        \n",
       "\n",
       "        \n",
       "            <details>\n",
       "            <summary style=\"margin-bottom: 20px;\"><h3 style=\"display: inline;\">Cluster Info</h3></summary>\n",
       "            <div class=\"jp-RenderedHTMLCommon jp-RenderedHTML jp-mod-trusted jp-OutputArea-output\">\n",
       "    <div style=\"width: 24px; height: 24px; background-color: #e1e1e1; border: 3px solid #9D9D9D; border-radius: 5px; position: absolute;\">\n",
       "    </div>\n",
       "    <div style=\"margin-left: 48px;\">\n",
       "        <h3 style=\"margin-bottom: 0px; margin-top: 0px;\">LocalCluster</h3>\n",
       "        <p style=\"color: #9D9D9D; margin-bottom: 0px;\">f92e9f53</p>\n",
       "        <table style=\"width: 100%; text-align: left;\">\n",
       "            <tr>\n",
       "                <td style=\"text-align: left;\">\n",
       "                    <strong>Dashboard:</strong> <a href=\"http://127.0.0.1:33001/status\" target=\"_blank\">http://127.0.0.1:33001/status</a>\n",
       "                </td>\n",
       "                <td style=\"text-align: left;\">\n",
       "                    <strong>Workers:</strong> 4\n",
       "                </td>\n",
       "            </tr>\n",
       "            <tr>\n",
       "                <td style=\"text-align: left;\">\n",
       "                    <strong>Total threads:</strong> 8\n",
       "                </td>\n",
       "                <td style=\"text-align: left;\">\n",
       "                    <strong>Total memory:</strong> 62.79 GiB\n",
       "                </td>\n",
       "            </tr>\n",
       "            \n",
       "            <tr>\n",
       "    <td style=\"text-align: left;\"><strong>Status:</strong> running</td>\n",
       "    <td style=\"text-align: left;\"><strong>Using processes:</strong> True</td>\n",
       "</tr>\n",
       "\n",
       "            \n",
       "        </table>\n",
       "\n",
       "        <details>\n",
       "            <summary style=\"margin-bottom: 20px;\">\n",
       "                <h3 style=\"display: inline;\">Scheduler Info</h3>\n",
       "            </summary>\n",
       "\n",
       "            <div style=\"\">\n",
       "    <div>\n",
       "        <div style=\"width: 24px; height: 24px; background-color: #FFF7E5; border: 3px solid #FF6132; border-radius: 5px; position: absolute;\"> </div>\n",
       "        <div style=\"margin-left: 48px;\">\n",
       "            <h3 style=\"margin-bottom: 0px;\">Scheduler</h3>\n",
       "            <p style=\"color: #9D9D9D; margin-bottom: 0px;\">Scheduler-a77b6f2d-a0c4-4e83-9aea-67a21ff813ae</p>\n",
       "            <table style=\"width: 100%; text-align: left;\">\n",
       "                <tr>\n",
       "                    <td style=\"text-align: left;\">\n",
       "                        <strong>Comm:</strong> tcp://127.0.0.1:42215\n",
       "                    </td>\n",
       "                    <td style=\"text-align: left;\">\n",
       "                        <strong>Workers:</strong> 4\n",
       "                    </td>\n",
       "                </tr>\n",
       "                <tr>\n",
       "                    <td style=\"text-align: left;\">\n",
       "                        <strong>Dashboard:</strong> <a href=\"http://127.0.0.1:33001/status\" target=\"_blank\">http://127.0.0.1:33001/status</a>\n",
       "                    </td>\n",
       "                    <td style=\"text-align: left;\">\n",
       "                        <strong>Total threads:</strong> 8\n",
       "                    </td>\n",
       "                </tr>\n",
       "                <tr>\n",
       "                    <td style=\"text-align: left;\">\n",
       "                        <strong>Started:</strong> 9 minutes ago\n",
       "                    </td>\n",
       "                    <td style=\"text-align: left;\">\n",
       "                        <strong>Total memory:</strong> 62.79 GiB\n",
       "                    </td>\n",
       "                </tr>\n",
       "            </table>\n",
       "        </div>\n",
       "    </div>\n",
       "\n",
       "    <details style=\"margin-left: 48px;\">\n",
       "        <summary style=\"margin-bottom: 20px;\">\n",
       "            <h3 style=\"display: inline;\">Workers</h3>\n",
       "        </summary>\n",
       "\n",
       "        \n",
       "        <div style=\"margin-bottom: 20px;\">\n",
       "            <div style=\"width: 24px; height: 24px; background-color: #DBF5FF; border: 3px solid #4CC9FF; border-radius: 5px; position: absolute;\"> </div>\n",
       "            <div style=\"margin-left: 48px;\">\n",
       "            <details>\n",
       "                <summary>\n",
       "                    <h4 style=\"margin-bottom: 0px; display: inline;\">Worker: 0</h4>\n",
       "                </summary>\n",
       "                <table style=\"width: 100%; text-align: left;\">\n",
       "                    <tr>\n",
       "                        <td style=\"text-align: left;\">\n",
       "                            <strong>Comm: </strong> tcp://127.0.0.1:34333\n",
       "                        </td>\n",
       "                        <td style=\"text-align: left;\">\n",
       "                            <strong>Total threads: </strong> 2\n",
       "                        </td>\n",
       "                    </tr>\n",
       "                    <tr>\n",
       "                        <td style=\"text-align: left;\">\n",
       "                            <strong>Dashboard: </strong> <a href=\"http://127.0.0.1:40419/status\" target=\"_blank\">http://127.0.0.1:40419/status</a>\n",
       "                        </td>\n",
       "                        <td style=\"text-align: left;\">\n",
       "                            <strong>Memory: </strong> 15.70 GiB\n",
       "                        </td>\n",
       "                    </tr>\n",
       "                    <tr>\n",
       "                        <td style=\"text-align: left;\">\n",
       "                            <strong>Nanny: </strong> tcp://127.0.0.1:38271\n",
       "                        </td>\n",
       "                        <td style=\"text-align: left;\"></td>\n",
       "                    </tr>\n",
       "                    <tr>\n",
       "                        <td colspan=\"2\" style=\"text-align: left;\">\n",
       "                            <strong>Local directory: </strong> /tmp/dask-scratch-space/worker-efoyewnz\n",
       "                        </td>\n",
       "                    </tr>\n",
       "\n",
       "                    \n",
       "\n",
       "                    \n",
       "\n",
       "                </table>\n",
       "            </details>\n",
       "            </div>\n",
       "        </div>\n",
       "        \n",
       "        <div style=\"margin-bottom: 20px;\">\n",
       "            <div style=\"width: 24px; height: 24px; background-color: #DBF5FF; border: 3px solid #4CC9FF; border-radius: 5px; position: absolute;\"> </div>\n",
       "            <div style=\"margin-left: 48px;\">\n",
       "            <details>\n",
       "                <summary>\n",
       "                    <h4 style=\"margin-bottom: 0px; display: inline;\">Worker: 1</h4>\n",
       "                </summary>\n",
       "                <table style=\"width: 100%; text-align: left;\">\n",
       "                    <tr>\n",
       "                        <td style=\"text-align: left;\">\n",
       "                            <strong>Comm: </strong> tcp://127.0.0.1:42413\n",
       "                        </td>\n",
       "                        <td style=\"text-align: left;\">\n",
       "                            <strong>Total threads: </strong> 2\n",
       "                        </td>\n",
       "                    </tr>\n",
       "                    <tr>\n",
       "                        <td style=\"text-align: left;\">\n",
       "                            <strong>Dashboard: </strong> <a href=\"http://127.0.0.1:44599/status\" target=\"_blank\">http://127.0.0.1:44599/status</a>\n",
       "                        </td>\n",
       "                        <td style=\"text-align: left;\">\n",
       "                            <strong>Memory: </strong> 15.70 GiB\n",
       "                        </td>\n",
       "                    </tr>\n",
       "                    <tr>\n",
       "                        <td style=\"text-align: left;\">\n",
       "                            <strong>Nanny: </strong> tcp://127.0.0.1:42757\n",
       "                        </td>\n",
       "                        <td style=\"text-align: left;\"></td>\n",
       "                    </tr>\n",
       "                    <tr>\n",
       "                        <td colspan=\"2\" style=\"text-align: left;\">\n",
       "                            <strong>Local directory: </strong> /tmp/dask-scratch-space/worker-zwtt3_t2\n",
       "                        </td>\n",
       "                    </tr>\n",
       "\n",
       "                    \n",
       "\n",
       "                    \n",
       "\n",
       "                </table>\n",
       "            </details>\n",
       "            </div>\n",
       "        </div>\n",
       "        \n",
       "        <div style=\"margin-bottom: 20px;\">\n",
       "            <div style=\"width: 24px; height: 24px; background-color: #DBF5FF; border: 3px solid #4CC9FF; border-radius: 5px; position: absolute;\"> </div>\n",
       "            <div style=\"margin-left: 48px;\">\n",
       "            <details>\n",
       "                <summary>\n",
       "                    <h4 style=\"margin-bottom: 0px; display: inline;\">Worker: 2</h4>\n",
       "                </summary>\n",
       "                <table style=\"width: 100%; text-align: left;\">\n",
       "                    <tr>\n",
       "                        <td style=\"text-align: left;\">\n",
       "                            <strong>Comm: </strong> tcp://127.0.0.1:44697\n",
       "                        </td>\n",
       "                        <td style=\"text-align: left;\">\n",
       "                            <strong>Total threads: </strong> 2\n",
       "                        </td>\n",
       "                    </tr>\n",
       "                    <tr>\n",
       "                        <td style=\"text-align: left;\">\n",
       "                            <strong>Dashboard: </strong> <a href=\"http://127.0.0.1:41791/status\" target=\"_blank\">http://127.0.0.1:41791/status</a>\n",
       "                        </td>\n",
       "                        <td style=\"text-align: left;\">\n",
       "                            <strong>Memory: </strong> 15.70 GiB\n",
       "                        </td>\n",
       "                    </tr>\n",
       "                    <tr>\n",
       "                        <td style=\"text-align: left;\">\n",
       "                            <strong>Nanny: </strong> tcp://127.0.0.1:43457\n",
       "                        </td>\n",
       "                        <td style=\"text-align: left;\"></td>\n",
       "                    </tr>\n",
       "                    <tr>\n",
       "                        <td colspan=\"2\" style=\"text-align: left;\">\n",
       "                            <strong>Local directory: </strong> /tmp/dask-scratch-space/worker-b9wi7mgw\n",
       "                        </td>\n",
       "                    </tr>\n",
       "\n",
       "                    \n",
       "\n",
       "                    \n",
       "\n",
       "                </table>\n",
       "            </details>\n",
       "            </div>\n",
       "        </div>\n",
       "        \n",
       "        <div style=\"margin-bottom: 20px;\">\n",
       "            <div style=\"width: 24px; height: 24px; background-color: #DBF5FF; border: 3px solid #4CC9FF; border-radius: 5px; position: absolute;\"> </div>\n",
       "            <div style=\"margin-left: 48px;\">\n",
       "            <details>\n",
       "                <summary>\n",
       "                    <h4 style=\"margin-bottom: 0px; display: inline;\">Worker: 3</h4>\n",
       "                </summary>\n",
       "                <table style=\"width: 100%; text-align: left;\">\n",
       "                    <tr>\n",
       "                        <td style=\"text-align: left;\">\n",
       "                            <strong>Comm: </strong> tcp://127.0.0.1:35781\n",
       "                        </td>\n",
       "                        <td style=\"text-align: left;\">\n",
       "                            <strong>Total threads: </strong> 2\n",
       "                        </td>\n",
       "                    </tr>\n",
       "                    <tr>\n",
       "                        <td style=\"text-align: left;\">\n",
       "                            <strong>Dashboard: </strong> <a href=\"http://127.0.0.1:40649/status\" target=\"_blank\">http://127.0.0.1:40649/status</a>\n",
       "                        </td>\n",
       "                        <td style=\"text-align: left;\">\n",
       "                            <strong>Memory: </strong> 15.70 GiB\n",
       "                        </td>\n",
       "                    </tr>\n",
       "                    <tr>\n",
       "                        <td style=\"text-align: left;\">\n",
       "                            <strong>Nanny: </strong> tcp://127.0.0.1:44729\n",
       "                        </td>\n",
       "                        <td style=\"text-align: left;\"></td>\n",
       "                    </tr>\n",
       "                    <tr>\n",
       "                        <td colspan=\"2\" style=\"text-align: left;\">\n",
       "                            <strong>Local directory: </strong> /tmp/dask-scratch-space/worker-uj2vars8\n",
       "                        </td>\n",
       "                    </tr>\n",
       "\n",
       "                    \n",
       "\n",
       "                    \n",
       "\n",
       "                </table>\n",
       "            </details>\n",
       "            </div>\n",
       "        </div>\n",
       "        \n",
       "\n",
       "    </details>\n",
       "</div>\n",
       "\n",
       "        </details>\n",
       "    </div>\n",
       "</div>\n",
       "            </details>\n",
       "        \n",
       "\n",
       "    </div>\n",
       "</div>"
      ],
      "text/plain": [
       "<Client: 'tcp://127.0.0.1:42215' processes=4 threads=8, memory=62.79 GiB>"
      ]
     },
     "execution_count": 55,
     "metadata": {},
     "output_type": "execute_result"
    }
   ],
   "source": [
    "client.restart()"
   ]
  },
  {
   "cell_type": "markdown",
   "id": "a9a42a63",
   "metadata": {},
   "source": [
    "## Koalas"
   ]
  },
  {
   "cell_type": "markdown",
   "id": "917ea81b-02ce-47d5-af90-ab34ebbe7a46",
   "metadata": {},
   "source": [
    "### Inicialização e Carregamento de Dados\n",
    "Inicializou-se o processo de carregamento dos dados utilizando a biblioteca Koalas. Os dados foram lidos a partir do arquivo Parquet com a função ks.read_parquet(). Mais uma vez, foram inicializados três dicionários para armazenar os resultados dos benchmarks, que registam o tempo de execução de todas as operações, das operações aplicadas aos dados filtrados e das operações aplicadas aos dados filtrados com cache."
   ]
  },
  {
   "cell_type": "code",
   "execution_count": 19,
   "id": "3b27f419",
   "metadata": {},
   "outputs": [],
   "source": [
    "koalas_data = ks.read_parquet('Ficheiros/taxi_csv/yellow_tripdata_2009-01.parquet')\n",
    "\n",
    "koalas_benchmarks = {\n",
    "    'duration': [],  # in seconds\n",
    "    'task': [],\n",
    "}\n",
    "\n",
    "koalas_benchmarks_filtered = {\n",
    "    'duration': [],  # in seconds\n",
    "    'task': [],\n",
    "}\n",
    "\n",
    "koalas_benchmarks_cache = {\n",
    "    'duration': [],  # in seconds\n",
    "    'task': [],\n",
    "}"
   ]
  },
  {
   "cell_type": "markdown",
   "id": "cf807151-620f-4996-be8c-d5ed518abf0c",
   "metadata": {},
   "source": [
    "### Listagem de Colunas\n",
    "As colunas do DataFrame Koalas foram renomeadas para minúsculas e imprimiu-se a lista das colunas renomeadas, para verificar a alteração realizada."
   ]
  },
  {
   "cell_type": "code",
   "execution_count": 20,
   "id": "d963f3f7",
   "metadata": {},
   "outputs": [
    {
     "name": "stdout",
     "output_type": "stream",
     "text": [
      "Index(['vendor_name', 'trip_pickup_datetime', 'trip_dropoff_datetime',\n",
      "       'passenger_count', 'trip_distance', 'start_lon', 'start_lat',\n",
      "       'rate_code', 'store_and_forward', 'end_lon', 'end_lat', 'payment_type',\n",
      "       'fare_amt', 'surcharge', 'mta_tax', 'tip_amt', 'tolls_amt',\n",
      "       'total_amt'],\n",
      "      dtype='object')\n"
     ]
    }
   ],
   "source": [
    "# Extract the current column names\n",
    "current_columns = koalas_data.columns\n",
    "\n",
    "# Create a dictionary mapping current column names to their lowercase versions\n",
    "rename_dict = {col: col.lower() for col in current_columns}\n",
    "\n",
    "# Rename the columns using the dictionary\n",
    "koalas_data = koalas_data.rename(columns=rename_dict)\n",
    "\n",
    "# Print the updated column names to verify\n",
    "columns_list = koalas_data.columns\n",
    "print(columns_list)"
   ]
  },
  {
   "cell_type": "markdown",
   "id": "082e7162-71d1-4c53-a6b3-7236a6f5961d",
   "metadata": {},
   "source": [
    "### Definição das Funções de Operações\n",
    "Definiu-se várias funções  para realizar várias operações nos dados Koalas, como contagem de registros, cálculo da média, desvio padrão, operações aritméticas complexas, contagem de valores únicos, estatísticas de agrupamento e junção de dados. Cada função executa uma operação específica nos dados Koalas e retorna o resultado correspondente."
   ]
  },
  {
   "cell_type": "code",
   "execution_count": 21,
   "id": "eb2f8955",
   "metadata": {},
   "outputs": [
    {
     "name": "stderr",
     "output_type": "stream",
     "text": [
      "Exception in thread \"serve-DataFrame\" java.net.SocketTimeoutException: Accept timed out\n",
      "\tat java.net.PlainSocketImpl.socketAccept(Native Method)\n",
      "\tat java.net.AbstractPlainSocketImpl.accept(AbstractPlainSocketImpl.java:409)\n",
      "\tat java.net.ServerSocket.implAccept(ServerSocket.java:571)\n",
      "\tat java.net.ServerSocket.accept(ServerSocket.java:534)\n",
      "\tat org.apache.spark.security.SocketAuthServer$$anon$1.run(SocketAuthServer.scala:65)\n",
      "                                                                                \r"
     ]
    }
   ],
   "source": [
    "import pyspark.sql.functions as F\n",
    "def read_file_parquet(df=None):\n",
    "    return ks.read_parquet('Ficheiros/taxi_csv/yellow_tripdata_2009-01.parquet')\n",
    "  \n",
    "def count(df=None):\n",
    "    return len(df)\n",
    " \n",
    "def count_index_length(df=None):\n",
    "    return len(df.index)\n",
    " \n",
    "def mean(df):\n",
    "    return df.fare_amt.mean()\n",
    " \n",
    "def standard_deviation(df):\n",
    "    return df.fare_amt.std()\n",
    " \n",
    "def mean_of_sum(df):\n",
    "    return (df.fare_amt + df.tip_amt).mean()\n",
    " \n",
    "def sum_columns(df):\n",
    "    x = df.fare_amt + df.tip_amt\n",
    "    x.to_pandas()\n",
    "    return x\n",
    " \n",
    "def mean_of_product(df):\n",
    "    return (df.fare_amt * df.tip_amt).mean()\n",
    " \n",
    "def product_columns(df):\n",
    "    x = df.fare_amt * df.tip_amt\n",
    "    x.to_pandas()\n",
    "    return x\n",
    " \n",
    "def value_counts(df):\n",
    "    val_counts = df.fare_amt.value_counts()\n",
    "    val_counts.to_pandas()\n",
    "    return val_counts\n",
    "  \n",
    "def complicated_arithmetic_operation(df):\n",
    "    theta_1 = df.start_lon\n",
    "    phi_1 = df.start_lat\n",
    "    theta_2 = df.end_lon\n",
    "    phi_2 = df.end_lat\n",
    "    temp = (np.sin((theta_2 - theta_1) / 2 * np.pi / 180) ** 2\n",
    "           + np.cos(theta_1 * np.pi / 180) * np.cos(theta_2 * np.pi / 180) * np.sin((phi_2 - phi_1) / 2 * np.pi / 180) ** 2)\n",
    "    ret = np.multiply(np.arctan2(np.sqrt(temp), np.sqrt(1-temp)),2)\n",
    "    ret.to_pandas()\n",
    "    return ret\n",
    "  \n",
    "def mean_of_complicated_arithmetic_operation(df):\n",
    "    theta_1 = df.start_lon\n",
    "    phi_1 = df.start_lat\n",
    "    theta_2 = df.end_lon\n",
    "    phi_2 = df.end_lat\n",
    "    temp = (np.sin((theta_2 - theta_1) / 2 * np.pi / 180) ** 2\n",
    "           + np.cos(theta_1 * np.pi / 180) * np.cos(theta_2 * np.pi / 180) * np.sin((phi_2 - phi_1) / 2 * np.pi / 180) ** 2)\n",
    "    ret = np.multiply(np.arctan2(np.sqrt(temp), np.sqrt(1-temp)),2) \n",
    "    return ret.mean()\n",
    "  \n",
    "def groupby_statistics(df):\n",
    "    gb = df.groupby(by='passenger_count').agg(\n",
    "      {\n",
    "        'fare_amt': ['mean', 'std'], \n",
    "        'tip_amt': ['mean', 'std']\n",
    "      }\n",
    "    )\n",
    "    gb.to_pandas()\n",
    "    return gb\n",
    "  \n",
    "other = ks.DataFrame(groupby_statistics(koalas_data).to_pandas())\n",
    "other.columns = pd.Index([e[0]+'_' + e[1] for e in other.columns.tolist()])\n",
    " \n",
    "def join_count(df, other):\n",
    "    return len(df.merge(other.spark.hint(\"broadcast\"), left_index=True, right_index=True))\n",
    " \n",
    "def join_data(df, other):\n",
    "    ret = df.merge(other.spark.hint(\"broadcast\"), left_index=True, right_index=True)\n",
    "    ret.to_pandas()\n",
    "    return ret"
   ]
  },
  {
   "cell_type": "markdown",
   "id": "30fc2daf-5565-478f-99e9-2cedcf0d654d",
   "metadata": {},
   "source": [
    "### Execução dos Benchmarks\n",
    "Foram realizados benchmarks em várias operações nos dados Koalas para avaliar seu desempenho. Primeiro, o tempo de leitura do arquivo Parquet foi medido para entender o tempo necessário para carregar os dados. Em seguida, foram realizadas operações como contagem de registros, cálculo da média, desvio padrão, contagem de valores únicos e estatísticas de agrupamento por número de passageiros. No entanto, algumas operações mais complexas, como adição e multiplicação de colunas e operações aritméticas complexas, foram excluídas dos benchmarks devido a problemas de memória encontrados durante a execução."
   ]
  },
  {
   "cell_type": "code",
   "execution_count": 22,
   "id": "03660dc2",
   "metadata": {},
   "outputs": [
    {
     "name": "stdout",
     "output_type": "stream",
     "text": [
      "read file took: 0.17211437225341797 seconds\n",
      "count took: 0.18816542625427246 seconds\n",
      "count index length took: 0.0922548770904541 seconds\n",
      "mean took: 0.3268430233001709 seconds\n",
      "standard deviation took: 0.41188526153564453 seconds\n",
      "mean of columns addition took: 0.5048246383666992 seconds\n",
      "mean of columns multiplication took: 0.529477596282959 seconds\n"
     ]
    },
    {
     "name": "stderr",
     "output_type": "stream",
     "text": [
      "                                                                                \r"
     ]
    },
    {
     "name": "stdout",
     "output_type": "stream",
     "text": [
      "value counts took: 1.4124960899353027 seconds\n"
     ]
    },
    {
     "name": "stderr",
     "output_type": "stream",
     "text": [
      "                                                                                \r"
     ]
    },
    {
     "name": "stdout",
     "output_type": "stream",
     "text": [
      "mean of complex arithmetic ops took: 6.101566791534424 seconds\n"
     ]
    },
    {
     "name": "stderr",
     "output_type": "stream",
     "text": [
      "[Stage 38:==================================================>       (7 + 1) / 8]\r"
     ]
    },
    {
     "name": "stdout",
     "output_type": "stream",
     "text": [
      "groupby statistics took: 1.3523240089416504 seconds\n"
     ]
    },
    {
     "name": "stderr",
     "output_type": "stream",
     "text": [
      "                                                                                \r"
     ]
    },
    {
     "data": {
      "text/plain": [
       "1.3523240089416504"
      ]
     },
     "execution_count": 22,
     "metadata": {},
     "output_type": "execute_result"
    }
   ],
   "source": [
    "benchmark(read_file_parquet, df=None, benchmarks=koalas_benchmarks, name='read file')\n",
    "benchmark(count, df=koalas_data, benchmarks=koalas_benchmarks, name='count')\n",
    "benchmark(count_index_length, df=koalas_data, benchmarks=koalas_benchmarks, name='count index length')\n",
    "benchmark(mean, df=koalas_data, benchmarks=koalas_benchmarks, name='mean')\n",
    "benchmark(standard_deviation, df=koalas_data, benchmarks=koalas_benchmarks, name='standard deviation')\n",
    "benchmark(mean_of_sum, df=koalas_data, benchmarks=koalas_benchmarks, name='mean of columns addition')\n",
    "#benchmark(sum_columns, df=koalas_data, benchmarks=koalas_benchmarks, name='addition of columns')\n",
    "benchmark(mean_of_product, df=koalas_data, benchmarks=koalas_benchmarks, name='mean of columns multiplication')\n",
    "#benchmark(product_columns, df=koalas_data, benchmarks=koalas_benchmarks, name='multiplication of columns')\n",
    "benchmark(value_counts, df=koalas_data, benchmarks=koalas_benchmarks, name='value counts')\n",
    "#benchmark(complicated_arithmetic_operation, df=koalas_data, benchmarks=koalas_benchmarks, name='complex arithmetic ops')\n",
    "benchmark(mean_of_complicated_arithmetic_operation, df=koalas_data, benchmarks=koalas_benchmarks, name='mean of complex arithmetic ops')\n",
    "benchmark(groupby_statistics, df=koalas_data, benchmarks=koalas_benchmarks, name='groupby statistics')\n",
    "#benchmark(join_count, koalas_data, benchmarks=koalas_benchmarks, name='join count', other=other)\n",
    "#benchmark(join_data, koalas_data, benchmarks=koalas_benchmarks, name='join', other=other)"
   ]
  },
  {
   "cell_type": "markdown",
   "id": "098a9af4-7377-414a-9d82-8b301b040ea6",
   "metadata": {},
   "source": [
    "### Salvar Resultados"
   ]
  },
  {
   "cell_type": "code",
   "execution_count": 23,
   "id": "8ab18379-372d-453c-9528-3cedcd17e6cc",
   "metadata": {},
   "outputs": [
    {
     "name": "stdout",
     "output_type": "stream",
     "text": [
      "                                duration\n",
      "task                                    \n",
      "read file                       0.172114\n",
      "count                           0.188165\n",
      "count index length              0.092255\n",
      "mean                            0.326843\n",
      "standard deviation              0.411885\n",
      "mean of columns addition        0.504825\n",
      "mean of columns multiplication  0.529478\n",
      "value counts                    1.412496\n",
      "mean of complex arithmetic ops  6.101567\n",
      "groupby statistics              1.352324\n",
      "O arquivo Parquet foi salvo em Resultados/koalas_standard1.\n"
     ]
    }
   ],
   "source": [
    "# Obter os resultados e remover duplicatas\n",
    "koalas_res_temp = get_results(koalas_benchmarks).drop_duplicates(subset='task').set_index('task')\n",
    "\n",
    "# Print dos dataframes\n",
    "print(koalas_res_temp)\n",
    "\n",
    "# Definir o nome do arquivo ou diretório\n",
    "filename = 'Resultados/koalas_standard1'\n",
    "\n",
    "# Salvar o DataFrame em formato Parquet\n",
    "koalas_res_temp.to_parquet(filename)\n",
    "\n",
    "print(f'O arquivo Parquet foi salvo em {filename}.')"
   ]
  },
  {
   "cell_type": "markdown",
   "id": "fbd0b4de",
   "metadata": {},
   "source": [
    "### Operações com filtro"
   ]
  },
  {
   "cell_type": "markdown",
   "id": "793a513c-f0fc-4c22-889d-ba0ef6240e0e",
   "metadata": {},
   "source": [
    "Para analisar um subconjunto específico dos dados originais, foi criada uma expressão booleana para filtrar os dados Koalas. A expressão seleciona os registros em que o valor da coluna tip_amt está entre 1 e 5. A função filter_data foi aplicada aos dados Koalas, que recebe um DataFrame como entrada e retorna apenas os registros que satisfazem a expressão de filtro."
   ]
  },
  {
   "cell_type": "code",
   "execution_count": 24,
   "id": "9de70f25",
   "metadata": {},
   "outputs": [],
   "source": [
    "expr_filter = (koalas_data.tip_amt >= 1) & (koalas_data.tip_amt <= 5)\n",
    " \n",
    "def filter_data(df):\n",
    "    return df[expr_filter]\n",
    " \n",
    "koalas_filtered = filter_data(koalas_data)"
   ]
  },
  {
   "cell_type": "markdown",
   "id": "783b921a-881c-471c-a964-404c0b63b8db",
   "metadata": {},
   "source": [
    "Realizou-se benchmarks em várias operações nos dados filtrados do Koalas para avaliar o seu desempenho, sendo que as operações que causaram problemas de memória foram excluídas dos benchmarks."
   ]
  },
  {
   "cell_type": "code",
   "execution_count": 25,
   "id": "717ee82b",
   "metadata": {},
   "outputs": [
    {
     "name": "stdout",
     "output_type": "stream",
     "text": [
      "read file took: 0.13342642784118652 seconds\n",
      "count took: 0.40892791748046875 seconds\n",
      "count index length took: 0.3011205196380615 seconds\n",
      "mean took: 0.5436999797821045 seconds\n",
      "standard deviation took: 0.5450427532196045 seconds\n",
      "mean of columns addition took: 0.6598494052886963 seconds\n",
      "mean of columns multiplication took: 0.5534951686859131 seconds\n"
     ]
    },
    {
     "name": "stderr",
     "output_type": "stream",
     "text": [
      "                                                                                \r"
     ]
    },
    {
     "name": "stdout",
     "output_type": "stream",
     "text": [
      "mean of complex arithmetic ops took: 3.8643715381622314 seconds\n"
     ]
    },
    {
     "name": "stderr",
     "output_type": "stream",
     "text": [
      "                                                                                \r"
     ]
    },
    {
     "name": "stdout",
     "output_type": "stream",
     "text": [
      "value counts took: 0.849900484085083 seconds\n",
      "groupby statistics took: 0.8551814556121826 seconds\n"
     ]
    }
   ],
   "source": [
    "benchmark(read_file_parquet, df=None, benchmarks=koalas_benchmarks_filtered, name='read file')\n",
    "benchmark(count, koalas_filtered, benchmarks=koalas_benchmarks_filtered, name='count')\n",
    "benchmark(count_index_length, koalas_filtered, benchmarks=koalas_benchmarks_filtered, name='count index length')\n",
    "benchmark(mean, koalas_filtered, benchmarks=koalas_benchmarks_filtered, name='mean')\n",
    "benchmark(standard_deviation, koalas_filtered, benchmarks=koalas_benchmarks_filtered, name='standard deviation')\n",
    "benchmark(mean_of_sum, koalas_filtered, benchmarks=koalas_benchmarks_filtered, name ='mean of columns addition')\n",
    "#benchmark(sum_columns, df=koalas_filtered, benchmarks=koalas_benchmarks_filtered, name='addition of columns')\n",
    "benchmark(mean_of_product, koalas_filtered, benchmarks=koalas_benchmarks_filtered, name ='mean of columns multiplication')\n",
    "#benchmark(product_columns, df=koalas_filtered, benchmarks=koalas_benchmarks_filtered, name='multiplication of columns')\n",
    "benchmark(mean_of_complicated_arithmetic_operation, koalas_filtered, benchmarks=koalas_benchmarks_filtered, name='mean of complex arithmetic ops')\n",
    "#benchmark(complicated_arithmetic_operation, koalas_filtered, benchmarks=koalas_benchmarks_filtered, name='complex arithmetic ops')\n",
    "benchmark(value_counts, koalas_filtered, benchmarks=koalas_benchmarks_filtered, name ='value counts')\n",
    "benchmark(groupby_statistics, koalas_filtered, benchmarks=koalas_benchmarks_filtered, name='groupby statistics')\n",
    " \n",
    "other = ks.DataFrame(groupby_statistics(koalas_filtered).to_pandas())\n",
    "other.columns = pd.Index([e[0]+'_' + e[1] for e in other.columns.tolist()])\n",
    "#benchmark(join_data, koalas_filtered, benchmarks=koalas_benchmarks_filtered, name='join', other=other)\n",
    "#benchmark(join_count, koalas_filtered, benchmarks=koalas_benchmarks_filtered, name='join count', other=other)"
   ]
  },
  {
   "cell_type": "code",
   "execution_count": 26,
   "id": "1161c9b4-c4e5-4d6b-8bde-f14cca111ce3",
   "metadata": {},
   "outputs": [
    {
     "name": "stdout",
     "output_type": "stream",
     "text": [
      "                                duration\n",
      "task                                    \n",
      "read file                       0.133426\n",
      "count                           0.408928\n",
      "count index length              0.301121\n",
      "mean                            0.543700\n",
      "standard deviation              0.545043\n",
      "mean of columns addition        0.659849\n",
      "mean of columns multiplication  0.553495\n",
      "mean of complex arithmetic ops  3.864372\n",
      "value counts                    0.849900\n",
      "groupby statistics              0.855181\n",
      "O arquivo Parquet foi salvo em Resultados/koalas_filtered1.\n"
     ]
    }
   ],
   "source": [
    "# Obter os resultados e remover duplicatas\n",
    "koalas_res_filtered = get_results(koalas_benchmarks_filtered).drop_duplicates(subset='task').set_index('task')\n",
    "\n",
    "# Print dos dataframes\n",
    "print(koalas_res_filtered)\n",
    "\n",
    "# Definir o nome do arquivo ou diretório\n",
    "filename_filter = 'Resultados/koalas_filtered1'\n",
    "\n",
    "# Salvar o DataFrame em formato Parquet\n",
    "koalas_res_filtered.to_parquet(filename_filter)\n",
    "\n",
    "print(f'O arquivo Parquet foi salvo em {filename_filter}.')"
   ]
  },
  {
   "cell_type": "markdown",
   "id": "e0c8f0d2",
   "metadata": {},
   "source": [
    "### Operações com filtro e caching"
   ]
  },
  {
   "cell_type": "markdown",
   "id": "9adf7dd8-37f7-48fa-b8a6-c3662075abd1",
   "metadata": {},
   "source": [
    "Foi adicionado caching aos dados filtrados do Koalas para melhorar o desempenho das operações subsequentes. Os dados filtrados foram armazenados em cache usando o método spark.cache(). Isso significa que os resultados das operações realizadas nos dados filtrados serão temporariamente armazenados em memória, o que pode acelarar o acesso aos dados e reduzir o tempo de execução de operações futuras."
   ]
  },
  {
   "cell_type": "code",
   "execution_count": 28,
   "id": "834b04b9",
   "metadata": {},
   "outputs": [
    {
     "name": "stderr",
     "output_type": "stream",
     "text": [
      "24/06/05 22:27:05 WARN MemoryStore: Not enough space to cache rdd_186_0 in memory! (computed 242.7 MiB so far)\n",
      "24/06/05 22:27:05 WARN BlockManager: Persisting block rdd_186_0 to disk instead.\n",
      "24/06/05 22:27:13 WARN MemoryStore: Not enough space to cache rdd_196_0 in memory! (computed 23.3 MiB so far)\n",
      "24/06/05 22:27:13 WARN BlockManager: Persisting block rdd_196_0 to disk instead.\n"
     ]
    },
    {
     "name": "stdout",
     "output_type": "stream",
     "text": [
      "Enforce caching: 2573342 rows of filtered data\n"
     ]
    },
    {
     "name": "stderr",
     "output_type": "stream",
     "text": [
      "                                                                                \r"
     ]
    }
   ],
   "source": [
    "# Add caching\n",
    "koalas_filtered = koalas_filtered.spark.cache()\n",
    "print(f'Enforce caching: {len(koalas_filtered)} rows of filtered data')"
   ]
  },
  {
   "cell_type": "code",
   "execution_count": 29,
   "id": "92c54ee9",
   "metadata": {},
   "outputs": [
    {
     "name": "stdout",
     "output_type": "stream",
     "text": [
      "read file took: 0.1349334716796875 seconds\n",
      "count took: 0.06309962272644043 seconds\n",
      "count index length took: 0.04935574531555176 seconds\n",
      "mean took: 0.1161506175994873 seconds\n",
      "standard deviation took: 0.10100364685058594 seconds\n",
      "mean of columns addition took: 0.1806504726409912 seconds\n",
      "mean of columns multiplication took: 0.12845778465270996 seconds\n",
      "value counts took: 0.3059096336364746 seconds\n"
     ]
    },
    {
     "name": "stderr",
     "output_type": "stream",
     "text": [
      "                                                                                \r"
     ]
    },
    {
     "name": "stdout",
     "output_type": "stream",
     "text": [
      "mean of complex arithmetic ops took: 1.7836480140686035 seconds\n",
      "groupby statistics took: 0.4087488651275635 seconds\n"
     ]
    },
    {
     "data": {
      "text/plain": [
       "0.4087488651275635"
      ]
     },
     "execution_count": 29,
     "metadata": {},
     "output_type": "execute_result"
    }
   ],
   "source": [
    "benchmark(read_file_parquet, df=None, benchmarks=koalas_benchmarks_cache, name='read file')\n",
    "benchmark(count, df=koalas_filtered, benchmarks=koalas_benchmarks_cache, name='count')\n",
    "benchmark(count_index_length, df=koalas_filtered, benchmarks=koalas_benchmarks_cache, name='count index length')\n",
    "benchmark(mean, df=koalas_filtered, benchmarks=koalas_benchmarks_cache, name='mean')\n",
    "benchmark(standard_deviation, df=koalas_filtered, benchmarks=koalas_benchmarks_cache, name='standard deviation')\n",
    "benchmark(mean_of_sum, df=koalas_filtered, benchmarks=koalas_benchmarks_cache, name='mean of columns addition')\n",
    "#benchmark(sum_columns, df=koalas_filtered, benchmarks=koalas_benchmarks_cache, name='addition of columns')\n",
    "benchmark(mean_of_product, df=koalas_filtered, benchmarks=koalas_benchmarks_cache, name='mean of columns multiplication')\n",
    "#benchmark(product_columns, df=koalas_filtered, benchmarks=koalas_benchmarks_cache, name='multiplication of columns')\n",
    "benchmark(value_counts, df=koalas_filtered, benchmarks=koalas_benchmarks_cache, name='value counts')\n",
    "#benchmark(complicated_arithmetic_operation, df=koalas_filtered, benchmarks=koalas_benchmarks_cache, name='complex arithmetic ops')\n",
    "benchmark(mean_of_complicated_arithmetic_operation, df=koalas_filtered, benchmarks=koalas_benchmarks_cache, name='mean of complex arithmetic ops')\n",
    "benchmark(groupby_statistics, df=koalas_filtered, benchmarks=koalas_benchmarks_cache, name='groupby statistics')\n",
    "#benchmark(join_count, koalas_filtered, benchmarks=koalas_benchmarks_cache, name='join count', other=other)\n",
    "#benchmark(join_data, koalas_filtered, benchmarks=koalas_benchmarks_cache, name='join', other=other)"
   ]
  },
  {
   "cell_type": "markdown",
   "id": "42264d63-5abb-4caa-af14-dca24c230765",
   "metadata": {},
   "source": [
    "### Salvar Resultados"
   ]
  },
  {
   "cell_type": "code",
   "execution_count": 30,
   "id": "54037822-144f-4cb8-ab0a-73293ba39c69",
   "metadata": {},
   "outputs": [
    {
     "name": "stdout",
     "output_type": "stream",
     "text": [
      "                                duration\n",
      "task                                    \n",
      "read file                       0.134933\n",
      "count                           0.063100\n",
      "count index length              0.049356\n",
      "mean                            0.116151\n",
      "standard deviation              0.101004\n",
      "mean of columns addition        0.180650\n",
      "mean of columns multiplication  0.128458\n",
      "value counts                    0.305910\n",
      "mean of complex arithmetic ops  1.783648\n",
      "groupby statistics              0.408749\n",
      "O arquivo Parquet foi salvo em Resultados/koalas_cache1.\n"
     ]
    }
   ],
   "source": [
    "# Obter os resultados e remover duplicatas\n",
    "koalas_res_cache = get_results(koalas_benchmarks_cache).drop_duplicates(subset='task').set_index('task')\n",
    "\n",
    "# Print dos dataframes\n",
    "print(koalas_res_cache)\n",
    "\n",
    "# Definir o nome do arquivo ou diretório\n",
    "filename_cache = 'Resultados/koalas_cache1'\n",
    "\n",
    "# Salvar o DataFrame em formato Parquet\n",
    "koalas_res_cache.to_parquet(filename_cache)\n",
    "\n",
    "print(f'O arquivo Parquet foi salvo em {filename_cache}.')"
   ]
  },
  {
   "cell_type": "markdown",
   "id": "92304bb5",
   "metadata": {},
   "source": [
    "## Resultados"
   ]
  },
  {
   "cell_type": "code",
   "execution_count": 45,
   "id": "e0e11129",
   "metadata": {},
   "outputs": [],
   "source": [
    "import os\n",
    "import shutil\n",
    "from datetime import datetime\n",
    "\n",
    "def get_results(benchmarks):\n",
    "    return pd.DataFrame(benchmarks)"
   ]
  },
  {
   "cell_type": "markdown",
   "id": "6ca56f0a",
   "metadata": {},
   "source": [
    "### Dados completos"
   ]
  },
  {
   "cell_type": "markdown",
   "id": "3dac1784-f65d-432d-a16a-f5089dee90cb",
   "metadata": {},
   "source": [
    "Para comparar o desempenho do Koalas com o Dask em todas as operações realizadas nos dados, inicialmente, obteve-se os resultados dos benchmarks para cada operação em ambas as bibliotecas. Em seguida, foram removidas as duplicas e concatenados os resultados num DataFrame."
   ]
  },
  {
   "cell_type": "code",
   "execution_count": 56,
   "id": "97bb7aff",
   "metadata": {},
   "outputs": [
    {
     "name": "stdout",
     "output_type": "stream",
     "text": [
      "                                  koalas       dask\n",
      "task                                               \n",
      "read file                       0.172114   0.007313\n",
      "count                           0.188165  14.161976\n",
      "count index length              0.092255  14.075137\n",
      "mean                            0.326843  14.178173\n",
      "standard deviation              0.411885  14.063892\n",
      "mean of columns addition        0.504825  13.929075\n",
      "mean of columns multiplication  0.529478  14.220426\n",
      "value counts                    1.412496  14.519860\n",
      "mean of complex arithmetic ops  6.101567  15.269703\n",
      "groupby statistics              1.352324  14.612586\n",
      "addition of columns                  NaN  14.147884\n",
      "multiplication of columns            NaN  14.446114\n",
      "complex arithmetic ops               NaN  15.398112\n",
      "join count                           NaN  14.458382\n",
      "join                                 NaN  14.363636\n"
     ]
    }
   ],
   "source": [
    "# Obter os resultados e remover duplicatas\n",
    "koalas_res_temp = get_results(koalas_benchmarks).drop_duplicates(subset='task').set_index('task')\n",
    "dask_res_temp = get_results(dask_benchmarks).drop_duplicates(subset='task').set_index('task')\n",
    "\n",
    "# Concatenar os resultados\n",
    "df = pd.concat([koalas_res_temp['duration'], dask_res_temp['duration']], axis=1, keys=['koalas', 'dask'])\n",
    "\n",
    "# Exibir o DataFrame resultante\n",
    "print(df)"
   ]
  },
  {
   "cell_type": "markdown",
   "id": "e7457cbd-0f73-43ec-b3dd-61f71b4ebee2",
   "metadata": {},
   "source": [
    "É importante ressaltar que algumas operações não puderam ser realizadas no Koalas devido a problemas relacionados à memória, o que explica os valores NaN. Por exemplo, a adição de colunas, a multiplicação de colunas, operações aritméticas complexas e junções não foram possíveis no Koalas, apesar de terem sido executadas com sucesso no Dask.\n",
    "\n",
    "Em seguida, o DataFrame com os resultados em formato Parquet foram guardados no local especificado pelo nome do arquivo."
   ]
  },
  {
   "cell_type": "code",
   "execution_count": 57,
   "id": "5d6eb8ee",
   "metadata": {},
   "outputs": [
    {
     "name": "stdout",
     "output_type": "stream",
     "text": [
      "O arquivo Parquet foi salvo em Resultados/results_standard.\n"
     ]
    }
   ],
   "source": [
    "# Definir o nome do arquivo ou diretório\n",
    " \n",
    "filename = 'Resultados/results_standard'\n",
    "\n",
    "# Salvar o DataFrame em formato Parquet\n",
    "df.to_parquet(filename)\n",
    "\n",
    "print(f'O arquivo Parquet foi salvo em {filename}.')\n"
   ]
  },
  {
   "cell_type": "markdown",
   "id": "fd797c75",
   "metadata": {},
   "source": [
    "### Dados filtrados\n",
    "\n",
    "Compara-se resultados das operações em dados filtrados realizadas com o Koalas e o Dask, da mesma forma realizada anteriormente."
   ]
  },
  {
   "cell_type": "code",
   "execution_count": 58,
   "id": "f551c5e7",
   "metadata": {},
   "outputs": [
    {
     "name": "stdout",
     "output_type": "stream",
     "text": [
      "                                  koalas       dask\n",
      "task                                               \n",
      "read file                       0.133426   0.006736\n",
      "count                           0.408928  14.474323\n",
      "count index length              0.301121  14.530146\n",
      "mean                            0.543700  14.427309\n",
      "standard deviation              0.545043  14.577304\n",
      "mean of columns addition        0.659849  14.658457\n",
      "mean of columns multiplication  0.553495  14.247474\n",
      "mean of complex arithmetic ops  3.864372  14.546414\n",
      "value counts                    0.849900  14.423734\n",
      "groupby statistics              0.855181  14.642592\n",
      "addition of columns                  NaN  14.541412\n",
      "multiplication of columns            NaN  14.401383\n",
      "complex arithmetic ops               NaN  14.878332\n",
      "join count                           NaN  14.665975\n",
      "join                                 NaN  14.647319\n"
     ]
    }
   ],
   "source": [
    "# Obter os resultados e remover duplicatas\n",
    "koalas_res_temp = get_results(koalas_benchmarks_filtered).drop_duplicates(subset='task').set_index('task')\n",
    "dask_res_temp = get_results(dask_benchmarks_filtered).drop_duplicates(subset='task').set_index('task')\n",
    "\n",
    "# Concatenar os resultados\n",
    "df = pd.concat([koalas_res_temp['duration'], dask_res_temp['duration']], axis=1, keys=['koalas', 'dask'])\n",
    "\n",
    "# Exibir o DataFrame resultante\n",
    "print(df)"
   ]
  },
  {
   "cell_type": "markdown",
   "id": "d5bf8b0b-cf27-45d9-a3ec-c870ee59be97",
   "metadata": {},
   "source": [
    "Guarda-se o DataFrame com os resultados no local especificado."
   ]
  },
  {
   "cell_type": "code",
   "execution_count": 59,
   "id": "c929072c",
   "metadata": {},
   "outputs": [
    {
     "name": "stdout",
     "output_type": "stream",
     "text": [
      "O arquivo Parquet foi salvo em Resultados/results_filtered.\n"
     ]
    }
   ],
   "source": [
    "# Definir o nome do arquivo ou diretório\n",
    " \n",
    "filename = 'Resultados/results_filtered'\n",
    "\n",
    "# Salvar o DataFrame em formato Parquet\n",
    "df.to_parquet(filename)\n",
    "\n",
    "print(f'O arquivo Parquet foi salvo em {filename}.')"
   ]
  },
  {
   "cell_type": "markdown",
   "id": "1869e3c9",
   "metadata": {},
   "source": [
    "### Dados filtrados com caching"
   ]
  },
  {
   "cell_type": "markdown",
   "id": "dac09b41-2659-4f8a-a772-4f06d9b66c63",
   "metadata": {},
   "source": [
    "Obtém-se os resultados das operações Dask e Koalas em dados filtrados com caching"
   ]
  },
  {
   "cell_type": "code",
   "execution_count": 60,
   "id": "40416b3f",
   "metadata": {},
   "outputs": [
    {
     "name": "stdout",
     "output_type": "stream",
     "text": [
      "                                  koalas      dask\n",
      "task                                              \n",
      "read file                       0.134933  0.006319\n",
      "count                           0.063100  0.013732\n",
      "count index length              0.049356  0.019761\n",
      "mean                            0.116151  0.040509\n",
      "standard deviation              0.101004  0.048017\n",
      "mean of columns addition        0.180650  0.036645\n",
      "mean of columns multiplication  0.128458  0.042680\n",
      "value counts                    0.305910  0.041203\n",
      "mean of complex arithmetic ops  1.783648  0.287676\n",
      "groupby statistics              0.408749  0.151895\n",
      "addition of columns                  NaN  0.112890\n",
      "multiplication of columns            NaN  0.122111\n",
      "complex arithmetic ops               NaN  0.381640\n",
      "join count                           NaN  0.225255\n",
      "join                                 NaN  0.051577\n"
     ]
    }
   ],
   "source": [
    "# Obter os resultados e remover duplicatas\n",
    "koalas_res_temp = get_results(koalas_benchmarks_cache).drop_duplicates(subset='task').set_index('task')\n",
    "dask_res_temp = get_results(dask_benchmarks_cache).drop_duplicates(subset='task').set_index('task')\n",
    "\n",
    "# Concatenar os resultados\n",
    "df = pd.concat([koalas_res_temp['duration'], dask_res_temp['duration']], axis=1, keys=['koalas', 'dask'])\n",
    "\n",
    "# Exibir o DataFrame resultante\n",
    "print(df)"
   ]
  },
  {
   "cell_type": "markdown",
   "id": "ac152fe8-150a-4acf-8059-7fd18e251bdf",
   "metadata": {},
   "source": [
    "Guarda-se o DataFrame resultante em formato Parquet."
   ]
  },
  {
   "cell_type": "code",
   "execution_count": 61,
   "id": "439f87dd",
   "metadata": {},
   "outputs": [
    {
     "name": "stdout",
     "output_type": "stream",
     "text": [
      "O arquivo Parquet foi salvo em Resultados/results_cache.\n"
     ]
    }
   ],
   "source": [
    "# Definir o nome do arquivo ou diretório\n",
    " \n",
    "filename = 'Resultados/results_cache'\n",
    "\n",
    "# Salvar o DataFrame em formato Parquet\n",
    "df.to_parquet(filename)\n",
    "\n",
    "print(f'O arquivo Parquet foi salvo em {filename}.')"
   ]
  },
  {
   "cell_type": "markdown",
   "id": "5accc71f",
   "metadata": {},
   "source": [
    "## Resumo"
   ]
  },
  {
   "cell_type": "markdown",
   "id": "7b1acc55-2f98-4962-85a7-a48ae7f30248",
   "metadata": {},
   "source": [
    "Como forma de resumo dos resultados dos benchmarks, estes são analisados para calcular as médias das durações das operações em diferentes execuções. Primeiro, os dados (resultados) são carregados a partir dos arquivos Parquet e, em seguida, as médias justas das durações das operações são calculadas para cada biblioteca (Koalas e Dask).\n",
    "\n",
    "Os resultados são divididos em três grupos: resumo das operações padrão, resumo das operações com filtragem e resumo das operações com filtragem e cache. Cada resumo exibe as médias dos tempos de execução para cada operação em ambas as bibliotecas.\n",
    "\n",
    "No resumo das operações padrão, são mostrados os tempos médios de execução das operações sem filtragem. No das operações com filtragem, são apresentadas as médias dos tempos de execução das operações aplicadas a dados filtrados. E, finalmente, no resumo das operações com filtragem e cache, são exibidas as médias dos tempos de execução das operações aplicadas a dados filtrados e em cache."
   ]
  },
  {
   "cell_type": "code",
   "execution_count": 62,
   "id": "592a5748",
   "metadata": {},
   "outputs": [
    {
     "name": "stdout",
     "output_type": "stream",
     "text": [
      "results_standard has 1 runs\n",
      "results_filtered has 1 runs\n",
      "results_cache has 1 runs\n",
      "Standard Operations Summary:\n",
      "                               Koalas (PySpark)       Dask\n",
      "read file                              0.172114   0.007313\n",
      "count                                  0.188165  14.161976\n",
      "count index                            0.092255  14.075137\n",
      "mean                                   0.326843  14.178173\n",
      "standard deviation                     0.411885  14.063892\n",
      "mean of series addition                0.504825  13.929075\n",
      "mean of series multiplication          0.529478  14.220426\n",
      "value counts                           1.412496  14.519860\n",
      "mean of complex arithmetic             6.101567  15.269703\n",
      "groupby statistics                     1.352324  14.612586\n",
      "series addition                             NaN  14.147884\n",
      "series multiplication                       NaN  14.446114\n",
      "complex arithmetic                          NaN  15.398112\n",
      "join count                                  NaN  14.458382\n",
      "join                                        NaN  14.363636\n",
      "\n",
      "Operations with Filtering Summary:\n",
      "                               Koalas (PySpark)       Dask\n",
      "read file                              0.133426   0.006736\n",
      "count                                  0.408928  14.474323\n",
      "count index                            0.301121  14.530146\n",
      "mean                                   0.543700  14.427309\n",
      "standard deviation                     0.545043  14.577304\n",
      "mean of series addition                0.659849  14.658457\n",
      "mean of series multiplication          0.553495  14.247474\n",
      "mean of complex arithmetic             3.864372  14.546414\n",
      "value counts                           0.849900  14.423734\n",
      "groupby statistics                     0.855181  14.642592\n",
      "series addition                             NaN  14.541412\n",
      "series multiplication                       NaN  14.401383\n",
      "complex arithmetic                          NaN  14.878332\n",
      "join count                                  NaN  14.665975\n",
      "join                                        NaN  14.647319\n",
      "\n",
      "Operations with Filtering and Caching Summary:\n",
      "                               Koalas (PySpark)      Dask\n",
      "read file                              0.134933  0.006319\n",
      "count                                  0.063100  0.013732\n",
      "count index                            0.049356  0.019761\n",
      "mean                                   0.116151  0.040509\n",
      "standard deviation                     0.101004  0.048017\n",
      "mean of series addition                0.180650  0.036645\n",
      "mean of series multiplication          0.128458  0.042680\n",
      "value counts                           0.305910  0.041203\n",
      "mean of complex arithmetic             1.783648  0.287676\n",
      "groupby statistics                     0.408749  0.151895\n",
      "series addition                             NaN  0.112890\n",
      "series multiplication                       NaN  0.122111\n",
      "complex arithmetic                          NaN  0.381640\n",
      "join count                                  NaN  0.225255\n",
      "join                                        NaN  0.051577\n"
     ]
    }
   ],
   "source": [
    "import os\n",
    "import pandas as pd\n",
    "from scipy import stats\n",
    "from datetime import datetime\n",
    "\n",
    "def fair_avg(durations):\n",
    "    \"\"\"Get an average duration among multiple durations fairly by removing the first run and the best run first.\"\"\"\n",
    "    if len(durations) <= 2:  # Verifica se há pelo menos 3 durações\n",
    "        return sum(durations) / len(durations) if durations else 0\n",
    "    durations = durations[1:]\n",
    "    durations.remove(min(durations))\n",
    "    return sum(durations) / len(durations)\n",
    "\n",
    "def rename_index(df):\n",
    "    \"\"\"Rename operations in the average result dataframe for clarity.\"\"\"\n",
    "    df.index = map(\n",
    "        lambda s: s.replace(\"filtered \", \"\")\n",
    "                  .replace(\"of columns\", \"of series\")\n",
    "                  .replace(\"addition of series\", \"series addition\")\n",
    "                  .replace(\"multiplication of series\", \"series multiplication\")\n",
    "                  .replace(\"arithmetic ops\", \"arithmetic\")\n",
    "                  .replace(\"count index length\", \"count index\"),\n",
    "        df.index)\n",
    "    return df\n",
    "\n",
    "def avg_result_df(directory, file_name_prefix):\n",
    "    \"\"\"Get result files with the given prefix from the given directory and then construct the average result dataframe.\"\"\"\n",
    "    dfs = []\n",
    "    file_infos = os.listdir(directory)\n",
    "    for file_info in file_infos:\n",
    "        if file_info.startswith(file_name_prefix):\n",
    "            dfs.append(pd.read_parquet(os.path.join(directory, file_info)))\n",
    "    \n",
    "    if not dfs:\n",
    "        raise ValueError(f\"No files found with prefix {file_name_prefix} in directory {directory}\")\n",
    "    \n",
    "    print(f'{file_name_prefix} has {len(dfs)} runs')\n",
    "    \n",
    "    avg_df = dfs[0].copy()\n",
    "    for op in dfs[0].index:\n",
    "        for lib in ['koalas', 'dask']:\n",
    "            durations = []\n",
    "            for df in dfs:\n",
    "                durations.append(df.loc[op][lib])\n",
    "            avg_df.loc[op][lib] = fair_avg(durations)\n",
    "            \n",
    "    return rename_index(avg_df)\n",
    "\n",
    "def annotate(ax):\n",
    "    \"\"\"Annotate the height of each bar in the plot.\"\"\"\n",
    "    for p in ax.patches:\n",
    "        ax.annotate(\"%.2fs\" % p.get_height(), (p.get_x() + p.get_width() / 2., p.get_height()), ha='center', va='center', xytext=(0, 10), textcoords='offset points')\n",
    "\n",
    "def annotate_x_times_faster(ax, x_times_list):\n",
    "    \"\"\"Annotate Koalas is how many times faster per operation in the plot.\"\"\"\n",
    "    num_ops = len(x_times_list)\n",
    "    for i, p in enumerate(ax.patches):\n",
    "        if i < num_ops:  # The first half of ax.patches of Koalas; we only annotate Koalas patches\n",
    "            ax.annotate(\"%.1fx\" % x_times_list[i], (p.get_x() + p.get_width() / 2., p.get_height()), ha='center', va='center', xytext=(4, 10), textcoords='offset points', fontsize=8, weight='bold', color=\"#585858\")\n",
    "\n",
    "# Definir os caminhos dos arquivos de resultados Parquet\n",
    "directory_path = 'Resultados'\n",
    "standard_file_prefix = 'results_standard'\n",
    "filtered_file_prefix = 'results_filtered'\n",
    "cache_file_prefix = 'results_cache'\n",
    "\n",
    "# Carregar os resultados e calcular as médias\n",
    "standard_res_df = avg_result_df(directory_path, standard_file_prefix)\n",
    "filtered_res_df = avg_result_df(directory_path, filtered_file_prefix)\n",
    "cache_res_df = avg_result_df(directory_path, cache_file_prefix)\n",
    "\n",
    "# Definir os nomes das colunas\n",
    "standard_res_df.columns = ['Koalas (PySpark)', 'Dask']\n",
    "filtered_res_df.columns = ['Koalas (PySpark)', 'Dask']\n",
    "cache_res_df.columns = ['Koalas (PySpark)', 'Dask']\n",
    "\n",
    "standard_ops = standard_res_df\n",
    "ops_with_filtering = filtered_res_df\n",
    "ops_with_filtering_caching = cache_res_df\n",
    "\n",
    "# Exibir os DataFrames resultantes\n",
    "print(\"Standard Operations Summary:\")\n",
    "print(standard_ops)\n",
    "print(\"\\nOperations with Filtering Summary:\")\n",
    "print(ops_with_filtering)\n",
    "print(\"\\nOperations with Filtering and Caching Summary:\")\n",
    "print(ops_with_filtering_caching)\n"
   ]
  },
  {
   "cell_type": "markdown",
   "id": "d102be57",
   "metadata": {},
   "source": [
    "## Comparação Visual - Dados completos"
   ]
  },
  {
   "cell_type": "markdown",
   "id": "ce128357-9bc5-4310-8001-78e5dda8bb8e",
   "metadata": {},
   "source": [
    "### Tempo de Execução por Operação\n",
    "Para visualizar melhor os resultados e compreender as diferenças nos tempos de execução entre as bibliotecas Koalas e Dask, gerou-se um gráfico de barras, que representa os tempos de execução das operações padrão em ambas as bibliotecas, indicando o tempo decorrido em segundos para cada operação. Além disso, há uma anotação que mostra quantas vezes mais rápida uma biblioteca é em relação à outra para cada operação."
   ]
  },
  {
   "cell_type": "code",
   "execution_count": 63,
   "id": "4a97804e",
   "metadata": {},
   "outputs": [
    {
     "data": {
      "text/plain": [
       "Text(0, 0.5, 'Elapsed time (sec)')"
      ]
     },
     "execution_count": 63,
     "metadata": {},
     "output_type": "execute_result"
    },
    {
     "data": {
      "image/png": "[encoded data removed]",
      "text/plain": [
       "<Figure size 640x480 with 1 Axes>"
      ]
     },
     "metadata": {},
     "output_type": "display_data"
    },
    {
     "data": {
      "image/png": "[encoded data removed]",
      "text/plain": [
       "<Figure size 640x480 with 1 Axes>"
      ]
     },
     "metadata": {},
     "output_type": "display_data"
    }
   ],
   "source": [
    "import matplotlib.pyplot as plt\n",
    "\n",
    "plot_title = 'Standard operations (local execution)'\n",
    " \n",
    "ax = standard_ops.sort_index().plot.bar(title=plot_title)\n",
    "ax.set_ylabel(\"Elapsed time (sec)\")\n",
    " \n",
    "tmp_df_x_times_faster = standard_ops.sort_index().copy()\n",
    "tmp_df_x_times_faster['Dask / Koalas'] = tmp_df_x_times_faster.Dask / tmp_df_x_times_faster['Koalas (PySpark)']\n",
    "tmp_df_x_times_faster['Koalas / Dask'] = tmp_df_x_times_faster['Koalas (PySpark)'] / tmp_df_x_times_faster.Dask\n",
    "annotate_x_times_faster(ax, x_times_list=tmp_df_x_times_faster['Dask / Koalas'].to_list())\n",
    " \n",
    "standard_ops.sort_index().plot.bar(logy=True, title='%s - log scaling' % plot_title).set_ylabel(\"Elapsed time (sec)\")"
   ]
  },
  {
   "cell_type": "markdown",
   "id": "e67cd408-751e-4831-b8d1-ea26bb4e083d",
   "metadata": {},
   "source": [
    "É mostrado um dataFrame temporário que calcula quantas vezes mais rápido o Dask é em relação ao Koalas para cada operação."
   ]
  },
  {
   "cell_type": "code",
   "execution_count": 64,
   "id": "8477ca02",
   "metadata": {},
   "outputs": [
    {
     "data": {
      "text/html": [
       "<div>\n",
       "<style scoped>\n",
       "    .dataframe tbody tr th:only-of-type {\n",
       "        vertical-align: middle;\n",
       "    }\n",
       "\n",
       "    .dataframe tbody tr th {\n",
       "        vertical-align: top;\n",
       "    }\n",
       "\n",
       "    .dataframe thead th {\n",
       "        text-align: right;\n",
       "    }\n",
       "</style>\n",
       "<table border=\"1\" class=\"dataframe\">\n",
       "  <thead>\n",
       "    <tr style=\"text-align: right;\">\n",
       "      <th></th>\n",
       "      <th>Koalas (PySpark)</th>\n",
       "      <th>Dask</th>\n",
       "      <th>Dask / Koalas</th>\n",
       "      <th>Koalas / Dask</th>\n",
       "    </tr>\n",
       "  </thead>\n",
       "  <tbody>\n",
       "    <tr>\n",
       "      <th>complex arithmetic</th>\n",
       "      <td>NaN</td>\n",
       "      <td>15.398112</td>\n",
       "      <td>NaN</td>\n",
       "      <td>NaN</td>\n",
       "    </tr>\n",
       "    <tr>\n",
       "      <th>count</th>\n",
       "      <td>0.188165</td>\n",
       "      <td>14.161976</td>\n",
       "      <td>75.263431</td>\n",
       "      <td>0.013287</td>\n",
       "    </tr>\n",
       "    <tr>\n",
       "      <th>count index</th>\n",
       "      <td>0.092255</td>\n",
       "      <td>14.075137</td>\n",
       "      <td>152.567946</td>\n",
       "      <td>0.006554</td>\n",
       "    </tr>\n",
       "    <tr>\n",
       "      <th>groupby statistics</th>\n",
       "      <td>1.352324</td>\n",
       "      <td>14.612586</td>\n",
       "      <td>10.805536</td>\n",
       "      <td>0.092545</td>\n",
       "    </tr>\n",
       "    <tr>\n",
       "      <th>join</th>\n",
       "      <td>NaN</td>\n",
       "      <td>14.363636</td>\n",
       "      <td>NaN</td>\n",
       "      <td>NaN</td>\n",
       "    </tr>\n",
       "    <tr>\n",
       "      <th>join count</th>\n",
       "      <td>NaN</td>\n",
       "      <td>14.458382</td>\n",
       "      <td>NaN</td>\n",
       "      <td>NaN</td>\n",
       "    </tr>\n",
       "    <tr>\n",
       "      <th>mean</th>\n",
       "      <td>0.326843</td>\n",
       "      <td>14.178173</td>\n",
       "      <td>43.379152</td>\n",
       "      <td>0.023053</td>\n",
       "    </tr>\n",
       "    <tr>\n",
       "      <th>mean of complex arithmetic</th>\n",
       "      <td>6.101567</td>\n",
       "      <td>15.269703</td>\n",
       "      <td>2.502587</td>\n",
       "      <td>0.399586</td>\n",
       "    </tr>\n",
       "    <tr>\n",
       "      <th>mean of series addition</th>\n",
       "      <td>0.504825</td>\n",
       "      <td>13.929075</td>\n",
       "      <td>27.591908</td>\n",
       "      <td>0.036243</td>\n",
       "    </tr>\n",
       "    <tr>\n",
       "      <th>mean of series multiplication</th>\n",
       "      <td>0.529478</td>\n",
       "      <td>14.220426</td>\n",
       "      <td>26.857465</td>\n",
       "      <td>0.037234</td>\n",
       "    </tr>\n",
       "    <tr>\n",
       "      <th>read file</th>\n",
       "      <td>0.172114</td>\n",
       "      <td>0.007313</td>\n",
       "      <td>0.042486</td>\n",
       "      <td>23.536892</td>\n",
       "    </tr>\n",
       "    <tr>\n",
       "      <th>series addition</th>\n",
       "      <td>NaN</td>\n",
       "      <td>14.147884</td>\n",
       "      <td>NaN</td>\n",
       "      <td>NaN</td>\n",
       "    </tr>\n",
       "    <tr>\n",
       "      <th>series multiplication</th>\n",
       "      <td>NaN</td>\n",
       "      <td>14.446114</td>\n",
       "      <td>NaN</td>\n",
       "      <td>NaN</td>\n",
       "    </tr>\n",
       "    <tr>\n",
       "      <th>standard deviation</th>\n",
       "      <td>0.411885</td>\n",
       "      <td>14.063892</td>\n",
       "      <td>34.145170</td>\n",
       "      <td>0.029287</td>\n",
       "    </tr>\n",
       "    <tr>\n",
       "      <th>value counts</th>\n",
       "      <td>1.412496</td>\n",
       "      <td>14.519860</td>\n",
       "      <td>10.279575</td>\n",
       "      <td>0.097280</td>\n",
       "    </tr>\n",
       "  </tbody>\n",
       "</table>\n",
       "</div>"
      ],
      "text/plain": [
       "                               Koalas (PySpark)       Dask  Dask / Koalas  \\\n",
       "complex arithmetic                          NaN  15.398112            NaN   \n",
       "count                                  0.188165  14.161976      75.263431   \n",
       "count index                            0.092255  14.075137     152.567946   \n",
       "groupby statistics                     1.352324  14.612586      10.805536   \n",
       "join                                        NaN  14.363636            NaN   \n",
       "join count                                  NaN  14.458382            NaN   \n",
       "mean                                   0.326843  14.178173      43.379152   \n",
       "mean of complex arithmetic             6.101567  15.269703       2.502587   \n",
       "mean of series addition                0.504825  13.929075      27.591908   \n",
       "mean of series multiplication          0.529478  14.220426      26.857465   \n",
       "read file                              0.172114   0.007313       0.042486   \n",
       "series addition                             NaN  14.147884            NaN   \n",
       "series multiplication                       NaN  14.446114            NaN   \n",
       "standard deviation                     0.411885  14.063892      34.145170   \n",
       "value counts                           1.412496  14.519860      10.279575   \n",
       "\n",
       "                               Koalas / Dask  \n",
       "complex arithmetic                       NaN  \n",
       "count                               0.013287  \n",
       "count index                         0.006554  \n",
       "groupby statistics                  0.092545  \n",
       "join                                     NaN  \n",
       "join count                               NaN  \n",
       "mean                                0.023053  \n",
       "mean of complex arithmetic          0.399586  \n",
       "mean of series addition             0.036243  \n",
       "mean of series multiplication       0.037234  \n",
       "read file                          23.536892  \n",
       "series addition                          NaN  \n",
       "series multiplication                    NaN  \n",
       "standard deviation                  0.029287  \n",
       "value counts                        0.097280  "
      ]
     },
     "execution_count": 64,
     "metadata": {},
     "output_type": "execute_result"
    }
   ],
   "source": [
    "tmp_df_x_times_faster"
   ]
  },
  {
   "cell_type": "markdown",
   "id": "351dcbc0-dff3-4e5b-8de7-784845b7e12a",
   "metadata": {},
   "source": [
    "### Média Geométrica\n",
    "A média geométrica das razões entre os tempos de execução do Dask e do Koalas para cada operação foi calculada e plotada num gráfico de barras."
   ]
  },
  {
   "cell_type": "markdown",
   "id": "28ee5eea",
   "metadata": {},
   "source": [
    "Dado que a divisão por Nan no cálculo da média geométrica dá como resultado 0, decidiu-se excluir os valores NaN."
   ]
  },
  {
   "cell_type": "code",
   "execution_count": 65,
   "id": "5d38afcb-ad3a-4ee8-b8df-8f213eed3919",
   "metadata": {},
   "outputs": [
    {
     "data": {
      "image/png": "[encoded data removed]",
      "text/plain": [
       "<Figure size 640x480 with 1 Axes>"
      ]
     },
     "metadata": {},
     "output_type": "display_data"
    }
   ],
   "source": [
    "# Calcular a média geométrica excluindo os valores NaN\n",
    "koalas_gmean = stats.gmean(standard_ops['Koalas (PySpark)'].dropna())\n",
    "dask_gmean = stats.gmean(standard_ops['Dask'].dropna())\n",
    "\n",
    "# Plotar a média geométrica\n",
    "ax = pd.Series([koalas_gmean, dask_gmean], index=['Koalas (PySpark)', 'Dask']).plot.bar(title='Geometric mean (excluding NaN)')\n",
    "ax.set_ylabel('Time (seconds)')\n",
    "plt.xticks(rotation=0)\n",
    "plt.tight_layout()\n",
    "plt.show()"
   ]
  },
  {
   "cell_type": "markdown",
   "id": "41d7e43f-4d3f-454c-9f4d-b416d58eae41",
   "metadata": {},
   "source": [
    "### Tempo total de execução \n",
    "Por fim, elaborou-se um gráfico que mostra o tempo total de execução de todas as operações para cada biblioteca (Koalas e Dask). Cada barra representa o tempo total de execução acumulado de todas as operações para a respetiva biblioteca."
   ]
  },
  {
   "cell_type": "code",
   "execution_count": 66,
   "id": "4074cc11",
   "metadata": {},
   "outputs": [
    {
     "data": {
      "image/png": "[encoded data removed]",
      "text/plain": [
       "<Figure size 640x480 with 1 Axes>"
      ]
     },
     "metadata": {},
     "output_type": "display_data"
    }
   ],
   "source": [
    "annotate(standard_ops.sum().plot.bar(title='Total execution time'))"
   ]
  },
  {
   "cell_type": "markdown",
   "id": "4cd2b0f7-be0d-4da0-8533-a0c598712ac7",
   "metadata": {},
   "source": [
    "Adicionou-se um gráfico para ilustrar a comparação entre os tempos de execução das operações utilizando as bibliotecas Koalas e Dask. Este gráfico não fazia parte do experimento original, mas foi incluído para demonstrar visualmente como os valores NaN fazem sentido, uma vez que essas operações não foram executadas."
   ]
  },
  {
   "cell_type": "markdown",
   "id": "6a0ede63-17c2-48e2-b698-d7df2d8b96e6",
   "metadata": {},
   "source": [
    "## Comparação Visual - Dados Filtrados"
   ]
  },
  {
   "cell_type": "markdown",
   "id": "6670f6c0-eed3-4d26-98ec-e7d03ea49b36",
   "metadata": {},
   "source": [
    "### Tempo de Execução por Operação\n",
    "Gerou-se um gráfico de barras, que representa os tempos de execução das operações padrão em dados filtrados em ambas as bibliotecas."
   ]
  },
  {
   "cell_type": "code",
   "execution_count": 67,
   "id": "4b88217b",
   "metadata": {},
   "outputs": [
    {
     "data": {
      "text/plain": [
       "Text(0, 0.5, 'Elapsed time (sec)')"
      ]
     },
     "execution_count": 67,
     "metadata": {},
     "output_type": "execute_result"
    },
    {
     "data": {
      "image/png": "[encoded data removed]",
      "text/plain": [
       "<Figure size 640x480 with 1 Axes>"
      ]
     },
     "metadata": {},
     "output_type": "display_data"
    },
    {
     "data": {
      "image/png": "[encoded data removed]",
      "text/plain": [
       "<Figure size 640x480 with 1 Axes>"
      ]
     },
     "metadata": {},
     "output_type": "display_data"
    }
   ],
   "source": [
    "import matplotlib.pyplot as plt\n",
    "\n",
    "plot_title = 'Operations With Filtering (local execution)'\n",
    " \n",
    "ax = ops_with_filtering.sort_index().plot.bar(title=plot_title)\n",
    "ax.set_ylabel(\"Elapsed time (sec)\")\n",
    " \n",
    "tmp_df_x_times_faster = ops_with_filtering.sort_index().copy()\n",
    "tmp_df_x_times_faster['Dask / Koalas'] = tmp_df_x_times_faster.Dask / tmp_df_x_times_faster['Koalas (PySpark)']\n",
    "tmp_df_x_times_faster['Koalas / Dask'] = tmp_df_x_times_faster['Koalas (PySpark)'] / tmp_df_x_times_faster.Dask\n",
    "annotate_x_times_faster(ax, x_times_list=tmp_df_x_times_faster['Dask / Koalas'].to_list())\n",
    " \n",
    "ops_with_filtering.sort_index().plot.bar(logy=True, title='%s - log scaling' % plot_title).set_ylabel(\"Elapsed time (sec)\")"
   ]
  },
  {
   "cell_type": "markdown",
   "id": "cb2c9d19-63f5-433f-b994-67fa9c5c6859",
   "metadata": {},
   "source": [
    "É mostrado um dataFrame temporário que calcula quantas vezes mais rápido o Dask é em relação ao Koalas para cada operação."
   ]
  },
  {
   "cell_type": "code",
   "execution_count": 68,
   "id": "b957fba1",
   "metadata": {},
   "outputs": [
    {
     "data": {
      "text/html": [
       "<div>\n",
       "<style scoped>\n",
       "    .dataframe tbody tr th:only-of-type {\n",
       "        vertical-align: middle;\n",
       "    }\n",
       "\n",
       "    .dataframe tbody tr th {\n",
       "        vertical-align: top;\n",
       "    }\n",
       "\n",
       "    .dataframe thead th {\n",
       "        text-align: right;\n",
       "    }\n",
       "</style>\n",
       "<table border=\"1\" class=\"dataframe\">\n",
       "  <thead>\n",
       "    <tr style=\"text-align: right;\">\n",
       "      <th></th>\n",
       "      <th>Koalas (PySpark)</th>\n",
       "      <th>Dask</th>\n",
       "      <th>Dask / Koalas</th>\n",
       "      <th>Koalas / Dask</th>\n",
       "    </tr>\n",
       "  </thead>\n",
       "  <tbody>\n",
       "    <tr>\n",
       "      <th>complex arithmetic</th>\n",
       "      <td>NaN</td>\n",
       "      <td>14.878332</td>\n",
       "      <td>NaN</td>\n",
       "      <td>NaN</td>\n",
       "    </tr>\n",
       "    <tr>\n",
       "      <th>count</th>\n",
       "      <td>0.408928</td>\n",
       "      <td>14.474323</td>\n",
       "      <td>35.395780</td>\n",
       "      <td>0.028252</td>\n",
       "    </tr>\n",
       "    <tr>\n",
       "      <th>count index</th>\n",
       "      <td>0.301121</td>\n",
       "      <td>14.530146</td>\n",
       "      <td>48.253589</td>\n",
       "      <td>0.020724</td>\n",
       "    </tr>\n",
       "    <tr>\n",
       "      <th>groupby statistics</th>\n",
       "      <td>0.855181</td>\n",
       "      <td>14.642592</td>\n",
       "      <td>17.122205</td>\n",
       "      <td>0.058404</td>\n",
       "    </tr>\n",
       "    <tr>\n",
       "      <th>join</th>\n",
       "      <td>NaN</td>\n",
       "      <td>14.647319</td>\n",
       "      <td>NaN</td>\n",
       "      <td>NaN</td>\n",
       "    </tr>\n",
       "    <tr>\n",
       "      <th>join count</th>\n",
       "      <td>NaN</td>\n",
       "      <td>14.665975</td>\n",
       "      <td>NaN</td>\n",
       "      <td>NaN</td>\n",
       "    </tr>\n",
       "    <tr>\n",
       "      <th>mean</th>\n",
       "      <td>0.543700</td>\n",
       "      <td>14.427309</td>\n",
       "      <td>26.535424</td>\n",
       "      <td>0.037685</td>\n",
       "    </tr>\n",
       "    <tr>\n",
       "      <th>mean of complex arithmetic</th>\n",
       "      <td>3.864372</td>\n",
       "      <td>14.546414</td>\n",
       "      <td>3.764238</td>\n",
       "      <td>0.265658</td>\n",
       "    </tr>\n",
       "    <tr>\n",
       "      <th>mean of series addition</th>\n",
       "      <td>0.659849</td>\n",
       "      <td>14.658457</td>\n",
       "      <td>22.214853</td>\n",
       "      <td>0.045015</td>\n",
       "    </tr>\n",
       "    <tr>\n",
       "      <th>mean of series multiplication</th>\n",
       "      <td>0.553495</td>\n",
       "      <td>14.247474</td>\n",
       "      <td>25.740918</td>\n",
       "      <td>0.038849</td>\n",
       "    </tr>\n",
       "    <tr>\n",
       "      <th>read file</th>\n",
       "      <td>0.133426</td>\n",
       "      <td>0.006736</td>\n",
       "      <td>0.050487</td>\n",
       "      <td>19.807142</td>\n",
       "    </tr>\n",
       "    <tr>\n",
       "      <th>series addition</th>\n",
       "      <td>NaN</td>\n",
       "      <td>14.541412</td>\n",
       "      <td>NaN</td>\n",
       "      <td>NaN</td>\n",
       "    </tr>\n",
       "    <tr>\n",
       "      <th>series multiplication</th>\n",
       "      <td>NaN</td>\n",
       "      <td>14.401383</td>\n",
       "      <td>NaN</td>\n",
       "      <td>NaN</td>\n",
       "    </tr>\n",
       "    <tr>\n",
       "      <th>standard deviation</th>\n",
       "      <td>0.545043</td>\n",
       "      <td>14.577304</td>\n",
       "      <td>26.745249</td>\n",
       "      <td>0.037390</td>\n",
       "    </tr>\n",
       "    <tr>\n",
       "      <th>value counts</th>\n",
       "      <td>0.849900</td>\n",
       "      <td>14.423734</td>\n",
       "      <td>16.971086</td>\n",
       "      <td>0.058924</td>\n",
       "    </tr>\n",
       "  </tbody>\n",
       "</table>\n",
       "</div>"
      ],
      "text/plain": [
       "                               Koalas (PySpark)       Dask  Dask / Koalas  \\\n",
       "complex arithmetic                          NaN  14.878332            NaN   \n",
       "count                                  0.408928  14.474323      35.395780   \n",
       "count index                            0.301121  14.530146      48.253589   \n",
       "groupby statistics                     0.855181  14.642592      17.122205   \n",
       "join                                        NaN  14.647319            NaN   \n",
       "join count                                  NaN  14.665975            NaN   \n",
       "mean                                   0.543700  14.427309      26.535424   \n",
       "mean of complex arithmetic             3.864372  14.546414       3.764238   \n",
       "mean of series addition                0.659849  14.658457      22.214853   \n",
       "mean of series multiplication          0.553495  14.247474      25.740918   \n",
       "read file                              0.133426   0.006736       0.050487   \n",
       "series addition                             NaN  14.541412            NaN   \n",
       "series multiplication                       NaN  14.401383            NaN   \n",
       "standard deviation                     0.545043  14.577304      26.745249   \n",
       "value counts                           0.849900  14.423734      16.971086   \n",
       "\n",
       "                               Koalas / Dask  \n",
       "complex arithmetic                       NaN  \n",
       "count                               0.028252  \n",
       "count index                         0.020724  \n",
       "groupby statistics                  0.058404  \n",
       "join                                     NaN  \n",
       "join count                               NaN  \n",
       "mean                                0.037685  \n",
       "mean of complex arithmetic          0.265658  \n",
       "mean of series addition             0.045015  \n",
       "mean of series multiplication       0.038849  \n",
       "read file                          19.807142  \n",
       "series addition                          NaN  \n",
       "series multiplication                    NaN  \n",
       "standard deviation                  0.037390  \n",
       "value counts                        0.058924  "
      ]
     },
     "execution_count": 68,
     "metadata": {},
     "output_type": "execute_result"
    }
   ],
   "source": [
    "tmp_df_x_times_faster"
   ]
  },
  {
   "cell_type": "markdown",
   "id": "6478441f-424f-43a8-a09d-a5f13df8dd6b",
   "metadata": {},
   "source": [
    "### Média Geométrica\n",
    "A média geométrica das razões entre os tempos de execução do Dask e do Koalas para cada operação."
   ]
  },
  {
   "cell_type": "markdown",
   "id": "ad66b629",
   "metadata": {},
   "source": [
    "De forma análoga, excluiu-se os valores NaN no cálculo da média geométrica."
   ]
  },
  {
   "cell_type": "code",
   "execution_count": 69,
   "id": "70ead188",
   "metadata": {},
   "outputs": [
    {
     "data": {
      "image/png": "[encoded data removed]",
      "text/plain": [
       "<Figure size 640x480 with 1 Axes>"
      ]
     },
     "metadata": {},
     "output_type": "display_data"
    }
   ],
   "source": [
    "# Calcular a média geométrica excluindo os valores NaN\n",
    "koalas_gmean = stats.gmean(ops_with_filtering['Koalas (PySpark)'].dropna())\n",
    "dask_gmean = stats.gmean(ops_with_filtering['Dask'].dropna())\n",
    "\n",
    "# Plotar a média geométrica\n",
    "ax = pd.Series([koalas_gmean, dask_gmean], index=['Koalas (PySpark)', 'Dask']).plot.bar(title='Geometric mean (excluding NaN)')\n",
    "ax.set_ylabel('Time (seconds)')\n",
    "plt.xticks(rotation=0)\n",
    "plt.tight_layout()\n",
    "plt.show()\n",
    "\n"
   ]
  },
  {
   "cell_type": "markdown",
   "id": "5c4a98c7-8f90-4049-9c81-233515947cfd",
   "metadata": {},
   "source": [
    "### Tempo total de execução \n",
    "Gráfico que mostra o tempo total de execução das operações em dados filtrados para cada biblioteca (Koalas e Dask)."
   ]
  },
  {
   "cell_type": "code",
   "execution_count": 70,
   "id": "3e57df6c",
   "metadata": {},
   "outputs": [
    {
     "data": {
      "image/png": "[encoded data removed]",
      "text/plain": [
       "<Figure size 640x480 with 1 Axes>"
      ]
     },
     "metadata": {},
     "output_type": "display_data"
    }
   ],
   "source": [
    "annotate(ops_with_filtering.sum().plot.bar(title='Total execution time'))"
   ]
  },
  {
   "cell_type": "markdown",
   "id": "fa1225a7",
   "metadata": {},
   "source": [
    "## Comparação Visual - Dados Filtrados com Caching"
   ]
  },
  {
   "cell_type": "markdown",
   "id": "04841e22-3a93-4385-8796-474d6b5edc8b",
   "metadata": {},
   "source": [
    "### Tempo de Execução por Operação\n",
    "Gerou-se um gráfico de barras, que representa os tempos de execução das operações padrão em dados filtrados com aplicação de caching."
   ]
  },
  {
   "cell_type": "code",
   "execution_count": 71,
   "id": "aa9016c7",
   "metadata": {},
   "outputs": [
    {
     "data": {
      "text/plain": [
       "Text(0, 0.5, 'Elapsed time (sec)')"
      ]
     },
     "execution_count": 71,
     "metadata": {},
     "output_type": "execute_result"
    },
    {
     "data": {
      "image/png": "[encoded data removed]",
      "text/plain": [
       "<Figure size 640x480 with 1 Axes>"
      ]
     },
     "metadata": {},
     "output_type": "display_data"
    },
    {
     "data": {
      "image/png": "[encoded data removed]",
      "text/plain": [
       "<Figure size 640x480 with 1 Axes>"
      ]
     },
     "metadata": {},
     "output_type": "display_data"
    }
   ],
   "source": [
    "plot_title = 'Operations with filtering and caching (local execution)'\n",
    " \n",
    "ax = ops_with_filtering_caching.sort_index().plot.bar(title=plot_title)\n",
    "ax.set_ylabel(\"Elapsed time (sec)\")\n",
    " \n",
    "tmp_df_x_times_faster = ops_with_filtering_caching.sort_index().copy()\n",
    "tmp_df_x_times_faster['Dask / Koalas'] = tmp_df_x_times_faster.Dask / tmp_df_x_times_faster['Koalas (PySpark)']\n",
    "tmp_df_x_times_faster['Koalas / Dask'] = tmp_df_x_times_faster['Koalas (PySpark)'] / tmp_df_x_times_faster.Dask\n",
    "annotate_x_times_faster(ax, x_times_list=tmp_df_x_times_faster['Dask / Koalas'].to_list())\n",
    " \n",
    "ops_with_filtering_caching.sort_index().plot.bar(logy=True, title='%s - log scaling' % plot_title).set_ylabel(\"Elapsed time (sec)\")"
   ]
  },
  {
   "cell_type": "markdown",
   "id": "7c51c34f-7a4d-4c61-aceb-9cc5a06132f9",
   "metadata": {},
   "source": [
    "DataFrame temporário que calcula quantas vezes mais rápido o Dask é em relação ao Koalas para cada operação."
   ]
  },
  {
   "cell_type": "code",
   "execution_count": 72,
   "id": "be7549a2",
   "metadata": {},
   "outputs": [
    {
     "data": {
      "text/html": [
       "<div>\n",
       "<style scoped>\n",
       "    .dataframe tbody tr th:only-of-type {\n",
       "        vertical-align: middle;\n",
       "    }\n",
       "\n",
       "    .dataframe tbody tr th {\n",
       "        vertical-align: top;\n",
       "    }\n",
       "\n",
       "    .dataframe thead th {\n",
       "        text-align: right;\n",
       "    }\n",
       "</style>\n",
       "<table border=\"1\" class=\"dataframe\">\n",
       "  <thead>\n",
       "    <tr style=\"text-align: right;\">\n",
       "      <th></th>\n",
       "      <th>Koalas (PySpark)</th>\n",
       "      <th>Dask</th>\n",
       "      <th>Dask / Koalas</th>\n",
       "      <th>Koalas / Dask</th>\n",
       "    </tr>\n",
       "  </thead>\n",
       "  <tbody>\n",
       "    <tr>\n",
       "      <th>complex arithmetic</th>\n",
       "      <td>NaN</td>\n",
       "      <td>0.381640</td>\n",
       "      <td>NaN</td>\n",
       "      <td>NaN</td>\n",
       "    </tr>\n",
       "    <tr>\n",
       "      <th>count</th>\n",
       "      <td>0.063100</td>\n",
       "      <td>0.013732</td>\n",
       "      <td>0.217631</td>\n",
       "      <td>4.594934</td>\n",
       "    </tr>\n",
       "    <tr>\n",
       "      <th>count index</th>\n",
       "      <td>0.049356</td>\n",
       "      <td>0.019761</td>\n",
       "      <td>0.400385</td>\n",
       "      <td>2.497593</td>\n",
       "    </tr>\n",
       "    <tr>\n",
       "      <th>groupby statistics</th>\n",
       "      <td>0.408749</td>\n",
       "      <td>0.151895</td>\n",
       "      <td>0.371609</td>\n",
       "      <td>2.691000</td>\n",
       "    </tr>\n",
       "    <tr>\n",
       "      <th>join</th>\n",
       "      <td>NaN</td>\n",
       "      <td>0.051577</td>\n",
       "      <td>NaN</td>\n",
       "      <td>NaN</td>\n",
       "    </tr>\n",
       "    <tr>\n",
       "      <th>join count</th>\n",
       "      <td>NaN</td>\n",
       "      <td>0.225255</td>\n",
       "      <td>NaN</td>\n",
       "      <td>NaN</td>\n",
       "    </tr>\n",
       "    <tr>\n",
       "      <th>mean</th>\n",
       "      <td>0.116151</td>\n",
       "      <td>0.040509</td>\n",
       "      <td>0.348760</td>\n",
       "      <td>2.867297</td>\n",
       "    </tr>\n",
       "    <tr>\n",
       "      <th>mean of complex arithmetic</th>\n",
       "      <td>1.783648</td>\n",
       "      <td>0.287676</td>\n",
       "      <td>0.161285</td>\n",
       "      <td>6.200206</td>\n",
       "    </tr>\n",
       "    <tr>\n",
       "      <th>mean of series addition</th>\n",
       "      <td>0.180650</td>\n",
       "      <td>0.036645</td>\n",
       "      <td>0.202849</td>\n",
       "      <td>4.929785</td>\n",
       "    </tr>\n",
       "    <tr>\n",
       "      <th>mean of series multiplication</th>\n",
       "      <td>0.128458</td>\n",
       "      <td>0.042680</td>\n",
       "      <td>0.332251</td>\n",
       "      <td>3.009770</td>\n",
       "    </tr>\n",
       "    <tr>\n",
       "      <th>read file</th>\n",
       "      <td>0.134933</td>\n",
       "      <td>0.006319</td>\n",
       "      <td>0.046831</td>\n",
       "      <td>21.353456</td>\n",
       "    </tr>\n",
       "    <tr>\n",
       "      <th>series addition</th>\n",
       "      <td>NaN</td>\n",
       "      <td>0.112890</td>\n",
       "      <td>NaN</td>\n",
       "      <td>NaN</td>\n",
       "    </tr>\n",
       "    <tr>\n",
       "      <th>series multiplication</th>\n",
       "      <td>NaN</td>\n",
       "      <td>0.122111</td>\n",
       "      <td>NaN</td>\n",
       "      <td>NaN</td>\n",
       "    </tr>\n",
       "    <tr>\n",
       "      <th>standard deviation</th>\n",
       "      <td>0.101004</td>\n",
       "      <td>0.048017</td>\n",
       "      <td>0.475399</td>\n",
       "      <td>2.103497</td>\n",
       "    </tr>\n",
       "    <tr>\n",
       "      <th>value counts</th>\n",
       "      <td>0.305910</td>\n",
       "      <td>0.041203</td>\n",
       "      <td>0.134689</td>\n",
       "      <td>7.424532</td>\n",
       "    </tr>\n",
       "  </tbody>\n",
       "</table>\n",
       "</div>"
      ],
      "text/plain": [
       "                               Koalas (PySpark)      Dask  Dask / Koalas  \\\n",
       "complex arithmetic                          NaN  0.381640            NaN   \n",
       "count                                  0.063100  0.013732       0.217631   \n",
       "count index                            0.049356  0.019761       0.400385   \n",
       "groupby statistics                     0.408749  0.151895       0.371609   \n",
       "join                                        NaN  0.051577            NaN   \n",
       "join count                                  NaN  0.225255            NaN   \n",
       "mean                                   0.116151  0.040509       0.348760   \n",
       "mean of complex arithmetic             1.783648  0.287676       0.161285   \n",
       "mean of series addition                0.180650  0.036645       0.202849   \n",
       "mean of series multiplication          0.128458  0.042680       0.332251   \n",
       "read file                              0.134933  0.006319       0.046831   \n",
       "series addition                             NaN  0.112890            NaN   \n",
       "series multiplication                       NaN  0.122111            NaN   \n",
       "standard deviation                     0.101004  0.048017       0.475399   \n",
       "value counts                           0.305910  0.041203       0.134689   \n",
       "\n",
       "                               Koalas / Dask  \n",
       "complex arithmetic                       NaN  \n",
       "count                               4.594934  \n",
       "count index                         2.497593  \n",
       "groupby statistics                  2.691000  \n",
       "join                                     NaN  \n",
       "join count                               NaN  \n",
       "mean                                2.867297  \n",
       "mean of complex arithmetic          6.200206  \n",
       "mean of series addition             4.929785  \n",
       "mean of series multiplication       3.009770  \n",
       "read file                          21.353456  \n",
       "series addition                          NaN  \n",
       "series multiplication                    NaN  \n",
       "standard deviation                  2.103497  \n",
       "value counts                        7.424532  "
      ]
     },
     "execution_count": 72,
     "metadata": {},
     "output_type": "execute_result"
    }
   ],
   "source": [
    "tmp_df_x_times_faster"
   ]
  },
  {
   "cell_type": "markdown",
   "id": "e490a91d-e281-43a6-80f2-9941e1d6ec6b",
   "metadata": {},
   "source": [
    "### Média Geométrica\n",
    "A média geométrica das razões entre os tempos de execução do Dask e do Koalas para cada operação."
   ]
  },
  {
   "cell_type": "markdown",
   "id": "70c5f461",
   "metadata": {},
   "source": [
    "Pela mesma razão mencionada anteriormente, decidiu-se excluir os valores NaN."
   ]
  },
  {
   "cell_type": "code",
   "execution_count": 73,
   "id": "86662b15",
   "metadata": {},
   "outputs": [
    {
     "data": {
      "image/png": "[encoded data removed]",
      "text/plain": [
       "<Figure size 640x480 with 1 Axes>"
      ]
     },
     "metadata": {},
     "output_type": "display_data"
    }
   ],
   "source": [
    "# Calcular a média geométrica excluindo os valores NaN\n",
    "koalas_gmean = stats.gmean(ops_with_filtering_caching['Koalas (PySpark)'].dropna())\n",
    "dask_gmean = stats.gmean(ops_with_filtering_caching['Dask'].dropna())\n",
    "\n",
    "# Plotar a média geométrica\n",
    "ax = pd.Series([koalas_gmean, dask_gmean], index=['Koalas (PySpark)', 'Dask']).plot.bar(title='Geometric mean (excluding NaN)')\n",
    "ax.set_ylabel('Time (seconds)')\n",
    "plt.xticks(rotation=0)\n",
    "plt.tight_layout()\n",
    "plt.show()"
   ]
  },
  {
   "cell_type": "markdown",
   "id": "a4249211-4b0a-4949-b36c-240f1579be12",
   "metadata": {},
   "source": [
    "### Tempo total de execução \n",
    "Tempo total de execução das operações em dados filtrados com caching para o Koalas e Dask."
   ]
  },
  {
   "cell_type": "code",
   "execution_count": 74,
   "id": "0e1ca7b7",
   "metadata": {},
   "outputs": [
    {
     "data": {
      "image/png": "[encoded data removed]",
      "text/plain": [
       "<Figure size 640x480 with 1 Axes>"
      ]
     },
     "metadata": {},
     "output_type": "display_data"
    }
   ],
   "source": [
    "annotate(ops_with_filtering_caching.sum().plot.bar(title='Total execution time'))"
   ]
  },
  {
   "cell_type": "markdown",
   "id": "c0eaaf70-c1bd-41c1-86c3-fb41e00fb00c",
   "metadata": {},
   "source": [
    "## Observações"
   ]
  },
  {
   "cell_type": "markdown",
   "id": "64a1eccc-50c5-47d8-96ad-9acf196cb744",
   "metadata": {},
   "source": [
    "Ao comparar a performance das bibliotecas Koalas (PySpark) e Dask, diversas operações foram executadas, tanto em dados brutos quanto em dados filtrados e filtrados com caching. A análise revela um panorama interessante sobre a eficiência de ambas as bibliotecas.\n",
    "\n",
    "Para operações sem filtragem, o Dask demonstrou ser significativamente mais rápido na leitura inicial do arquivo, com um tempo de 0.007313 segundos em comparação com os 0.172114 segundos de Koalas. Entretanto, em todas as demais operações, o Koalas mostrou-se muito mais eficiente. Por exemplo, a operação de contagem levou 0.188165 segundos em Koalas, enquanto Dask demorou 14.161976 segundos. De maneira semelhante, a contagem de índices foi mais rápida em Koalas (0.092255 segundos) em comparação com Dask (14.075137 segundos). A tendência manteve-se para cálculos de média, desvio padrão, adição e multiplicação de séries, contagem de valores, operações aritméticas complexas e estatísticas de agrupamento, onde o Koalas foi consistentemente mais rápido, com tempos variando entre 0.326843 e 6.101567 segundos, enquanto que o Dask levou de 14.063892 a 15.398112 segundos. No entanto, algumas operações em Koalas, como adição de séries, multiplicação de séries e operações de junção, não puderam ser concluídas devido a limitações de memória, resultando em valores NaN.\n",
    "\n",
    "Quando os dados foram filtrados, a superioridade de Koalas em termos de tempo de execução permaneceu evidente. A operação de contagem levou 0.408928 segundos em Koalas contra 14.474323 segundos em Dask. A contagem de índices foi completada em 0.301121 segundos por Koalas, enquanto Dask precisou de 14.530146 segundos. Para calcular a média, Koalas levou 0.543700 segundos em comparação com 14.427309 segundos de Dask. Outras operações, incluindo desvio padrão, adição e multiplicação de séries, média de operações aritméticas complexas, contagem de valores e estatísticas de agrupamento, também foram realizadas mais rapidamente pelo Koalas, com tempos entre 0.545043 e 3.864372 segundos, enquanto Dask levou entre 14.401383 e 14.878332 segundos. No entanto, mais uma vez, algumas operações em Koalas, como adição de séries, multiplicação de séries e operações de junção, não puderam ser concluídas devido a limitações de memória, resultando em valores NaN.\n",
    "\n",
    "Com a introdução do caching, observou-se uma melhoria no desempenho de ambas as bibliotecas. A operação de contagem com caching foi mais eficiente em Dask, levando 0.013732 segundos, comparado com 0.063100 segundos de Koalas. A contagem de índices também foi mais rápida em Dask (0.019761 segundos) comparado com Koalas (0.049356 segundos). Cálculos de média, desvio padrão, adição e multiplicação de séries, contagem de valores e média de operações aritméticas complexas também foram mais rápidos em Dask, com tempos variando de 0.036645 a 0.287676 segundos, enquanto Koalas levou de 0.101004 a 1.783648 segundos. Estatísticas de agrupamento foram realizadas em 0.151895 segundos por Dask, contra 0.408749 segundos de Koalas. Novamente, a adição de séries, multiplicação de séries e operações de junção, não puderam ser realizadas em Koalas.\n",
    "\n",
    "De modo geral, o Koalas demonstrou ser mais eficiente em termos de tempo de execução para a maioria das operações sem filtragem e com filtragem. No entanto, Dask foi mais eficiente para operações com caching. Para além disso, o Koalas enfrenta limitações de memória que impedem a execução de algumas operações, resultando em valores NaN. Embora o Koalas seja geralmente mais rápido sem caching, ele consome mais memória, o que impede a realização de certas operações."
   ]
  },
  {
   "cell_type": "markdown",
   "id": "7c4a51c1-089d-4064-94a5-ceb605eb32e0",
   "metadata": {},
   "source": [
    "# Repetição para datasets com 2 e 3 Ficheiros"
   ]
  },
  {
   "cell_type": "code",
   "execution_count": 75,
   "id": "dab59dab-c507-4805-a33d-21efba464525",
   "metadata": {},
   "outputs": [
    {
     "data": {
      "text/html": [
       "<div>\n",
       "    <div style=\"width: 24px; height: 24px; background-color: #e1e1e1; border: 3px solid #9D9D9D; border-radius: 5px; position: absolute;\"> </div>\n",
       "    <div style=\"margin-left: 48px;\">\n",
       "        <h3 style=\"margin-bottom: 0px;\">Client</h3>\n",
       "        <p style=\"color: #9D9D9D; margin-bottom: 0px;\">Client-fd671627-238a-11ef-ab1e-05beeca76210</p>\n",
       "        <table style=\"width: 100%; text-align: left;\">\n",
       "\n",
       "        <tr>\n",
       "        \n",
       "            <td style=\"text-align: left;\"><strong>Connection method:</strong> Cluster object</td>\n",
       "            <td style=\"text-align: left;\"><strong>Cluster type:</strong> distributed.LocalCluster</td>\n",
       "        \n",
       "        </tr>\n",
       "\n",
       "        \n",
       "            <tr>\n",
       "                <td style=\"text-align: left;\">\n",
       "                    <strong>Dashboard: </strong> <a href=\"http://127.0.0.1:33001/status\" target=\"_blank\">http://127.0.0.1:33001/status</a>\n",
       "                </td>\n",
       "                <td style=\"text-align: left;\"></td>\n",
       "            </tr>\n",
       "        \n",
       "\n",
       "        </table>\n",
       "\n",
       "        \n",
       "\n",
       "        \n",
       "            <details>\n",
       "            <summary style=\"margin-bottom: 20px;\"><h3 style=\"display: inline;\">Cluster Info</h3></summary>\n",
       "            <div class=\"jp-RenderedHTMLCommon jp-RenderedHTML jp-mod-trusted jp-OutputArea-output\">\n",
       "    <div style=\"width: 24px; height: 24px; background-color: #e1e1e1; border: 3px solid #9D9D9D; border-radius: 5px; position: absolute;\">\n",
       "    </div>\n",
       "    <div style=\"margin-left: 48px;\">\n",
       "        <h3 style=\"margin-bottom: 0px; margin-top: 0px;\">LocalCluster</h3>\n",
       "        <p style=\"color: #9D9D9D; margin-bottom: 0px;\">f92e9f53</p>\n",
       "        <table style=\"width: 100%; text-align: left;\">\n",
       "            <tr>\n",
       "                <td style=\"text-align: left;\">\n",
       "                    <strong>Dashboard:</strong> <a href=\"http://127.0.0.1:33001/status\" target=\"_blank\">http://127.0.0.1:33001/status</a>\n",
       "                </td>\n",
       "                <td style=\"text-align: left;\">\n",
       "                    <strong>Workers:</strong> 4\n",
       "                </td>\n",
       "            </tr>\n",
       "            <tr>\n",
       "                <td style=\"text-align: left;\">\n",
       "                    <strong>Total threads:</strong> 8\n",
       "                </td>\n",
       "                <td style=\"text-align: left;\">\n",
       "                    <strong>Total memory:</strong> 62.79 GiB\n",
       "                </td>\n",
       "            </tr>\n",
       "            \n",
       "            <tr>\n",
       "    <td style=\"text-align: left;\"><strong>Status:</strong> running</td>\n",
       "    <td style=\"text-align: left;\"><strong>Using processes:</strong> True</td>\n",
       "</tr>\n",
       "\n",
       "            \n",
       "        </table>\n",
       "\n",
       "        <details>\n",
       "            <summary style=\"margin-bottom: 20px;\">\n",
       "                <h3 style=\"display: inline;\">Scheduler Info</h3>\n",
       "            </summary>\n",
       "\n",
       "            <div style=\"\">\n",
       "    <div>\n",
       "        <div style=\"width: 24px; height: 24px; background-color: #FFF7E5; border: 3px solid #FF6132; border-radius: 5px; position: absolute;\"> </div>\n",
       "        <div style=\"margin-left: 48px;\">\n",
       "            <h3 style=\"margin-bottom: 0px;\">Scheduler</h3>\n",
       "            <p style=\"color: #9D9D9D; margin-bottom: 0px;\">Scheduler-a77b6f2d-a0c4-4e83-9aea-67a21ff813ae</p>\n",
       "            <table style=\"width: 100%; text-align: left;\">\n",
       "                <tr>\n",
       "                    <td style=\"text-align: left;\">\n",
       "                        <strong>Comm:</strong> tcp://127.0.0.1:42215\n",
       "                    </td>\n",
       "                    <td style=\"text-align: left;\">\n",
       "                        <strong>Workers:</strong> 4\n",
       "                    </td>\n",
       "                </tr>\n",
       "                <tr>\n",
       "                    <td style=\"text-align: left;\">\n",
       "                        <strong>Dashboard:</strong> <a href=\"http://127.0.0.1:33001/status\" target=\"_blank\">http://127.0.0.1:33001/status</a>\n",
       "                    </td>\n",
       "                    <td style=\"text-align: left;\">\n",
       "                        <strong>Total threads:</strong> 8\n",
       "                    </td>\n",
       "                </tr>\n",
       "                <tr>\n",
       "                    <td style=\"text-align: left;\">\n",
       "                        <strong>Started:</strong> 13 minutes ago\n",
       "                    </td>\n",
       "                    <td style=\"text-align: left;\">\n",
       "                        <strong>Total memory:</strong> 62.79 GiB\n",
       "                    </td>\n",
       "                </tr>\n",
       "            </table>\n",
       "        </div>\n",
       "    </div>\n",
       "\n",
       "    <details style=\"margin-left: 48px;\">\n",
       "        <summary style=\"margin-bottom: 20px;\">\n",
       "            <h3 style=\"display: inline;\">Workers</h3>\n",
       "        </summary>\n",
       "\n",
       "        \n",
       "        <div style=\"margin-bottom: 20px;\">\n",
       "            <div style=\"width: 24px; height: 24px; background-color: #DBF5FF; border: 3px solid #4CC9FF; border-radius: 5px; position: absolute;\"> </div>\n",
       "            <div style=\"margin-left: 48px;\">\n",
       "            <details>\n",
       "                <summary>\n",
       "                    <h4 style=\"margin-bottom: 0px; display: inline;\">Worker: 0</h4>\n",
       "                </summary>\n",
       "                <table style=\"width: 100%; text-align: left;\">\n",
       "                    <tr>\n",
       "                        <td style=\"text-align: left;\">\n",
       "                            <strong>Comm: </strong> tcp://127.0.0.1:39777\n",
       "                        </td>\n",
       "                        <td style=\"text-align: left;\">\n",
       "                            <strong>Total threads: </strong> 2\n",
       "                        </td>\n",
       "                    </tr>\n",
       "                    <tr>\n",
       "                        <td style=\"text-align: left;\">\n",
       "                            <strong>Dashboard: </strong> <a href=\"http://127.0.0.1:37317/status\" target=\"_blank\">http://127.0.0.1:37317/status</a>\n",
       "                        </td>\n",
       "                        <td style=\"text-align: left;\">\n",
       "                            <strong>Memory: </strong> 15.70 GiB\n",
       "                        </td>\n",
       "                    </tr>\n",
       "                    <tr>\n",
       "                        <td style=\"text-align: left;\">\n",
       "                            <strong>Nanny: </strong> tcp://127.0.0.1:38271\n",
       "                        </td>\n",
       "                        <td style=\"text-align: left;\"></td>\n",
       "                    </tr>\n",
       "                    <tr>\n",
       "                        <td colspan=\"2\" style=\"text-align: left;\">\n",
       "                            <strong>Local directory: </strong> /tmp/dask-scratch-space/worker-aul07d4i\n",
       "                        </td>\n",
       "                    </tr>\n",
       "\n",
       "                    \n",
       "\n",
       "                    \n",
       "\n",
       "                </table>\n",
       "            </details>\n",
       "            </div>\n",
       "        </div>\n",
       "        \n",
       "        <div style=\"margin-bottom: 20px;\">\n",
       "            <div style=\"width: 24px; height: 24px; background-color: #DBF5FF; border: 3px solid #4CC9FF; border-radius: 5px; position: absolute;\"> </div>\n",
       "            <div style=\"margin-left: 48px;\">\n",
       "            <details>\n",
       "                <summary>\n",
       "                    <h4 style=\"margin-bottom: 0px; display: inline;\">Worker: 1</h4>\n",
       "                </summary>\n",
       "                <table style=\"width: 100%; text-align: left;\">\n",
       "                    <tr>\n",
       "                        <td style=\"text-align: left;\">\n",
       "                            <strong>Comm: </strong> tcp://127.0.0.1:36483\n",
       "                        </td>\n",
       "                        <td style=\"text-align: left;\">\n",
       "                            <strong>Total threads: </strong> 2\n",
       "                        </td>\n",
       "                    </tr>\n",
       "                    <tr>\n",
       "                        <td style=\"text-align: left;\">\n",
       "                            <strong>Dashboard: </strong> <a href=\"http://127.0.0.1:38105/status\" target=\"_blank\">http://127.0.0.1:38105/status</a>\n",
       "                        </td>\n",
       "                        <td style=\"text-align: left;\">\n",
       "                            <strong>Memory: </strong> 15.70 GiB\n",
       "                        </td>\n",
       "                    </tr>\n",
       "                    <tr>\n",
       "                        <td style=\"text-align: left;\">\n",
       "                            <strong>Nanny: </strong> tcp://127.0.0.1:42757\n",
       "                        </td>\n",
       "                        <td style=\"text-align: left;\"></td>\n",
       "                    </tr>\n",
       "                    <tr>\n",
       "                        <td colspan=\"2\" style=\"text-align: left;\">\n",
       "                            <strong>Local directory: </strong> /tmp/dask-scratch-space/worker-2vtnkruy\n",
       "                        </td>\n",
       "                    </tr>\n",
       "\n",
       "                    \n",
       "\n",
       "                    \n",
       "\n",
       "                </table>\n",
       "            </details>\n",
       "            </div>\n",
       "        </div>\n",
       "        \n",
       "        <div style=\"margin-bottom: 20px;\">\n",
       "            <div style=\"width: 24px; height: 24px; background-color: #DBF5FF; border: 3px solid #4CC9FF; border-radius: 5px; position: absolute;\"> </div>\n",
       "            <div style=\"margin-left: 48px;\">\n",
       "            <details>\n",
       "                <summary>\n",
       "                    <h4 style=\"margin-bottom: 0px; display: inline;\">Worker: 2</h4>\n",
       "                </summary>\n",
       "                <table style=\"width: 100%; text-align: left;\">\n",
       "                    <tr>\n",
       "                        <td style=\"text-align: left;\">\n",
       "                            <strong>Comm: </strong> tcp://127.0.0.1:40051\n",
       "                        </td>\n",
       "                        <td style=\"text-align: left;\">\n",
       "                            <strong>Total threads: </strong> 2\n",
       "                        </td>\n",
       "                    </tr>\n",
       "                    <tr>\n",
       "                        <td style=\"text-align: left;\">\n",
       "                            <strong>Dashboard: </strong> <a href=\"http://127.0.0.1:41375/status\" target=\"_blank\">http://127.0.0.1:41375/status</a>\n",
       "                        </td>\n",
       "                        <td style=\"text-align: left;\">\n",
       "                            <strong>Memory: </strong> 15.70 GiB\n",
       "                        </td>\n",
       "                    </tr>\n",
       "                    <tr>\n",
       "                        <td style=\"text-align: left;\">\n",
       "                            <strong>Nanny: </strong> tcp://127.0.0.1:43457\n",
       "                        </td>\n",
       "                        <td style=\"text-align: left;\"></td>\n",
       "                    </tr>\n",
       "                    <tr>\n",
       "                        <td colspan=\"2\" style=\"text-align: left;\">\n",
       "                            <strong>Local directory: </strong> /tmp/dask-scratch-space/worker-47g9xbzu\n",
       "                        </td>\n",
       "                    </tr>\n",
       "\n",
       "                    \n",
       "\n",
       "                    \n",
       "\n",
       "                </table>\n",
       "            </details>\n",
       "            </div>\n",
       "        </div>\n",
       "        \n",
       "        <div style=\"margin-bottom: 20px;\">\n",
       "            <div style=\"width: 24px; height: 24px; background-color: #DBF5FF; border: 3px solid #4CC9FF; border-radius: 5px; position: absolute;\"> </div>\n",
       "            <div style=\"margin-left: 48px;\">\n",
       "            <details>\n",
       "                <summary>\n",
       "                    <h4 style=\"margin-bottom: 0px; display: inline;\">Worker: 3</h4>\n",
       "                </summary>\n",
       "                <table style=\"width: 100%; text-align: left;\">\n",
       "                    <tr>\n",
       "                        <td style=\"text-align: left;\">\n",
       "                            <strong>Comm: </strong> tcp://127.0.0.1:45919\n",
       "                        </td>\n",
       "                        <td style=\"text-align: left;\">\n",
       "                            <strong>Total threads: </strong> 2\n",
       "                        </td>\n",
       "                    </tr>\n",
       "                    <tr>\n",
       "                        <td style=\"text-align: left;\">\n",
       "                            <strong>Dashboard: </strong> <a href=\"http://127.0.0.1:41925/status\" target=\"_blank\">http://127.0.0.1:41925/status</a>\n",
       "                        </td>\n",
       "                        <td style=\"text-align: left;\">\n",
       "                            <strong>Memory: </strong> 15.70 GiB\n",
       "                        </td>\n",
       "                    </tr>\n",
       "                    <tr>\n",
       "                        <td style=\"text-align: left;\">\n",
       "                            <strong>Nanny: </strong> tcp://127.0.0.1:44729\n",
       "                        </td>\n",
       "                        <td style=\"text-align: left;\"></td>\n",
       "                    </tr>\n",
       "                    <tr>\n",
       "                        <td colspan=\"2\" style=\"text-align: left;\">\n",
       "                            <strong>Local directory: </strong> /tmp/dask-scratch-space/worker-64ydpjke\n",
       "                        </td>\n",
       "                    </tr>\n",
       "\n",
       "                    \n",
       "\n",
       "                    \n",
       "\n",
       "                </table>\n",
       "            </details>\n",
       "            </div>\n",
       "        </div>\n",
       "        \n",
       "\n",
       "    </details>\n",
       "</div>\n",
       "\n",
       "        </details>\n",
       "    </div>\n",
       "</div>\n",
       "            </details>\n",
       "        \n",
       "\n",
       "    </div>\n",
       "</div>"
      ],
      "text/plain": [
       "<Client: 'tcp://127.0.0.1:42215' processes=4 threads=8, memory=62.79 GiB>"
      ]
     },
     "execution_count": 75,
     "metadata": {},
     "output_type": "execute_result"
    }
   ],
   "source": [
    "client.restart()"
   ]
  },
  {
   "cell_type": "markdown",
   "id": "25e89fc3",
   "metadata": {},
   "source": [
    "## Dask"
   ]
  },
  {
   "cell_type": "markdown",
   "id": "7df6bee8",
   "metadata": {},
   "source": [
    "Repetiu-se o estudo, mas agora selecionando uma amostra maior (com 2 files e 3 files). \n",
    "Começou-se por ler os ficheiros parquet selecionados, os dois primeiros do ano de 2009 (meses de Janeiro e Fevereiro) para uma amostra com 2 files, seguindo-se a leitura dos ficheiros parquet selecionados, os três primeiros meses do ano de 2009 para uma amostra composta por 3 files.\n",
    "Criou-se ainda um dataframe Dask para cada amostra de dados, bem como a inicialização dos benchmark dictionaries."
   ]
  },
  {
   "cell_type": "code",
   "execution_count": 9,
   "id": "330700a5-a1f7-44dc-9ec8-0da7a6aa0074",
   "metadata": {},
   "outputs": [],
   "source": [
    "# Read the downloaded Parquet files\n",
    "parquet_files2 = ['Ficheiros/taxi_csv/yellow_tripdata_2009-01.parquet', \n",
    "                 'Ficheiros/taxi_csv/yellow_tripdata_2009-02.parquet']\n",
    "\n",
    "parquet_files3 = [\n",
    "    'Ficheiros/taxi_csv/yellow_tripdata_2009-01.parquet', \n",
    "    'Ficheiros/taxi_csv/yellow_tripdata_2009-02.parquet',\n",
    "    'Ficheiros/taxi_csv/yellow_tripdata_2009-03.parquet'\n",
    "]\n",
    "\n",
    "dask_data2 = dd.read_parquet(parquet_files2)\n",
    "dask_data3 = dd.read_parquet(parquet_files3)\n",
    "\n",
    "# Initialize benchmark dictionaries\n",
    "dask_benchmarks2 = {'duration': [], 'task': []}\n",
    "dask_benchmarks_filtered2 = {'duration': [], 'task': []}\n",
    "dask_benchmarks_cache2 = {'duration': [], 'task': []}\n",
    "\n",
    "dask_benchmarks3 = {'duration': [], 'task': []}\n",
    "dask_benchmarks_filtered3 = {'duration': [], 'task': []}\n",
    "dask_benchmarks_cache3 = {'duration': [], 'task': []}"
   ]
  },
  {
   "cell_type": "markdown",
   "id": "ccfd7f88",
   "metadata": {},
   "source": [
    "Imprimiu-se as colunas de cada dataframe, convertendo para letra minúscula."
   ]
  },
  {
   "cell_type": "code",
   "execution_count": 10,
   "id": "aad3f73d-08af-4ce9-9851-fe13d51486f2",
   "metadata": {},
   "outputs": [
    {
     "name": "stdout",
     "output_type": "stream",
     "text": [
      "Index(['vendor_name', 'trip_pickup_datetime', 'trip_dropoff_datetime',\n",
      "       'passenger_count', 'trip_distance', 'start_lon', 'start_lat',\n",
      "       'rate_code', 'store_and_forward', 'end_lon', 'end_lat', 'payment_type',\n",
      "       'fare_amt', 'surcharge', 'mta_tax', 'tip_amt', 'tolls_amt',\n",
      "       'total_amt'],\n",
      "      dtype='object')\n",
      "Index(['vendor_name', 'trip_pickup_datetime', 'trip_dropoff_datetime',\n",
      "       'passenger_count', 'trip_distance', 'start_lon', 'start_lat',\n",
      "       'rate_code', 'store_and_forward', 'end_lon', 'end_lat', 'payment_type',\n",
      "       'fare_amt', 'surcharge', 'mta_tax', 'tip_amt', 'tolls_amt',\n",
      "       'total_amt'],\n",
      "      dtype='object')\n"
     ]
    }
   ],
   "source": [
    "# For dask_data2\n",
    "dask_data2 = dask_data2.rename(columns=str.lower)\n",
    "columns_list2 = dask_data2.columns\n",
    "print(columns_list2)\n",
    "\n",
    "# For dask_data3\n",
    "dask_data3 = dask_data3.rename(columns=str.lower)\n",
    "columns_list3 = dask_data3.columns\n",
    "print(columns_list3)"
   ]
  },
  {
   "cell_type": "markdown",
   "id": "ca3d3178",
   "metadata": {},
   "source": [
    "Definiu-se um index novo, para assegurar que cada partição estava alinhada. Por fim, juntou-se as partições num único dataframe dfs."
   ]
  },
  {
   "cell_type": "code",
   "execution_count": 11,
   "id": "e74e23fe",
   "metadata": {},
   "outputs": [],
   "source": [
    "# Define the list of Dask dataframes\n",
    "dfs = [dask_data2, dask_data3]"
   ]
  },
  {
   "cell_type": "markdown",
   "id": "902b9329",
   "metadata": {},
   "source": [
    "Definiu-se as funções para cálculo das benchmarks, para ambas as partições."
   ]
  },
  {
   "cell_type": "code",
   "execution_count": 12,
   "id": "433cc4fc",
   "metadata": {},
   "outputs": [],
   "source": [
    "def count(df=None):\n",
    "    return len(df)\n",
    " \n",
    "def count_index_length(df=None):\n",
    "    return len(df.index)\n",
    " \n",
    "def mean(df):\n",
    "    return df.fare_amt.mean().compute()\n",
    " \n",
    "def standard_deviation(df):\n",
    "    return df.fare_amt.std().compute()\n",
    " \n",
    "def mean_of_sum(df):\n",
    "    return (df.fare_amt + df.tip_amt).mean().compute()\n",
    " \n",
    "def sum_columns(df):\n",
    "    return (df.fare_amt + df.tip_amt).compute()\n",
    " \n",
    "def mean_of_product(df):\n",
    "    return (df.fare_amt * df.tip_amt).mean().compute()\n",
    " \n",
    "def product_columns(df):\n",
    "    return (df.fare_amt * df.tip_amt).compute()\n",
    "  \n",
    "def value_counts(df):\n",
    "    return df.fare_amt.value_counts().compute()\n",
    "  \n",
    "def mean_of_complicated_arithmetic_operation(df):\n",
    "    theta_1 = df.start_lon\n",
    "    phi_1 = df.start_lat\n",
    "    theta_2 = df.end_lon\n",
    "    phi_2 = df.end_lat\n",
    "    temp = (np.sin((theta_2-theta_1)/2*np.pi/180)**2\n",
    "           + np.cos(theta_1*np.pi/180)*np.cos(theta_2*np.pi/180) * np.sin((phi_2-phi_1)/2*np.pi/180)**2)\n",
    "    ret = 2 * np.arctan2(np.sqrt(temp), np.sqrt(1-temp))\n",
    "    return ret.mean().compute()\n",
    "  \n",
    "def complicated_arithmetic_operation(df):\n",
    "    theta_1 = df.start_lon\n",
    "    phi_1 = df.start_lat\n",
    "    theta_2 = df.end_lon\n",
    "    phi_2 = df.end_lat\n",
    "    temp = (np.sin((theta_2-theta_1)/2*np.pi/180)**2\n",
    "           + np.cos(theta_1*np.pi/180)*np.cos(theta_2*np.pi/180) * np.sin((phi_2-phi_1)/2*np.pi/180)**2)\n",
    "    ret = 2 * np.arctan2(np.sqrt(temp), np.sqrt(1-temp))\n",
    "    return ret.compute()\n",
    "  \n",
    "def groupby_statistics(df):\n",
    "    return df.groupby(by='passenger_count').agg(\n",
    "      {\n",
    "        'fare_amt': ['mean', 'std'], \n",
    "        'tip_amt': ['mean', 'std']\n",
    "      }\n",
    "    ).compute()\n",
    "\n",
    "for df in dfs:\n",
    "    other = groupby_statistics(df)\n",
    "    other.columns = pd.Index([e[0]+'' + e[1] for e in other.columns.tolist()])\n",
    "\n",
    "def join_count(df, other):\n",
    "    return len(dd.merge(df, other, left_index=True, right_index=True))\n",
    " \n",
    "def join_data(df, other):\n",
    "    return dd.merge(df, other, left_index=True, right_index=True).compute()"
   ]
  },
  {
   "cell_type": "markdown",
   "id": "bb82ed15",
   "metadata": {},
   "source": [
    "Para cada partição no dataframe dfs, calcular a benchmark, onde o index 2 corresponde à amostra de dados com 2 files, e o 3 à amostra de dados com 3 files."
   ]
  },
  {
   "cell_type": "code",
   "execution_count": 13,
   "id": "aebb26c3-265b-461c-ae07-398ce76e8707",
   "metadata": {},
   "outputs": [
    {
     "name": "stdout",
     "output_type": "stream",
     "text": [
      "count took: 15.899789333343506 seconds\n",
      "count index length took: 16.248594284057617 seconds\n",
      "mean took: 16.162986755371094 seconds\n",
      "standard deviation took: 16.277905225753784 seconds\n",
      "mean of columns addition took: 16.010782957077026 seconds\n",
      "addition of columns took: 16.536823511123657 seconds\n",
      "mean of columns multiplication took: 16.159387588500977 seconds\n",
      "multiplication of columns took: 16.751289129257202 seconds\n",
      "value counts took: 16.067793607711792 seconds\n",
      "mean of complex arithmetic ops took: 17.78482747077942 seconds\n",
      "complex arithmetic ops took: 17.640883445739746 seconds\n",
      "groupby statistics took: 16.618999481201172 seconds\n",
      "count took: 17.269860982894897 seconds\n",
      "count index length took: 17.44639754295349 seconds\n",
      "mean took: 17.639087200164795 seconds\n",
      "standard deviation took: 17.02828812599182 seconds\n",
      "mean of columns addition took: 17.114664316177368 seconds\n",
      "addition of columns took: 17.81433391571045 seconds\n",
      "mean of columns multiplication took: 17.099321842193604 seconds\n",
      "multiplication of columns took: 17.941715002059937 seconds\n",
      "value counts took: 17.471001863479614 seconds\n",
      "mean of complex arithmetic ops took: 18.793306350708008 seconds\n",
      "complex arithmetic ops took: 19.44647717475891 seconds\n",
      "groupby statistics took: 17.71291494369507 seconds\n"
     ]
    }
   ],
   "source": [
    "# Loop over each dataframe and perform benchmarks\n",
    "for i, df in enumerate(dfs):\n",
    "    benchmark(count, df=df, benchmarks=globals()[f'dask_benchmarks{i+2}'], name=f'count')\n",
    "    benchmark(count_index_length, df=df, benchmarks=globals()[f'dask_benchmarks{i+2}'], name=f'count index length')\n",
    "    benchmark(mean, df=df, benchmarks=globals()[f'dask_benchmarks{i+2}'], name=f'mean')\n",
    "    benchmark(standard_deviation, df=df, benchmarks=globals()[f'dask_benchmarks{i+2}'], name=f'standard deviation')\n",
    "    benchmark(mean_of_sum, df=df, benchmarks=globals()[f'dask_benchmarks{i+2}'], name=f'mean of columns addition')\n",
    "    benchmark(sum_columns, df=df, benchmarks=globals()[f'dask_benchmarks{i+2}'], name=f'addition of columns')\n",
    "    benchmark(mean_of_product, df=df, benchmarks=globals()[f'dask_benchmarks{i+2}'], name=f'mean of columns multiplication')\n",
    "    benchmark(product_columns, df=df, benchmarks=globals()[f'dask_benchmarks{i+2}'], name=f'multiplication of columns')\n",
    "    benchmark(value_counts, df=df, benchmarks=globals()[f'dask_benchmarks{i+2}'], name=f'value counts')\n",
    "    benchmark(mean_of_complicated_arithmetic_operation, df=df, benchmarks=globals()[f'dask_benchmarks{i+2}'], name=f'mean of complex arithmetic ops')\n",
    "    benchmark(complicated_arithmetic_operation, df=df, benchmarks=globals()[f'dask_benchmarks{i+2}'], name=f'complex arithmetic ops')\n",
    "    benchmark(groupby_statistics, df=df, benchmarks=globals()[f'dask_benchmarks{i+2}'], name=f'groupby statistics')\n",
    "    #benchmark(join_count, df, benchmarks=globals()[f'dask_benchmarks{i+2}'], name=f'join count {i+2}', other=other)\n",
    "    #benchmark(join_data, df, benchmarks=globals()[f'dask_benchmarks{i+2}'], name=f'join {i+2}', other=other)\n"
   ]
  },
  {
   "cell_type": "code",
   "execution_count": 17,
   "id": "b7e298c7-e71c-4d10-84d7-d89b46af3109",
   "metadata": {},
   "outputs": [
    {
     "name": "stdout",
     "output_type": "stream",
     "text": [
      "                                 duration\n",
      "task                                     \n",
      "count                           15.899789\n",
      "count index length              16.248594\n",
      "mean                            16.162987\n",
      "standard deviation              16.277905\n",
      "mean of columns addition        16.010783\n",
      "addition of columns             16.536824\n",
      "mean of columns multiplication  16.159388\n",
      "multiplication of columns       16.751289\n",
      "value counts                    16.067794\n",
      "mean of complex arithmetic ops  17.784827\n",
      "complex arithmetic ops          17.640883\n",
      "groupby statistics              16.618999\n",
      "                                 duration\n",
      "task                                     \n",
      "count                           17.269861\n",
      "count index length              17.446398\n",
      "mean                            17.639087\n",
      "standard deviation              17.028288\n",
      "mean of columns addition        17.114664\n",
      "addition of columns             17.814334\n",
      "mean of columns multiplication  17.099322\n",
      "multiplication of columns       17.941715\n",
      "value counts                    17.471002\n",
      "mean of complex arithmetic ops  18.793306\n",
      "complex arithmetic ops          19.446477\n",
      "groupby statistics              17.712915\n",
      "O arquivo Parquet foi salvo em Resultados/dask_standard2.\n",
      "O arquivo Parquet foi salvo em Resultados/dask_standard3.\n"
     ]
    }
   ],
   "source": [
    "# Obter os resultados e remover duplicatas\n",
    "dask_res_temp2 = get_results(dask_benchmarks2).drop_duplicates(subset='task').set_index('task')\n",
    "dask_res_temp3 = get_results(dask_benchmarks3).drop_duplicates(subset='task').set_index('task')\n",
    "\n",
    "#Print dos dataframes\n",
    "print(dask_res_temp2)\n",
    "print(dask_res_temp3)\n",
    "\n",
    "# Definir o nome do arquivo ou diretório\n",
    "filename2 = 'Resultados/dask_standard2'\n",
    "filename3 = 'Resultados/dask_standard3'\n",
    "\n",
    "# Salvar o DataFrame em formato Parquet\n",
    "dask_res_temp2.to_parquet(filename2)\n",
    "dask_res_temp3.to_parquet(filename3)\n",
    "\n",
    "print(f'O arquivo Parquet foi salvo em {filename2}.')\n",
    "print(f'O arquivo Parquet foi salvo em {filename3}.')"
   ]
  },
  {
   "cell_type": "markdown",
   "id": "8d6e5c53",
   "metadata": {},
   "source": [
    "### Operações com filtro"
   ]
  },
  {
   "cell_type": "markdown",
   "id": "61f99449",
   "metadata": {},
   "source": [
    "Para analisar um subconjunto específico dos dados originais, foi criada uma expressão booleana para filtrar os dados Dask para a amostra de 2 files e de 3 files. A expressão seleciona os registros em que o valor da coluna tip_amt está entre 1 e 5. A função filter_data foi aplicada aos dados Dask, que recebe um DataFrame como entrada e retorna apenas os registros que satisfazem a expressão de filtro."
   ]
  },
  {
   "cell_type": "code",
   "execution_count": 18,
   "id": "b1c9b646",
   "metadata": {},
   "outputs": [],
   "source": [
    "def filter_data(df, expr_filter):\n",
    "    return df[expr_filter]\n",
    "\n",
    "\n",
    "expr_filter2 = (dask_data2.tip_amt >= 1) & (dask_data2.tip_amt <= 5)\n",
    "\n",
    "dask_filter2 = filter_data(dask_data2, expr_filter2)\n",
    "    \n",
    "expr_filter3 = (dask_data3.tip_amt >= 1) & (dask_data3.tip_amt <= 5)\n",
    "dask_filter3 = filter_data(dask_data3, expr_filter3)"
   ]
  },
  {
   "cell_type": "markdown",
   "id": "8ad8799b",
   "metadata": {},
   "source": [
    "Os registos são então guardados numa lista dask_filtered."
   ]
  },
  {
   "cell_type": "code",
   "execution_count": 19,
   "id": "fa50d3e6",
   "metadata": {},
   "outputs": [],
   "source": [
    "dask_filtered = [dask_filter2, dask_filter3]"
   ]
  },
  {
   "cell_type": "markdown",
   "id": "ab3f1e03",
   "metadata": {},
   "source": [
    "Para cada dataframe à qual foi aplicado filtro, da lista dask_filtered, calculou-se a benchmark, onde o index 2 corresponde à amostra de dados com 2 files, e o 3 à amostra de dados com 3 files."
   ]
  },
  {
   "cell_type": "code",
   "execution_count": 20,
   "id": "4caf5547-4d1a-4bd9-a4a9-f3aef7aaf8f9",
   "metadata": {},
   "outputs": [
    {
     "name": "stdout",
     "output_type": "stream",
     "text": [
      "filtered count took: 16.065587520599365 seconds\n",
      "filtered count index length took: 16.400595664978027 seconds\n",
      "filtered mean took: 16.244606256484985 seconds\n",
      "filtered standard deviation took: 16.677885055541992 seconds\n",
      "filtered mean of columns addition took: 16.55248761177063 seconds\n",
      "filtered addition of columns took: 16.404393196105957 seconds\n",
      "filtered mean of columns multiplication took: 16.52203392982483 seconds\n",
      "filtered multiplication of columns took: 16.72886371612549 seconds\n",
      "filtered mean of complex arithmetic ops took: 16.66231107711792 seconds\n",
      "filtered complex arithmetic ops took: 17.108859300613403 seconds\n",
      "filtered value counts took: 16.808639526367188 seconds\n",
      "filtered groupby statistics took: 16.810043811798096 seconds\n",
      "filtered count took: 17.462103605270386 seconds\n",
      "filtered count index length took: 17.478203535079956 seconds\n",
      "filtered mean took: 17.902372121810913 seconds\n",
      "filtered standard deviation took: 18.225915670394897 seconds\n",
      "filtered mean of columns addition took: 18.008094787597656 seconds\n",
      "filtered addition of columns took: 17.893165111541748 seconds\n",
      "filtered mean of columns multiplication took: 17.76445245742798 seconds\n",
      "filtered multiplication of columns took: 18.501349449157715 seconds\n",
      "filtered mean of complex arithmetic ops took: 18.029494285583496 seconds\n",
      "filtered complex arithmetic ops took: 17.818010568618774 seconds\n",
      "filtered value counts took: 17.507014274597168 seconds\n",
      "filtered groupby statistics took: 17.890965223312378 seconds\n"
     ]
    }
   ],
   "source": [
    "# Run benchmarks on filtered dataframes\n",
    "for i, df in enumerate(dask_filtered):\n",
    "    benchmark(count, df, benchmarks=globals()[f'dask_benchmarks_filtered{i+2}'], name=f'filtered count')\n",
    "    benchmark(count_index_length, df, benchmarks=globals()[f'dask_benchmarks_filtered{i+2}'], name=f'filtered count index length')\n",
    "    benchmark(mean, df, benchmarks=globals()[f'dask_benchmarks_filtered{i+2}'], name=f'filtered mean')\n",
    "    benchmark(standard_deviation, df, benchmarks=globals()[f'dask_benchmarks_filtered{i+2}'], name=f'filtered standard deviation')\n",
    "    benchmark(mean_of_sum, df, benchmarks=globals()[f'dask_benchmarks_filtered{i+2}'], name=f'filtered mean of columns addition')\n",
    "    benchmark(sum_columns, df, benchmarks=globals()[f'dask_benchmarks_filtered{i+2}'], name=f'filtered addition of columns')\n",
    "    benchmark(mean_of_product, df, benchmarks=globals()[f'dask_benchmarks_filtered{i+2}'], name=f'filtered mean of columns multiplication')\n",
    "    benchmark(product_columns, df, benchmarks=globals()[f'dask_benchmarks_filtered{i+2}'], name=f'filtered multiplication of columns')\n",
    "    benchmark(mean_of_complicated_arithmetic_operation, df, benchmarks=globals()[f'dask_benchmarks_filtered{i+2}'], name=f'filtered mean of complex arithmetic ops')\n",
    "    benchmark(complicated_arithmetic_operation, df, benchmarks=globals()[f'dask_benchmarks_filtered{i+2}'], name=f'filtered complex arithmetic ops')\n",
    "    benchmark(value_counts, df, benchmarks=globals()[f'dask_benchmarks_filtered{i+2}'], name=f'filtered value counts')\n",
    "    benchmark(groupby_statistics, df, benchmarks=globals()[f'dask_benchmarks_filtered{i+2}'], name=f'filtered groupby statistics')"
   ]
  },
  {
   "cell_type": "markdown",
   "id": "a104cc8d",
   "metadata": {},
   "source": [
    "O arquivo Parquet foi salvo em Ficheiros/dask_filter2104637.\n",
    "O arquivo Parquet foi salvo em Ficheiros/dask_filter3104804."
   ]
  },
  {
   "cell_type": "code",
   "execution_count": 21,
   "id": "06431530",
   "metadata": {},
   "outputs": [
    {
     "name": "stdout",
     "output_type": "stream",
     "text": [
      "                                          duration\n",
      "task                                              \n",
      "filtered count                           16.065588\n",
      "filtered count index length              16.400596\n",
      "filtered mean                            16.244606\n",
      "filtered standard deviation              16.677885\n",
      "filtered mean of columns addition        16.552488\n",
      "filtered addition of columns             16.404393\n",
      "filtered mean of columns multiplication  16.522034\n",
      "filtered multiplication of columns       16.728864\n",
      "filtered mean of complex arithmetic ops  16.662311\n",
      "filtered complex arithmetic ops          17.108859\n",
      "filtered value counts                    16.808640\n",
      "filtered groupby statistics              16.810044\n",
      "                                          duration\n",
      "task                                              \n",
      "filtered count                           17.462104\n",
      "filtered count index length              17.478204\n",
      "filtered mean                            17.902372\n",
      "filtered standard deviation              18.225916\n",
      "filtered mean of columns addition        18.008095\n",
      "filtered addition of columns             17.893165\n",
      "filtered mean of columns multiplication  17.764452\n",
      "filtered multiplication of columns       18.501349\n",
      "filtered mean of complex arithmetic ops  18.029494\n",
      "filtered complex arithmetic ops          17.818011\n",
      "filtered value counts                    17.507014\n",
      "filtered groupby statistics              17.890965\n",
      "O arquivo Parquet foi salvo em Resultados/dask_filtered2.\n",
      "O arquivo Parquet foi salvo em Resultados/dask_filtered3.\n"
     ]
    }
   ],
   "source": [
    "# Obter os resultados e remover duplicatas\n",
    "dask_res_filter2 = get_results(dask_benchmarks_filtered2).drop_duplicates(subset='task').set_index('task')\n",
    "dask_res_filter3 = get_results(dask_benchmarks_filtered3).drop_duplicates(subset='task').set_index('task')\n",
    "\n",
    "#Print dos dataframes\n",
    "print(dask_res_filter2)\n",
    "print(dask_res_filter3)\n",
    "\n",
    "# Definir o nome do arquivo ou diretório\n",
    "filename_filter2 = 'Resultados/dask_filtered2'\n",
    "filename_filter3 = 'Resultados/dask_filtered3'\n",
    "\n",
    "# Salvar o DataFrame em formato Parquet\n",
    "dask_res_filter2.to_parquet(filename_filter2)\n",
    "dask_res_filter3.to_parquet(filename_filter3)\n",
    "\n",
    "print(f'O arquivo Parquet foi salvo em {filename_filter2}.')\n",
    "print(f'O arquivo Parquet foi salvo em {filename_filter3}.')"
   ]
  },
  {
   "cell_type": "markdown",
   "id": "6e54b2b0",
   "metadata": {},
   "source": [
    "### Operações com filtro e caching"
   ]
  },
  {
   "cell_type": "markdown",
   "id": "e71d787f",
   "metadata": {},
   "source": [
    "Adiciona cache aos DataFrames filtrados, garantindo que os cálculos sejam persistidos e espera até que todos os cálculos sejam concluídos antes de continuar, fornecendo mensagens de status ao longo do processo. Elenca-se o mesmo, a seguir, de forma mais detalhada:\n",
    "\n",
    "- **Cache e Wait**: O código percorre um conjunto de DataFrames filtrados (`dask_filtered`) e adiciona cache para cada um desses DataFrames, garantindo que os cálculos sejam persistentes e não recalculados quando acessados novamente.\n",
    "- **Persistência dos DataFrames**: Para cada DataFrame no conjunto (`dask_filtered`), ele é persistido usando o método `client.persist(df)`, o que significa que os dados são armazenados em memória para acesso rápido e reutilização.\n",
    "- **Espera por Conclusão**: Após persistir cada DataFrame, o código utiliza `wait(dask_filtered[i])` para esperar até que todas as operações futuras associadas a esse DataFrame sejam concluídas. Isso garante que os cálculos estejam finalizados antes de continuar para o próximo DataFrame.\n",
    "- **Mensagens Informativas**: Durante o processo, o código imprime mensagens informativas para indicar quando começa a esperar pela conclusão dos cálculos de cada conjunto de DataFrames e quando esses cálculos são finalizados."
   ]
  },
  {
   "cell_type": "code",
   "execution_count": 22,
   "id": "324953ef-1a18-49d7-8518-379556e562e1",
   "metadata": {},
   "outputs": [
    {
     "name": "stdout",
     "output_type": "stream",
     "text": [
      "Waiting until all futures for set 2 are finished\n",
      "All futures for set 2 are finished\n",
      "Waiting until all futures for set 3 are finished\n",
      "All futures for set 3 are finished\n"
     ]
    }
   ],
   "source": [
    "from distributed import wait\n",
    "\n",
    "\n",
    "# Add caching and wait for each set of filtered dataframes\n",
    "for i, df in enumerate(dask_filtered):\n",
    "    dask_filtered[i] = client.persist(df)\n",
    "    print(f'Waiting until all futures for set {i+2} are finished')\n",
    "    wait(dask_filtered[i])\n",
    "    print(f'All futures for set {i+2} are finished')"
   ]
  },
  {
   "cell_type": "markdown",
   "id": "3eb11539",
   "metadata": {},
   "source": [
    "Percorre uma lista de DataFrames armazenados em cache, executando uma série de testes de desempenho (benchmarks) em cada um. Os benchmarks avaliam diversas operações (como contagem, média, desvio padrão, operações aritméticas complexas, etc.) e armazenam os resultados em estruturas de dados específicas para posterior análise. Cada benchmark é nomeado de maneira a refletir a operação realizada e o índice do DataFrame na lista.\n",
    "De forma mais detalhada:\n",
    "- **Iteração sobre DataFrames Filtrados**: O código percorre uma lista de DataFrames (`dask_filtered`), que foram previamente filtrados e armazenados em cache.\n",
    "- **Execução de Benchmarks**: Para cada DataFrame, uma série de funções de benchmark são executadas. Estas funções de benchmark avaliam o desempenho de várias operações em cada DataFrame. As operações incluem:\n",
    "    - Contagem (`count`)\n",
    "    - Contagem do comprimento do índice (`count_index_length`)\n",
    "    - Cálculo da média (`mean`)\n",
    "    - Cálculo do desvio padrão (`standard_deviation`)\n",
    "    - Média da soma de colunas (`mean_of_sum`)\n",
    "    - Soma de colunas (`sum_columns`)\n",
    "    - Média do produto de colunas (`mean_of_product`)\n",
    "    - Produto de colunas (`product_columns`)\n",
    "    - Média de operações aritméticas complexas (`mean_of_complicated_arithmetic_operation`)\n",
    "    - Operações aritméticas complexas (`complicated_arithmetic_operation`)\n",
    "    - Contagem de valores (`value_counts`)\n",
    "    - Estatísticas de agrupamento (`groupby_statistics`)\n",
    "\n",
    "- **Armazenamento dos Resultados**: Os resultados de cada benchmark são armazenados num objeto `benchmarks` específico, que é obtido dinamicamente usando `globals()`. Esse objeto é diferente para cada conjunto de benchmarks (`dask_benchmarks_cache{i+2}`), onde `{i+2}` é um identificador único para cada DataFrame na lista.\n",
    "\n",
    "4. **Nomenclatura das Operações**: Cada benchmark é nomeado de forma descritiva para indicar a operação e o índice do DataFrame sendo testado (por exemplo, `cache count {i+2}`, `cache mean {i+2}`, etc.). Aqui o index 2 corresponde á amostra de 2 files e o index 3 à amostra de 3 files."
   ]
  },
  {
   "cell_type": "code",
   "execution_count": 23,
   "id": "3cbbfca7-df9b-4dcd-a3ef-e7235a448636",
   "metadata": {},
   "outputs": [
    {
     "name": "stdout",
     "output_type": "stream",
     "text": [
      "cache count took: 0.017897367477416992 seconds\n",
      "cache count index length took: 0.021130800247192383 seconds\n",
      "cache mean took: 0.04078221321105957 seconds\n",
      "cache standard deviation took: 0.04951286315917969 seconds\n",
      "cache mean of columns addition took: 0.05072927474975586 seconds\n",
      "cache addition of columns took: 0.20015764236450195 seconds\n",
      "cache mean of columns multiplication took: 0.04192209243774414 seconds\n",
      "cache multiplication of columns took: 0.20235466957092285 seconds\n",
      "cache mean of complex arithmetic ops took: 0.30350351333618164 seconds\n",
      "cache complex arithmetic ops took: 0.4623565673828125 seconds\n",
      "cache value counts took: 0.038599491119384766 seconds\n",
      "cache groupby statistics took: 0.15685081481933594 seconds\n",
      "cache count took: 0.017228126525878906 seconds\n",
      "cache count index length took: 0.0210416316986084 seconds\n",
      "cache mean took: 0.045587778091430664 seconds\n",
      "cache standard deviation took: 0.06216096878051758 seconds\n",
      "cache mean of columns addition took: 0.04430794715881348 seconds\n",
      "cache addition of columns took: 0.28870296478271484 seconds\n",
      "cache mean of columns multiplication took: 0.04624009132385254 seconds\n",
      "cache multiplication of columns took: 0.24752449989318848 seconds\n",
      "cache mean of complex arithmetic ops took: 0.3341948986053467 seconds\n",
      "cache complex arithmetic ops took: 0.5480988025665283 seconds\n",
      "cache value counts took: 0.04714226722717285 seconds\n",
      "cache groupby statistics took: 0.16636347770690918 seconds\n"
     ]
    }
   ],
   "source": [
    "# Run benchmarks on cached dataframes\n",
    "for i, df in enumerate(dask_filtered):\n",
    "    benchmark(count, df, benchmarks=globals()[f'dask_benchmarks_cache{i+2}'], name=f'cache count')\n",
    "    benchmark(count_index_length, df, benchmarks=globals()[f'dask_benchmarks_cache{i+2}'], name=f'cache count index length')\n",
    "    benchmark(mean, df, benchmarks=globals()[f'dask_benchmarks_cache{i+2}'], name=f'cache mean')\n",
    "    benchmark(standard_deviation, df, benchmarks=globals()[f'dask_benchmarks_cache{i+2}'], name=f'cache standard deviation')\n",
    "    benchmark(mean_of_sum, df, benchmarks=globals()[f'dask_benchmarks_cache{i+2}'], name=f'cache mean of columns addition')\n",
    "    benchmark(sum_columns, df, benchmarks=globals()[f'dask_benchmarks_cache{i+2}'], name=f'cache addition of columns')\n",
    "    benchmark(mean_of_product, df, benchmarks=globals()[f'dask_benchmarks_cache{i+2}'], name=f'cache mean of columns multiplication')\n",
    "    benchmark(product_columns, df, benchmarks=globals()[f'dask_benchmarks_cache{i+2}'], name=f'cache multiplication of columns')\n",
    "    benchmark(mean_of_complicated_arithmetic_operation, df, benchmarks=globals()[f'dask_benchmarks_cache{i+2}'], name=f'cache mean of complex arithmetic ops')\n",
    "    benchmark(complicated_arithmetic_operation, df, benchmarks=globals()[f'dask_benchmarks_cache{i+2}'], name=f'cache complex arithmetic ops')\n",
    "    benchmark(value_counts, df, benchmarks=globals()[f'dask_benchmarks_cache{i+2}'], name=f'cache value counts')\n",
    "    benchmark(groupby_statistics, df, benchmarks=globals()[f'dask_benchmarks_cache{i+2}'], name=f'cache groupby statistics')\n"
   ]
  },
  {
   "cell_type": "markdown",
   "id": "81600866",
   "metadata": {},
   "source": [
    "O arquivo Parquet foi salvo em Ficheiros/dask_cache2113126.\n",
    "O arquivo Parquet foi salvo em Ficheiros/dask_cache3113128."
   ]
  },
  {
   "cell_type": "code",
   "execution_count": 24,
   "id": "6200b308",
   "metadata": {},
   "outputs": [
    {
     "name": "stdout",
     "output_type": "stream",
     "text": [
      "                                      duration\n",
      "task                                          \n",
      "cache count                           0.017897\n",
      "cache count index length              0.021131\n",
      "cache mean                            0.040782\n",
      "cache standard deviation              0.049513\n",
      "cache mean of columns addition        0.050729\n",
      "cache addition of columns             0.200158\n",
      "cache mean of columns multiplication  0.041922\n",
      "cache multiplication of columns       0.202355\n",
      "cache mean of complex arithmetic ops  0.303504\n",
      "cache complex arithmetic ops          0.462357\n",
      "cache value counts                    0.038599\n",
      "cache groupby statistics              0.156851\n",
      "                                      duration\n",
      "task                                          \n",
      "cache count                           0.017228\n",
      "cache count index length              0.021042\n",
      "cache mean                            0.045588\n",
      "cache standard deviation              0.062161\n",
      "cache mean of columns addition        0.044308\n",
      "cache addition of columns             0.288703\n",
      "cache mean of columns multiplication  0.046240\n",
      "cache multiplication of columns       0.247524\n",
      "cache mean of complex arithmetic ops  0.334195\n",
      "cache complex arithmetic ops          0.548099\n",
      "cache value counts                    0.047142\n",
      "cache groupby statistics              0.166363\n",
      "O arquivo Parquet foi salvo em Resultados/dask_cache2.\n",
      "O arquivo Parquet foi salvo em Resultados/dask_cache3.\n"
     ]
    }
   ],
   "source": [
    "# Obter os resultados e remover duplicatas\n",
    "dask_res_cache2 = get_results(dask_benchmarks_cache2).drop_duplicates(subset='task').set_index('task')\n",
    "dask_res_cache3 = get_results(dask_benchmarks_cache3).drop_duplicates(subset='task').set_index('task')\n",
    "\n",
    "#Print dos dataframes\n",
    "print(dask_res_cache2)\n",
    "print(dask_res_cache3)\n",
    "\n",
    "# Definir o nome do arquivo ou diretório\n",
    "filename_cache2 = 'Resultados/dask_cache2'\n",
    "filename_cache3 = 'Resultados/dask_cache3'\n",
    "\n",
    "# Salvar o DataFrame em formato Parquet\n",
    "dask_res_cache2.to_parquet(filename_cache2)\n",
    "dask_res_cache3.to_parquet(filename_cache3)\n",
    "\n",
    "print(f'O arquivo Parquet foi salvo em {filename_cache2}.')\n",
    "print(f'O arquivo Parquet foi salvo em {filename_cache3}.')"
   ]
  },
  {
   "cell_type": "code",
   "execution_count": 8,
   "id": "211be653-6b29-4565-9630-8c8eef64b0a8",
   "metadata": {},
   "outputs": [
    {
     "data": {
      "text/html": [
       "<div>\n",
       "    <div style=\"width: 24px; height: 24px; background-color: #e1e1e1; border: 3px solid #9D9D9D; border-radius: 5px; position: absolute;\"> </div>\n",
       "    <div style=\"margin-left: 48px;\">\n",
       "        <h3 style=\"margin-bottom: 0px;\">Client</h3>\n",
       "        <p style=\"color: #9D9D9D; margin-bottom: 0px;\">Client-d71c305c-2382-11ef-9e57-05beeca76210</p>\n",
       "        <table style=\"width: 100%; text-align: left;\">\n",
       "\n",
       "        <tr>\n",
       "        \n",
       "            <td style=\"text-align: left;\"><strong>Connection method:</strong> Cluster object</td>\n",
       "            <td style=\"text-align: left;\"><strong>Cluster type:</strong> distributed.LocalCluster</td>\n",
       "        \n",
       "        </tr>\n",
       "\n",
       "        \n",
       "            <tr>\n",
       "                <td style=\"text-align: left;\">\n",
       "                    <strong>Dashboard: </strong> <a href=\"http://127.0.0.1:8787/status\" target=\"_blank\">http://127.0.0.1:8787/status</a>\n",
       "                </td>\n",
       "                <td style=\"text-align: left;\"></td>\n",
       "            </tr>\n",
       "        \n",
       "\n",
       "        </table>\n",
       "\n",
       "        \n",
       "\n",
       "        \n",
       "            <details>\n",
       "            <summary style=\"margin-bottom: 20px;\"><h3 style=\"display: inline;\">Cluster Info</h3></summary>\n",
       "            <div class=\"jp-RenderedHTMLCommon jp-RenderedHTML jp-mod-trusted jp-OutputArea-output\">\n",
       "    <div style=\"width: 24px; height: 24px; background-color: #e1e1e1; border: 3px solid #9D9D9D; border-radius: 5px; position: absolute;\">\n",
       "    </div>\n",
       "    <div style=\"margin-left: 48px;\">\n",
       "        <h3 style=\"margin-bottom: 0px; margin-top: 0px;\">LocalCluster</h3>\n",
       "        <p style=\"color: #9D9D9D; margin-bottom: 0px;\">04b0d320</p>\n",
       "        <table style=\"width: 100%; text-align: left;\">\n",
       "            <tr>\n",
       "                <td style=\"text-align: left;\">\n",
       "                    <strong>Dashboard:</strong> <a href=\"http://127.0.0.1:8787/status\" target=\"_blank\">http://127.0.0.1:8787/status</a>\n",
       "                </td>\n",
       "                <td style=\"text-align: left;\">\n",
       "                    <strong>Workers:</strong> 4\n",
       "                </td>\n",
       "            </tr>\n",
       "            <tr>\n",
       "                <td style=\"text-align: left;\">\n",
       "                    <strong>Total threads:</strong> 8\n",
       "                </td>\n",
       "                <td style=\"text-align: left;\">\n",
       "                    <strong>Total memory:</strong> 62.79 GiB\n",
       "                </td>\n",
       "            </tr>\n",
       "            \n",
       "            <tr>\n",
       "    <td style=\"text-align: left;\"><strong>Status:</strong> running</td>\n",
       "    <td style=\"text-align: left;\"><strong>Using processes:</strong> True</td>\n",
       "</tr>\n",
       "\n",
       "            \n",
       "        </table>\n",
       "\n",
       "        <details>\n",
       "            <summary style=\"margin-bottom: 20px;\">\n",
       "                <h3 style=\"display: inline;\">Scheduler Info</h3>\n",
       "            </summary>\n",
       "\n",
       "            <div style=\"\">\n",
       "    <div>\n",
       "        <div style=\"width: 24px; height: 24px; background-color: #FFF7E5; border: 3px solid #FF6132; border-radius: 5px; position: absolute;\"> </div>\n",
       "        <div style=\"margin-left: 48px;\">\n",
       "            <h3 style=\"margin-bottom: 0px;\">Scheduler</h3>\n",
       "            <p style=\"color: #9D9D9D; margin-bottom: 0px;\">Scheduler-ed18c894-3d21-4d82-bc70-35f11deebbc9</p>\n",
       "            <table style=\"width: 100%; text-align: left;\">\n",
       "                <tr>\n",
       "                    <td style=\"text-align: left;\">\n",
       "                        <strong>Comm:</strong> tcp://127.0.0.1:38873\n",
       "                    </td>\n",
       "                    <td style=\"text-align: left;\">\n",
       "                        <strong>Workers:</strong> 4\n",
       "                    </td>\n",
       "                </tr>\n",
       "                <tr>\n",
       "                    <td style=\"text-align: left;\">\n",
       "                        <strong>Dashboard:</strong> <a href=\"http://127.0.0.1:8787/status\" target=\"_blank\">http://127.0.0.1:8787/status</a>\n",
       "                    </td>\n",
       "                    <td style=\"text-align: left;\">\n",
       "                        <strong>Total threads:</strong> 8\n",
       "                    </td>\n",
       "                </tr>\n",
       "                <tr>\n",
       "                    <td style=\"text-align: left;\">\n",
       "                        <strong>Started:</strong> Just now\n",
       "                    </td>\n",
       "                    <td style=\"text-align: left;\">\n",
       "                        <strong>Total memory:</strong> 62.79 GiB\n",
       "                    </td>\n",
       "                </tr>\n",
       "            </table>\n",
       "        </div>\n",
       "    </div>\n",
       "\n",
       "    <details style=\"margin-left: 48px;\">\n",
       "        <summary style=\"margin-bottom: 20px;\">\n",
       "            <h3 style=\"display: inline;\">Workers</h3>\n",
       "        </summary>\n",
       "\n",
       "        \n",
       "        <div style=\"margin-bottom: 20px;\">\n",
       "            <div style=\"width: 24px; height: 24px; background-color: #DBF5FF; border: 3px solid #4CC9FF; border-radius: 5px; position: absolute;\"> </div>\n",
       "            <div style=\"margin-left: 48px;\">\n",
       "            <details>\n",
       "                <summary>\n",
       "                    <h4 style=\"margin-bottom: 0px; display: inline;\">Worker: 0</h4>\n",
       "                </summary>\n",
       "                <table style=\"width: 100%; text-align: left;\">\n",
       "                    <tr>\n",
       "                        <td style=\"text-align: left;\">\n",
       "                            <strong>Comm: </strong> tcp://127.0.0.1:42957\n",
       "                        </td>\n",
       "                        <td style=\"text-align: left;\">\n",
       "                            <strong>Total threads: </strong> 2\n",
       "                        </td>\n",
       "                    </tr>\n",
       "                    <tr>\n",
       "                        <td style=\"text-align: left;\">\n",
       "                            <strong>Dashboard: </strong> <a href=\"http://127.0.0.1:34901/status\" target=\"_blank\">http://127.0.0.1:34901/status</a>\n",
       "                        </td>\n",
       "                        <td style=\"text-align: left;\">\n",
       "                            <strong>Memory: </strong> 15.70 GiB\n",
       "                        </td>\n",
       "                    </tr>\n",
       "                    <tr>\n",
       "                        <td style=\"text-align: left;\">\n",
       "                            <strong>Nanny: </strong> tcp://127.0.0.1:35395\n",
       "                        </td>\n",
       "                        <td style=\"text-align: left;\"></td>\n",
       "                    </tr>\n",
       "                    <tr>\n",
       "                        <td colspan=\"2\" style=\"text-align: left;\">\n",
       "                            <strong>Local directory: </strong> /tmp/dask-scratch-space/worker-q5khr5d9\n",
       "                        </td>\n",
       "                    </tr>\n",
       "\n",
       "                    \n",
       "\n",
       "                    \n",
       "\n",
       "                </table>\n",
       "            </details>\n",
       "            </div>\n",
       "        </div>\n",
       "        \n",
       "        <div style=\"margin-bottom: 20px;\">\n",
       "            <div style=\"width: 24px; height: 24px; background-color: #DBF5FF; border: 3px solid #4CC9FF; border-radius: 5px; position: absolute;\"> </div>\n",
       "            <div style=\"margin-left: 48px;\">\n",
       "            <details>\n",
       "                <summary>\n",
       "                    <h4 style=\"margin-bottom: 0px; display: inline;\">Worker: 1</h4>\n",
       "                </summary>\n",
       "                <table style=\"width: 100%; text-align: left;\">\n",
       "                    <tr>\n",
       "                        <td style=\"text-align: left;\">\n",
       "                            <strong>Comm: </strong> tcp://127.0.0.1:39153\n",
       "                        </td>\n",
       "                        <td style=\"text-align: left;\">\n",
       "                            <strong>Total threads: </strong> 2\n",
       "                        </td>\n",
       "                    </tr>\n",
       "                    <tr>\n",
       "                        <td style=\"text-align: left;\">\n",
       "                            <strong>Dashboard: </strong> <a href=\"http://127.0.0.1:34607/status\" target=\"_blank\">http://127.0.0.1:34607/status</a>\n",
       "                        </td>\n",
       "                        <td style=\"text-align: left;\">\n",
       "                            <strong>Memory: </strong> 15.70 GiB\n",
       "                        </td>\n",
       "                    </tr>\n",
       "                    <tr>\n",
       "                        <td style=\"text-align: left;\">\n",
       "                            <strong>Nanny: </strong> tcp://127.0.0.1:33087\n",
       "                        </td>\n",
       "                        <td style=\"text-align: left;\"></td>\n",
       "                    </tr>\n",
       "                    <tr>\n",
       "                        <td colspan=\"2\" style=\"text-align: left;\">\n",
       "                            <strong>Local directory: </strong> /tmp/dask-scratch-space/worker-yb9oxn17\n",
       "                        </td>\n",
       "                    </tr>\n",
       "\n",
       "                    \n",
       "\n",
       "                    \n",
       "\n",
       "                </table>\n",
       "            </details>\n",
       "            </div>\n",
       "        </div>\n",
       "        \n",
       "        <div style=\"margin-bottom: 20px;\">\n",
       "            <div style=\"width: 24px; height: 24px; background-color: #DBF5FF; border: 3px solid #4CC9FF; border-radius: 5px; position: absolute;\"> </div>\n",
       "            <div style=\"margin-left: 48px;\">\n",
       "            <details>\n",
       "                <summary>\n",
       "                    <h4 style=\"margin-bottom: 0px; display: inline;\">Worker: 2</h4>\n",
       "                </summary>\n",
       "                <table style=\"width: 100%; text-align: left;\">\n",
       "                    <tr>\n",
       "                        <td style=\"text-align: left;\">\n",
       "                            <strong>Comm: </strong> tcp://127.0.0.1:35927\n",
       "                        </td>\n",
       "                        <td style=\"text-align: left;\">\n",
       "                            <strong>Total threads: </strong> 2\n",
       "                        </td>\n",
       "                    </tr>\n",
       "                    <tr>\n",
       "                        <td style=\"text-align: left;\">\n",
       "                            <strong>Dashboard: </strong> <a href=\"http://127.0.0.1:44141/status\" target=\"_blank\">http://127.0.0.1:44141/status</a>\n",
       "                        </td>\n",
       "                        <td style=\"text-align: left;\">\n",
       "                            <strong>Memory: </strong> 15.70 GiB\n",
       "                        </td>\n",
       "                    </tr>\n",
       "                    <tr>\n",
       "                        <td style=\"text-align: left;\">\n",
       "                            <strong>Nanny: </strong> tcp://127.0.0.1:36959\n",
       "                        </td>\n",
       "                        <td style=\"text-align: left;\"></td>\n",
       "                    </tr>\n",
       "                    <tr>\n",
       "                        <td colspan=\"2\" style=\"text-align: left;\">\n",
       "                            <strong>Local directory: </strong> /tmp/dask-scratch-space/worker-lbocpod5\n",
       "                        </td>\n",
       "                    </tr>\n",
       "\n",
       "                    \n",
       "\n",
       "                    \n",
       "\n",
       "                </table>\n",
       "            </details>\n",
       "            </div>\n",
       "        </div>\n",
       "        \n",
       "        <div style=\"margin-bottom: 20px;\">\n",
       "            <div style=\"width: 24px; height: 24px; background-color: #DBF5FF; border: 3px solid #4CC9FF; border-radius: 5px; position: absolute;\"> </div>\n",
       "            <div style=\"margin-left: 48px;\">\n",
       "            <details>\n",
       "                <summary>\n",
       "                    <h4 style=\"margin-bottom: 0px; display: inline;\">Worker: 3</h4>\n",
       "                </summary>\n",
       "                <table style=\"width: 100%; text-align: left;\">\n",
       "                    <tr>\n",
       "                        <td style=\"text-align: left;\">\n",
       "                            <strong>Comm: </strong> tcp://127.0.0.1:39401\n",
       "                        </td>\n",
       "                        <td style=\"text-align: left;\">\n",
       "                            <strong>Total threads: </strong> 2\n",
       "                        </td>\n",
       "                    </tr>\n",
       "                    <tr>\n",
       "                        <td style=\"text-align: left;\">\n",
       "                            <strong>Dashboard: </strong> <a href=\"http://127.0.0.1:33379/status\" target=\"_blank\">http://127.0.0.1:33379/status</a>\n",
       "                        </td>\n",
       "                        <td style=\"text-align: left;\">\n",
       "                            <strong>Memory: </strong> 15.70 GiB\n",
       "                        </td>\n",
       "                    </tr>\n",
       "                    <tr>\n",
       "                        <td style=\"text-align: left;\">\n",
       "                            <strong>Nanny: </strong> tcp://127.0.0.1:34713\n",
       "                        </td>\n",
       "                        <td style=\"text-align: left;\"></td>\n",
       "                    </tr>\n",
       "                    <tr>\n",
       "                        <td colspan=\"2\" style=\"text-align: left;\">\n",
       "                            <strong>Local directory: </strong> /tmp/dask-scratch-space/worker-sixlkaav\n",
       "                        </td>\n",
       "                    </tr>\n",
       "\n",
       "                    \n",
       "\n",
       "                    \n",
       "\n",
       "                </table>\n",
       "            </details>\n",
       "            </div>\n",
       "        </div>\n",
       "        \n",
       "\n",
       "    </details>\n",
       "</div>\n",
       "\n",
       "        </details>\n",
       "    </div>\n",
       "</div>\n",
       "            </details>\n",
       "        \n",
       "\n",
       "    </div>\n",
       "</div>"
      ],
      "text/plain": [
       "<Client: 'tcp://127.0.0.1:38873' processes=4 threads=8, memory=62.79 GiB>"
      ]
     },
     "execution_count": 8,
     "metadata": {},
     "output_type": "execute_result"
    }
   ],
   "source": [
    "client.restart()"
   ]
  },
  {
   "cell_type": "markdown",
   "id": "72370888",
   "metadata": {},
   "source": [
    "## Koalas"
   ]
  },
  {
   "cell_type": "markdown",
   "id": "a174a46c",
   "metadata": {},
   "source": [
    "### Leitura de DataFrames Koalas"
   ]
  },
  {
   "cell_type": "markdown",
   "id": "ac839bfa",
   "metadata": {},
   "source": [
    "Fez-se a seleção das amostras maiores do dataset original.\n",
    "- **Leitura de Dois Arquivos**: ler dois arquivos Parquet usando o Koalas e combiná-los num único DataFrame `koalas_data2`.\n",
    "\n",
    "- **Leitura de Três Arquivos**:ler três arquivos Parquet usando o Koalas e combiná-los num único DataFrame `koalas_data3`.\n",
    "\n",
    "Para armazenar os resultados dos benchmarks, foram inicializados dicionários para os DataFrames combinados.\n",
    "\n",
    "- **Dicionários de Benchmarks para Dois Arquivos**:Três dicionários são criados (`koalas_benchmarks2`, `koalas_benchmarks_filtered2`, `koalas_benchmarks_cache2`), cada um com duas chaves: `duration` e `task`, que armazenarão a duração e a descrição das tarefas benchmarked.\n",
    "- **Dicionários de Benchmarks para Três Arquivos**: Da mesma forma, três dicionários são criados (`koalas_benchmarks3`, `koalas_benchmarks_filtered3`, `koalas_benchmarks_cache3`) para armazenar os resultados dos benchmarks para os três arquivos combinados."
   ]
  },
  {
   "cell_type": "code",
   "execution_count": 76,
   "id": "3fac4164-e5eb-4467-a3a9-176b8ad02df5",
   "metadata": {},
   "outputs": [],
   "source": [
    "# Read the Koalas dataframes for two files\n",
    "koalas_data2 = ks.read_parquet([\n",
    "    'Ficheiros/taxi_csv/yellow_tripdata_2009-01.parquet', \n",
    "    'Ficheiros/taxi_csv/yellow_tripdata_2009-02.parquet'\n",
    "])\n",
    "\n",
    "# Read the Koalas dataframes for three files\n",
    "koalas_data3 = ks.read_parquet([\n",
    "    'Ficheiros/taxi_csv/yellow_tripdata_2009-01.parquet', \n",
    "    'Ficheiros/taxi_csv/yellow_tripdata_2009-02.parquet',\n",
    "    'Ficheiros/taxi_csv/yellow_tripdata_2009-03.parquet'\n",
    "])\n",
    "\n",
    "# Initialize benchmark dictionaries for two files\n",
    "koalas_benchmarks2 = {'duration': [], 'task': []}\n",
    "koalas_benchmarks_filtered2 = {'duration': [], 'task': []}\n",
    "koalas_benchmarks_cache2 = {'duration': [], 'task': []}\n",
    "\n",
    "# Initialize benchmark dictionaries for three files\n",
    "koalas_benchmarks3 = {'duration': [], 'task': []}\n",
    "koalas_benchmarks_filtered3 = {'duration': [], 'task': []}\n",
    "koalas_benchmarks_cache3 = {'duration': [], 'task': []}\n"
   ]
  },
  {
   "cell_type": "markdown",
   "id": "32a01ddc",
   "metadata": {},
   "source": [
    "Renomear as colunas dos DataFrames `koalas_data2` e `koalas_data3` para letras minúsculas e imprimir a lista das novas colunas.\n",
    "- **Renomear Colunas para `koalas_data2`**:\n",
    "   - As colunas do DataFrame `koalas_data2` são renomeadas para letras minúsculas usando `rename(columns=str.lower)`.\n",
    "   - A lista das novas colunas é armazenada em `columns_list2` e exibida com `print(columns_list2)`.\n",
    "- **Renomear Colunas para `koalas_data3`**:\n",
    "   - As colunas do DataFrame `koalas_data3` são renomeadas para letras minúsculas usando `rename(columns=str.lower)`.\n",
    "   - A lista das novas colunas é armazenada em `columns_list3` e exibida com `print(columns_list3)`.\n",
    "\n",
    "Esta etapa garante que todas as colunas dos DataFrames estejam em letras minúsculas, facilitando a manipulação e análise subsequente dos dados."
   ]
  },
  {
   "cell_type": "code",
   "execution_count": 79,
   "id": "87304b98-d0b5-4c40-98da-d9440dda0b89",
   "metadata": {},
   "outputs": [
    {
     "name": "stdout",
     "output_type": "stream",
     "text": [
      "Index(['vendor_name', 'trip_pickup_datetime', 'trip_dropoff_datetime',\n",
      "       'passenger_count', 'trip_distance', 'start_lon', 'start_lat',\n",
      "       'rate_code', 'store_and_forward', 'end_lon', 'end_lat', 'payment_type',\n",
      "       'fare_amt', 'surcharge', 'mta_tax', 'tip_amt', 'tolls_amt',\n",
      "       'total_amt'],\n",
      "      dtype='object')\n",
      "Index(['vendor_name', 'trip_pickup_datetime', 'trip_dropoff_datetime',\n",
      "       'passenger_count', 'trip_distance', 'start_lon', 'start_lat',\n",
      "       'rate_code', 'store_and_forward', 'end_lon', 'end_lat', 'payment_type',\n",
      "       'fare_amt', 'surcharge', 'mta_tax', 'tip_amt', 'tolls_amt',\n",
      "       'total_amt'],\n",
      "      dtype='object')\n"
     ]
    }
   ],
   "source": [
    "# Extract the current column names for koalas_data2\n",
    "current_columns2 = koalas_data2.columns\n",
    "\n",
    "# Create a dictionary mapping current column names to their lowercase versions\n",
    "rename_dict2 = {col: col.lower() for col in current_columns2}\n",
    "\n",
    "# Rename the columns using the dictionary\n",
    "koalas_data2 = koalas_data2.rename(columns=rename_dict2)\n",
    "\n",
    "# Print the updated column names for koalas_data2 to verify\n",
    "columns_list2 = koalas_data2.columns\n",
    "print(columns_list2)\n",
    "\n",
    "# Extract the current column names for koalas_data3\n",
    "current_columns3 = koalas_data3.columns\n",
    "\n",
    "# Create a dictionary mapping current column names to their lowercase versions\n",
    "rename_dict3 = {col: col.lower() for col in current_columns3}\n",
    "\n",
    "# Rename the columns using the dictionary\n",
    "koalas_data3 = koalas_data3.rename(columns=rename_dict3)\n",
    "\n",
    "# Print the updated column names for koalas_data3 to verify\n",
    "columns_list3 = koalas_data3.columns\n",
    "print(columns_list3)"
   ]
  },
  {
   "cell_type": "markdown",
   "id": "3b36cba3",
   "metadata": {},
   "source": [
    "Definiu-se uma lista chamada dfs que contém dois DataFrames Koalas: koalas_data2 e koalas_data3."
   ]
  },
  {
   "cell_type": "code",
   "execution_count": 80,
   "id": "eb2189f6",
   "metadata": {},
   "outputs": [],
   "source": [
    "# Define the list of Koalas dataframes\n",
    "dfs = [koalas_data2, koalas_data3]"
   ]
  },
  {
   "cell_type": "markdown",
   "id": "dcb50eec",
   "metadata": {},
   "source": [
    "\n",
    "**Definição das Funções de Benchmark**: Diversas funções são definidas para calcular estatísticas, realizar operações aritméticas complexas e manipular dados nos DataFrames.\n",
    "\n",
    "**Agrupamento e Conversão**: Aplica a função de agrupamento `groupby_statistics` aos DataFrames e converte os resultados para DataFrames Pandas.\n",
    "\n",
    "**Funções de Junção**: Define funções para contar e realizar junções de DataFrames. \n",
    "\n",
    "**Funções para realizar diferentes operações de benchmark nos DataFrames sumariadas com mais detalhe**:\n",
    "- **Funções de Contagem**:\n",
    "   - `count(df=None)`: Retorna o número de linhas no DataFrame.\n",
    "   - `count_index_length(df=None)`: Retorna o comprimento do índice do DataFrame.\n",
    "- **Funções Estatísticas**:\n",
    "   - `mean(df)`: Calcula a média da coluna `fare_amt`.\n",
    "   - `standard_deviation(df)`: Calcula o desvio padrão da coluna `fare_amt`.\n",
    "   - `mean_of_sum(df)`: Calcula a média da soma das colunas `fare_amt` e `tip_amt`.\n",
    "   - `sum_columns(df)`: Retorna a soma das colunas `fare_amt` e `tip_amt`.\n",
    "   - `mean_of_product(df)`: Calcula a média do produto das colunas `fare_amt` e `tip_amt`.\n",
    "   - `product_columns(df)`: Retorna o produto das colunas `fare_amt` e `tip_amt`.\n",
    "   - `value_counts(df)`: Conta a frequência dos valores na coluna `fare_amt`.\n",
    "- **Operações Aritméticas Complexas**:\n",
    "   - `complicated_arithmetic_operation(df)`: Realiza uma operação aritmética complexa envolvendo coordenadas geográficas (`start_lon`, `start_lat`, `end_lon`, `end_lat`).\n",
    "   - `mean_of_complicated_arithmetic_operation(df)`: Calcula a média da operação aritmética complexa.\n",
    "- **Estatísticas de Agrupamento**:\n",
    "   - `groupby_statistics(df)`: Agrupa o DataFrame por `passenger_count` e calcula a média e o desvio padrão das colunas `fare_amt` e `tip_amt`.\n",
    "\n",
    "Para cada DataFrame em `dfs`, a função `groupby_statistics` é aplicada, e o resultado é convertido para um DataFrame Pandas. As colunas do DataFrame resultante são renomeadas para combinar os nomes das colunas agrupadas com os nomes das estatísticas.\n",
    "\n",
    "Duas funções adicionais são definidas para realizar junções entre DataFrames:\n",
    "\n",
    "1. **`join_count(df, other)`**: Retorna o número de linhas resultantes da junção entre o DataFrame `df` e outro DataFrame `other`.\n",
    "2. **`join_data(df, other)`**: Realiza a junção entre o DataFrame `df` e outro DataFrame `other`, retornando o DataFrame resultante.\n",
    "\n",
    "Contudo, estas duas funções deram um erro associado à necessidade de mais memória do que a que está disponível, daí terem sido comentadas, posteriormente no cálculo das benchmarks.\n"
   ]
  },
  {
   "cell_type": "code",
   "execution_count": 81,
   "id": "9a5ae349-adc4-4e5c-a7f6-68305471718d",
   "metadata": {},
   "outputs": [
    {
     "name": "stderr",
     "output_type": "stream",
     "text": [
      "                                                                                \r"
     ]
    }
   ],
   "source": [
    "import pyspark.sql.functions as F\n",
    "def count(df=None):\n",
    "    return len(df)\n",
    " \n",
    "def count_index_length(df=None):\n",
    "    return len(df.index)\n",
    " \n",
    "def mean(df):\n",
    "    return df.fare_amt.mean()\n",
    " \n",
    "def standard_deviation(df):\n",
    "    return df.fare_amt.std()\n",
    " \n",
    "def mean_of_sum(df):\n",
    "    return (df.fare_amt + df.tip_amt).mean()\n",
    " \n",
    "def sum_columns(df):\n",
    "    x = df.fare_amt + df.tip_amt\n",
    "    x.to_pandas()\n",
    "    return x\n",
    " \n",
    "def mean_of_product(df):\n",
    "    return (df.fare_amt * df.tip_amt).mean()\n",
    " \n",
    "def product_columns(df):\n",
    "    x = df.fare_amt * df.tip_amt\n",
    "    x.to_pandas()\n",
    "    return x\n",
    " \n",
    "def value_counts(df):\n",
    "    val_counts = df.fare_amt.value_counts()\n",
    "    val_counts.to_pandas()\n",
    "    return val_counts\n",
    "  \n",
    "def complicated_arithmetic_operation(df):\n",
    "    theta_1 = df.start_lon\n",
    "    phi_1 = df.start_lat\n",
    "    theta_2 = df.end_lon\n",
    "    phi_2 = df.end_lat\n",
    "    temp = (np.sin((theta_2 - theta_1) / 2 * np.pi / 180) ** 2\n",
    "           + np.cos(theta_1 * np.pi / 180) * np.cos(theta_2 * np.pi / 180) * np.sin((phi_2 - phi_1) / 2 * np.pi / 180) ** 2)\n",
    "    ret = np.multiply(np.arctan2(np.sqrt(temp), np.sqrt(1-temp)),2)\n",
    "    ret.to_pandas()\n",
    "    return ret\n",
    "  \n",
    "def mean_of_complicated_arithmetic_operation(df):\n",
    "    theta_1 = df.start_lon\n",
    "    phi_1 = df.start_lat\n",
    "    theta_2 = df.end_lon\n",
    "    phi_2 = df.end_lat\n",
    "    temp = (np.sin((theta_2 - theta_1) / 2 * np.pi / 180) ** 2\n",
    "           + np.cos(theta_1 * np.pi / 180) * np.cos(theta_2 * np.pi / 180) * np.sin((phi_2 - phi_1) / 2 * np.pi / 180) ** 2)\n",
    "    ret = np.multiply(np.arctan2(np.sqrt(temp), np.sqrt(1-temp)),2) \n",
    "    return ret.mean()\n",
    "  \n",
    "def groupby_statistics(df):\n",
    "    gb = df.groupby(by='passenger_count').agg(\n",
    "      {\n",
    "        'fare_amt': ['mean', 'std'], \n",
    "        'tip_amt': ['mean', 'std']\n",
    "      }\n",
    "    )\n",
    "    gb.to_pandas()\n",
    "    return gb\n",
    "  \n",
    "\n",
    "for df in dfs:\n",
    "    other = ks.DataFrame(groupby_statistics(df).to_pandas())\n",
    "    other.columns = pd.Index([e[0]+'_' + e[1] for e in other.columns.tolist()])\n",
    "\n",
    "def join_count(df, other):\n",
    "    return len(df.merge(other.spark.hint(\"broadcast\"), left_index=True, right_index=True))\n",
    " \n",
    "def join_data(df, other):\n",
    "    ret = df.merge(other.spark.hint(\"broadcast\"), left_index=True, right_index=True)\n",
    "    ret.to_pandas()\n",
    "    return ret"
   ]
  },
  {
   "cell_type": "markdown",
   "id": "eb16157d",
   "metadata": {},
   "source": [
    "Medir e armazenar o desempenho de várias operações num DataFrame Koalas, permitindo a análise do tempo necessário para executar essas operações. \n",
    "\n",
    "Realizar benchmarks num DataFrame Koalas (`dfs[0]`) e armazenar os resultados num dicionário de benchmarks chamado `koalas_benchmarks2`. Cada benchmark mede o desempenho de diferentes operações no DataFrame. A seguir, uma descrição das operações realizadas:\n",
    "\n",
    "- **`benchmark(count, df=dfs[0], benchmarks=globals()[f'koalas_benchmarks2'], name=f'count 2')`**:\n",
    "   - Mede o tempo de execução para contar o número total de linhas no DataFrame.\n",
    "- **`benchmark(count_index_length, df=dfs[0], benchmarks=globals()[f'koalas_benchmarks2'], name=f'count index length 2')`**:\n",
    "   - Mede o tempo de execução para contar o comprimento do índice do DataFrame.\n",
    "- **`benchmark(mean, df=dfs[0], benchmarks=globals()[f'koalas_benchmarks2'], name=f'mean 2')`**:\n",
    "   - Mede o tempo de execução para calcular a média da coluna `fare_amt`.\n",
    "- **`benchmark(standard_deviation, df=dfs[0], benchmarks=globals()[f'koalas_benchmarks2'], name=f'standard deviation 2')`**:\n",
    "   - Mede o tempo de execução para calcular o desvio padrão da coluna `fare_amt`.\n",
    "- **`benchmark(mean_of_sum, df=dfs[0], benchmarks=globals()[f'koalas_benchmarks2'], name=f'mean of columns addition 2')`**:\n",
    "   - Mede o tempo de execução para calcular a média da soma das colunas `fare_amt` e `tip_amt`.\n",
    "-  **`benchmark(mean_of_product, df=dfs[0], benchmarks=globals()[f'koalas_benchmarks2'], name=f'mean of columns multiplication 2')`**:\n",
    "   - Mede o tempo de execução para calcular a média do produto das colunas `fare_amt` e `tip_amt`.\n",
    "- **`benchmark(value_counts, df=dfs[0], benchmarks=globals()[f'koalas_benchmarks2'], name=f'value counts 2')`**:\n",
    "   - Mede o tempo de execução para contar a frequência dos valores na coluna `fare_amt`.\n",
    "- **`benchmark(mean_of_complicated_arithmetic_operation, df=dfs[0], benchmarks=globals()[f'koalas_benchmarks2'], name=f'mean of complex arithmetic ops 2')`**:\n",
    "   - Mede o tempo de execução para calcular a média de uma operação aritmética complexa envolvendo coordenadas geográficas (`start_lon`, `start_lat`, `end_lon`, `end_lat`).\n",
    "-  **`benchmark(groupby_statistics, df=dfs[0], benchmarks=globals()[f'koalas_benchmarks2'], name=f'groupby statistics 2')`**:\n",
    "   - Mede o tempo de execução para agrupar o DataFrame por `passenger_count` e calcular a média e o desvio padrão das colunas `fare_amt` e `tip_amt`."
   ]
  },
  {
   "cell_type": "code",
   "execution_count": 82,
   "id": "9c73ce04",
   "metadata": {},
   "outputs": [
    {
     "name": "stdout",
     "output_type": "stream",
     "text": [
      "count took: 0.0761113166809082 seconds\n",
      "count index length took: 0.0676124095916748 seconds\n",
      "mean took: 0.24829387664794922 seconds\n",
      "standard deviation took: 0.36184048652648926 seconds\n",
      "mean of columns addition took: 0.48241758346557617 seconds\n",
      "mean of columns multiplication took: 0.4721693992614746 seconds\n"
     ]
    },
    {
     "name": "stderr",
     "output_type": "stream",
     "text": [
      "                                                                                \r"
     ]
    },
    {
     "name": "stdout",
     "output_type": "stream",
     "text": [
      "value counts took: 1.19325852394104 seconds\n"
     ]
    },
    {
     "name": "stderr",
     "output_type": "stream",
     "text": [
      "                                                                                \r"
     ]
    },
    {
     "name": "stdout",
     "output_type": "stream",
     "text": [
      "mean of complex arithmetic ops took: 6.357683897018433 seconds\n"
     ]
    },
    {
     "name": "stderr",
     "output_type": "stream",
     "text": [
      "[Stage 136:==========================================>              (6 + 2) / 8]\r"
     ]
    },
    {
     "name": "stdout",
     "output_type": "stream",
     "text": [
      "groupby statistics took: 1.4309089183807373 seconds\n"
     ]
    },
    {
     "name": "stderr",
     "output_type": "stream",
     "text": [
      "                                                                                \r"
     ]
    },
    {
     "data": {
      "text/plain": [
       "1.4309089183807373"
      ]
     },
     "execution_count": 82,
     "metadata": {},
     "output_type": "execute_result"
    }
   ],
   "source": [
    "benchmark(count, df=dfs[0], benchmarks=globals()[f'koalas_benchmarks2'], name=f'count')\n",
    "benchmark(count_index_length, df=dfs[0], benchmarks=globals()[f'koalas_benchmarks2'], name=f'count index length')\n",
    "benchmark(mean, df=dfs[0], benchmarks=globals()[f'koalas_benchmarks2'], name=f'mean')\n",
    "benchmark(standard_deviation, df=dfs[0], benchmarks=globals()[f'koalas_benchmarks2'], name=f'standard deviation')\n",
    "benchmark(mean_of_sum, df=dfs[0], benchmarks=globals()[f'koalas_benchmarks2'], name=f'mean of columns addition')\n",
    "#benchmark(sum_columns, df=dfs[0], benchmarks=globals()[f'koalas_benchmarks 2'], name=f'addition of columns')\n",
    "benchmark(mean_of_product, df=dfs[0], benchmarks=globals()[f'koalas_benchmarks2'], name=f'mean of columns multiplication')\n",
    "#benchmark(product_columns, df=dfs[0], benchmarks=globals()[f'koalas_benchmarks 2'], name=f'multiplication of columns')\n",
    "benchmark(value_counts, df=dfs[0], benchmarks=globals()[f'koalas_benchmarks2'], name=f'value counts')\n",
    "benchmark(mean_of_complicated_arithmetic_operation, df=dfs[0], benchmarks=globals()[f'koalas_benchmarks2'], name=f'mean of complex arithmetic ops')\n",
    "#benchmark(complicated_arithmetic_operation, df=dfs[0], benchmarks=globals()[f'koalas_benchmarks 2'], name=f'complex arithmetic ops')\n",
    "benchmark(groupby_statistics, df=dfs[0], benchmarks=globals()[f'koalas_benchmarks2'], name=f'groupby statistics')\n",
    "#benchmark(join_count, dfs[0], benchmarks=globals()[f'koalas_benchmarks 2'], name=f'join count', other=other)\n",
    "#benchmark(join_data, dfs[0], benchmarks=globals()[f'koalas_benchmarks 2'], name=f'join', other=other)"
   ]
  },
  {
   "cell_type": "markdown",
   "id": "7ba0a221",
   "metadata": {},
   "source": [
    "O anterior estava direcionado para a amostra de 2 files, agora de forma análoga, mas para realizar benchmarks num DataFrame Koalas (dfs[1]) e armazenar os resultados num dicionário de benchmarks chamado koalas_benchmarks3, isto é, para a amostra de 3 files.\n"
   ]
  },
  {
   "cell_type": "code",
   "execution_count": 83,
   "id": "925b920a",
   "metadata": {},
   "outputs": [
    {
     "name": "stdout",
     "output_type": "stream",
     "text": [
      "count took: 0.08408498764038086 seconds\n",
      "count index length took: 0.053652286529541016 seconds\n",
      "mean took: 0.28235840797424316 seconds\n",
      "standard deviation took: 0.3624858856201172 seconds\n",
      "mean of columns addition took: 0.4349803924560547 seconds\n",
      "mean of columns multiplication took: 0.5234129428863525 seconds\n"
     ]
    },
    {
     "name": "stderr",
     "output_type": "stream",
     "text": [
      "                                                                                \r"
     ]
    },
    {
     "name": "stdout",
     "output_type": "stream",
     "text": [
      "value counts took: 1.3610785007476807 seconds\n"
     ]
    },
    {
     "name": "stderr",
     "output_type": "stream",
     "text": [
      "[Stage 165:========================================>               (8 + 3) / 11]\r"
     ]
    },
    {
     "name": "stdout",
     "output_type": "stream",
     "text": [
      "groupby statistics took: 1.3812429904937744 seconds\n"
     ]
    },
    {
     "name": "stderr",
     "output_type": "stream",
     "text": [
      "                                                                                \r"
     ]
    },
    {
     "data": {
      "text/plain": [
       "1.3812429904937744"
      ]
     },
     "execution_count": 83,
     "metadata": {},
     "output_type": "execute_result"
    }
   ],
   "source": [
    "benchmark(count, df=dfs[1], benchmarks=globals()[f'koalas_benchmarks3'], name=f'count')\n",
    "benchmark(count_index_length, df=dfs[1], benchmarks=globals()[f'koalas_benchmarks3'], name=f'count index length')\n",
    "benchmark(mean, df=dfs[1], benchmarks=globals()[f'koalas_benchmarks3'], name=f'mean')\n",
    "benchmark(standard_deviation, df=dfs[1], benchmarks=globals()[f'koalas_benchmarks3'], name=f'standard deviation')\n",
    "benchmark(mean_of_sum, df=dfs[1], benchmarks=globals()[f'koalas_benchmarks3'], name=f'mean of columns addition')\n",
    "#benchmark(sum_columns, df=dfs[1], benchmarks=globals()[f'koalas_benchmarks 3'], name=f'addition of columns')\n",
    "benchmark(mean_of_product, df=dfs[1], benchmarks=globals()[f'koalas_benchmarks3'], name=f'mean of columns multiplication')\n",
    "#benchmark(product_columns, df=dfs[1], benchmarks=globals()[f'koalas_benchmarks3'], name=f'multiplication of columns')\n",
    "benchmark(value_counts, df=dfs[1], benchmarks=globals()[f'koalas_benchmarks3'], name=f'value counts')\n",
    "#benchmark(mean_of_complicated_arithmetic_operation, df=dfs[1], benchmarks=globals()[f'koalas_benchmarks3'], name=f'mean of complex arithmetic ops')\n",
    "#benchmark(complicated_arithmetic_operation, df=dfs[1], benchmarks=globals()[f'koalas_benchmarks 3'], name=f'complex arithmetic ops')\n",
    "benchmark(groupby_statistics, df=dfs[1], benchmarks=globals()[f'koalas_benchmarks3'], name=f'groupby statistics')\n",
    "#benchmark(join_count, dfs[1], benchmarks=globals()[f'koalas_benchmarks 3'], name=f'join count', other=other)\n",
    "#benchmark(join_data, dfs[1], benchmarks=globals()[f'koalas_benchmarks 3'], name=f'join', other=other)"
   ]
  },
  {
   "cell_type": "markdown",
   "id": "c2f74486-d6f9-42fd-8c0b-2651f211dad9",
   "metadata": {},
   "source": [
    "Salvou-se os resultados."
   ]
  },
  {
   "cell_type": "code",
   "execution_count": 84,
   "id": "774299c1",
   "metadata": {},
   "outputs": [
    {
     "name": "stdout",
     "output_type": "stream",
     "text": [
      "                                duration\n",
      "task                                    \n",
      "count                           0.076111\n",
      "count index length              0.067612\n",
      "mean                            0.248294\n",
      "standard deviation              0.361840\n",
      "mean of columns addition        0.482418\n",
      "mean of columns multiplication  0.472169\n",
      "value counts                    1.193259\n",
      "mean of complex arithmetic ops  6.357684\n",
      "groupby statistics              1.430909\n",
      "                                duration\n",
      "task                                    \n",
      "count                           0.084085\n",
      "count index length              0.053652\n",
      "mean                            0.282358\n",
      "standard deviation              0.362486\n",
      "mean of columns addition        0.434980\n",
      "mean of columns multiplication  0.523413\n",
      "value counts                    1.361079\n",
      "groupby statistics              1.381243\n",
      "O arquivo Parquet foi salvo em Resultados/koalas_standard2.\n",
      "O arquivo Parquet foi salvo em Resultados/koalas_standard3.\n"
     ]
    }
   ],
   "source": [
    "# Obter os resultados e remover duplicatas\n",
    "koalas_res_temp2 = get_results(koalas_benchmarks2).drop_duplicates(subset='task').set_index('task')\n",
    "koalas_res_temp3 = get_results(koalas_benchmarks3).drop_duplicates(subset='task').set_index('task')\n",
    "\n",
    "# Print dos dataframes\n",
    "print(koalas_res_temp2)\n",
    "print(koalas_res_temp3)\n",
    "\n",
    "# Definir o nome do arquivo ou diretório\n",
    "filename2 = 'Resultados/koalas_standard2'\n",
    "filename3 = 'Resultados/koalas_standard3'\n",
    "\n",
    "# Salvar o DataFrame em formato Parquet\n",
    "koalas_res_temp2.to_parquet(filename2)\n",
    "koalas_res_temp3.to_parquet(filename3)\n",
    "\n",
    "print(f'O arquivo Parquet foi salvo em {filename2}.')\n",
    "print(f'O arquivo Parquet foi salvo em {filename3}.')"
   ]
  },
  {
   "cell_type": "markdown",
   "id": "5c0c0550",
   "metadata": {},
   "source": [
    "### Operações com filtro"
   ]
  },
  {
   "cell_type": "markdown",
   "id": "3e5a5683",
   "metadata": {},
   "source": [
    "Criar e aplicar filtros específicos nos DataFrames koalas_data2 e koalas_data3 para selecionar registros onde o valor da gorjeta (tip_amt) está entre 1 e 5. Esses filtros são aplicados usando uma função genérica filter_data, e os resultados filtrados são armazenados em dask_filter2 e dask_filter3 respectivamente. Isso permite a análise focada num subconjunto específico de dados baseado nos critérios definidos."
   ]
  },
  {
   "cell_type": "code",
   "execution_count": 85,
   "id": "1e001046-09ec-4be8-b4bc-654086e7a759",
   "metadata": {},
   "outputs": [],
   "source": [
    "def filter_data(df, expr_filter):\n",
    "    return df[expr_filter]\n",
    "\n",
    "\n",
    "expr_filter2 = (koalas_data2.tip_amt >= 1) & (koalas_data2.tip_amt <= 5)\n",
    "\n",
    "dask_filter2 = filter_data(koalas_data2, expr_filter2)\n",
    "    \n",
    "expr_filter3 = (koalas_data3.tip_amt >= 1) & (koalas_data3.tip_amt <= 5)\n",
    "dask_filter3 = filter_data(koalas_data3, expr_filter3)"
   ]
  },
  {
   "cell_type": "markdown",
   "id": "09aaa065",
   "metadata": {},
   "source": [
    "Realizar benchmarks em dois DataFrames Koalas filtrados, armazenando os resultados em dicionários de benchmarks chamados `koalas_benchmarks_filtered2` e `koalas_benchmarks_filtered3`. \n",
    "\n",
    "- **Lista de DataFrames Filtrados**: Definir uma lista de DataFrames Koalas filtrados.\n"
   ]
  },
  {
   "cell_type": "code",
   "execution_count": 87,
   "id": "d16fc9d4",
   "metadata": {},
   "outputs": [],
   "source": [
    "koalas_filtered=[koalas_data2,koalas_data3]"
   ]
  },
  {
   "cell_type": "markdown",
   "id": "7307df0a",
   "metadata": {},
   "source": [
    "- **Benchmarks no Primeiro DataFrame Filtrado (`koalas_data2`)**:\n",
    "   - Realizar e armazenar os benchmarks das seguintes operações em `koalas_benchmarks_filtered2`:\n",
    "     - Contagem do número de linhas.\n",
    "     - Contagem do comprimento do índice.\n",
    "     - Cálculo da média da coluna `fare_amt`.\n",
    "     - Cálculo do desvio padrão da coluna `fare_amt`.\n",
    "     - Cálculo da média da soma das colunas `fare_amt` e `tip_amt`.\n",
    "     - Cálculo da média do produto das colunas `fare_amt` e `tip_amt`.\n",
    "     - Contagem da frequência dos valores na coluna `fare_amt`.\n",
    "     - Cálculo da média de uma operação aritmética complexa.\n",
    "     - Estatísticas de agrupamento (`passenger_count`) e cálculo da média e desvio padrão das colunas `fare_amt` e `tip_amt`.\n",
    "\n"
   ]
  },
  {
   "cell_type": "code",
   "execution_count": 88,
   "id": "575389a2",
   "metadata": {},
   "outputs": [
    {
     "name": "stdout",
     "output_type": "stream",
     "text": [
      "count took: 0.05906248092651367 seconds\n",
      "count index length took: 0.05235600471496582 seconds\n",
      "mean took: 0.2692384719848633 seconds\n",
      "standard deviation took: 0.33312344551086426 seconds\n",
      "mean of columns addition took: 0.3967475891113281 seconds\n",
      "mean of columns multiplication took: 0.393967866897583 seconds\n"
     ]
    },
    {
     "name": "stderr",
     "output_type": "stream",
     "text": [
      "                                                                                \r"
     ]
    },
    {
     "name": "stdout",
     "output_type": "stream",
     "text": [
      "value counts took: 1.1135609149932861 seconds\n"
     ]
    },
    {
     "name": "stderr",
     "output_type": "stream",
     "text": [
      "                                                                                \r"
     ]
    },
    {
     "name": "stdout",
     "output_type": "stream",
     "text": [
      "mean of complex arithmetic ops took: 6.367603302001953 seconds\n"
     ]
    },
    {
     "name": "stderr",
     "output_type": "stream",
     "text": [
      "[Stage 197:==========================================>              (6 + 2) / 8]\r"
     ]
    },
    {
     "name": "stdout",
     "output_type": "stream",
     "text": [
      "groupby statistics took: 1.4501986503601074 seconds\n"
     ]
    },
    {
     "name": "stderr",
     "output_type": "stream",
     "text": [
      "                                                                                \r"
     ]
    },
    {
     "data": {
      "text/plain": [
       "1.4501986503601074"
      ]
     },
     "execution_count": 88,
     "metadata": {},
     "output_type": "execute_result"
    }
   ],
   "source": [
    "benchmark(count, df=koalas_filtered[0], benchmarks=globals()[f'koalas_benchmarks_filtered2'], name=f'count')\n",
    "benchmark(count_index_length, df=koalas_filtered[0], benchmarks=globals()[f'koalas_benchmarks_filtered2'], name=f'count index length')\n",
    "benchmark(mean, df=koalas_filtered[0], benchmarks=globals()[f'koalas_benchmarks_filtered2'], name=f'mean')\n",
    "benchmark(standard_deviation, df=koalas_filtered[0], benchmarks=globals()[f'koalas_benchmarks_filtered2'], name=f'standard deviation')\n",
    "benchmark(mean_of_sum, df=koalas_filtered[0], benchmarks=globals()[f'koalas_benchmarks_filtered2'], name=f'mean of columns addition')\n",
    "#benchmark(sum_columns, df=koalas_filtered[0], benchmarks=globals()[f'koalas_benchmarks_filtered2'], name=f'addition of columns')\n",
    "benchmark(mean_of_product, df=koalas_filtered[0], benchmarks=globals()[f'koalas_benchmarks_filtered2'], name=f'mean of columns multiplication')\n",
    "#benchmark(product_columns, df=koalas_filtered[0], benchmarks=globals()[f'koalas_benchmarks_filtered2'], name=f'multiplication of columns')\n",
    "benchmark(value_counts, df=koalas_filtered[0], benchmarks=globals()[f'koalas_benchmarks_filtered2'], name=f'value counts')\n",
    "benchmark(mean_of_complicated_arithmetic_operation, df=koalas_filtered[0], benchmarks=globals()[f'koalas_benchmarks_filtered2'], name=f'mean of complex arithmetic ops')\n",
    "#benchmark(complicated_arithmetic_operation, df=koalas_filtered[0], benchmarks=globals()[f'koalas_benchmarks 2'], name=f'complex arithmetic ops')\n",
    "benchmark(groupby_statistics, df=koalas_filtered[0], benchmarks=globals()[f'koalas_benchmarks_filtered2'], name=f'groupby statistics')\n",
    "#benchmark(join_count, koalas_filtered[0], benchmarks=globals()[f'koalas_benchmarks_filtered2'], name=f'join count', other=other)\n",
    "#benchmark(join_data, koalas_filtered[0], benchmarks=globals()[f'koalas_benchmarks_filtered2'], name=f'join', other=other)"
   ]
  },
  {
   "cell_type": "markdown",
   "id": "530c40bf",
   "metadata": {},
   "source": [
    "- **Benchmarks no Segundo DataFrame Filtrado (`koalas_data3`)**:\n",
    "   - Realizar e armazenar os benchmarks das seguintes operações em `koalas_benchmarks_filtered3`:\n",
    "     - Contagem do número de linhas.\n",
    "     - Contagem do comprimento do índice.\n",
    "     - Cálculo da média da coluna `fare_amt`.\n",
    "     - Cálculo do desvio padrão da coluna `fare_amt`.\n",
    "     - Cálculo da média da soma das colunas `fare_amt` e `tip_amt`.\n",
    "     - Cálculo da média do produto das colunas `fare_amt` e `tip_amt`.\n",
    "     - Contagem da frequência dos valores na coluna `fare_amt`.\n",
    "     - Estatísticas de agrupamento (`passenger_count`) e cálculo da média e desvio padrão das colunas `fare_amt` e `tip_amt`."
   ]
  },
  {
   "cell_type": "code",
   "execution_count": 89,
   "id": "d6b3acce",
   "metadata": {},
   "outputs": [
    {
     "name": "stdout",
     "output_type": "stream",
     "text": [
      "count took: 0.06814122200012207 seconds\n",
      "count index length took: 0.05557823181152344 seconds\n",
      "mean took: 0.28867006301879883 seconds\n",
      "standard deviation took: 0.36427831649780273 seconds\n",
      "mean of columns addition took: 0.4194803237915039 seconds\n",
      "mean of columns multiplication took: 0.5354740619659424 seconds\n"
     ]
    },
    {
     "name": "stderr",
     "output_type": "stream",
     "text": [
      "                                                                                \r"
     ]
    },
    {
     "name": "stdout",
     "output_type": "stream",
     "text": [
      "value counts took: 1.1843194961547852 seconds\n"
     ]
    },
    {
     "name": "stderr",
     "output_type": "stream",
     "text": [
      "[Stage 226:========================================>               (8 + 3) / 11]\r"
     ]
    },
    {
     "name": "stdout",
     "output_type": "stream",
     "text": [
      "groupby statistics took: 1.4318954944610596 seconds\n"
     ]
    },
    {
     "name": "stderr",
     "output_type": "stream",
     "text": [
      "                                                                                \r"
     ]
    },
    {
     "data": {
      "text/plain": [
       "1.4318954944610596"
      ]
     },
     "execution_count": 89,
     "metadata": {},
     "output_type": "execute_result"
    }
   ],
   "source": [
    "benchmark(count, df=koalas_filtered[1], benchmarks=globals()[f'koalas_benchmarks_filtered3'], name=f'count')\n",
    "benchmark(count_index_length, df=koalas_filtered[1], benchmarks=globals()[f'koalas_benchmarks_filtered3'], name=f'count index length')\n",
    "benchmark(mean, df=koalas_filtered[1], benchmarks=globals()[f'koalas_benchmarks_filtered3'], name=f'mean')\n",
    "benchmark(standard_deviation, df=koalas_filtered[1], benchmarks=globals()[f'koalas_benchmarks_filtered3'], name=f'standard deviation')\n",
    "benchmark(mean_of_sum, df=koalas_filtered[1], benchmarks=globals()[f'koalas_benchmarks_filtered3'], name=f'mean of columns addition')\n",
    "#benchmark(sum_columns, df=koalas_filtered[1], benchmarks=globals()[f'koalas_benchmarks_filtered3'], name=f'addition of columns')\n",
    "benchmark(mean_of_product, df=koalas_filtered[1], benchmarks=globals()[f'koalas_benchmarks_filtered3'], name=f'mean of columns multiplication')\n",
    "#benchmark(product_columns, df=koalas_filtered[1], benchmarks=globals()[f'koalas_benchmarks_filtered3'], name=f'multiplication of columns')\n",
    "benchmark(value_counts, df=koalas_filtered[1], benchmarks=globals()[f'koalas_benchmarks_filtered3'], name=f'value counts')\n",
    "#benchmark(mean_of_complicated_arithmetic_operation, df=koalas_filtered[1], benchmarks=globals()[f'koalas_benchmarks_filtered3'], name=f'mean of complex arithmetic ops')\n",
    "#benchmark(complicated_arithmetic_operation, df=koalas_filtered[1], benchmarks=globals()[f'koalas_benchmarks_filtered3'], name=f'complex arithmetic ops')\n",
    "benchmark(groupby_statistics, df=koalas_filtered[1], benchmarks=globals()[f'koalas_benchmarks_filtered3'], name=f'groupby statistics')\n",
    "#benchmark(join_count, koalas_filtered[1], benchmarks=globals()[f'koalas_benchmarks_filtered3'], name=f'join count', other=other)\n",
    "#benchmark(join_data, koalas_filtered[1], benchmarks=globals()[f'koalas_benchmarks_filtered3'], name=f'join', other=other)"
   ]
  },
  {
   "cell_type": "markdown",
   "id": "ae02ea16-1510-485f-99b5-1bca45beb7f2",
   "metadata": {},
   "source": [
    "Mais uma vez, salvaram-se os resultados"
   ]
  },
  {
   "cell_type": "code",
   "execution_count": 90,
   "id": "0bf127be-f503-41b8-a97b-e86d9c4cd9cc",
   "metadata": {},
   "outputs": [
    {
     "name": "stdout",
     "output_type": "stream",
     "text": [
      "                                duration\n",
      "task                                    \n",
      "count                           0.059062\n",
      "count index length              0.052356\n",
      "mean                            0.269238\n",
      "standard deviation              0.333123\n",
      "mean of columns addition        0.396748\n",
      "mean of columns multiplication  0.393968\n",
      "value counts                    1.113561\n",
      "mean of complex arithmetic ops  6.367603\n",
      "groupby statistics              1.450199\n",
      "                                duration\n",
      "task                                    \n",
      "count                           0.068141\n",
      "count index length              0.055578\n",
      "mean                            0.288670\n",
      "standard deviation              0.364278\n",
      "mean of columns addition        0.419480\n",
      "mean of columns multiplication  0.535474\n",
      "value counts                    1.184319\n",
      "groupby statistics              1.431895\n",
      "O arquivo Parquet foi salvo em Resultados/koalas_filtered2.\n",
      "O arquivo Parquet foi salvo em Resultados/koalas_filtered3.\n"
     ]
    }
   ],
   "source": [
    "# Obter os resultados e remover duplicatas para o primeiro conjunto de dados filtrado\n",
    "koalas_res_filtered2 = get_results(koalas_benchmarks_filtered2).drop_duplicates(subset='task').set_index('task')\n",
    "koalas_res_filtered3 = get_results(koalas_benchmarks_filtered3).drop_duplicates(subset='task').set_index('task')\n",
    "\n",
    "# Print dos dataframes\n",
    "print(koalas_res_filtered2)\n",
    "print(koalas_res_filtered3)\n",
    "\n",
    "# Definir o nome do arquivo ou diretório para o primeiro conjunto de dados filtrado\n",
    "filename_filtered2 = 'Resultados/koalas_filtered2'\n",
    "filename_filtered3 = 'Resultados/koalas_filtered3'\n",
    "\n",
    "# Salvar o DataFrame em formato Parquet para o primeiro conjunto de dados filtrado\n",
    "koalas_res_filtered2.to_parquet(filename_filtered2)\n",
    "koalas_res_filtered3.to_parquet(filename_filtered3)\n",
    "\n",
    "print(f'O arquivo Parquet foi salvo em {filename_filtered2}.')\n",
    "print(f'O arquivo Parquet foi salvo em {filename_filtered3}.')"
   ]
  },
  {
   "cell_type": "markdown",
   "id": "7180419a",
   "metadata": {},
   "source": [
    "### Operações com filtro e caching"
   ]
  },
  {
   "cell_type": "markdown",
   "id": "674284d2",
   "metadata": {},
   "source": [
    "Tentou-se aplicar a cache, mas enfrentou-se o erro `java.lang.OutOfMemoryError`.\n",
    "Tanto para a amostra de 2 files, como de 3 files, pelo que não se considerou mais estas operações na discussão de resultados.\n"
   ]
  },
  {
   "cell_type": "code",
   "execution_count": 91,
   "id": "ef32503f",
   "metadata": {},
   "outputs": [
    {
     "name": "stderr",
     "output_type": "stream",
     "text": [
      "24/06/05 22:52:14 WARN WindowExec: No Partition Defined for Window operation! Moving all data to a single partition, this can cause serious performance degradation.\n",
      "24/06/05 22:52:15 ERROR Executor: Exception in task 7.0 in stage 229.0 (TID 609)\n",
      "java.lang.OutOfMemoryError: Java heap space\n",
      "\tat java.nio.HeapByteBuffer.<init>(HeapByteBuffer.java:57)\n",
      "\tat java.nio.ByteBuffer.allocate(ByteBuffer.java:335)\n",
      "\tat org.apache.parquet.bytes.HeapByteBufferAllocator.allocate(HeapByteBufferAllocator.java:32)\n",
      "\tat org.apache.parquet.hadoop.ParquetFileReader$ConsecutivePartList.readAll(ParquetFileReader.java:1773)\n",
      "\tat org.apache.parquet.hadoop.ParquetFileReader.internalReadRowGroup(ParquetFileReader.java:953)\n",
      "\tat org.apache.parquet.hadoop.ParquetFileReader.readNextRowGroup(ParquetFileReader.java:909)\n",
      "\tat org.apache.parquet.hadoop.ParquetFileReader.readNextFilteredRowGroup(ParquetFileReader.java:1016)\n",
      "\tat org.apache.spark.sql.execution.datasources.parquet.SpecificParquetRecordReaderBase$ParquetRowGroupReaderImpl.readNextRowGroup(SpecificParquetRecordReaderBase.java:274)\n",
      "\tat org.apache.spark.sql.execution.datasources.parquet.VectorizedParquetRecordReader.checkEndOfRowGroup(VectorizedParquetRecordReader.java:404)\n",
      "\tat org.apache.spark.sql.execution.datasources.parquet.VectorizedParquetRecordReader.nextBatch(VectorizedParquetRecordReader.java:321)\n",
      "\tat org.apache.spark.sql.execution.datasources.parquet.VectorizedParquetRecordReader.nextKeyValue(VectorizedParquetRecordReader.java:219)\n",
      "\tat org.apache.spark.sql.execution.datasources.RecordReaderIterator.hasNext(RecordReaderIterator.scala:39)\n",
      "\tat org.apache.spark.sql.execution.datasources.FileScanRDD$$anon$1.hasNext(FileScanRDD.scala:125)\n",
      "\tat org.apache.spark.sql.execution.datasources.FileScanRDD$$anon$1.nextIterator(FileScanRDD.scala:297)\n",
      "\tat org.apache.spark.sql.execution.datasources.FileScanRDD$$anon$1.hasNext(FileScanRDD.scala:125)\n",
      "\tat org.apache.spark.sql.execution.FileSourceScanExec$$anon$1.hasNext(DataSourceScanExec.scala:594)\n",
      "\tat org.apache.spark.sql.catalyst.expressions.GeneratedClass$GeneratedIteratorForCodegenStage1.columnartorow_nextBatch_0$(Unknown Source)\n",
      "\tat org.apache.spark.sql.catalyst.expressions.GeneratedClass$GeneratedIteratorForCodegenStage1.processNext(Unknown Source)\n",
      "\tat org.apache.spark.sql.execution.BufferedRowIterator.hasNext(BufferedRowIterator.java:43)\n",
      "\tat org.apache.spark.sql.execution.WholeStageCodegenExec$$anon$1.hasNext(WholeStageCodegenExec.scala:760)\n",
      "\tat scala.collection.Iterator$$anon$10.hasNext(Iterator.scala:460)\n",
      "\tat org.apache.spark.shuffle.sort.BypassMergeSortShuffleWriter.write(BypassMergeSortShuffleWriter.java:140)\n",
      "\tat org.apache.spark.shuffle.ShuffleWriteProcessor.write(ShuffleWriteProcessor.scala:59)\n",
      "\tat org.apache.spark.scheduler.ShuffleMapTask.runTask(ShuffleMapTask.scala:101)\n",
      "\tat org.apache.spark.scheduler.ShuffleMapTask.runTask(ShuffleMapTask.scala:53)\n",
      "\tat org.apache.spark.TaskContext.runTaskWithListeners(TaskContext.scala:161)\n",
      "\tat org.apache.spark.scheduler.Task.run(Task.scala:139)\n",
      "\tat org.apache.spark.executor.Executor$TaskRunner.$anonfun$run$3(Executor.scala:554)\n",
      "\tat org.apache.spark.executor.Executor$TaskRunner$$Lambda$1551/1024729447.apply(Unknown Source)\n",
      "\tat org.apache.spark.util.Utils$.tryWithSafeFinally(Utils.scala:1529)\n",
      "\tat org.apache.spark.executor.Executor$TaskRunner.run(Executor.scala:557)\n",
      "\tat java.util.concurrent.ThreadPoolExecutor.runWorker(ThreadPoolExecutor.java:1149)\n",
      "24/06/05 22:52:15 ERROR SparkUncaughtExceptionHandler: Uncaught exception in thread Thread[Executor task launch worker for task 7.0 in stage 229.0 (TID 609),5,main]\n",
      "java.lang.OutOfMemoryError: Java heap space\n",
      "\tat java.nio.HeapByteBuffer.<init>(HeapByteBuffer.java:57)\n",
      "\tat java.nio.ByteBuffer.allocate(ByteBuffer.java:335)\n",
      "\tat org.apache.parquet.bytes.HeapByteBufferAllocator.allocate(HeapByteBufferAllocator.java:32)\n",
      "\tat org.apache.parquet.hadoop.ParquetFileReader$ConsecutivePartList.readAll(ParquetFileReader.java:1773)\n",
      "\tat org.apache.parquet.hadoop.ParquetFileReader.internalReadRowGroup(ParquetFileReader.java:953)\n",
      "\tat org.apache.parquet.hadoop.ParquetFileReader.readNextRowGroup(ParquetFileReader.java:909)\n",
      "\tat org.apache.parquet.hadoop.ParquetFileReader.readNextFilteredRowGroup(ParquetFileReader.java:1016)\n",
      "\tat org.apache.spark.sql.execution.datasources.parquet.SpecificParquetRecordReaderBase$ParquetRowGroupReaderImpl.readNextRowGroup(SpecificParquetRecordReaderBase.java:274)\n",
      "\tat org.apache.spark.sql.execution.datasources.parquet.VectorizedParquetRecordReader.checkEndOfRowGroup(VectorizedParquetRecordReader.java:404)\n",
      "\tat org.apache.spark.sql.execution.datasources.parquet.VectorizedParquetRecordReader.nextBatch(VectorizedParquetRecordReader.java:321)\n",
      "\tat org.apache.spark.sql.execution.datasources.parquet.VectorizedParquetRecordReader.nextKeyValue(VectorizedParquetRecordReader.java:219)\n",
      "\tat org.apache.spark.sql.execution.datasources.RecordReaderIterator.hasNext(RecordReaderIterator.scala:39)\n",
      "\tat org.apache.spark.sql.execution.datasources.FileScanRDD$$anon$1.hasNext(FileScanRDD.scala:125)\n",
      "\tat org.apache.spark.sql.execution.datasources.FileScanRDD$$anon$1.nextIterator(FileScanRDD.scala:297)\n",
      "\tat org.apache.spark.sql.execution.datasources.FileScanRDD$$anon$1.hasNext(FileScanRDD.scala:125)\n",
      "\tat org.apache.spark.sql.execution.FileSourceScanExec$$anon$1.hasNext(DataSourceScanExec.scala:594)\n",
      "\tat org.apache.spark.sql.catalyst.expressions.GeneratedClass$GeneratedIteratorForCodegenStage1.columnartorow_nextBatch_0$(Unknown Source)\n",
      "\tat org.apache.spark.sql.catalyst.expressions.GeneratedClass$GeneratedIteratorForCodegenStage1.processNext(Unknown Source)\n",
      "\tat org.apache.spark.sql.execution.BufferedRowIterator.hasNext(BufferedRowIterator.java:43)\n",
      "\tat org.apache.spark.sql.execution.WholeStageCodegenExec$$anon$1.hasNext(WholeStageCodegenExec.scala:760)\n",
      "\tat scala.collection.Iterator$$anon$10.hasNext(Iterator.scala:460)\n",
      "\tat org.apache.spark.shuffle.sort.BypassMergeSortShuffleWriter.write(BypassMergeSortShuffleWriter.java:140)\n",
      "\tat org.apache.spark.shuffle.ShuffleWriteProcessor.write(ShuffleWriteProcessor.scala:59)\n",
      "\tat org.apache.spark.scheduler.ShuffleMapTask.runTask(ShuffleMapTask.scala:101)\n",
      "\tat org.apache.spark.scheduler.ShuffleMapTask.runTask(ShuffleMapTask.scala:53)\n",
      "\tat org.apache.spark.TaskContext.runTaskWithListeners(TaskContext.scala:161)\n",
      "\tat org.apache.spark.scheduler.Task.run(Task.scala:139)\n",
      "\tat org.apache.spark.executor.Executor$TaskRunner.$anonfun$run$3(Executor.scala:554)\n",
      "\tat org.apache.spark.executor.Executor$TaskRunner$$Lambda$1551/1024729447.apply(Unknown Source)\n",
      "\tat org.apache.spark.util.Utils$.tryWithSafeFinally(Utils.scala:1529)\n",
      "\tat org.apache.spark.executor.Executor$TaskRunner.run(Executor.scala:557)\n",
      "\tat java.util.concurrent.ThreadPoolExecutor.runWorker(ThreadPoolExecutor.java:1149)\n",
      "24/06/05 22:52:15 WARN TaskSetManager: Lost task 7.0 in stage 229.0 (TID 609) (instance-20240504-171517.europe-west2-b.c.trabalho-pratico-cdle.internal executor driver): java.lang.OutOfMemoryError: Java heap space\n",
      "\tat java.nio.HeapByteBuffer.<init>(HeapByteBuffer.java:57)\n",
      "\tat java.nio.ByteBuffer.allocate(ByteBuffer.java:335)\n",
      "\tat org.apache.parquet.bytes.HeapByteBufferAllocator.allocate(HeapByteBufferAllocator.java:32)\n",
      "\tat org.apache.parquet.hadoop.ParquetFileReader$ConsecutivePartList.readAll(ParquetFileReader.java:1773)\n",
      "\tat org.apache.parquet.hadoop.ParquetFileReader.internalReadRowGroup(ParquetFileReader.java:953)\n",
      "\tat org.apache.parquet.hadoop.ParquetFileReader.readNextRowGroup(ParquetFileReader.java:909)\n",
      "\tat org.apache.parquet.hadoop.ParquetFileReader.readNextFilteredRowGroup(ParquetFileReader.java:1016)\n",
      "\tat org.apache.spark.sql.execution.datasources.parquet.SpecificParquetRecordReaderBase$ParquetRowGroupReaderImpl.readNextRowGroup(SpecificParquetRecordReaderBase.java:274)\n",
      "\tat org.apache.spark.sql.execution.datasources.parquet.VectorizedParquetRecordReader.checkEndOfRowGroup(VectorizedParquetRecordReader.java:404)\n",
      "\tat org.apache.spark.sql.execution.datasources.parquet.VectorizedParquetRecordReader.nextBatch(VectorizedParquetRecordReader.java:321)\n",
      "\tat org.apache.spark.sql.execution.datasources.parquet.VectorizedParquetRecordReader.nextKeyValue(VectorizedParquetRecordReader.java:219)\n",
      "\tat org.apache.spark.sql.execution.datasources.RecordReaderIterator.hasNext(RecordReaderIterator.scala:39)\n",
      "\tat org.apache.spark.sql.execution.datasources.FileScanRDD$$anon$1.hasNext(FileScanRDD.scala:125)\n",
      "\tat org.apache.spark.sql.execution.datasources.FileScanRDD$$anon$1.nextIterator(FileScanRDD.scala:297)\n",
      "\tat org.apache.spark.sql.execution.datasources.FileScanRDD$$anon$1.hasNext(FileScanRDD.scala:125)\n",
      "\tat org.apache.spark.sql.execution.FileSourceScanExec$$anon$1.hasNext(DataSourceScanExec.scala:594)\n",
      "\tat org.apache.spark.sql.catalyst.expressions.GeneratedClass$GeneratedIteratorForCodegenStage1.columnartorow_nextBatch_0$(Unknown Source)\n",
      "\tat org.apache.spark.sql.catalyst.expressions.GeneratedClass$GeneratedIteratorForCodegenStage1.processNext(Unknown Source)\n",
      "\tat org.apache.spark.sql.execution.BufferedRowIterator.hasNext(BufferedRowIterator.java:43)\n",
      "\tat org.apache.spark.sql.execution.WholeStageCodegenExec$$anon$1.hasNext(WholeStageCodegenExec.scala:760)\n",
      "\tat scala.collection.Iterator$$anon$10.hasNext(Iterator.scala:460)\n",
      "\tat org.apache.spark.shuffle.sort.BypassMergeSortShuffleWriter.write(BypassMergeSortShuffleWriter.java:140)\n",
      "\tat org.apache.spark.shuffle.ShuffleWriteProcessor.write(ShuffleWriteProcessor.scala:59)\n",
      "\tat org.apache.spark.scheduler.ShuffleMapTask.runTask(ShuffleMapTask.scala:101)\n",
      "\tat org.apache.spark.scheduler.ShuffleMapTask.runTask(ShuffleMapTask.scala:53)\n",
      "\tat org.apache.spark.TaskContext.runTaskWithListeners(TaskContext.scala:161)\n",
      "\tat org.apache.spark.scheduler.Task.run(Task.scala:139)\n",
      "\tat org.apache.spark.executor.Executor$TaskRunner.$anonfun$run$3(Executor.scala:554)\n",
      "\tat org.apache.spark.executor.Executor$TaskRunner$$Lambda$1551/1024729447.apply(Unknown Source)\n",
      "\tat org.apache.spark.util.Utils$.tryWithSafeFinally(Utils.scala:1529)\n",
      "\tat org.apache.spark.executor.Executor$TaskRunner.run(Executor.scala:557)\n",
      "\tat java.util.concurrent.ThreadPoolExecutor.runWorker(ThreadPoolExecutor.java:1149)\n",
      "\n",
      "24/06/05 22:52:15 ERROR TaskSetManager: Task 7 in stage 229.0 failed 1 times; aborting job\n",
      "24/06/05 22:52:16 ERROR Executor: Exception in task 1.0 in stage 229.0 (TID 603)\n",
      "java.lang.OutOfMemoryError: Java heap space\n",
      "\tat java.nio.HeapByteBuffer.<init>(HeapByteBuffer.java:57)\n",
      "\tat java.nio.ByteBuffer.allocate(ByteBuffer.java:335)\n",
      "\tat org.apache.parquet.bytes.HeapByteBufferAllocator.allocate(HeapByteBufferAllocator.java:32)\n",
      "\tat org.apache.parquet.hadoop.ParquetFileReader$ConsecutivePartList.readAll(ParquetFileReader.java:1773)\n",
      "\tat org.apache.parquet.hadoop.ParquetFileReader.internalReadRowGroup(ParquetFileReader.java:953)\n",
      "\tat org.apache.parquet.hadoop.ParquetFileReader.readNextRowGroup(ParquetFileReader.java:909)\n",
      "\tat org.apache.parquet.hadoop.ParquetFileReader.readNextFilteredRowGroup(ParquetFileReader.java:1016)\n",
      "\tat org.apache.spark.sql.execution.datasources.parquet.SpecificParquetRecordReaderBase$ParquetRowGroupReaderImpl.readNextRowGroup(SpecificParquetRecordReaderBase.java:274)\n",
      "\tat org.apache.spark.sql.execution.datasources.parquet.VectorizedParquetRecordReader.checkEndOfRowGroup(VectorizedParquetRecordReader.java:404)\n",
      "\tat org.apache.spark.sql.execution.datasources.parquet.VectorizedParquetRecordReader.nextBatch(VectorizedParquetRecordReader.java:321)\n",
      "\tat org.apache.spark.sql.execution.datasources.parquet.VectorizedParquetRecordReader.nextKeyValue(VectorizedParquetRecordReader.java:219)\n",
      "\tat org.apache.spark.sql.execution.datasources.RecordReaderIterator.hasNext(RecordReaderIterator.scala:39)\n",
      "\tat org.apache.spark.sql.execution.datasources.FileScanRDD$$anon$1.hasNext(FileScanRDD.scala:125)\n",
      "\tat org.apache.spark.sql.execution.datasources.FileScanRDD$$anon$1.nextIterator(FileScanRDD.scala:297)\n",
      "\tat org.apache.spark.sql.execution.datasources.FileScanRDD$$anon$1.hasNext(FileScanRDD.scala:125)\n",
      "\tat org.apache.spark.sql.execution.FileSourceScanExec$$anon$1.hasNext(DataSourceScanExec.scala:594)\n",
      "\tat org.apache.spark.sql.catalyst.expressions.GeneratedClass$GeneratedIteratorForCodegenStage1.columnartorow_nextBatch_0$(Unknown Source)\n",
      "\tat org.apache.spark.sql.catalyst.expressions.GeneratedClass$GeneratedIteratorForCodegenStage1.processNext(Unknown Source)\n",
      "\tat org.apache.spark.sql.execution.BufferedRowIterator.hasNext(BufferedRowIterator.java:43)\n",
      "\tat org.apache.spark.sql.execution.WholeStageCodegenExec$$anon$1.hasNext(WholeStageCodegenExec.scala:760)\n",
      "\tat scala.collection.Iterator$$anon$10.hasNext(Iterator.scala:460)\n",
      "\tat org.apache.spark.shuffle.sort.BypassMergeSortShuffleWriter.write(BypassMergeSortShuffleWriter.java:140)\n",
      "\tat org.apache.spark.shuffle.ShuffleWriteProcessor.write(ShuffleWriteProcessor.scala:59)\n",
      "\tat org.apache.spark.scheduler.ShuffleMapTask.runTask(ShuffleMapTask.scala:101)\n",
      "\tat org.apache.spark.scheduler.ShuffleMapTask.runTask(ShuffleMapTask.scala:53)\n",
      "\tat org.apache.spark.TaskContext.runTaskWithListeners(TaskContext.scala:161)\n",
      "\tat org.apache.spark.scheduler.Task.run(Task.scala:139)\n",
      "\tat org.apache.spark.executor.Executor$TaskRunner.$anonfun$run$3(Executor.scala:554)\n",
      "\tat org.apache.spark.executor.Executor$TaskRunner$$Lambda$1551/1024729447.apply(Unknown Source)\n",
      "\tat org.apache.spark.util.Utils$.tryWithSafeFinally(Utils.scala:1529)\n",
      "\tat org.apache.spark.executor.Executor$TaskRunner.run(Executor.scala:557)\n",
      "\tat java.util.concurrent.ThreadPoolExecutor.runWorker(ThreadPoolExecutor.java:1149)\n",
      "24/06/05 22:52:16 ERROR SparkUncaughtExceptionHandler: [Container in shutdown] Uncaught exception in thread Thread[Executor task launch worker for task 1.0 in stage 229.0 (TID 603),5,main]\n",
      "java.lang.OutOfMemoryError: Java heap space\n",
      "\tat java.nio.HeapByteBuffer.<init>(HeapByteBuffer.java:57)\n",
      "\tat java.nio.ByteBuffer.allocate(ByteBuffer.java:335)\n",
      "\tat org.apache.parquet.bytes.HeapByteBufferAllocator.allocate(HeapByteBufferAllocator.java:32)\n",
      "\tat org.apache.parquet.hadoop.ParquetFileReader$ConsecutivePartList.readAll(ParquetFileReader.java:1773)\n",
      "\tat org.apache.parquet.hadoop.ParquetFileReader.internalReadRowGroup(ParquetFileReader.java:953)\n",
      "\tat org.apache.parquet.hadoop.ParquetFileReader.readNextRowGroup(ParquetFileReader.java:909)\n",
      "\tat org.apache.parquet.hadoop.ParquetFileReader.readNextFilteredRowGroup(ParquetFileReader.java:1016)\n",
      "\tat org.apache.spark.sql.execution.datasources.parquet.SpecificParquetRecordReaderBase$ParquetRowGroupReaderImpl.readNextRowGroup(SpecificParquetRecordReaderBase.java:274)\n",
      "\tat org.apache.spark.sql.execution.datasources.parquet.VectorizedParquetRecordReader.checkEndOfRowGroup(VectorizedParquetRecordReader.java:404)\n",
      "\tat org.apache.spark.sql.execution.datasources.parquet.VectorizedParquetRecordReader.nextBatch(VectorizedParquetRecordReader.java:321)\n",
      "\tat org.apache.spark.sql.execution.datasources.parquet.VectorizedParquetRecordReader.nextKeyValue(VectorizedParquetRecordReader.java:219)\n",
      "\tat org.apache.spark.sql.execution.datasources.RecordReaderIterator.hasNext(RecordReaderIterator.scala:39)\n",
      "\tat org.apache.spark.sql.execution.datasources.FileScanRDD$$anon$1.hasNext(FileScanRDD.scala:125)\n",
      "\tat org.apache.spark.sql.execution.datasources.FileScanRDD$$anon$1.nextIterator(FileScanRDD.scala:297)\n",
      "\tat org.apache.spark.sql.execution.datasources.FileScanRDD$$anon$1.hasNext(FileScanRDD.scala:125)\n",
      "\tat org.apache.spark.sql.execution.FileSourceScanExec$$anon$1.hasNext(DataSourceScanExec.scala:594)\n",
      "\tat org.apache.spark.sql.catalyst.expressions.GeneratedClass$GeneratedIteratorForCodegenStage1.columnartorow_nextBatch_0$(Unknown Source)\n",
      "\tat org.apache.spark.sql.catalyst.expressions.GeneratedClass$GeneratedIteratorForCodegenStage1.processNext(Unknown Source)\n",
      "\tat org.apache.spark.sql.execution.BufferedRowIterator.hasNext(BufferedRowIterator.java:43)\n",
      "\tat org.apache.spark.sql.execution.WholeStageCodegenExec$$anon$1.hasNext(WholeStageCodegenExec.scala:760)\n",
      "\tat scala.collection.Iterator$$anon$10.hasNext(Iterator.scala:460)\n",
      "\tat org.apache.spark.shuffle.sort.BypassMergeSortShuffleWriter.write(BypassMergeSortShuffleWriter.java:140)\n",
      "\tat org.apache.spark.shuffle.ShuffleWriteProcessor.write(ShuffleWriteProcessor.scala:59)\n",
      "\tat org.apache.spark.scheduler.ShuffleMapTask.runTask(ShuffleMapTask.scala:101)\n",
      "\tat org.apache.spark.scheduler.ShuffleMapTask.runTask(ShuffleMapTask.scala:53)\n",
      "\tat org.apache.spark.TaskContext.runTaskWithListeners(TaskContext.scala:161)\n",
      "\tat org.apache.spark.scheduler.Task.run(Task.scala:139)\n",
      "\tat org.apache.spark.executor.Executor$TaskRunner.$anonfun$run$3(Executor.scala:554)\n",
      "\tat org.apache.spark.executor.Executor$TaskRunner$$Lambda$1551/1024729447.apply(Unknown Source)\n",
      "\tat org.apache.spark.util.Utils$.tryWithSafeFinally(Utils.scala:1529)\n",
      "\tat org.apache.spark.executor.Executor$TaskRunner.run(Executor.scala:557)\n",
      "\tat java.util.concurrent.ThreadPoolExecutor.runWorker(ThreadPoolExecutor.java:1149)\n",
      "24/06/05 22:52:16 WARN DiskBlockObjectWriter: Error deleting /tmp/blockmgr-57e8884d-3fb6-4db3-a787-a55abc70f731/08/temp_shuffle_cb6a2b05-0272-489c-9e70-3eadc193006e\n",
      "ERROR:root:Exception while sending command.\n",
      "Traceback (most recent call last):\n",
      "  File \"/home/marianaaraujoserrao/.local/lib/python3.8/site-packages/IPython/core/interactiveshell.py\", line 3508, in run_code\n",
      "    exec(code_obj, self.user_global_ns, self.user_ns)\n",
      "  File \"/tmp/ipykernel_11038/1148903732.py\", line 2, in <module>\n",
      "    print(f'Enforce caching for filtered dataframe 2: {len(df)} rows of filtered data')\n",
      "  File \"/home/marianaaraujoserrao/.local/lib/python3.8/site-packages/databricks/koalas/frame.py\", line 11523, in __len__\n",
      "    return self._internal.resolved_copy.spark_frame.count()\n",
      "  File \"/home/marianaaraujoserrao/.local/lib/python3.8/site-packages/pyspark/sql/dataframe.py\", line 1195, in count\n",
      "    return int(self._jdf.count())\n",
      "  File \"/home/marianaaraujoserrao/.local/lib/python3.8/site-packages/py4j/java_gateway.py\", line 1322, in __call__\n",
      "    return_value = get_return_value(\n",
      "  File \"/home/marianaaraujoserrao/.local/lib/python3.8/site-packages/pyspark/errors/exceptions/captured.py\", line 169, in deco\n",
      "    return f(*a, **kw)\n",
      "  File \"/home/marianaaraujoserrao/.local/lib/python3.8/site-packages/py4j/protocol.py\", line 326, in get_return_value\n",
      "    raise Py4JJavaError(\n",
      "py4j.protocol.Py4JJavaError: <unprintable Py4JJavaError object>\n",
      "\n",
      "During handling of the above exception, another exception occurred:\n",
      "\n",
      "Traceback (most recent call last):\n",
      "  File \"/home/marianaaraujoserrao/.local/lib/python3.8/site-packages/py4j/clientserver.py\", line 516, in send_command\n",
      "    raise Py4JNetworkError(\"Answer from Java side is empty\")\n",
      "py4j.protocol.Py4JNetworkError: Answer from Java side is empty\n",
      "\n",
      "During handling of the above exception, another exception occurred:\n",
      "\n",
      "Traceback (most recent call last):\n",
      "  File \"/home/marianaaraujoserrao/.local/lib/python3.8/site-packages/py4j/java_gateway.py\", line 1038, in send_command\n",
      "    response = connection.send_command(command)\n",
      "  File \"/home/marianaaraujoserrao/.local/lib/python3.8/site-packages/py4j/clientserver.py\", line 539, in send_command\n",
      "    raise Py4JNetworkError(\n",
      "py4j.protocol.Py4JNetworkError: Error while sending or receiving\n"
     ]
    },
    {
     "ename": "ConnectionRefusedError",
     "evalue": "[Errno 111] Connection refused",
     "output_type": "error",
     "traceback": [
      "\u001b[0;31m---------------------------------------------------------------------------\u001b[0m",
      "\u001b[0;31mPy4JJavaError\u001b[0m                             Traceback (most recent call last)",
      "    \u001b[0;31m[... skipping hidden 1 frame]\u001b[0m\n",
      "Cell \u001b[0;32mIn[91], line 2\u001b[0m\n\u001b[1;32m      1\u001b[0m koalas_filtered[\u001b[38;5;241m0\u001b[39m] \u001b[38;5;241m=\u001b[39m df\u001b[38;5;241m.\u001b[39mspark\u001b[38;5;241m.\u001b[39mcache()\n\u001b[0;32m----> 2\u001b[0m \u001b[38;5;28mprint\u001b[39m(\u001b[38;5;124mf\u001b[39m\u001b[38;5;124m'\u001b[39m\u001b[38;5;124mEnforce caching for filtered dataframe 2: \u001b[39m\u001b[38;5;132;01m{\u001b[39;00m\u001b[38;5;28mlen\u001b[39m(df)\u001b[38;5;132;01m}\u001b[39;00m\u001b[38;5;124m rows of filtered data\u001b[39m\u001b[38;5;124m'\u001b[39m)\n",
      "File \u001b[0;32m~/.local/lib/python3.8/site-packages/databricks/koalas/frame.py:11523\u001b[0m, in \u001b[0;36mDataFrame.__len__\u001b[0;34m(self)\u001b[0m\n\u001b[1;32m  11522\u001b[0m \u001b[38;5;28;01mdef\u001b[39;00m \u001b[38;5;21m__len__\u001b[39m(\u001b[38;5;28mself\u001b[39m):\n\u001b[0;32m> 11523\u001b[0m     \u001b[38;5;28;01mreturn\u001b[39;00m \u001b[38;5;28;43mself\u001b[39;49m\u001b[38;5;241;43m.\u001b[39;49m\u001b[43m_internal\u001b[49m\u001b[38;5;241;43m.\u001b[39;49m\u001b[43mresolved_copy\u001b[49m\u001b[38;5;241;43m.\u001b[39;49m\u001b[43mspark_frame\u001b[49m\u001b[38;5;241;43m.\u001b[39;49m\u001b[43mcount\u001b[49m\u001b[43m(\u001b[49m\u001b[43m)\u001b[49m\n",
      "File \u001b[0;32m~/.local/lib/python3.8/site-packages/pyspark/sql/dataframe.py:1195\u001b[0m, in \u001b[0;36mDataFrame.count\u001b[0;34m(self)\u001b[0m\n\u001b[1;32m   1173\u001b[0m \u001b[38;5;250m\u001b[39m\u001b[38;5;124;03m\"\"\"Returns the number of rows in this :class:`DataFrame`.\u001b[39;00m\n\u001b[1;32m   1174\u001b[0m \n\u001b[1;32m   1175\u001b[0m \u001b[38;5;124;03m.. versionadded:: 1.3.0\u001b[39;00m\n\u001b[0;32m   (...)\u001b[0m\n\u001b[1;32m   1193\u001b[0m \u001b[38;5;124;03m3\u001b[39;00m\n\u001b[1;32m   1194\u001b[0m \u001b[38;5;124;03m\"\"\"\u001b[39;00m\n\u001b[0;32m-> 1195\u001b[0m \u001b[38;5;28;01mreturn\u001b[39;00m \u001b[38;5;28mint\u001b[39m(\u001b[38;5;28;43mself\u001b[39;49m\u001b[38;5;241;43m.\u001b[39;49m\u001b[43m_jdf\u001b[49m\u001b[38;5;241;43m.\u001b[39;49m\u001b[43mcount\u001b[49m\u001b[43m(\u001b[49m\u001b[43m)\u001b[49m)\n",
      "File \u001b[0;32m~/.local/lib/python3.8/site-packages/py4j/java_gateway.py:1322\u001b[0m, in \u001b[0;36mJavaMember.__call__\u001b[0;34m(self, *args)\u001b[0m\n\u001b[1;32m   1321\u001b[0m answer \u001b[38;5;241m=\u001b[39m \u001b[38;5;28mself\u001b[39m\u001b[38;5;241m.\u001b[39mgateway_client\u001b[38;5;241m.\u001b[39msend_command(command)\n\u001b[0;32m-> 1322\u001b[0m return_value \u001b[38;5;241m=\u001b[39m \u001b[43mget_return_value\u001b[49m\u001b[43m(\u001b[49m\n\u001b[1;32m   1323\u001b[0m \u001b[43m    \u001b[49m\u001b[43manswer\u001b[49m\u001b[43m,\u001b[49m\u001b[43m \u001b[49m\u001b[38;5;28;43mself\u001b[39;49m\u001b[38;5;241;43m.\u001b[39;49m\u001b[43mgateway_client\u001b[49m\u001b[43m,\u001b[49m\u001b[43m \u001b[49m\u001b[38;5;28;43mself\u001b[39;49m\u001b[38;5;241;43m.\u001b[39;49m\u001b[43mtarget_id\u001b[49m\u001b[43m,\u001b[49m\u001b[43m \u001b[49m\u001b[38;5;28;43mself\u001b[39;49m\u001b[38;5;241;43m.\u001b[39;49m\u001b[43mname\u001b[49m\u001b[43m)\u001b[49m\n\u001b[1;32m   1325\u001b[0m \u001b[38;5;28;01mfor\u001b[39;00m temp_arg \u001b[38;5;129;01min\u001b[39;00m temp_args:\n",
      "File \u001b[0;32m~/.local/lib/python3.8/site-packages/pyspark/errors/exceptions/captured.py:169\u001b[0m, in \u001b[0;36mcapture_sql_exception.<locals>.deco\u001b[0;34m(*a, **kw)\u001b[0m\n\u001b[1;32m    168\u001b[0m \u001b[38;5;28;01mtry\u001b[39;00m:\n\u001b[0;32m--> 169\u001b[0m     \u001b[38;5;28;01mreturn\u001b[39;00m \u001b[43mf\u001b[49m\u001b[43m(\u001b[49m\u001b[38;5;241;43m*\u001b[39;49m\u001b[43ma\u001b[49m\u001b[43m,\u001b[49m\u001b[43m \u001b[49m\u001b[38;5;241;43m*\u001b[39;49m\u001b[38;5;241;43m*\u001b[39;49m\u001b[43mkw\u001b[49m\u001b[43m)\u001b[49m\n\u001b[1;32m    170\u001b[0m \u001b[38;5;28;01mexcept\u001b[39;00m Py4JJavaError \u001b[38;5;28;01mas\u001b[39;00m e:\n",
      "File \u001b[0;32m~/.local/lib/python3.8/site-packages/py4j/protocol.py:326\u001b[0m, in \u001b[0;36mget_return_value\u001b[0;34m(answer, gateway_client, target_id, name)\u001b[0m\n\u001b[1;32m    325\u001b[0m \u001b[38;5;28;01mif\u001b[39;00m answer[\u001b[38;5;241m1\u001b[39m] \u001b[38;5;241m==\u001b[39m REFERENCE_TYPE:\n\u001b[0;32m--> 326\u001b[0m     \u001b[38;5;28;01mraise\u001b[39;00m Py4JJavaError(\n\u001b[1;32m    327\u001b[0m         \u001b[38;5;124m\"\u001b[39m\u001b[38;5;124mAn error occurred while calling \u001b[39m\u001b[38;5;132;01m{0}\u001b[39;00m\u001b[38;5;132;01m{1}\u001b[39;00m\u001b[38;5;132;01m{2}\u001b[39;00m\u001b[38;5;124m.\u001b[39m\u001b[38;5;130;01m\\n\u001b[39;00m\u001b[38;5;124m\"\u001b[39m\u001b[38;5;241m.\u001b[39m\n\u001b[1;32m    328\u001b[0m         \u001b[38;5;28mformat\u001b[39m(target_id, \u001b[38;5;124m\"\u001b[39m\u001b[38;5;124m.\u001b[39m\u001b[38;5;124m\"\u001b[39m, name), value)\n\u001b[1;32m    329\u001b[0m \u001b[38;5;28;01melse\u001b[39;00m:\n",
      "\u001b[0;31m<class 'str'>\u001b[0m: (<class 'ConnectionRefusedError'>, ConnectionRefusedError(111, 'Connection refused'))",
      "\nDuring handling of the above exception, another exception occurred:\n",
      "\u001b[0;31mConnectionRefusedError\u001b[0m                    Traceback (most recent call last)",
      "    \u001b[0;31m[... skipping hidden 1 frame]\u001b[0m\n",
      "File \u001b[0;32m~/.local/lib/python3.8/site-packages/IPython/core/interactiveshell.py:2116\u001b[0m, in \u001b[0;36mInteractiveShell.showtraceback\u001b[0;34m(self, exc_tuple, filename, tb_offset, exception_only, running_compiled_code)\u001b[0m\n\u001b[1;32m   2113\u001b[0m     traceback\u001b[38;5;241m.\u001b[39mprint_exc()\n\u001b[1;32m   2114\u001b[0m     \u001b[38;5;28;01mreturn\u001b[39;00m \u001b[38;5;28;01mNone\u001b[39;00m\n\u001b[0;32m-> 2116\u001b[0m \u001b[38;5;28;43mself\u001b[39;49m\u001b[38;5;241;43m.\u001b[39;49m\u001b[43m_showtraceback\u001b[49m\u001b[43m(\u001b[49m\u001b[43metype\u001b[49m\u001b[43m,\u001b[49m\u001b[43m \u001b[49m\u001b[43mvalue\u001b[49m\u001b[43m,\u001b[49m\u001b[43m \u001b[49m\u001b[43mstb\u001b[49m\u001b[43m)\u001b[49m\n\u001b[1;32m   2117\u001b[0m \u001b[38;5;28;01mif\u001b[39;00m \u001b[38;5;28mself\u001b[39m\u001b[38;5;241m.\u001b[39mcall_pdb:\n\u001b[1;32m   2118\u001b[0m     \u001b[38;5;66;03m# drop into debugger\u001b[39;00m\n\u001b[1;32m   2119\u001b[0m     \u001b[38;5;28mself\u001b[39m\u001b[38;5;241m.\u001b[39mdebugger(force\u001b[38;5;241m=\u001b[39m\u001b[38;5;28;01mTrue\u001b[39;00m)\n",
      "File \u001b[0;32m~/.local/lib/python3.8/site-packages/ipykernel/zmqshell.py:559\u001b[0m, in \u001b[0;36mZMQInteractiveShell._showtraceback\u001b[0;34m(self, etype, evalue, stb)\u001b[0m\n\u001b[1;32m    553\u001b[0m sys\u001b[38;5;241m.\u001b[39mstdout\u001b[38;5;241m.\u001b[39mflush()\n\u001b[1;32m    554\u001b[0m sys\u001b[38;5;241m.\u001b[39mstderr\u001b[38;5;241m.\u001b[39mflush()\n\u001b[1;32m    556\u001b[0m exc_content \u001b[38;5;241m=\u001b[39m {\n\u001b[1;32m    557\u001b[0m     \u001b[38;5;124m\"\u001b[39m\u001b[38;5;124mtraceback\u001b[39m\u001b[38;5;124m\"\u001b[39m: stb,\n\u001b[1;32m    558\u001b[0m     \u001b[38;5;124m\"\u001b[39m\u001b[38;5;124mename\u001b[39m\u001b[38;5;124m\"\u001b[39m: \u001b[38;5;28mstr\u001b[39m(etype\u001b[38;5;241m.\u001b[39m\u001b[38;5;18m__name__\u001b[39m),\n\u001b[0;32m--> 559\u001b[0m     \u001b[38;5;124m\"\u001b[39m\u001b[38;5;124mevalue\u001b[39m\u001b[38;5;124m\"\u001b[39m: \u001b[38;5;28;43mstr\u001b[39;49m\u001b[43m(\u001b[49m\u001b[43mevalue\u001b[49m\u001b[43m)\u001b[49m,\n\u001b[1;32m    560\u001b[0m }\n\u001b[1;32m    562\u001b[0m dh \u001b[38;5;241m=\u001b[39m \u001b[38;5;28mself\u001b[39m\u001b[38;5;241m.\u001b[39mdisplayhook\n\u001b[1;32m    563\u001b[0m \u001b[38;5;66;03m# Send exception info over pub socket for other clients than the caller\u001b[39;00m\n\u001b[1;32m    564\u001b[0m \u001b[38;5;66;03m# to pick up\u001b[39;00m\n",
      "File \u001b[0;32m~/.local/lib/python3.8/site-packages/py4j/protocol.py:471\u001b[0m, in \u001b[0;36mPy4JJavaError.__str__\u001b[0;34m(self)\u001b[0m\n\u001b[1;32m    469\u001b[0m \u001b[38;5;28;01mdef\u001b[39;00m \u001b[38;5;21m__str__\u001b[39m(\u001b[38;5;28mself\u001b[39m):\n\u001b[1;32m    470\u001b[0m     gateway_client \u001b[38;5;241m=\u001b[39m \u001b[38;5;28mself\u001b[39m\u001b[38;5;241m.\u001b[39mjava_exception\u001b[38;5;241m.\u001b[39m_gateway_client\n\u001b[0;32m--> 471\u001b[0m     answer \u001b[38;5;241m=\u001b[39m \u001b[43mgateway_client\u001b[49m\u001b[38;5;241;43m.\u001b[39;49m\u001b[43msend_command\u001b[49m\u001b[43m(\u001b[49m\u001b[38;5;28;43mself\u001b[39;49m\u001b[38;5;241;43m.\u001b[39;49m\u001b[43mexception_cmd\u001b[49m\u001b[43m)\u001b[49m\n\u001b[1;32m    472\u001b[0m     return_value \u001b[38;5;241m=\u001b[39m get_return_value(answer, gateway_client, \u001b[38;5;28;01mNone\u001b[39;00m, \u001b[38;5;28;01mNone\u001b[39;00m)\n\u001b[1;32m    473\u001b[0m     \u001b[38;5;66;03m# Note: technically this should return a bytestring 'str' rather than\u001b[39;00m\n\u001b[1;32m    474\u001b[0m     \u001b[38;5;66;03m# unicodes in Python 2; however, it can return unicodes for now.\u001b[39;00m\n\u001b[1;32m    475\u001b[0m     \u001b[38;5;66;03m# See https://github.com/bartdag/py4j/issues/306 for more details.\u001b[39;00m\n",
      "File \u001b[0;32m~/.local/lib/python3.8/site-packages/py4j/java_gateway.py:1036\u001b[0m, in \u001b[0;36mGatewayClient.send_command\u001b[0;34m(self, command, retry, binary)\u001b[0m\n\u001b[1;32m   1015\u001b[0m \u001b[38;5;28;01mdef\u001b[39;00m \u001b[38;5;21msend_command\u001b[39m(\u001b[38;5;28mself\u001b[39m, command, retry\u001b[38;5;241m=\u001b[39m\u001b[38;5;28;01mTrue\u001b[39;00m, binary\u001b[38;5;241m=\u001b[39m\u001b[38;5;28;01mFalse\u001b[39;00m):\n\u001b[1;32m   1016\u001b[0m \u001b[38;5;250m    \u001b[39m\u001b[38;5;124;03m\"\"\"Sends a command to the JVM. This method is not intended to be\u001b[39;00m\n\u001b[1;32m   1017\u001b[0m \u001b[38;5;124;03m       called directly by Py4J users. It is usually called by\u001b[39;00m\n\u001b[1;32m   1018\u001b[0m \u001b[38;5;124;03m       :class:`JavaMember` instances.\u001b[39;00m\n\u001b[0;32m   (...)\u001b[0m\n\u001b[1;32m   1034\u001b[0m \u001b[38;5;124;03m     if `binary` is `True`.\u001b[39;00m\n\u001b[1;32m   1035\u001b[0m \u001b[38;5;124;03m    \"\"\"\u001b[39;00m\n\u001b[0;32m-> 1036\u001b[0m     connection \u001b[38;5;241m=\u001b[39m \u001b[38;5;28;43mself\u001b[39;49m\u001b[38;5;241;43m.\u001b[39;49m\u001b[43m_get_connection\u001b[49m\u001b[43m(\u001b[49m\u001b[43m)\u001b[49m\n\u001b[1;32m   1037\u001b[0m     \u001b[38;5;28;01mtry\u001b[39;00m:\n\u001b[1;32m   1038\u001b[0m         response \u001b[38;5;241m=\u001b[39m connection\u001b[38;5;241m.\u001b[39msend_command(command)\n",
      "File \u001b[0;32m~/.local/lib/python3.8/site-packages/py4j/clientserver.py:284\u001b[0m, in \u001b[0;36mJavaClient._get_connection\u001b[0;34m(self)\u001b[0m\n\u001b[1;32m    281\u001b[0m     \u001b[38;5;28;01mpass\u001b[39;00m\n\u001b[1;32m    283\u001b[0m \u001b[38;5;28;01mif\u001b[39;00m connection \u001b[38;5;129;01mis\u001b[39;00m \u001b[38;5;28;01mNone\u001b[39;00m \u001b[38;5;129;01mor\u001b[39;00m connection\u001b[38;5;241m.\u001b[39msocket \u001b[38;5;129;01mis\u001b[39;00m \u001b[38;5;28;01mNone\u001b[39;00m:\n\u001b[0;32m--> 284\u001b[0m     connection \u001b[38;5;241m=\u001b[39m \u001b[38;5;28;43mself\u001b[39;49m\u001b[38;5;241;43m.\u001b[39;49m\u001b[43m_create_new_connection\u001b[49m\u001b[43m(\u001b[49m\u001b[43m)\u001b[49m\n\u001b[1;32m    285\u001b[0m \u001b[38;5;28;01mreturn\u001b[39;00m connection\n",
      "File \u001b[0;32m~/.local/lib/python3.8/site-packages/py4j/clientserver.py:291\u001b[0m, in \u001b[0;36mJavaClient._create_new_connection\u001b[0;34m(self)\u001b[0m\n\u001b[1;32m    287\u001b[0m \u001b[38;5;28;01mdef\u001b[39;00m \u001b[38;5;21m_create_new_connection\u001b[39m(\u001b[38;5;28mself\u001b[39m):\n\u001b[1;32m    288\u001b[0m     connection \u001b[38;5;241m=\u001b[39m ClientServerConnection(\n\u001b[1;32m    289\u001b[0m         \u001b[38;5;28mself\u001b[39m\u001b[38;5;241m.\u001b[39mjava_parameters, \u001b[38;5;28mself\u001b[39m\u001b[38;5;241m.\u001b[39mpython_parameters,\n\u001b[1;32m    290\u001b[0m         \u001b[38;5;28mself\u001b[39m\u001b[38;5;241m.\u001b[39mgateway_property, \u001b[38;5;28mself\u001b[39m)\n\u001b[0;32m--> 291\u001b[0m     \u001b[43mconnection\u001b[49m\u001b[38;5;241;43m.\u001b[39;49m\u001b[43mconnect_to_java_server\u001b[49m\u001b[43m(\u001b[49m\u001b[43m)\u001b[49m\n\u001b[1;32m    292\u001b[0m     \u001b[38;5;28mself\u001b[39m\u001b[38;5;241m.\u001b[39mset_thread_connection(connection)\n\u001b[1;32m    293\u001b[0m     \u001b[38;5;28;01mreturn\u001b[39;00m connection\n",
      "File \u001b[0;32m~/.local/lib/python3.8/site-packages/py4j/clientserver.py:438\u001b[0m, in \u001b[0;36mClientServerConnection.connect_to_java_server\u001b[0;34m(self)\u001b[0m\n\u001b[1;32m    435\u001b[0m \u001b[38;5;28;01mif\u001b[39;00m \u001b[38;5;28mself\u001b[39m\u001b[38;5;241m.\u001b[39mssl_context:\n\u001b[1;32m    436\u001b[0m     \u001b[38;5;28mself\u001b[39m\u001b[38;5;241m.\u001b[39msocket \u001b[38;5;241m=\u001b[39m \u001b[38;5;28mself\u001b[39m\u001b[38;5;241m.\u001b[39mssl_context\u001b[38;5;241m.\u001b[39mwrap_socket(\n\u001b[1;32m    437\u001b[0m         \u001b[38;5;28mself\u001b[39m\u001b[38;5;241m.\u001b[39msocket, server_hostname\u001b[38;5;241m=\u001b[39m\u001b[38;5;28mself\u001b[39m\u001b[38;5;241m.\u001b[39mjava_address)\n\u001b[0;32m--> 438\u001b[0m \u001b[38;5;28;43mself\u001b[39;49m\u001b[38;5;241;43m.\u001b[39;49m\u001b[43msocket\u001b[49m\u001b[38;5;241;43m.\u001b[39;49m\u001b[43mconnect\u001b[49m\u001b[43m(\u001b[49m\u001b[43m(\u001b[49m\u001b[38;5;28;43mself\u001b[39;49m\u001b[38;5;241;43m.\u001b[39;49m\u001b[43mjava_address\u001b[49m\u001b[43m,\u001b[49m\u001b[43m \u001b[49m\u001b[38;5;28;43mself\u001b[39;49m\u001b[38;5;241;43m.\u001b[39;49m\u001b[43mjava_port\u001b[49m\u001b[43m)\u001b[49m\u001b[43m)\u001b[49m\n\u001b[1;32m    439\u001b[0m \u001b[38;5;28mself\u001b[39m\u001b[38;5;241m.\u001b[39mstream \u001b[38;5;241m=\u001b[39m \u001b[38;5;28mself\u001b[39m\u001b[38;5;241m.\u001b[39msocket\u001b[38;5;241m.\u001b[39mmakefile(\u001b[38;5;124m\"\u001b[39m\u001b[38;5;124mrb\u001b[39m\u001b[38;5;124m\"\u001b[39m)\n\u001b[1;32m    440\u001b[0m \u001b[38;5;28mself\u001b[39m\u001b[38;5;241m.\u001b[39mis_connected \u001b[38;5;241m=\u001b[39m \u001b[38;5;28;01mTrue\u001b[39;00m\n",
      "\u001b[0;31mConnectionRefusedError\u001b[0m: [Errno 111] Connection refused"
     ]
    },
    {
     "name": "stderr",
     "output_type": "stream",
     "text": [
      "ERROR:root:Exception while sending command.\n",
      "Traceback (most recent call last):\n",
      "  File \"/home/marianaaraujoserrao/.local/lib/python3.8/site-packages/py4j/clientserver.py\", line 516, in send_command\n",
      "    raise Py4JNetworkError(\"Answer from Java side is empty\")\n",
      "py4j.protocol.Py4JNetworkError: Answer from Java side is empty\n",
      "\n",
      "During handling of the above exception, another exception occurred:\n",
      "\n",
      "Traceback (most recent call last):\n",
      "  File \"/home/marianaaraujoserrao/.local/lib/python3.8/site-packages/py4j/java_gateway.py\", line 1038, in send_command\n",
      "    response = connection.send_command(command)\n",
      "  File \"/home/marianaaraujoserrao/.local/lib/python3.8/site-packages/py4j/clientserver.py\", line 539, in send_command\n",
      "    raise Py4JNetworkError(\n",
      "py4j.protocol.Py4JNetworkError: Error while sending or receiving\n"
     ]
    }
   ],
   "source": [
    "koalas_filtered[0] = df.spark.cache()\n",
    "print(f'Enforce caching for filtered dataframe 2: {len(df)} rows of filtered data')"
   ]
  },
  {
   "cell_type": "code",
   "execution_count": 92,
   "id": "4ceb81ff",
   "metadata": {},
   "outputs": [
    {
     "ename": "ConnectionRefusedError",
     "evalue": "[Errno 111] Connection refused",
     "output_type": "error",
     "traceback": [
      "\u001b[0;31m---------------------------------------------------------------------------\u001b[0m",
      "\u001b[0;31mConnectionRefusedError\u001b[0m                    Traceback (most recent call last)",
      "Cell \u001b[0;32mIn[92], line 1\u001b[0m\n\u001b[0;32m----> 1\u001b[0m koalas_filtered[\u001b[38;5;241m1\u001b[39m] \u001b[38;5;241m=\u001b[39m \u001b[43mdf\u001b[49m\u001b[38;5;241;43m.\u001b[39;49m\u001b[43mspark\u001b[49m\u001b[38;5;241;43m.\u001b[39;49m\u001b[43mcache\u001b[49m\u001b[43m(\u001b[49m\u001b[43m)\u001b[49m\n\u001b[1;32m      2\u001b[0m \u001b[38;5;28mprint\u001b[39m(\u001b[38;5;124mf\u001b[39m\u001b[38;5;124m'\u001b[39m\u001b[38;5;124mEnforce caching for filtered dataframe 2: \u001b[39m\u001b[38;5;132;01m{\u001b[39;00m\u001b[38;5;28mlen\u001b[39m(df)\u001b[38;5;132;01m}\u001b[39;00m\u001b[38;5;124m rows of filtered data\u001b[39m\u001b[38;5;124m'\u001b[39m)\n",
      "File \u001b[0;32m~/.local/lib/python3.8/site-packages/databricks/koalas/spark/accessors.py:565\u001b[0m, in \u001b[0;36mSparkFrameMethods.cache\u001b[0;34m(self)\u001b[0m\n\u001b[1;32m    560\u001b[0m \u001b[38;5;28;01mfrom\u001b[39;00m \u001b[38;5;21;01mdatabricks\u001b[39;00m\u001b[38;5;21;01m.\u001b[39;00m\u001b[38;5;21;01mkoalas\u001b[39;00m\u001b[38;5;21;01m.\u001b[39;00m\u001b[38;5;21;01mframe\u001b[39;00m \u001b[38;5;28;01mimport\u001b[39;00m CachedDataFrame\n\u001b[1;32m    562\u001b[0m \u001b[38;5;28mself\u001b[39m\u001b[38;5;241m.\u001b[39m_kdf\u001b[38;5;241m.\u001b[39m_update_internal_frame(\n\u001b[1;32m    563\u001b[0m     \u001b[38;5;28mself\u001b[39m\u001b[38;5;241m.\u001b[39m_kdf\u001b[38;5;241m.\u001b[39m_internal\u001b[38;5;241m.\u001b[39mresolved_copy, requires_same_anchor\u001b[38;5;241m=\u001b[39m\u001b[38;5;28;01mFalse\u001b[39;00m\n\u001b[1;32m    564\u001b[0m )\n\u001b[0;32m--> 565\u001b[0m \u001b[38;5;28;01mreturn\u001b[39;00m \u001b[43mCachedDataFrame\u001b[49m\u001b[43m(\u001b[49m\u001b[38;5;28;43mself\u001b[39;49m\u001b[38;5;241;43m.\u001b[39;49m\u001b[43m_kdf\u001b[49m\u001b[38;5;241;43m.\u001b[39;49m\u001b[43m_internal\u001b[49m\u001b[43m)\u001b[49m\n",
      "File \u001b[0;32m~/.local/lib/python3.8/site-packages/databricks/koalas/frame.py:11611\u001b[0m, in \u001b[0;36mCachedDataFrame.__init__\u001b[0;34m(self, internal, storage_level)\u001b[0m\n\u001b[1;32m  11609\u001b[0m \u001b[38;5;28;01mdef\u001b[39;00m \u001b[38;5;21m__init__\u001b[39m(\u001b[38;5;28mself\u001b[39m, internal, storage_level\u001b[38;5;241m=\u001b[39m\u001b[38;5;28;01mNone\u001b[39;00m):\n\u001b[1;32m  11610\u001b[0m     \u001b[38;5;28;01mif\u001b[39;00m storage_level \u001b[38;5;129;01mis\u001b[39;00m \u001b[38;5;28;01mNone\u001b[39;00m:\n\u001b[0;32m> 11611\u001b[0m         \u001b[38;5;28mobject\u001b[39m\u001b[38;5;241m.\u001b[39m\u001b[38;5;21m__setattr__\u001b[39m(\u001b[38;5;28mself\u001b[39m, \u001b[38;5;124m\"\u001b[39m\u001b[38;5;124m_cached\u001b[39m\u001b[38;5;124m\"\u001b[39m, \u001b[43minternal\u001b[49m\u001b[38;5;241;43m.\u001b[39;49m\u001b[43mspark_frame\u001b[49m\u001b[38;5;241;43m.\u001b[39;49m\u001b[43mcache\u001b[49m\u001b[43m(\u001b[49m\u001b[43m)\u001b[49m)\n\u001b[1;32m  11612\u001b[0m     \u001b[38;5;28;01melif\u001b[39;00m \u001b[38;5;28misinstance\u001b[39m(storage_level, StorageLevel):\n\u001b[1;32m  11613\u001b[0m         \u001b[38;5;28mobject\u001b[39m\u001b[38;5;241m.\u001b[39m\u001b[38;5;21m__setattr__\u001b[39m(\u001b[38;5;28mself\u001b[39m, \u001b[38;5;124m\"\u001b[39m\u001b[38;5;124m_cached\u001b[39m\u001b[38;5;124m\"\u001b[39m, internal\u001b[38;5;241m.\u001b[39mspark_frame\u001b[38;5;241m.\u001b[39mpersist(storage_level))\n",
      "File \u001b[0;32m~/.local/lib/python3.8/site-packages/pyspark/sql/dataframe.py:1436\u001b[0m, in \u001b[0;36mDataFrame.cache\u001b[0;34m(self)\u001b[0m\n\u001b[1;32m   1409\u001b[0m \u001b[38;5;250m\u001b[39m\u001b[38;5;124;03m\"\"\"Persists the :class:`DataFrame` with the default storage level (`MEMORY_AND_DISK_DESER`).\u001b[39;00m\n\u001b[1;32m   1410\u001b[0m \n\u001b[1;32m   1411\u001b[0m \u001b[38;5;124;03m.. versionadded:: 1.3.0\u001b[39;00m\n\u001b[0;32m   (...)\u001b[0m\n\u001b[1;32m   1433\u001b[0m \u001b[38;5;124;03mInMemoryTableScan ...\u001b[39;00m\n\u001b[1;32m   1434\u001b[0m \u001b[38;5;124;03m\"\"\"\u001b[39;00m\n\u001b[1;32m   1435\u001b[0m \u001b[38;5;28mself\u001b[39m\u001b[38;5;241m.\u001b[39mis_cached \u001b[38;5;241m=\u001b[39m \u001b[38;5;28;01mTrue\u001b[39;00m\n\u001b[0;32m-> 1436\u001b[0m \u001b[38;5;28;43mself\u001b[39;49m\u001b[38;5;241;43m.\u001b[39;49m\u001b[43m_jdf\u001b[49m\u001b[38;5;241;43m.\u001b[39;49m\u001b[43mcache\u001b[49m\u001b[43m(\u001b[49m\u001b[43m)\u001b[49m\n\u001b[1;32m   1437\u001b[0m \u001b[38;5;28;01mreturn\u001b[39;00m \u001b[38;5;28mself\u001b[39m\n",
      "File \u001b[0;32m~/.local/lib/python3.8/site-packages/py4j/java_gateway.py:1321\u001b[0m, in \u001b[0;36mJavaMember.__call__\u001b[0;34m(self, *args)\u001b[0m\n\u001b[1;32m   1314\u001b[0m args_command, temp_args \u001b[38;5;241m=\u001b[39m \u001b[38;5;28mself\u001b[39m\u001b[38;5;241m.\u001b[39m_build_args(\u001b[38;5;241m*\u001b[39margs)\n\u001b[1;32m   1316\u001b[0m command \u001b[38;5;241m=\u001b[39m proto\u001b[38;5;241m.\u001b[39mCALL_COMMAND_NAME \u001b[38;5;241m+\u001b[39m\\\n\u001b[1;32m   1317\u001b[0m     \u001b[38;5;28mself\u001b[39m\u001b[38;5;241m.\u001b[39mcommand_header \u001b[38;5;241m+\u001b[39m\\\n\u001b[1;32m   1318\u001b[0m     args_command \u001b[38;5;241m+\u001b[39m\\\n\u001b[1;32m   1319\u001b[0m     proto\u001b[38;5;241m.\u001b[39mEND_COMMAND_PART\n\u001b[0;32m-> 1321\u001b[0m answer \u001b[38;5;241m=\u001b[39m \u001b[38;5;28;43mself\u001b[39;49m\u001b[38;5;241;43m.\u001b[39;49m\u001b[43mgateway_client\u001b[49m\u001b[38;5;241;43m.\u001b[39;49m\u001b[43msend_command\u001b[49m\u001b[43m(\u001b[49m\u001b[43mcommand\u001b[49m\u001b[43m)\u001b[49m\n\u001b[1;32m   1322\u001b[0m return_value \u001b[38;5;241m=\u001b[39m get_return_value(\n\u001b[1;32m   1323\u001b[0m     answer, \u001b[38;5;28mself\u001b[39m\u001b[38;5;241m.\u001b[39mgateway_client, \u001b[38;5;28mself\u001b[39m\u001b[38;5;241m.\u001b[39mtarget_id, \u001b[38;5;28mself\u001b[39m\u001b[38;5;241m.\u001b[39mname)\n\u001b[1;32m   1325\u001b[0m \u001b[38;5;28;01mfor\u001b[39;00m temp_arg \u001b[38;5;129;01min\u001b[39;00m temp_args:\n",
      "File \u001b[0;32m~/.local/lib/python3.8/site-packages/py4j/java_gateway.py:1036\u001b[0m, in \u001b[0;36mGatewayClient.send_command\u001b[0;34m(self, command, retry, binary)\u001b[0m\n\u001b[1;32m   1015\u001b[0m \u001b[38;5;28;01mdef\u001b[39;00m \u001b[38;5;21msend_command\u001b[39m(\u001b[38;5;28mself\u001b[39m, command, retry\u001b[38;5;241m=\u001b[39m\u001b[38;5;28;01mTrue\u001b[39;00m, binary\u001b[38;5;241m=\u001b[39m\u001b[38;5;28;01mFalse\u001b[39;00m):\n\u001b[1;32m   1016\u001b[0m \u001b[38;5;250m    \u001b[39m\u001b[38;5;124;03m\"\"\"Sends a command to the JVM. This method is not intended to be\u001b[39;00m\n\u001b[1;32m   1017\u001b[0m \u001b[38;5;124;03m       called directly by Py4J users. It is usually called by\u001b[39;00m\n\u001b[1;32m   1018\u001b[0m \u001b[38;5;124;03m       :class:`JavaMember` instances.\u001b[39;00m\n\u001b[0;32m   (...)\u001b[0m\n\u001b[1;32m   1034\u001b[0m \u001b[38;5;124;03m     if `binary` is `True`.\u001b[39;00m\n\u001b[1;32m   1035\u001b[0m \u001b[38;5;124;03m    \"\"\"\u001b[39;00m\n\u001b[0;32m-> 1036\u001b[0m     connection \u001b[38;5;241m=\u001b[39m \u001b[38;5;28;43mself\u001b[39;49m\u001b[38;5;241;43m.\u001b[39;49m\u001b[43m_get_connection\u001b[49m\u001b[43m(\u001b[49m\u001b[43m)\u001b[49m\n\u001b[1;32m   1037\u001b[0m     \u001b[38;5;28;01mtry\u001b[39;00m:\n\u001b[1;32m   1038\u001b[0m         response \u001b[38;5;241m=\u001b[39m connection\u001b[38;5;241m.\u001b[39msend_command(command)\n",
      "File \u001b[0;32m~/.local/lib/python3.8/site-packages/py4j/clientserver.py:284\u001b[0m, in \u001b[0;36mJavaClient._get_connection\u001b[0;34m(self)\u001b[0m\n\u001b[1;32m    281\u001b[0m     \u001b[38;5;28;01mpass\u001b[39;00m\n\u001b[1;32m    283\u001b[0m \u001b[38;5;28;01mif\u001b[39;00m connection \u001b[38;5;129;01mis\u001b[39;00m \u001b[38;5;28;01mNone\u001b[39;00m \u001b[38;5;129;01mor\u001b[39;00m connection\u001b[38;5;241m.\u001b[39msocket \u001b[38;5;129;01mis\u001b[39;00m \u001b[38;5;28;01mNone\u001b[39;00m:\n\u001b[0;32m--> 284\u001b[0m     connection \u001b[38;5;241m=\u001b[39m \u001b[38;5;28;43mself\u001b[39;49m\u001b[38;5;241;43m.\u001b[39;49m\u001b[43m_create_new_connection\u001b[49m\u001b[43m(\u001b[49m\u001b[43m)\u001b[49m\n\u001b[1;32m    285\u001b[0m \u001b[38;5;28;01mreturn\u001b[39;00m connection\n",
      "File \u001b[0;32m~/.local/lib/python3.8/site-packages/py4j/clientserver.py:291\u001b[0m, in \u001b[0;36mJavaClient._create_new_connection\u001b[0;34m(self)\u001b[0m\n\u001b[1;32m    287\u001b[0m \u001b[38;5;28;01mdef\u001b[39;00m \u001b[38;5;21m_create_new_connection\u001b[39m(\u001b[38;5;28mself\u001b[39m):\n\u001b[1;32m    288\u001b[0m     connection \u001b[38;5;241m=\u001b[39m ClientServerConnection(\n\u001b[1;32m    289\u001b[0m         \u001b[38;5;28mself\u001b[39m\u001b[38;5;241m.\u001b[39mjava_parameters, \u001b[38;5;28mself\u001b[39m\u001b[38;5;241m.\u001b[39mpython_parameters,\n\u001b[1;32m    290\u001b[0m         \u001b[38;5;28mself\u001b[39m\u001b[38;5;241m.\u001b[39mgateway_property, \u001b[38;5;28mself\u001b[39m)\n\u001b[0;32m--> 291\u001b[0m     \u001b[43mconnection\u001b[49m\u001b[38;5;241;43m.\u001b[39;49m\u001b[43mconnect_to_java_server\u001b[49m\u001b[43m(\u001b[49m\u001b[43m)\u001b[49m\n\u001b[1;32m    292\u001b[0m     \u001b[38;5;28mself\u001b[39m\u001b[38;5;241m.\u001b[39mset_thread_connection(connection)\n\u001b[1;32m    293\u001b[0m     \u001b[38;5;28;01mreturn\u001b[39;00m connection\n",
      "File \u001b[0;32m~/.local/lib/python3.8/site-packages/py4j/clientserver.py:438\u001b[0m, in \u001b[0;36mClientServerConnection.connect_to_java_server\u001b[0;34m(self)\u001b[0m\n\u001b[1;32m    435\u001b[0m \u001b[38;5;28;01mif\u001b[39;00m \u001b[38;5;28mself\u001b[39m\u001b[38;5;241m.\u001b[39mssl_context:\n\u001b[1;32m    436\u001b[0m     \u001b[38;5;28mself\u001b[39m\u001b[38;5;241m.\u001b[39msocket \u001b[38;5;241m=\u001b[39m \u001b[38;5;28mself\u001b[39m\u001b[38;5;241m.\u001b[39mssl_context\u001b[38;5;241m.\u001b[39mwrap_socket(\n\u001b[1;32m    437\u001b[0m         \u001b[38;5;28mself\u001b[39m\u001b[38;5;241m.\u001b[39msocket, server_hostname\u001b[38;5;241m=\u001b[39m\u001b[38;5;28mself\u001b[39m\u001b[38;5;241m.\u001b[39mjava_address)\n\u001b[0;32m--> 438\u001b[0m \u001b[38;5;28;43mself\u001b[39;49m\u001b[38;5;241;43m.\u001b[39;49m\u001b[43msocket\u001b[49m\u001b[38;5;241;43m.\u001b[39;49m\u001b[43mconnect\u001b[49m\u001b[43m(\u001b[49m\u001b[43m(\u001b[49m\u001b[38;5;28;43mself\u001b[39;49m\u001b[38;5;241;43m.\u001b[39;49m\u001b[43mjava_address\u001b[49m\u001b[43m,\u001b[49m\u001b[43m \u001b[49m\u001b[38;5;28;43mself\u001b[39;49m\u001b[38;5;241;43m.\u001b[39;49m\u001b[43mjava_port\u001b[49m\u001b[43m)\u001b[49m\u001b[43m)\u001b[49m\n\u001b[1;32m    439\u001b[0m \u001b[38;5;28mself\u001b[39m\u001b[38;5;241m.\u001b[39mstream \u001b[38;5;241m=\u001b[39m \u001b[38;5;28mself\u001b[39m\u001b[38;5;241m.\u001b[39msocket\u001b[38;5;241m.\u001b[39mmakefile(\u001b[38;5;124m\"\u001b[39m\u001b[38;5;124mrb\u001b[39m\u001b[38;5;124m\"\u001b[39m)\n\u001b[1;32m    440\u001b[0m \u001b[38;5;28mself\u001b[39m\u001b[38;5;241m.\u001b[39mis_connected \u001b[38;5;241m=\u001b[39m \u001b[38;5;28;01mTrue\u001b[39;00m\n",
      "\u001b[0;31mConnectionRefusedError\u001b[0m: [Errno 111] Connection refused"
     ]
    }
   ],
   "source": [
    "koalas_filtered[1] = df.spark.cache()\n",
    "print(f'Enforce caching for filtered dataframe 2: {len(df)} rows of filtered data')"
   ]
  }
 ],
 "metadata": {
  "kernelspec": {
   "display_name": "Python 3 (ipykernel)",
   "language": "python",
   "name": "python3"
  },
  "language_info": {
   "codemirror_mode": {
    "name": "ipython",
    "version": 3
   },
   "file_extension": ".py",
   "mimetype": "text/x-python",
   "name": "python",
   "nbconvert_exporter": "python",
   "pygments_lexer": "ipython3",
   "version": "3.8.10"
  }
 },
 "nbformat": 4,
 "nbformat_minor": 5
}
